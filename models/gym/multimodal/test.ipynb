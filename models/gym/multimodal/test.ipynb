{
 "cells": [
  {
   "cell_type": "code",
   "execution_count": 1,
   "metadata": {},
   "outputs": [
    {
     "name": "stdout",
     "output_type": "stream",
     "text": [
      "Jupyter environment detected. Enabling Open3D WebVisualizer.\n",
      "[Open3D INFO] WebRTC GUI backend enabled.\n",
      "[Open3D INFO] WebRTCWindowSystem: HTTP handshake server disabled.\n",
      "Processing folder: /media/tyz/3B6FFE7354FF3296/11_777/tartanairv2filtered/AbandonedCableExposure/Data_easy/P000\n",
      "Processing folder: /media/tyz/3B6FFE7354FF3296/11_777/tartanairv2filtered/AbandonedCableExposure/Data_easy/P001\n",
      "Processing folder: /media/tyz/3B6FFE7354FF3296/11_777/tartanairv2filtered/AbandonedCableExposure/Data_easy/P002\n",
      "Processing folder: /media/tyz/3B6FFE7354FF3296/11_777/tartanairv2filtered/AbandonedCableExposure/Data_easy/P003\n",
      "Processing folder: /media/tyz/3B6FFE7354FF3296/11_777/tartanairv2filtered/AbandonedCableExposure/Data_easy/P004\n",
      "Processing folder: /media/tyz/3B6FFE7354FF3296/11_777/tartanairv2filtered/AbandonedCableExposure/Data_easy/P005\n",
      "Processing folder: /media/tyz/3B6FFE7354FF3296/11_777/tartanairv2filtered/AbandonedCableExposure/Data_easy/P006\n",
      "Processing folder: /media/tyz/3B6FFE7354FF3296/11_777/tartanairv2filtered/AbandonedCableExposure/Data_easy/P007\n",
      "Number of images: 25448\n",
      "Number of depth: 25448\n",
      "Number of lidar: 25448\n"
     ]
    }
   ],
   "source": [
    "from tem_dataloader import MultimodalDataset\n",
    "\n",
    "dataset = MultimodalDataset('/media/tyz/3B6FFE7354FF3296/11_777/tartanairv2filtered/AbandonedCableExposure/Data_easy')"
   ]
  },
  {
   "cell_type": "code",
   "execution_count": 2,
   "metadata": {},
   "outputs": [],
   "source": [
    "from torch.utils.data import DataLoader, Dataset\n",
    "batch_size = 32\n",
    "train_dataloader = DataLoader(dataset, batch_size=batch_size, num_workers=4, shuffle=True)"
   ]
  },
  {
   "cell_type": "code",
   "execution_count": 3,
   "metadata": {},
   "outputs": [
    {
     "name": "stderr",
     "output_type": "stream",
     "text": [
      "Some weights of the model checkpoint at facebook/vit-mae-base were not used when initializing CustomViT: ['decoder.decoder_layers.1.layernorm_before.bias', 'decoder.decoder_layers.1.attention.attention.key.weight', 'decoder.decoder_layers.1.intermediate.dense.weight', 'decoder.decoder_layers.2.output.dense.weight', 'decoder.decoder_layers.2.attention.attention.value.weight', 'decoder.decoder_layers.6.attention.attention.value.weight', 'decoder.decoder_layers.4.layernorm_after.bias', 'decoder.decoder_layers.7.attention.output.dense.weight', 'decoder.decoder_layers.0.layernorm_before.weight', 'decoder.decoder_layers.4.attention.attention.value.weight', 'decoder.decoder_norm.bias', 'decoder.decoder_layers.3.layernorm_before.weight', 'decoder.decoder_layers.7.attention.attention.value.weight', 'decoder.decoder_layers.5.attention.output.dense.weight', 'decoder.decoder_layers.5.output.dense.bias', 'decoder.decoder_layers.6.attention.output.dense.weight', 'decoder.decoder_layers.0.attention.attention.key.bias', 'decoder.decoder_layers.6.intermediate.dense.weight', 'decoder.decoder_layers.1.attention.attention.query.bias', 'decoder.decoder_layers.5.output.dense.weight', 'decoder.decoder_layers.2.attention.output.dense.weight', 'decoder.decoder_pos_embed', 'decoder.decoder_layers.6.attention.attention.query.bias', 'decoder.decoder_layers.6.attention.attention.key.weight', 'decoder.decoder_layers.2.attention.attention.key.weight', 'decoder.decoder_layers.0.attention.attention.query.bias', 'decoder.decoder_layers.4.attention.attention.key.weight', 'decoder.decoder_layers.3.layernorm_after.weight', 'decoder.decoder_layers.6.layernorm_after.bias', 'decoder.decoder_layers.0.intermediate.dense.bias', 'decoder.decoder_layers.7.layernorm_before.weight', 'decoder.decoder_layers.6.attention.output.dense.bias', 'decoder.decoder_layers.1.layernorm_before.weight', 'decoder.decoder_layers.6.attention.attention.query.weight', 'decoder.decoder_layers.1.attention.output.dense.weight', 'decoder.decoder_layers.7.layernorm_before.bias', 'decoder.decoder_layers.3.output.dense.weight', 'decoder.decoder_layers.4.intermediate.dense.bias', 'decoder.decoder_norm.weight', 'decoder.decoder_layers.5.layernorm_after.bias', 'decoder.decoder_layers.6.output.dense.bias', 'decoder.decoder_layers.3.attention.attention.value.bias', 'decoder.decoder_layers.4.attention.attention.query.bias', 'decoder.decoder_pred.bias', 'decoder.decoder_layers.5.attention.output.dense.bias', 'decoder.decoder_layers.7.attention.output.dense.bias', 'decoder.decoder_layers.2.attention.output.dense.bias', 'decoder.decoder_layers.1.intermediate.dense.bias', 'decoder.decoder_layers.0.layernorm_after.weight', 'decoder.decoder_layers.3.attention.attention.key.bias', 'decoder.decoder_layers.6.attention.attention.key.bias', 'decoder.decoder_layers.1.layernorm_after.weight', 'decoder.decoder_layers.5.layernorm_before.bias', 'decoder.decoder_layers.0.layernorm_before.bias', 'decoder.decoder_layers.3.attention.attention.query.weight', 'decoder.decoder_layers.5.intermediate.dense.bias', 'decoder.decoder_layers.4.output.dense.weight', 'decoder.decoder_layers.1.attention.attention.query.weight', 'decoder.decoder_layers.3.layernorm_before.bias', 'decoder.mask_token', 'decoder.decoder_layers.6.intermediate.dense.bias', 'decoder.decoder_layers.3.output.dense.bias', 'decoder.decoder_layers.5.layernorm_after.weight', 'decoder.decoder_layers.7.attention.attention.key.bias', 'decoder.decoder_embed.weight', 'decoder.decoder_layers.3.attention.output.dense.bias', 'decoder.decoder_layers.4.intermediate.dense.weight', 'decoder.decoder_layers.5.attention.attention.key.weight', 'decoder.decoder_layers.2.layernorm_before.bias', 'decoder.decoder_layers.2.layernorm_after.bias', 'decoder.decoder_layers.3.intermediate.dense.weight', 'decoder.decoder_layers.6.output.dense.weight', 'decoder.decoder_layers.0.attention.attention.value.weight', 'decoder.decoder_layers.7.attention.attention.value.bias', 'decoder.decoder_layers.4.layernorm_after.weight', 'decoder.decoder_layers.7.output.dense.weight', 'decoder.decoder_layers.4.layernorm_before.bias', 'decoder.decoder_layers.5.attention.attention.key.bias', 'decoder.decoder_layers.2.layernorm_after.weight', 'decoder.decoder_layers.0.attention.attention.key.weight', 'decoder.decoder_layers.2.layernorm_before.weight', 'decoder.decoder_layers.0.output.dense.weight', 'decoder.decoder_layers.0.output.dense.bias', 'decoder.decoder_layers.3.attention.attention.key.weight', 'decoder.decoder_layers.5.intermediate.dense.weight', 'decoder.decoder_layers.7.attention.attention.query.bias', 'decoder.decoder_layers.4.attention.attention.query.weight', 'decoder.decoder_layers.7.intermediate.dense.weight', 'decoder.decoder_layers.1.attention.output.dense.bias', 'decoder.decoder_layers.7.attention.attention.key.weight', 'decoder.decoder_layers.4.attention.output.dense.bias', 'decoder.decoder_layers.7.layernorm_after.weight', 'decoder.decoder_layers.5.layernorm_before.weight', 'decoder.decoder_layers.5.attention.attention.query.bias', 'decoder.decoder_layers.1.output.dense.weight', 'decoder.decoder_layers.3.attention.attention.query.bias', 'decoder.decoder_pred.weight', 'decoder.decoder_layers.0.attention.output.dense.bias', 'decoder.decoder_layers.2.attention.attention.key.bias', 'decoder.decoder_layers.0.attention.attention.query.weight', 'decoder.decoder_layers.6.attention.attention.value.bias', 'decoder.decoder_layers.1.attention.attention.value.bias', 'decoder.decoder_layers.3.attention.attention.value.weight', 'decoder.decoder_layers.2.intermediate.dense.bias', 'decoder.decoder_layers.2.intermediate.dense.weight', 'decoder.decoder_layers.0.attention.output.dense.weight', 'decoder.decoder_layers.5.attention.attention.value.weight', 'decoder.decoder_layers.3.attention.output.dense.weight', 'decoder.decoder_layers.2.attention.attention.query.weight', 'decoder.decoder_layers.0.intermediate.dense.weight', 'decoder.decoder_layers.1.layernorm_after.bias', 'decoder.decoder_layers.0.attention.attention.value.bias', 'decoder.decoder_layers.4.attention.attention.value.bias', 'decoder.decoder_layers.4.attention.output.dense.weight', 'decoder.decoder_layers.1.attention.attention.key.bias', 'decoder.decoder_layers.2.attention.attention.value.bias', 'decoder.decoder_layers.7.intermediate.dense.bias', 'decoder.decoder_layers.4.layernorm_before.weight', 'decoder.decoder_layers.6.layernorm_after.weight', 'decoder.decoder_layers.3.intermediate.dense.bias', 'decoder.decoder_layers.2.attention.attention.query.bias', 'decoder.decoder_layers.2.output.dense.bias', 'decoder.decoder_layers.3.layernorm_after.bias', 'decoder.decoder_embed.bias', 'decoder.decoder_layers.5.attention.attention.value.bias', 'decoder.decoder_layers.5.attention.attention.query.weight', 'decoder.decoder_layers.4.output.dense.bias', 'decoder.decoder_layers.6.layernorm_before.weight', 'decoder.decoder_layers.7.output.dense.bias', 'decoder.decoder_layers.4.attention.attention.key.bias', 'decoder.decoder_layers.1.attention.attention.value.weight', 'decoder.decoder_layers.6.layernorm_before.bias', 'decoder.decoder_layers.1.output.dense.bias', 'decoder.decoder_layers.0.layernorm_after.bias', 'decoder.decoder_layers.7.attention.attention.query.weight', 'decoder.decoder_layers.7.layernorm_after.bias']\n",
      "- This IS expected if you are initializing CustomViT from the checkpoint of a model trained on another task or with another architecture (e.g. initializing a BertForSequenceClassification model from a BertForPreTraining model).\n",
      "- This IS NOT expected if you are initializing CustomViT from the checkpoint of a model that you expect to be exactly identical (initializing a BertForSequenceClassification model from a BertForSequenceClassification model).\n",
      "Some weights of CustomViTMAE were not initialized from the model checkpoint at facebook/vit-mae-base and are newly initialized: ['decoder2.decoder_layers.7.output.dense.bias', 'decoder2.decoder_layers.0.attention.output.dense.bias', 'decoder1.decoder_layers.2.attention.output.dense.weight', 'decoder1.decoder_layers.5.attention.attention.key.bias', 'decoder1.decoder_layers.3.attention.output.dense.bias', 'decoder1.decoder_layers.1.attention.output.dense.bias', 'decoder2.decoder_layers.0.intermediate.dense.bias', 'decoder2.decoder_layers.4.layernorm_before.bias', 'decoder2.decoder_layers.6.attention.output.dense.weight', 'decoder2.decoder_layers.1.output.dense.weight', 'decoder2.decoder_layers.4.attention.output.dense.weight', 'decoder2.decoder_layers.4.layernorm_before.weight', 'decoder1.decoder_layers.2.layernorm_after.weight', 'decoder1.decoder_layers.7.intermediate.dense.bias', 'decoder1.decoder_layers.4.attention.output.dense.bias', 'decoder1.decoder_layers.3.attention.attention.value.weight', 'decoder2.decoder_layers.7.intermediate.dense.weight', 'decoder2.decoder_layers.4.output.dense.bias', 'decoder2.decoder_layers.5.output.dense.bias', 'decoder1.decoder_layers.3.attention.output.dense.weight', 'decoder1.decoder_layers.1.layernorm_before.weight', 'decoder1.decoder_layers.0.intermediate.dense.weight', 'decoder1.decoder_layers.6.intermediate.dense.weight', 'decoder2.decoder_layers.4.attention.attention.query.bias', 'decoder2.decoder_layers.3.attention.attention.value.weight', 'decoder1.decoder_layers.1.attention.output.dense.weight', 'decoder2.decoder_layers.2.attention.attention.key.bias', 'decoder1.decoder_layers.0.attention.output.dense.bias', 'decoder1.decoder_layers.4.intermediate.dense.weight', 'decoder2.decoder_layers.6.attention.attention.query.bias', 'decoder2.decoder_layers.2.layernorm_after.weight', 'decoder2.decoder_layers.3.attention.attention.value.bias', 'decoder1.decoder_layers.3.layernorm_before.bias', 'decoder1.decoder_layers.0.attention.attention.value.weight', 'decoder1.decoder_layers.6.intermediate.dense.bias', 'decoder2.decoder_layers.7.attention.attention.query.weight', 'decoder2.decoder_layers.4.intermediate.dense.bias', 'decoder2.decoder_layers.5.output.dense.weight', 'decoder2.decoder_layers.6.attention.attention.value.bias', 'decoder2.decoder_layers.5.attention.attention.key.bias', 'decoder1.decoder_layers.0.attention.attention.query.bias', 'decoder1.decoder_layers.6.attention.attention.value.bias', 'decoder2.decoder_layers.5.attention.attention.value.bias', 'decoder2.decoder_layers.7.attention.output.dense.bias', 'decoder2.decoder_layers.6.attention.output.dense.bias', 'decoder2.decoder_layers.5.attention.output.dense.weight', 'decoder2.decoder_layers.6.output.dense.weight', 'decoder1.decoder_layers.6.attention.attention.key.bias', 'decoder2.decoder_layers.5.layernorm_after.weight', 'decoder1.decoder_layers.1.output.dense.weight', 'decoder2.decoder_layers.3.attention.attention.query.bias', 'decoder1.decoder_layers.1.attention.attention.key.bias', 'decoder1.decoder_layers.2.attention.attention.key.weight', 'decoder1.decoder_layers.2.attention.attention.value.weight', 'decoder2.decoder_layers.4.attention.attention.key.bias', 'decoder1.decoder_layers.4.layernorm_after.weight', 'decoder1.decoder_pred.weight', 'decoder2.decoder_layers.6.intermediate.dense.weight', 'decoder2.decoder_layers.7.layernorm_before.weight', 'decoder2.decoder_layers.2.attention.attention.value.weight', 'decoder1.decoder_layers.6.attention.attention.value.weight', 'decoder2.decoder_layers.7.attention.attention.query.bias', 'decoder2.decoder_layers.7.intermediate.dense.bias', 'decoder1.decoder_layers.6.layernorm_after.weight', 'decoder1.decoder_layers.1.layernorm_after.weight', 'decoder1.decoder_layers.7.layernorm_after.bias', 'decoder2.decoder_layers.6.layernorm_after.weight', 'decoder2.decoder_layers.2.intermediate.dense.weight', 'decoder1.decoder_layers.2.intermediate.dense.weight', 'decoder1.decoder_layers.6.attention.attention.key.weight', 'decoder1.decoder_layers.7.output.dense.bias', 'decoder1.decoder_layers.4.attention.attention.value.weight', 'decoder1.decoder_layers.4.attention.attention.query.weight', 'decoder2.decoder_layers.0.attention.attention.value.bias', 'decoder2.decoder_layers.3.layernorm_before.bias', 'decoder2.decoder_layers.4.output.dense.weight', 'decoder2.decoder_layers.6.attention.attention.key.weight', 'decoder1.decoder_layers.6.attention.output.dense.weight', 'decoder1.decoder_layers.1.attention.attention.query.bias', 'decoder1.decoder_layers.2.attention.attention.query.weight', 'decoder2.decoder_layers.2.intermediate.dense.bias', 'decoder2.decoder_norm.weight', 'decoder1.decoder_layers.2.output.dense.bias', 'decoder1.decoder_layers.6.attention.attention.query.weight', 'decoder1.decoder_layers.1.output.dense.bias', 'decoder2.decoder_layers.0.intermediate.dense.weight', 'decoder2.decoder_layers.7.attention.attention.value.bias', 'decoder1.decoder_layers.3.layernorm_before.weight', 'decoder1.decoder_layers.3.layernorm_after.weight', 'decoder1.decoder_embed.weight', 'decoder2.decoder_layers.5.attention.attention.query.weight', 'decoder1.decoder_layers.5.attention.attention.value.weight', 'decoder2.decoder_layers.4.attention.output.dense.bias', 'decoder1.decoder_layers.1.intermediate.dense.bias', 'decoder1.decoder_layers.0.layernorm_before.bias', 'decoder1.decoder_layers.6.output.dense.bias', 'decoder1.decoder_layers.7.attention.output.dense.weight', 'decoder2.decoder_layers.1.intermediate.dense.bias', 'decoder1.decoder_layers.5.attention.attention.key.weight', 'decoder2.decoder_layers.7.layernorm_after.bias', 'decoder2.decoder_layers.1.output.dense.bias', 'decoder2.decoder_layers.1.attention.attention.key.weight', 'decoder1.decoder_layers.7.layernorm_before.bias', 'decoder1.decoder_layers.0.output.dense.weight', 'decoder1.decoder_layers.3.intermediate.dense.bias', 'decoder2.decoder_layers.3.attention.output.dense.bias', 'decoder1.decoder_layers.2.output.dense.weight', 'decoder1.decoder_layers.6.layernorm_before.bias', 'decoder2.decoder_layers.3.attention.attention.key.weight', 'decoder2.decoder_layers.4.attention.attention.value.bias', 'decoder1.decoder_layers.4.output.dense.weight', 'decoder1.decoder_layers.1.attention.attention.key.weight', 'decoder2.decoder_layers.6.layernorm_before.weight', 'decoder1.decoder_layers.5.layernorm_before.bias', 'decoder1.decoder_norm.weight', 'decoder2.decoder_layers.2.attention.attention.value.bias', 'decoder1.decoder_layers.5.attention.attention.value.bias', 'decoder1.decoder_layers.7.layernorm_before.weight', 'decoder2.decoder_layers.0.attention.attention.value.weight', 'decoder2.decoder_layers.1.attention.attention.value.weight', 'decoder2.decoder_layers.3.output.dense.bias', 'decoder2.mask_token', 'decoder2.decoder_layers.3.intermediate.dense.weight', 'decoder1.decoder_layers.2.attention.attention.value.bias', 'decoder1.decoder_layers.0.layernorm_before.weight', 'decoder1.decoder_layers.7.output.dense.weight', 'decoder2.decoder_layers.6.output.dense.bias', 'decoder2.decoder_layers.5.intermediate.dense.weight', 'decoder1.decoder_layers.6.output.dense.weight', 'decoder2.decoder_layers.0.attention.attention.query.bias', 'decoder1.decoder_layers.0.intermediate.dense.bias', 'decoder2.decoder_layers.5.attention.attention.key.weight', 'decoder1.decoder_layers.1.intermediate.dense.weight', 'decoder2.decoder_layers.1.layernorm_before.bias', 'decoder1.decoder_layers.4.output.dense.bias', 'decoder2.decoder_layers.1.layernorm_after.weight', 'decoder2.decoder_layers.2.output.dense.bias', 'decoder2.decoder_layers.2.layernorm_before.weight', 'decoder1.decoder_layers.1.attention.attention.value.weight', 'decoder1.decoder_layers.4.layernorm_after.bias', 'decoder2.decoder_norm.bias', 'decoder2.decoder_layers.4.layernorm_after.weight', 'decoder2.decoder_layers.6.layernorm_before.bias', 'decoder1.decoder_layers.7.attention.attention.key.weight', 'decoder1.decoder_layers.6.layernorm_after.bias', 'decoder1.decoder_layers.5.attention.attention.query.bias', 'decoder1.decoder_layers.3.attention.attention.query.weight', 'decoder2.decoder_layers.0.output.dense.weight', 'decoder2.decoder_layers.2.attention.attention.key.weight', 'decoder1.decoder_embed.bias', 'decoder2.decoder_layers.1.attention.output.dense.bias', 'decoder1.decoder_layers.4.attention.attention.key.weight', 'decoder1.decoder_layers.5.intermediate.dense.bias', 'decoder2.decoder_layers.0.output.dense.bias', 'decoder1.decoder_layers.3.attention.attention.value.bias', 'decoder2.decoder_layers.4.attention.attention.value.weight', 'decoder1.decoder_layers.2.attention.attention.query.bias', 'decoder1.decoder_layers.5.attention.output.dense.weight', 'decoder2.decoder_layers.4.intermediate.dense.weight', 'decoder1.decoder_layers.0.attention.attention.value.bias', 'decoder2.decoder_pred.bias', 'decoder1.decoder_layers.7.attention.attention.query.weight', 'decoder2.decoder_embed.bias', 'decoder1.decoder_norm.bias', 'decoder1.decoder_layers.3.attention.attention.query.bias', 'decoder2.decoder_layers.1.layernorm_after.bias', 'decoder1.decoder_layers.2.layernorm_before.weight', 'decoder1.decoder_layers.3.attention.attention.key.weight', 'decoder1.decoder_layers.7.attention.attention.query.bias', 'decoder2.decoder_layers.2.attention.attention.query.weight', 'decoder1.decoder_layers.0.attention.attention.query.weight', 'decoder2.decoder_layers.1.attention.attention.value.bias', 'decoder2.decoder_layers.2.attention.output.dense.bias', 'decoder2.decoder_layers.6.intermediate.dense.bias', 'decoder2.decoder_layers.1.intermediate.dense.weight', 'decoder2.decoder_layers.7.layernorm_after.weight', 'decoder2.decoder_layers.1.attention.attention.query.bias', 'decoder2.decoder_layers.4.layernorm_after.bias', 'decoder1.decoder_layers.7.attention.output.dense.bias', 'decoder2.decoder_layers.0.attention.output.dense.weight', 'decoder1.decoder_layers.5.output.dense.bias', 'decoder1.decoder_layers.2.attention.attention.key.bias', 'decoder2.decoder_layers.0.attention.attention.key.weight', 'decoder2.decoder_layers.6.attention.attention.query.weight', 'decoder1.decoder_layers.3.attention.attention.key.bias', 'decoder1.decoder_layers.3.intermediate.dense.weight', 'decoder2.decoder_layers.3.output.dense.weight', 'decoder2.decoder_layers.0.layernorm_before.bias', 'decoder2.decoder_layers.3.intermediate.dense.bias', 'decoder1.decoder_layers.7.attention.attention.value.bias', 'decoder1.decoder_layers.5.intermediate.dense.weight', 'decoder2.decoder_layers.2.attention.output.dense.weight', 'decoder1.decoder_layers.0.attention.attention.key.weight', 'decoder1.decoder_layers.4.attention.attention.query.bias', 'decoder1.decoder_layers.2.attention.output.dense.bias', 'decoder2.decoder_layers.1.attention.attention.key.bias', 'decoder1.decoder_layers.5.layernorm_before.weight', 'decoder2.decoder_layers.7.attention.attention.key.weight', 'decoder1.decoder_layers.5.attention.attention.query.weight', 'decoder2.decoder_layers.2.layernorm_after.bias', 'decoder1.decoder_layers.6.layernorm_before.weight', 'decoder1.decoder_layers.2.layernorm_before.bias', 'decoder2.decoder_layers.5.layernorm_after.bias', 'decoder2.decoder_layers.5.intermediate.dense.bias', 'decoder1.decoder_layers.4.attention.attention.key.bias', 'decoder2.decoder_layers.3.attention.attention.query.weight', 'decoder1.decoder_layers.6.attention.attention.query.bias', 'decoder2.decoder_layers.5.attention.attention.value.weight', 'decoder1.decoder_layers.0.attention.output.dense.weight', 'decoder2.decoder_layers.3.attention.attention.key.bias', 'decoder2.decoder_layers.5.attention.output.dense.bias', 'decoder1.decoder_layers.3.output.dense.weight', 'decoder1.decoder_pred.bias', 'decoder2.decoder_layers.6.layernorm_after.bias', 'decoder2.decoder_layers.1.attention.attention.query.weight', 'decoder2.decoder_layers.0.layernorm_after.bias', 'decoder2.decoder_layers.7.attention.attention.key.bias', 'decoder1.decoder_layers.1.layernorm_before.bias', 'decoder2.decoder_pred.weight', 'decoder1.decoder_pos_embed', 'decoder1.decoder_layers.5.output.dense.weight', 'decoder2.decoder_layers.5.layernorm_before.weight', 'decoder1.decoder_layers.5.layernorm_after.weight', 'decoder2.decoder_layers.1.layernorm_before.weight', 'decoder2.decoder_layers.3.layernorm_before.weight', 'decoder2.decoder_layers.0.attention.attention.key.bias', 'decoder1.decoder_layers.0.attention.attention.key.bias', 'decoder2.decoder_layers.0.attention.attention.query.weight', 'decoder1.decoder_layers.3.layernorm_after.bias', 'decoder1.decoder_layers.4.layernorm_before.bias', 'decoder1.decoder_layers.0.layernorm_after.weight', 'decoder2.decoder_layers.0.layernorm_after.weight', 'decoder2.decoder_layers.7.attention.attention.value.weight', 'decoder2.decoder_layers.0.layernorm_before.weight', 'decoder1.decoder_layers.0.layernorm_after.bias', 'decoder2.decoder_layers.3.layernorm_after.bias', 'decoder1.decoder_layers.2.intermediate.dense.bias', 'decoder2.decoder_layers.2.attention.attention.query.bias', 'decoder1.decoder_layers.6.attention.output.dense.bias', 'decoder2.decoder_layers.2.output.dense.weight', 'decoder2.decoder_layers.4.attention.attention.query.weight', 'decoder1.decoder_layers.2.layernorm_after.bias', 'decoder2.decoder_pos_embed', 'decoder2.decoder_layers.5.attention.attention.query.bias', 'decoder1.decoder_layers.3.output.dense.bias', 'decoder1.decoder_layers.5.attention.output.dense.bias', 'decoder2.decoder_layers.3.attention.output.dense.weight', 'decoder1.decoder_layers.4.attention.output.dense.weight', 'decoder1.mask_token', 'decoder1.decoder_layers.7.attention.attention.key.bias', 'decoder2.decoder_layers.6.attention.attention.value.weight', 'decoder2.decoder_layers.7.attention.output.dense.weight', 'decoder2.decoder_embed.weight', 'decoder2.decoder_layers.2.layernorm_before.bias', 'decoder1.decoder_layers.7.attention.attention.value.weight', 'decoder1.decoder_layers.4.attention.attention.value.bias', 'decoder2.decoder_layers.1.attention.output.dense.weight', 'decoder1.decoder_layers.1.attention.attention.query.weight', 'decoder1.decoder_layers.1.layernorm_after.bias', 'decoder1.decoder_layers.4.layernorm_before.weight', 'decoder1.decoder_layers.7.intermediate.dense.weight', 'decoder2.decoder_layers.6.attention.attention.key.bias', 'decoder1.decoder_layers.5.layernorm_after.bias', 'decoder1.decoder_layers.0.output.dense.bias', 'decoder2.decoder_layers.3.layernorm_after.weight', 'decoder2.decoder_layers.7.layernorm_before.bias', 'decoder2.decoder_layers.5.layernorm_before.bias', 'decoder2.decoder_layers.4.attention.attention.key.weight', 'decoder1.decoder_layers.1.attention.attention.value.bias', 'decoder1.decoder_layers.4.intermediate.dense.bias', 'decoder2.decoder_layers.7.output.dense.weight', 'decoder1.decoder_layers.7.layernorm_after.weight']\n",
      "You should probably TRAIN this model on a down-stream task to be able to use it for predictions and inference.\n"
     ]
    }
   ],
   "source": [
    "from custom_models.CustomViT import CustomViT\n",
    "from custom_models.CustomViTMAE import CustomViTMAE\n",
    "import torch\n",
    "# call CustomViT\n",
    "from transformers import AutoImageProcessor, ViTMAEForPreTraining, ViTMAEConfig\n",
    "from PIL import Image\n",
    "\n",
    "\n",
    "model_name = \"facebook/vit-mae-base\"\n",
    "\n",
    "vit_config = ViTMAEConfig.from_pretrained(model_name)\n",
    "vit_config.output_hidden_states=True\n",
    "vit_model = CustomViT.from_pretrained(model_name,config=vit_config)\n",
    "\n",
    "\n",
    "model_name = \"facebook/vit-mae-base\"\n",
    "\n",
    "config = ViTMAEConfig.from_pretrained(model_name)\n",
    "config.output_hidden_states=True\n",
    "\n",
    "# load from pretrained model and replace the original encoder with custom encoder\n",
    "custom_model = CustomViTMAE.from_pretrained(\"facebook/vit-mae-base\",config=config)\n",
    "custom_model.vit = vit_model"
   ]
  },
  {
   "cell_type": "code",
   "execution_count": 7,
   "metadata": {},
   "outputs": [],
   "source": [
    "def train(model, dataloader, optimizer, scheduler, device):\n",
    "    model.train()\n",
    "    total_loss = 0\n",
    "    total_samples = 0\n",
    "    \n",
    "    for batch in dataloader:\n",
    "        pixel_values = batch[\"pixel_values\"].to(device)\n",
    "        pixel_values1 = batch[\"pixel_values1\"].to(device)\n",
    "        pixel_values2 = batch[\"pixel_values2\"].to(device)\n",
    "        # batch = {k: v.to(device) for k, v in batch.items()}\n",
    "\n",
    "        optimizer.zero_grad()\n",
    "        outputs = model(pixel_values,pixel_values1,pixel_values2)\n",
    "        loss = outputs.loss\n",
    "        loss.backward()\n",
    "        torch.nn.utils.clip_grad_norm_(model.parameters(), 1.0)\n",
    "        optimizer.step()\n",
    "        scheduler.step()\n",
    "\n",
    "        total_loss += loss.item() * pixel_values.size(0)\n",
    "        total_samples += pixel_values.size(0)\n",
    "\n",
    "        if total_samples % 100 == 0:\n",
    "          print(loss.item())\n",
    "\n",
    "    return total_loss / total_samples\n"
   ]
  },
  {
   "cell_type": "code",
   "execution_count": 5,
   "metadata": {},
   "outputs": [
    {
     "name": "stderr",
     "output_type": "stream",
     "text": [
      "/home/tyz/miniconda3/lib/python3.9/site-packages/transformers/optimization.py:391: FutureWarning: This implementation of AdamW is deprecated and will be removed in a future version. Use the PyTorch implementation torch.optim.AdamW instead, or set `no_deprecation_warning=True` to disable this warning\n",
      "  warnings.warn(\n"
     ]
    },
    {
     "name": "stdout",
     "output_type": "stream",
     "text": [
      "cuda\n"
     ]
    },
    {
     "data": {
      "text/plain": [
       "CustomViTMAE(\n",
       "  (vit): CustomViT(\n",
       "    (embeddings): ViTMAEEmbeddings(\n",
       "      (patch_embeddings): ViTMAEPatchEmbeddings(\n",
       "        (projection): Conv2d(3, 768, kernel_size=(16, 16), stride=(16, 16))\n",
       "      )\n",
       "    )\n",
       "    (encoder): ViTMAEEncoder(\n",
       "      (layer): ModuleList(\n",
       "        (0-11): 12 x ViTMAELayer(\n",
       "          (attention): ViTMAEAttention(\n",
       "            (attention): ViTMAESelfAttention(\n",
       "              (query): Linear(in_features=768, out_features=768, bias=True)\n",
       "              (key): Linear(in_features=768, out_features=768, bias=True)\n",
       "              (value): Linear(in_features=768, out_features=768, bias=True)\n",
       "              (dropout): Dropout(p=0.0, inplace=False)\n",
       "            )\n",
       "            (output): ViTMAESelfOutput(\n",
       "              (dense): Linear(in_features=768, out_features=768, bias=True)\n",
       "              (dropout): Dropout(p=0.0, inplace=False)\n",
       "            )\n",
       "          )\n",
       "          (intermediate): ViTMAEIntermediate(\n",
       "            (dense): Linear(in_features=768, out_features=3072, bias=True)\n",
       "            (intermediate_act_fn): GELUActivation()\n",
       "          )\n",
       "          (output): ViTMAEOutput(\n",
       "            (dense): Linear(in_features=3072, out_features=768, bias=True)\n",
       "            (dropout): Dropout(p=0.0, inplace=False)\n",
       "          )\n",
       "          (layernorm_before): LayerNorm((768,), eps=1e-12, elementwise_affine=True)\n",
       "          (layernorm_after): LayerNorm((768,), eps=1e-12, elementwise_affine=True)\n",
       "        )\n",
       "      )\n",
       "    )\n",
       "    (layernorm): LayerNorm((768,), eps=1e-12, elementwise_affine=True)\n",
       "    (embeddings1): ViTMAEEmbeddings(\n",
       "      (patch_embeddings): ViTMAEPatchEmbeddings(\n",
       "        (projection): Conv2d(3, 768, kernel_size=(16, 16), stride=(16, 16))\n",
       "      )\n",
       "    )\n",
       "    (embeddings2): ViTMAEEmbeddings(\n",
       "      (patch_embeddings): ViTMAEPatchEmbeddings(\n",
       "        (projection): Conv2d(3, 768, kernel_size=(16, 16), stride=(16, 16))\n",
       "      )\n",
       "    )\n",
       "    (mlp): Sequential(\n",
       "      (0): Linear(in_features=2304, out_features=768, bias=True)\n",
       "      (1): ReLU()\n",
       "      (2): Linear(in_features=768, out_features=768, bias=True)\n",
       "    )\n",
       "  )\n",
       "  (decoder): ViTMAEDecoder(\n",
       "    (decoder_embed): Linear(in_features=768, out_features=512, bias=True)\n",
       "    (decoder_layers): ModuleList(\n",
       "      (0-7): 8 x ViTMAELayer(\n",
       "        (attention): ViTMAEAttention(\n",
       "          (attention): ViTMAESelfAttention(\n",
       "            (query): Linear(in_features=512, out_features=512, bias=True)\n",
       "            (key): Linear(in_features=512, out_features=512, bias=True)\n",
       "            (value): Linear(in_features=512, out_features=512, bias=True)\n",
       "            (dropout): Dropout(p=0.0, inplace=False)\n",
       "          )\n",
       "          (output): ViTMAESelfOutput(\n",
       "            (dense): Linear(in_features=512, out_features=512, bias=True)\n",
       "            (dropout): Dropout(p=0.0, inplace=False)\n",
       "          )\n",
       "        )\n",
       "        (intermediate): ViTMAEIntermediate(\n",
       "          (dense): Linear(in_features=512, out_features=2048, bias=True)\n",
       "          (intermediate_act_fn): GELUActivation()\n",
       "        )\n",
       "        (output): ViTMAEOutput(\n",
       "          (dense): Linear(in_features=2048, out_features=512, bias=True)\n",
       "          (dropout): Dropout(p=0.0, inplace=False)\n",
       "        )\n",
       "        (layernorm_before): LayerNorm((512,), eps=1e-12, elementwise_affine=True)\n",
       "        (layernorm_after): LayerNorm((512,), eps=1e-12, elementwise_affine=True)\n",
       "      )\n",
       "    )\n",
       "    (decoder_norm): LayerNorm((512,), eps=1e-12, elementwise_affine=True)\n",
       "    (decoder_pred): Linear(in_features=512, out_features=768, bias=True)\n",
       "  )\n",
       "  (decoder1): ViTMAEDecoder(\n",
       "    (decoder_embed): Linear(in_features=768, out_features=512, bias=True)\n",
       "    (decoder_layers): ModuleList(\n",
       "      (0-7): 8 x ViTMAELayer(\n",
       "        (attention): ViTMAEAttention(\n",
       "          (attention): ViTMAESelfAttention(\n",
       "            (query): Linear(in_features=512, out_features=512, bias=True)\n",
       "            (key): Linear(in_features=512, out_features=512, bias=True)\n",
       "            (value): Linear(in_features=512, out_features=512, bias=True)\n",
       "            (dropout): Dropout(p=0.0, inplace=False)\n",
       "          )\n",
       "          (output): ViTMAESelfOutput(\n",
       "            (dense): Linear(in_features=512, out_features=512, bias=True)\n",
       "            (dropout): Dropout(p=0.0, inplace=False)\n",
       "          )\n",
       "        )\n",
       "        (intermediate): ViTMAEIntermediate(\n",
       "          (dense): Linear(in_features=512, out_features=2048, bias=True)\n",
       "          (intermediate_act_fn): GELUActivation()\n",
       "        )\n",
       "        (output): ViTMAEOutput(\n",
       "          (dense): Linear(in_features=2048, out_features=512, bias=True)\n",
       "          (dropout): Dropout(p=0.0, inplace=False)\n",
       "        )\n",
       "        (layernorm_before): LayerNorm((512,), eps=1e-12, elementwise_affine=True)\n",
       "        (layernorm_after): LayerNorm((512,), eps=1e-12, elementwise_affine=True)\n",
       "      )\n",
       "    )\n",
       "    (decoder_norm): LayerNorm((512,), eps=1e-12, elementwise_affine=True)\n",
       "    (decoder_pred): Linear(in_features=512, out_features=768, bias=True)\n",
       "  )\n",
       "  (decoder2): ViTMAEDecoder(\n",
       "    (decoder_embed): Linear(in_features=768, out_features=512, bias=True)\n",
       "    (decoder_layers): ModuleList(\n",
       "      (0-7): 8 x ViTMAELayer(\n",
       "        (attention): ViTMAEAttention(\n",
       "          (attention): ViTMAESelfAttention(\n",
       "            (query): Linear(in_features=512, out_features=512, bias=True)\n",
       "            (key): Linear(in_features=512, out_features=512, bias=True)\n",
       "            (value): Linear(in_features=512, out_features=512, bias=True)\n",
       "            (dropout): Dropout(p=0.0, inplace=False)\n",
       "          )\n",
       "          (output): ViTMAESelfOutput(\n",
       "            (dense): Linear(in_features=512, out_features=512, bias=True)\n",
       "            (dropout): Dropout(p=0.0, inplace=False)\n",
       "          )\n",
       "        )\n",
       "        (intermediate): ViTMAEIntermediate(\n",
       "          (dense): Linear(in_features=512, out_features=2048, bias=True)\n",
       "          (intermediate_act_fn): GELUActivation()\n",
       "        )\n",
       "        (output): ViTMAEOutput(\n",
       "          (dense): Linear(in_features=2048, out_features=512, bias=True)\n",
       "          (dropout): Dropout(p=0.0, inplace=False)\n",
       "        )\n",
       "        (layernorm_before): LayerNorm((512,), eps=1e-12, elementwise_affine=True)\n",
       "        (layernorm_after): LayerNorm((512,), eps=1e-12, elementwise_affine=True)\n",
       "      )\n",
       "    )\n",
       "    (decoder_norm): LayerNorm((512,), eps=1e-12, elementwise_affine=True)\n",
       "    (decoder_pred): Linear(in_features=512, out_features=768, bias=True)\n",
       "  )\n",
       ")"
      ]
     },
     "execution_count": 5,
     "metadata": {},
     "output_type": "execute_result"
    }
   ],
   "source": [
    "from transformers.optimization import AdamW\n",
    "from transformers import get_linear_schedule_with_warmup\n",
    "\n",
    "epochs = 5\n",
    "learning_rate = 0.01\n",
    "weight_decay = 0.01\n",
    "warmup_steps = 0\n",
    "total_steps = len(train_dataloader) * epochs\n",
    "optimizer = AdamW(custom_model.parameters(), lr=learning_rate, weight_decay=weight_decay)\n",
    "scheduler = get_linear_schedule_with_warmup(optimizer, num_warmup_steps=warmup_steps, num_training_steps=total_steps)\n",
    "\n",
    "device = torch.device(\"cuda\" if torch.cuda.is_available() else \"cpu\")\n",
    "print(device)\n",
    "custom_model.to(device)\n"
   ]
  },
  {
   "cell_type": "code",
   "execution_count": 8,
   "metadata": {},
   "outputs": [
    {
     "name": "stdout",
     "output_type": "stream",
     "text": [
      "2.852954387664795\n",
      "2.356232166290283\n",
      "1.8060424327850342\n"
     ]
    }
   ],
   "source": [
    "for epoch in range(epochs):\n",
    "    train_loss = train(custom_model, train_dataloader, optimizer, scheduler, device)\n",
    "    print(f\"Epoch: {epoch + 1}, Loss: {train_loss:.4f}\")\n",
    "    output_dir='/home/tyz/Desktop/11_777/camelmera'\n",
    "    model.save_pretrained(output_dir)"
   ]
  },
  {
   "cell_type": "code",
   "execution_count": null,
   "metadata": {},
   "outputs": [
    {
     "name": "stdout",
     "output_type": "stream",
     "text": [
      "dict_keys(['pixel_values', 'pixel_values_1', 'pixel_values_2'])\n"
     ]
    }
   ],
   "source": [
    "for batch in train_dataloader:\n",
    "    print(batch.keys())\n",
    "    break"
   ]
  },
  {
   "cell_type": "code",
   "execution_count": null,
   "metadata": {},
   "outputs": [
    {
     "ename": "NameError",
     "evalue": "name 'nvidia' is not defined",
     "output_type": "error",
     "traceback": [
      "\u001b[0;31m---------------------------------------------------------------------------\u001b[0m",
      "\u001b[0;31mNameError\u001b[0m                                 Traceback (most recent call last)",
      "Cell \u001b[0;32mIn[7], line 1\u001b[0m\n\u001b[0;32m----> 1\u001b[0m nvidia\u001b[39m-\u001b[39msmi\n",
      "\u001b[0;31mNameError\u001b[0m: name 'nvidia' is not defined"
     ]
    },
    {
     "ename": "",
     "evalue": "",
     "output_type": "error",
     "traceback": [
      "\u001b[1;31mThe Kernel crashed while executing code in the the current cell or a previous cell. Please review the code in the cell(s) to identify a possible cause of the failure. Click <a href='https://aka.ms/vscodeJupyterKernelCrash'>here</a> for more info. View Jupyter <a href='command:jupyter.viewOutput'>log</a> for further details."
     ]
    }
   ],
   "source": [
    "nvidia-smi\n"
   ]
  },
  {
   "cell_type": "code",
   "execution_count": null,
   "metadata": {},
   "outputs": [],
   "source": []
  }
 ],
 "metadata": {
  "kernelspec": {
   "display_name": "base",
   "language": "python",
   "name": "python3"
  },
  "language_info": {
   "codemirror_mode": {
    "name": "ipython",
    "version": 3
   },
   "file_extension": ".py",
   "mimetype": "text/x-python",
   "name": "python",
   "nbconvert_exporter": "python",
   "pygments_lexer": "ipython3",
   "version": "3.9.16"
  },
  "orig_nbformat": 4
 },
 "nbformat": 4,
 "nbformat_minor": 2
}
