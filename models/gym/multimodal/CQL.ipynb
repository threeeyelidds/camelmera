{
 "cells": [
  {
   "cell_type": "code",
   "execution_count": 5,
   "metadata": {},
   "outputs": [
    {
     "ename": "ModuleNotFoundError",
     "evalue": "No module named 'wandb'",
     "output_type": "error",
     "traceback": [
      "\u001b[0;31m---------------------------------------------------------------------------\u001b[0m",
      "\u001b[0;31mModuleNotFoundError\u001b[0m                       Traceback (most recent call last)",
      "Cell \u001b[0;32mIn[5], line 8\u001b[0m\n\u001b[1;32m      6\u001b[0m \u001b[39mimport\u001b[39;00m \u001b[39mtorch\u001b[39;00m\u001b[39m.\u001b[39;00m\u001b[39moptim\u001b[39;00m \u001b[39mas\u001b[39;00m \u001b[39moptim\u001b[39;00m\n\u001b[1;32m      7\u001b[0m \u001b[39mimport\u001b[39;00m \u001b[39mos\u001b[39;00m\n\u001b[0;32m----> 8\u001b[0m \u001b[39mimport\u001b[39;00m \u001b[39mwandb\u001b[39;00m\n\u001b[1;32m      9\u001b[0m \u001b[39mfrom\u001b[39;00m \u001b[39mtransformers\u001b[39;00m \u001b[39mimport\u001b[39;00m ViTMAEConfig\n\u001b[1;32m     11\u001b[0m \u001b[39mfrom\u001b[39;00m \u001b[39mcustom_models\u001b[39;00m\u001b[39m.\u001b[39;00m\u001b[39mCustomViT\u001b[39;00m \u001b[39mimport\u001b[39;00m CustomViT\n",
      "\u001b[0;31mModuleNotFoundError\u001b[0m: No module named 'wandb'"
     ]
    }
   ],
   "source": [
    "import sys\n",
    "import time\n",
    "import numpy as np\n",
    "import torch\n",
    "import torch.nn as nn\n",
    "import torch.optim as optim\n",
    "import os\n",
    "# import wandb\n",
    "from transformers import ViTMAEConfig\n",
    "\n",
    "from custom_models.CustomViT import CustomViT\n",
    "from custom_models.CustomViTMAE import CustomViTMAE\n",
    "from transformers.models.vit_mae.modeling_vit_mae import ViTMAEModel\n",
    "# from tem_dataloader import MultimodalDatasetPerTrajectory\n",
    "from torch.utils.data import DataLoader\n",
    "\n",
    "from d3rlpy.algos import CQL\n",
    "from d3rlpy.dataset import Episode, MDPDataset, Transition\n",
    "# wandb.login() "
   ]
  },
  {
   "cell_type": "code",
   "execution_count": 7,
   "metadata": {},
   "outputs": [],
   "source": [
    "from custom_models.CustomViT import CustomViT\n",
    "from custom_models.CustomViTMAE import CustomViTMAE\n",
    "import torch\n",
    "# call CustomViT\n",
    "from transformers import AutoImageProcessor, ViTMAEForPreTraining, ViTMAEConfig\n",
    "from PIL import Image\n",
    "\n",
    "output_dir='/home/ubuntu/camelmera'\n",
    "# trained_model_name = 'multimodal'\n",
    "# output_dir='/home/ubuntu/weights/' + trained_model_name\n",
    "\n",
    "# Initialize a new CustomViT model\n",
    "model_name = \"facebook/vit-mae-base\"\n",
    "vit_config = ViTMAEConfig.from_pretrained(model_name)\n",
    "vit_config.output_hidden_states=True\n",
    "vit_model = CustomViT(config=vit_config)\n",
    "\n",
    "# Initialize a new CustomViTMAE model\n",
    "model_name = \"facebook/vit-mae-base\"\n",
    "config = ViTMAEConfig.from_pretrained(model_name)\n",
    "config.output_hidden_states=True\n",
    "custom_model = CustomViTMAE(config=config)\n",
    "custom_model.vit = vit_model\n",
    "\n",
    "# Load the state_dict from the saved model\n",
    "state_dict = torch.load(f\"{output_dir}/pytorch_model.bin\")\n",
    "custom_model.load_state_dict(state_dict)\n",
    "\n",
    "# don't need decoders\n",
    "vit_encoder = custom_model.vit"
   ]
  },
  {
   "cell_type": "code",
   "execution_count": 2,
   "metadata": {},
   "outputs": [
    {
     "name": "stdout",
     "output_type": "stream",
     "text": [
      "Jupyter environment detected. Enabling Open3D WebVisualizer.\n",
      "[Open3D INFO] WebRTC GUI backend enabled.\n",
      "[Open3D INFO] WebRTCWindowSystem: HTTP handshake server disabled.\n",
      "Processing folder: /mnt/data/tartanairv2filtered/AbandonedFactoryExposure/Data_easy/P001\n",
      "Processing folder: /mnt/data/tartanairv2filtered/AbandonedFactoryExposure/Data_easy/P004\n",
      "Processing folder: /mnt/data/tartanairv2filtered/AbandonedFactoryExposure/Data_easy/P006\n",
      "Processing folder: /mnt/data/tartanairv2filtered/AbandonedFactoryExposure/Data_easy/P005\n",
      "Processing folder: /mnt/data/tartanairv2filtered/AbandonedFactoryExposure/Data_easy/P008\n",
      "Processing folder: /mnt/data/tartanairv2filtered/AbandonedFactoryExposure/Data_easy/P002\n",
      "Processing folder: /mnt/data/tartanairv2filtered/AbandonedFactoryExposure/Data_easy/P009\n",
      "Processing folder: /mnt/data/tartanairv2filtered/AbandonedFactoryExposure/Data_easy/P003\n",
      "Processing folder: /mnt/data/tartanairv2filtered/AbandonedFactoryExposure/Data_easy/P000\n",
      "Number of images: 8185\n",
      "Number of depth: 8185\n",
      "Number of lidar: 8185\n"
     ]
    }
   ],
   "source": [
    "from tem_dataloader import MultimodalDataset\n",
    "import functools\n",
    "\n",
    "environment_name = 'AbandonedFactoryExposure'\n",
    "environemnt_directory = f'/mnt/temp_mount/{environment_name}/Data_easy'\n",
    "dataset = MultimodalDataset(environemnt_directory)"
   ]
  },
  {
   "cell_type": "code",
   "execution_count": 13,
   "metadata": {},
   "outputs": [],
   "source": [
    "import numpy as np\n",
    "\n",
    "def reward_function(state_embedding, goal_embedding, threshold=0.05, goal_reward=100):\n",
    "    distance = np.linalg.norm(state_embedding - goal_embedding)\n",
    "\n",
    "    if distance <= threshold:\n",
    "        # Give a large positive reward when the goal is reached\n",
    "        reward = goal_reward\n",
    "    else:\n",
    "        # Give a negative reward proportional to the distance otherwise\n",
    "        reward = -distance\n",
    "\n",
    "    return reward"
   ]
  },
  {
   "cell_type": "code",
   "execution_count": 14,
   "metadata": {},
   "outputs": [
    {
     "name": "stdout",
     "output_type": "stream",
     "text": [
      "Processing folder: /mnt/temp_mount/AbandonedFactoryExposure/Data_easy/P000\n",
      "Number of images: 1480\n",
      "Number of depth: 1480\n",
      "Number of lidar: 1480\n",
      "Number of pose: 1480\n",
      "All observations shape: (1480, 768)\n",
      "All actions shape: (1480, 7)\n",
      "All rewards shape: (1480,)\n",
      "All terminals shape: (1480,)\n",
      "Processing folder: /mnt/temp_mount/AbandonedFactoryExposure/Data_easy/P001\n",
      "Number of images: 1055\n",
      "Number of depth: 1055\n",
      "Number of lidar: 1055\n",
      "Number of pose: 1055\n",
      "All observations shape: (1055, 768)\n",
      "All actions shape: (1055, 7)\n",
      "All rewards shape: (1055,)\n",
      "All terminals shape: (1055,)\n",
      "Processing folder: /mnt/temp_mount/AbandonedFactoryExposure/Data_easy/P002\n",
      "Number of images: 698\n",
      "Number of depth: 698\n",
      "Number of lidar: 698\n",
      "Number of pose: 698\n",
      "All observations shape: (698, 768)\n",
      "All actions shape: (698, 7)\n",
      "All rewards shape: (698,)\n",
      "All terminals shape: (698,)\n",
      "Processing folder: /mnt/temp_mount/AbandonedFactoryExposure/Data_easy/P003\n",
      "Number of images: 1009\n",
      "Number of depth: 1009\n",
      "Number of lidar: 1009\n",
      "Number of pose: 1009\n",
      "All observations shape: (1009, 768)\n",
      "All actions shape: (1009, 7)\n",
      "All rewards shape: (1009,)\n",
      "All terminals shape: (1009,)\n",
      "Processing folder: /mnt/temp_mount/AbandonedFactoryExposure/Data_easy/P004\n",
      "Number of images: 807\n",
      "Number of depth: 807\n",
      "Number of lidar: 807\n",
      "Number of pose: 807\n",
      "All observations shape: (807, 768)\n",
      "All actions shape: (807, 7)\n",
      "All rewards shape: (807,)\n",
      "All terminals shape: (807,)\n",
      "Processing folder: /mnt/temp_mount/AbandonedFactoryExposure/Data_easy/P005\n",
      "Number of images: 694\n",
      "Number of depth: 694\n",
      "Number of lidar: 694\n",
      "Number of pose: 694\n",
      "All observations shape: (694, 768)\n",
      "All actions shape: (694, 7)\n",
      "All rewards shape: (694,)\n",
      "All terminals shape: (694,)\n",
      "Processing folder: /mnt/temp_mount/AbandonedFactoryExposure/Data_easy/P006\n",
      "Number of images: 1001\n",
      "Number of depth: 1001\n",
      "Number of lidar: 1001\n",
      "Number of pose: 1001\n",
      "All observations shape: (1001, 768)\n",
      "All actions shape: (1001, 7)\n",
      "All rewards shape: (1001,)\n",
      "All terminals shape: (1001,)\n",
      "Processing folder: /mnt/temp_mount/AbandonedFactoryExposure/Data_easy/P008\n",
      "Number of images: 725\n",
      "Number of depth: 725\n",
      "Number of lidar: 725\n",
      "Number of pose: 725\n",
      "All observations shape: (725, 768)\n",
      "All actions shape: (725, 7)\n",
      "All rewards shape: (725,)\n",
      "All terminals shape: (725,)\n",
      "Processing folder: /mnt/temp_mount/AbandonedFactoryExposure/Data_easy/P009\n",
      "Number of images: 716\n",
      "Number of depth: 716\n",
      "Number of lidar: 716\n",
      "Number of pose: 716\n",
      "All observations shape: (716, 768)\n",
      "All actions shape: (716, 7)\n",
      "All rewards shape: (716,)\n",
      "All terminals shape: (716,)\n"
     ]
    }
   ],
   "source": [
    "from tem_dataloader import MultimodalDatasetPerTrajectory\n",
    "import functools\n",
    "import os\n",
    "from torch.utils.data import Dataset, DataLoader\n",
    "\n",
    "environment_name = 'AbandonedFactoryExposure'\n",
    "environemnt_directory = f'/mnt/temp_mount/{environment_name}/Data_easy'\n",
    "OBSERVATION_SIZE = 768\n",
    "ACTION_SIZE = 7\n",
    "BATCH_SIZE = 64\n",
    "\n",
    "for i in range(0,10):\n",
    "    if i==7:\n",
    "        continue\n",
    "    trajectory_folder_path = os.path.join(environemnt_directory, f'P00{i}')\n",
    "    my_dataset = MultimodalDatasetPerTrajectory(trajectory_folder_path)\n",
    "    train_dataloader = DataLoader(my_dataset, batch_size=BATCH_SIZE, shuffle=False)\n",
    "\n",
    "    # Initialize empty arrays for observations, actions, rewards, and terminals\n",
    "    all_observations = np.empty((0, OBSERVATION_SIZE))\n",
    "    all_actions = np.empty((0, ACTION_SIZE))\n",
    "    all_rewards = np.empty(0)\n",
    "    all_terminals = np.empty(0, dtype=bool)\n",
    "\n",
    "    for batch_idx, data in enumerate(train_dataloader):\n",
    "        # get embedding\n",
    "        vit_encoder.cuda()\n",
    "        vit_encoder.eval()\n",
    "        pixel_values = data[\"pixel_values\"].cuda()\n",
    "        pixel_values1 = data[\"pixel_values1\"].cuda()\n",
    "        pixel_values2 = data[\"pixel_values2\"].cuda()\n",
    "        outputs = vit_encoder(pixel_values,pixel_values1,pixel_values2,noise=None)\n",
    "        embedding = outputs.last_hidden_state[:,0,:]\n",
    "        observation = embedding.cpu().detach().numpy()\n",
    "        # get action\n",
    "        pose = data[\"pose_values\"]\n",
    "        action = torch.diff(pose,axis = 0).numpy()\n",
    "        action = np.concatenate((action, np.zeros((1,7))), axis=0)\n",
    "        # get reward\n",
    "        goal = observation[-1]\n",
    "        partial_function = functools.partial(reward_function, goal_embedding=goal)\n",
    "        reward = np.apply_along_axis(partial_function, 1, observation)\n",
    "        # get terminals\n",
    "        terminals = np.zeros_like(reward, dtype=int)\n",
    "        terminals[reward == 100] = 1\n",
    "\n",
    "        # Concatenate observations, actions, rewards, and terminals\n",
    "        all_observations = np.vstack((all_observations, observation))\n",
    "        all_actions = np.vstack((all_actions, action))\n",
    "        all_rewards = np.hstack((all_rewards, reward))\n",
    "        all_terminals = np.hstack((all_terminals, terminals))\n",
    "\n",
    "    print(\"All observations shape:\", all_observations.shape)\n",
    "    print(\"All actions shape:\", all_actions.shape)\n",
    "    print(\"All rewards shape:\", all_rewards.shape)\n",
    "    print(\"All terminals shape:\", all_terminals.shape)\n",
    "    \n",
    "    np.save(f'trajectories/all_observations_P00{i}.npy', all_observations)\n",
    "    np.save(f'trajectories/all_actions_P00{i}.npy', all_actions)\n",
    "    np.save(f'trajectories/all_rewards_P00{i}.npy', all_rewards)\n",
    "    np.save(f'trajectories/all_terminals_P00{i}.npy', all_terminals)"
   ]
  },
  {
   "cell_type": "code",
   "execution_count": 22,
   "metadata": {},
   "outputs": [
    {
     "name": "stdout",
     "output_type": "stream",
     "text": [
      "Processing folder: /mnt/data/tartanairv2filtered/AbandonedFactoryExposure/Data_easy/P000\n",
      "Number of images: 1480\n",
      "Number of depth: 1480\n",
      "Number of lidar: 1480\n",
      "Number of pose: 1480\n"
     ]
    }
   ],
   "source": [
    "from tem_dataloader import MultimodalDatasetPerTrajectory\n",
    "# environment_name = 'AmericanDinerExposure'\n",
    "# environemnt_directory = f'/media/tyz/3B6FFE7354FF3296/11_777/tartanairv2filtered/{environment_name}/Data_easy'\n",
    "# my_dataset = MultimodalDatasetPerTrajectory(environemnt_directory)\n",
    "environment_name = 'AbandonedFactoryExposure'\n",
    "environemnt_directory = f'/mnt/data/tartanairv2filtered/{environment_name}/Data_easy'\n",
    "OBSERVATION_SIZE = 768\n",
    "ACTION_SIZE = 7\n",
    "BATCH_SIZE = 64\n",
    "\n",
    "# for folder in os.listdir(environemnt_directory):\n",
    "trajectory_folder_path = os.path.join(environemnt_directory, 'P000')\n",
    "my_dataset = MultimodalDatasetPerTrajectory(trajectory_folder_path)\n",
    "train_dataloader = DataLoader(my_dataset, batch_size=BATCH_SIZE, shuffle=False)"
   ]
  },
  {
   "cell_type": "code",
   "execution_count": 24,
   "metadata": {},
   "outputs": [
    {
     "name": "stdout",
     "output_type": "stream",
     "text": [
      "(64, 768)\n",
      "(64, 7)\n",
      "(64,)\n",
      "(64,)\n"
     ]
    }
   ],
   "source": [
    "import functools\n",
    "import numpy as np\n",
    "import torch\n",
    "\n",
    "# Initialize empty arrays for observations, actions, rewards, and terminals\n",
    "all_observations = np.empty((0, OBSERVATION_SIZE))\n",
    "all_actions = np.empty((0, ACTION_SIZE))\n",
    "all_rewards = np.empty(0)\n",
    "all_terminals = np.empty(0, dtype=bool)\n",
    "\n",
    "for batch_idx, data in enumerate(train_dataloader):\n",
    "    # get embedding\n",
    "    vit_encoder.cuda()\n",
    "    vit_encoder.eval()\n",
    "    pixel_values = data[\"pixel_values\"].cuda()\n",
    "    pixel_values1 = data[\"pixel_values1\"].cuda()\n",
    "    pixel_values2 = data[\"pixel_values2\"].cuda()\n",
    "    outputs = vit_encoder(pixel_values,pixel_values1,pixel_values2,noise=None)\n",
    "    embedding = outputs.last_hidden_state[:,0,:]\n",
    "    observation = embedding.cpu().detach().numpy()\n",
    "    # get action\n",
    "    pose = data[\"pose_values\"]\n",
    "    action = torch.diff(pose,axis = 0).numpy()\n",
    "    action = np.concatenate((action, np.zeros((1,7))), axis=0)\n",
    "    # get reward\n",
    "    goal = observation[-1]\n",
    "    partial_function = functools.partial(reward_function, goal_embedding=goal)\n",
    "    reward = np.apply_along_axis(partial_function, 1, observation)\n",
    "    # get terminals\n",
    "    terminals = [False]*BATCH_SIZE\n",
    "    terminals[-1]=True\n",
    "    terminals = np.array(terminals)\n",
    "    if batch_idx==0:\n",
    "        print(observation.shape)\n",
    "        print(action.shape)\n",
    "        print(reward.shape)\n",
    "        print(terminals.shape)"
   ]
  },
  {
   "cell_type": "code",
   "execution_count": 25,
   "metadata": {},
   "outputs": [
    {
     "name": "stdout",
     "output_type": "stream",
     "text": [
      "All observations shape: (1480, 768)\n",
      "All actions shape: (1480, 7)\n",
      "All rewards shape: (1480,)\n",
      "All terminals shape: (1536,)\n"
     ]
    }
   ],
   "source": [
    "print(\"All observations shape:\", all_observations.shape)\n",
    "print(\"All actions shape:\", all_actions.shape)\n",
    "print(\"All rewards shape:\", all_rewards.shape)\n",
    "print(\"All terminals shape:\", all_terminals.shape)"
   ]
  },
  {
   "cell_type": "code",
   "execution_count": 17,
   "metadata": {},
   "outputs": [],
   "source": [
    "np.save('all_observations.npy', all_observations)\n",
    "np.save('all_actions.npy', all_actions)\n",
    "np.save('all_rewards.npy', all_rewards)\n",
    "np.save('all_terminals.npy', all_terminals)"
   ]
  },
  {
   "cell_type": "code",
   "execution_count": 15,
   "metadata": {},
   "outputs": [],
   "source": [
    "'''\n",
    "Args:\n",
    "        observations (numpy.ndarray): N-D array. If the\n",
    "            observation is a vector, the shape should be\n",
    "            `(N, dim_observation)`. If the observations is an image, the shape\n",
    "            should be `(N, C, H, W)`.\n",
    "        actions (numpy.ndarray): N-D array. If the actions-space is\n",
    "            continuous, the shape should be `(N, dim_action)`. If the\n",
    "            action-space is discrete, the shape should be `(N,)`.\n",
    "        rewards (numpy.ndarray): array of scalar rewards. The reward function\n",
    "            should be defined as :math:`r_t = r(s_t, a_t)`.\n",
    "        terminals (numpy.ndarray): array of binary terminal flags.\n",
    "        episode_terminals (numpy.ndarray): array of binary episode terminal\n",
    "            flags. The given data will be splitted based on this flag.\n",
    "            This is useful if you want to specify the non-environment\n",
    "            terminations (e.g. timeout). If ``None``, the episode terminations\n",
    "            match the environment terminations.\n",
    "        discrete_action (bool): flag to use the given actions as discrete\n",
    "            action-space actions. If ``None``, the action type is automatically\n",
    "            determined.\n",
    "    '''\n",
    "cql_dataset = MDPDataset(observations=all_observations,actions=all_actions,rewards=all_rewards,terminals=all_terminals,episode_terminals=all_terminals)"
   ]
  },
  {
   "cell_type": "code",
   "execution_count": 16,
   "metadata": {},
   "outputs": [
    {
     "name": "stdout",
     "output_type": "stream",
     "text": [
      "\u001b[2m2023-05-04 01:27:46\u001b[0m [\u001b[32m\u001b[1mdebug    \u001b[0m] \u001b[1mRoundIterator is selected.\u001b[0m\n",
      "\u001b[2m2023-05-04 01:27:46\u001b[0m [\u001b[32m\u001b[1minfo     \u001b[0m] \u001b[1mDirectory is created at d3rlpy_logs/CQL_20230504012746\u001b[0m\n",
      "\u001b[2m2023-05-04 01:27:46\u001b[0m [\u001b[32m\u001b[1mdebug    \u001b[0m] \u001b[1mBuilding models...\u001b[0m\n",
      "\u001b[2m2023-05-04 01:27:46\u001b[0m [\u001b[32m\u001b[1mdebug    \u001b[0m] \u001b[1mModels have been built.\u001b[0m\n",
      "\u001b[2m2023-05-04 01:27:46\u001b[0m [\u001b[32m\u001b[1minfo     \u001b[0m] \u001b[1mParameters are saved to d3rlpy_logs/CQL_20230504012746/params.json\u001b[0m \u001b[36mparams\u001b[0m=\u001b[35m{'action_scaler': None, 'actor_encoder_factory': {'type': 'default', 'params': {'activation': 'relu', 'use_batch_norm': False, 'dropout_rate': None}}, 'actor_learning_rate': 0.0001, 'actor_optim_factory': {'optim_cls': 'Adam', 'betas': (0.9, 0.999), 'eps': 1e-08, 'weight_decay': 0, 'amsgrad': False}, 'alpha_learning_rate': 0.0001, 'alpha_optim_factory': {'optim_cls': 'Adam', 'betas': (0.9, 0.999), 'eps': 1e-08, 'weight_decay': 0, 'amsgrad': False}, 'alpha_threshold': 10.0, 'batch_size': 256, 'conservative_weight': 5.0, 'critic_encoder_factory': {'type': 'default', 'params': {'activation': 'relu', 'use_batch_norm': False, 'dropout_rate': None}}, 'critic_learning_rate': 0.0003, 'critic_optim_factory': {'optim_cls': 'Adam', 'betas': (0.9, 0.999), 'eps': 1e-08, 'weight_decay': 0, 'amsgrad': False}, 'gamma': 0.99, 'generated_maxlen': 100000, 'initial_alpha': 1.0, 'initial_temperature': 1.0, 'n_action_samples': 10, 'n_critics': 2, 'n_frames': 1, 'n_steps': 1, 'q_func_factory': {'type': 'mean', 'params': {'share_encoder': False}}, 'real_ratio': 1.0, 'reward_scaler': None, 'scaler': None, 'soft_q_backup': False, 'tau': 0.005, 'temp_learning_rate': 0.0001, 'temp_optim_factory': {'optim_cls': 'Adam', 'betas': (0.9, 0.999), 'eps': 1e-08, 'weight_decay': 0, 'amsgrad': False}, 'use_gpu': 0, 'algorithm': 'CQL', 'observation_shape': (768,), 'action_size': 7}\u001b[0m\n"
     ]
    },
    {
     "data": {
      "application/json": {
       "ascii": false,
       "bar_format": null,
       "colour": null,
       "elapsed": 0.004557371139526367,
       "initial": 0,
       "n": 0,
       "ncols": null,
       "nrows": null,
       "postfix": null,
       "prefix": "Epoch 1/10",
       "rate": null,
       "total": 31,
       "unit": "it",
       "unit_divisor": 1000,
       "unit_scale": false
      },
      "application/vnd.jupyter.widget-view+json": {
       "model_id": "93862f3e02394378b3b5f25330d077f3",
       "version_major": 2,
       "version_minor": 0
      },
      "text/plain": [
       "Epoch 1/10:   0%|          | 0/31 [00:00<?, ?it/s]"
      ]
     },
     "metadata": {},
     "output_type": "display_data"
    },
    {
     "name": "stdout",
     "output_type": "stream",
     "text": [
      "\u001b[2m2023-05-04 01:27:48\u001b[0m [\u001b[32m\u001b[1minfo     \u001b[0m] \u001b[1mCQL_20230504012746: epoch=1 step=31\u001b[0m \u001b[36mepoch\u001b[0m=\u001b[35m1\u001b[0m \u001b[36mmetrics\u001b[0m=\u001b[35m{'time_sample_batch': 0.0009980278630410471, 'time_algorithm_update': 0.08748865127563477, 'temp_loss': 11.744194215343844, 'temp': 0.9984005458893315, 'alpha_loss': -31.277802190473004, 'alpha': 1.0016018421419206, 'critic_loss': 3721.7289094002017, 'actor_loss': -10.316245063658684, 'time_step': 0.0886292073034471}\u001b[0m \u001b[36mstep\u001b[0m=\u001b[35m31\u001b[0m\n",
      "\u001b[2m2023-05-04 01:27:48\u001b[0m [\u001b[32m\u001b[1minfo     \u001b[0m] \u001b[1mModel parameters are saved to d3rlpy_logs/CQL_20230504012746/model_31.pt\u001b[0m\n"
     ]
    },
    {
     "data": {
      "application/json": {
       "ascii": false,
       "bar_format": null,
       "colour": null,
       "elapsed": 0.008286714553833008,
       "initial": 0,
       "n": 0,
       "ncols": null,
       "nrows": null,
       "postfix": null,
       "prefix": "Epoch 2/10",
       "rate": null,
       "total": 31,
       "unit": "it",
       "unit_divisor": 1000,
       "unit_scale": false
      },
      "application/vnd.jupyter.widget-view+json": {
       "model_id": "897d9884ca694b61af9cbfba6018d39b",
       "version_major": 2,
       "version_minor": 0
      },
      "text/plain": [
       "Epoch 2/10:   0%|          | 0/31 [00:00<?, ?it/s]"
      ]
     },
     "metadata": {},
     "output_type": "display_data"
    },
    {
     "name": "stdout",
     "output_type": "stream",
     "text": [
      "\u001b[2m2023-05-04 01:27:50\u001b[0m [\u001b[32m\u001b[1minfo     \u001b[0m] \u001b[1mCQL_20230504012746: epoch=2 step=62\u001b[0m \u001b[36mepoch\u001b[0m=\u001b[35m2\u001b[0m \u001b[36mmetrics\u001b[0m=\u001b[35m{'time_sample_batch': 0.000903790996920678, 'time_algorithm_update': 0.03586419936149351, 'temp_loss': 11.724647952664283, 'temp': 0.995309462470393, 'alpha_loss': -31.375866490025675, 'alpha': 1.0047140698279104, 'critic_loss': 3234.1929419732865, 'actor_loss': -25.97842062673261, 'time_step': 0.03689156809160786}\u001b[0m \u001b[36mstep\u001b[0m=\u001b[35m62\u001b[0m\n",
      "\u001b[2m2023-05-04 01:27:50\u001b[0m [\u001b[32m\u001b[1minfo     \u001b[0m] \u001b[1mModel parameters are saved to d3rlpy_logs/CQL_20230504012746/model_62.pt\u001b[0m\n"
     ]
    },
    {
     "data": {
      "application/json": {
       "ascii": false,
       "bar_format": null,
       "colour": null,
       "elapsed": 0.004727602005004883,
       "initial": 0,
       "n": 0,
       "ncols": null,
       "nrows": null,
       "postfix": null,
       "prefix": "Epoch 3/10",
       "rate": null,
       "total": 31,
       "unit": "it",
       "unit_divisor": 1000,
       "unit_scale": false
      },
      "application/vnd.jupyter.widget-view+json": {
       "model_id": "f98d409cbaeb44dea46b1c85328ada86",
       "version_major": 2,
       "version_minor": 0
      },
      "text/plain": [
       "Epoch 3/10:   0%|          | 0/31 [00:00<?, ?it/s]"
      ]
     },
     "metadata": {},
     "output_type": "display_data"
    },
    {
     "name": "stdout",
     "output_type": "stream",
     "text": [
      "\u001b[2m2023-05-04 01:27:51\u001b[0m [\u001b[32m\u001b[1minfo     \u001b[0m] \u001b[1mCQL_20230504012746: epoch=3 step=93\u001b[0m \u001b[36mepoch\u001b[0m=\u001b[35m3\u001b[0m \u001b[36mmetrics\u001b[0m=\u001b[35m{'time_sample_batch': 0.0009151427976546749, 'time_algorithm_update': 0.03396520306987147, 'temp_loss': 11.691720900997039, 'temp': 0.9922334763311571, 'alpha_loss': -31.483734069331998, 'alpha': 1.0078407295288578, 'critic_loss': 3119.4801301033267, 'actor_loss': -26.33940456759545, 'time_step': 0.03499096439730737}\u001b[0m \u001b[36mstep\u001b[0m=\u001b[35m93\u001b[0m\n",
      "\u001b[2m2023-05-04 01:27:51\u001b[0m [\u001b[32m\u001b[1minfo     \u001b[0m] \u001b[1mModel parameters are saved to d3rlpy_logs/CQL_20230504012746/model_93.pt\u001b[0m\n"
     ]
    },
    {
     "data": {
      "application/json": {
       "ascii": false,
       "bar_format": null,
       "colour": null,
       "elapsed": 0.004248619079589844,
       "initial": 0,
       "n": 0,
       "ncols": null,
       "nrows": null,
       "postfix": null,
       "prefix": "Epoch 4/10",
       "rate": null,
       "total": 31,
       "unit": "it",
       "unit_divisor": 1000,
       "unit_scale": false
      },
      "application/vnd.jupyter.widget-view+json": {
       "model_id": "ad71646ed0484dbcb000c467902b62d0",
       "version_major": 2,
       "version_minor": 0
      },
      "text/plain": [
       "Epoch 4/10:   0%|          | 0/31 [00:00<?, ?it/s]"
      ]
     },
     "metadata": {},
     "output_type": "display_data"
    },
    {
     "name": "stdout",
     "output_type": "stream",
     "text": [
      "\u001b[2m2023-05-04 01:27:52\u001b[0m [\u001b[32m\u001b[1minfo     \u001b[0m] \u001b[1mCQL_20230504012746: epoch=4 step=124\u001b[0m \u001b[36mepoch\u001b[0m=\u001b[35m4\u001b[0m \u001b[36mmetrics\u001b[0m=\u001b[35m{'time_sample_batch': 0.0008699817042196951, 'time_algorithm_update': 0.03454456790801017, 'temp_loss': 11.659830677893854, 'temp': 0.9891713492331966, 'alpha_loss': -31.584238790696666, 'alpha': 1.0109822057908582, 'critic_loss': 3020.9976530997983, 'actor_loss': -27.604707779422885, 'time_step': 0.03553482024900375}\u001b[0m \u001b[36mstep\u001b[0m=\u001b[35m124\u001b[0m\n",
      "\u001b[2m2023-05-04 01:27:52\u001b[0m [\u001b[32m\u001b[1minfo     \u001b[0m] \u001b[1mModel parameters are saved to d3rlpy_logs/CQL_20230504012746/model_124.pt\u001b[0m\n"
     ]
    },
    {
     "data": {
      "application/json": {
       "ascii": false,
       "bar_format": null,
       "colour": null,
       "elapsed": 0.005326747894287109,
       "initial": 0,
       "n": 0,
       "ncols": null,
       "nrows": null,
       "postfix": null,
       "prefix": "Epoch 5/10",
       "rate": null,
       "total": 31,
       "unit": "it",
       "unit_divisor": 1000,
       "unit_scale": false
      },
      "application/vnd.jupyter.widget-view+json": {
       "model_id": "adf2e75b877d45cf92bd292f9a483f96",
       "version_major": 2,
       "version_minor": 0
      },
      "text/plain": [
       "Epoch 5/10:   0%|          | 0/31 [00:00<?, ?it/s]"
      ]
     },
     "metadata": {},
     "output_type": "display_data"
    },
    {
     "name": "stdout",
     "output_type": "stream",
     "text": [
      "\u001b[2m2023-05-04 01:27:53\u001b[0m [\u001b[32m\u001b[1minfo     \u001b[0m] \u001b[1mCQL_20230504012746: epoch=5 step=155\u001b[0m \u001b[36mepoch\u001b[0m=\u001b[35m5\u001b[0m \u001b[36mmetrics\u001b[0m=\u001b[35m{'time_sample_batch': 0.0008454092087284211, 'time_algorithm_update': 0.03654890675698557, 'temp_loss': 11.622486237556704, 'temp': 0.9861233984270403, 'alpha_loss': -31.666741217336348, 'alpha': 1.0141376026215092, 'critic_loss': 2904.5417086693546, 'actor_loss': -29.150966029013357, 'time_step': 0.0375160324958063}\u001b[0m \u001b[36mstep\u001b[0m=\u001b[35m155\u001b[0m\n",
      "\u001b[2m2023-05-04 01:27:53\u001b[0m [\u001b[32m\u001b[1minfo     \u001b[0m] \u001b[1mModel parameters are saved to d3rlpy_logs/CQL_20230504012746/model_155.pt\u001b[0m\n"
     ]
    },
    {
     "data": {
      "application/json": {
       "ascii": false,
       "bar_format": null,
       "colour": null,
       "elapsed": 0.00858926773071289,
       "initial": 0,
       "n": 0,
       "ncols": null,
       "nrows": null,
       "postfix": null,
       "prefix": "Epoch 6/10",
       "rate": null,
       "total": 31,
       "unit": "it",
       "unit_divisor": 1000,
       "unit_scale": false
      },
      "application/vnd.jupyter.widget-view+json": {
       "model_id": "696663dc5b5d4de78931de12890351ab",
       "version_major": 2,
       "version_minor": 0
      },
      "text/plain": [
       "Epoch 6/10:   0%|          | 0/31 [00:00<?, ?it/s]"
      ]
     },
     "metadata": {},
     "output_type": "display_data"
    },
    {
     "name": "stdout",
     "output_type": "stream",
     "text": [
      "\u001b[2m2023-05-04 01:27:55\u001b[0m [\u001b[32m\u001b[1minfo     \u001b[0m] \u001b[1mCQL_20230504012746: epoch=6 step=186\u001b[0m \u001b[36mepoch\u001b[0m=\u001b[35m6\u001b[0m \u001b[36mmetrics\u001b[0m=\u001b[35m{'time_sample_batch': 0.00135833986343876, 'time_algorithm_update': 0.04469979193902785, 'temp_loss': 11.579890897197108, 'temp': 0.983090054604315, 'alpha_loss': -31.782677435105846, 'alpha': 1.0173068546479749, 'critic_loss': 2793.4649776335687, 'actor_loss': -30.826529349050215, 'time_step': 0.04619258449923608}\u001b[0m \u001b[36mstep\u001b[0m=\u001b[35m186\u001b[0m\n",
      "\u001b[2m2023-05-04 01:27:55\u001b[0m [\u001b[32m\u001b[1minfo     \u001b[0m] \u001b[1mModel parameters are saved to d3rlpy_logs/CQL_20230504012746/model_186.pt\u001b[0m\n"
     ]
    },
    {
     "data": {
      "application/json": {
       "ascii": false,
       "bar_format": null,
       "colour": null,
       "elapsed": 0.004359722137451172,
       "initial": 0,
       "n": 0,
       "ncols": null,
       "nrows": null,
       "postfix": null,
       "prefix": "Epoch 7/10",
       "rate": null,
       "total": 31,
       "unit": "it",
       "unit_divisor": 1000,
       "unit_scale": false
      },
      "application/vnd.jupyter.widget-view+json": {
       "model_id": "2d0840fc93e14af4a58532170621a64c",
       "version_major": 2,
       "version_minor": 0
      },
      "text/plain": [
       "Epoch 7/10:   0%|          | 0/31 [00:00<?, ?it/s]"
      ]
     },
     "metadata": {},
     "output_type": "display_data"
    },
    {
     "name": "stdout",
     "output_type": "stream",
     "text": [
      "\u001b[2m2023-05-04 01:27:56\u001b[0m [\u001b[32m\u001b[1minfo     \u001b[0m] \u001b[1mCQL_20230504012746: epoch=7 step=217\u001b[0m \u001b[36mepoch\u001b[0m=\u001b[35m7\u001b[0m \u001b[36mmetrics\u001b[0m=\u001b[35m{'time_sample_batch': 0.0012105972536148564, 'time_algorithm_update': 0.04299592202709567, 'temp_loss': 11.538329616669685, 'temp': 0.9800722118346922, 'alpha_loss': -31.878970792216638, 'alpha': 1.0204919538190287, 'critic_loss': 2683.6039645287296, 'actor_loss': -32.308014162125126, 'time_step': 0.04436281419569446}\u001b[0m \u001b[36mstep\u001b[0m=\u001b[35m217\u001b[0m\n",
      "\u001b[2m2023-05-04 01:27:56\u001b[0m [\u001b[32m\u001b[1minfo     \u001b[0m] \u001b[1mModel parameters are saved to d3rlpy_logs/CQL_20230504012746/model_217.pt\u001b[0m\n"
     ]
    },
    {
     "data": {
      "application/json": {
       "ascii": false,
       "bar_format": null,
       "colour": null,
       "elapsed": 0.006604671478271484,
       "initial": 0,
       "n": 0,
       "ncols": null,
       "nrows": null,
       "postfix": null,
       "prefix": "Epoch 8/10",
       "rate": null,
       "total": 31,
       "unit": "it",
       "unit_divisor": 1000,
       "unit_scale": false
      },
      "application/vnd.jupyter.widget-view+json": {
       "model_id": "625cf90e360640df9b2a91197620caad",
       "version_major": 2,
       "version_minor": 0
      },
      "text/plain": [
       "Epoch 8/10:   0%|          | 0/31 [00:00<?, ?it/s]"
      ]
     },
     "metadata": {},
     "output_type": "display_data"
    },
    {
     "name": "stdout",
     "output_type": "stream",
     "text": [
      "\u001b[2m2023-05-04 01:27:57\u001b[0m [\u001b[32m\u001b[1minfo     \u001b[0m] \u001b[1mCQL_20230504012746: epoch=8 step=248\u001b[0m \u001b[36mepoch\u001b[0m=\u001b[35m8\u001b[0m \u001b[36mmetrics\u001b[0m=\u001b[35m{'time_sample_batch': 0.0015095664608863093, 'time_algorithm_update': 0.041245768147130164, 'temp_loss': 11.50996232801868, 'temp': 0.9770682415654582, 'alpha_loss': -31.977023093931138, 'alpha': 1.023691254277383, 'critic_loss': 2558.870573966734, 'actor_loss': -33.564017018964215, 'time_step': 0.043018541028422695}\u001b[0m \u001b[36mstep\u001b[0m=\u001b[35m248\u001b[0m\n",
      "\u001b[2m2023-05-04 01:27:57\u001b[0m [\u001b[32m\u001b[1minfo     \u001b[0m] \u001b[1mModel parameters are saved to d3rlpy_logs/CQL_20230504012746/model_248.pt\u001b[0m\n"
     ]
    },
    {
     "data": {
      "application/json": {
       "ascii": false,
       "bar_format": null,
       "colour": null,
       "elapsed": 0.007652997970581055,
       "initial": 0,
       "n": 0,
       "ncols": null,
       "nrows": null,
       "postfix": null,
       "prefix": "Epoch 9/10",
       "rate": null,
       "total": 31,
       "unit": "it",
       "unit_divisor": 1000,
       "unit_scale": false
      },
      "application/vnd.jupyter.widget-view+json": {
       "model_id": "613bf4db62d04bd1b014940aaa89f9ec",
       "version_major": 2,
       "version_minor": 0
      },
      "text/plain": [
       "Epoch 9/10:   0%|          | 0/31 [00:00<?, ?it/s]"
      ]
     },
     "metadata": {},
     "output_type": "display_data"
    },
    {
     "name": "stdout",
     "output_type": "stream",
     "text": [
      "\u001b[2m2023-05-04 01:27:59\u001b[0m [\u001b[32m\u001b[1minfo     \u001b[0m] \u001b[1mCQL_20230504012746: epoch=9 step=279\u001b[0m \u001b[36mepoch\u001b[0m=\u001b[35m9\u001b[0m \u001b[36mmetrics\u001b[0m=\u001b[35m{'time_sample_batch': 0.0009979432629000757, 'time_algorithm_update': 0.036409478033742594, 'temp_loss': 11.470276709525816, 'temp': 0.974076553698509, 'alpha_loss': -32.07833819235525, 'alpha': 1.0269050905781407, 'critic_loss': 2458.1851609753026, 'actor_loss': -35.75754042594664, 'time_step': 0.037541420229019656}\u001b[0m \u001b[36mstep\u001b[0m=\u001b[35m279\u001b[0m\n",
      "\u001b[2m2023-05-04 01:27:59\u001b[0m [\u001b[32m\u001b[1minfo     \u001b[0m] \u001b[1mModel parameters are saved to d3rlpy_logs/CQL_20230504012746/model_279.pt\u001b[0m\n"
     ]
    },
    {
     "data": {
      "application/json": {
       "ascii": false,
       "bar_format": null,
       "colour": null,
       "elapsed": 0.00847935676574707,
       "initial": 0,
       "n": 0,
       "ncols": null,
       "nrows": null,
       "postfix": null,
       "prefix": "Epoch 10/10",
       "rate": null,
       "total": 31,
       "unit": "it",
       "unit_divisor": 1000,
       "unit_scale": false
      },
      "application/vnd.jupyter.widget-view+json": {
       "model_id": "ed7ce3ee01ee4823a0ff5370e3af39f2",
       "version_major": 2,
       "version_minor": 0
      },
      "text/plain": [
       "Epoch 10/10:   0%|          | 0/31 [00:00<?, ?it/s]"
      ]
     },
     "metadata": {},
     "output_type": "display_data"
    },
    {
     "name": "stdout",
     "output_type": "stream",
     "text": [
      "\u001b[2m2023-05-04 01:28:00\u001b[0m [\u001b[32m\u001b[1minfo     \u001b[0m] \u001b[1mCQL_20230504012746: epoch=10 step=310\u001b[0m \u001b[36mepoch\u001b[0m=\u001b[35m10\u001b[0m \u001b[36mmetrics\u001b[0m=\u001b[35m{'time_sample_batch': 0.0007801055908203125, 'time_algorithm_update': 0.030945539474487305, 'temp_loss': 11.448118209838867, 'temp': 0.9710988998413086, 'alpha_loss': -32.18758958385837, 'alpha': 1.0301338165037093, 'critic_loss': 2336.2837937878026, 'actor_loss': -37.29167212209394, 'time_step': 0.031834071682345484}\u001b[0m \u001b[36mstep\u001b[0m=\u001b[35m310\u001b[0m\n",
      "\u001b[2m2023-05-04 01:28:00\u001b[0m [\u001b[32m\u001b[1minfo     \u001b[0m] \u001b[1mModel parameters are saved to d3rlpy_logs/CQL_20230504012746/model_310.pt\u001b[0m\n"
     ]
    },
    {
     "data": {
      "text/plain": [
       "[(1,\n",
       "  {'time_sample_batch': 0.0009980278630410471,\n",
       "   'time_algorithm_update': 0.08748865127563477,\n",
       "   'temp_loss': 11.744194215343844,\n",
       "   'temp': 0.9984005458893315,\n",
       "   'alpha_loss': -31.277802190473004,\n",
       "   'alpha': 1.0016018421419206,\n",
       "   'critic_loss': 3721.7289094002017,\n",
       "   'actor_loss': -10.316245063658684,\n",
       "   'time_step': 0.0886292073034471}),\n",
       " (2,\n",
       "  {'time_sample_batch': 0.000903790996920678,\n",
       "   'time_algorithm_update': 0.03586419936149351,\n",
       "   'temp_loss': 11.724647952664283,\n",
       "   'temp': 0.995309462470393,\n",
       "   'alpha_loss': -31.375866490025675,\n",
       "   'alpha': 1.0047140698279104,\n",
       "   'critic_loss': 3234.1929419732865,\n",
       "   'actor_loss': -25.97842062673261,\n",
       "   'time_step': 0.03689156809160786}),\n",
       " (3,\n",
       "  {'time_sample_batch': 0.0009151427976546749,\n",
       "   'time_algorithm_update': 0.03396520306987147,\n",
       "   'temp_loss': 11.691720900997039,\n",
       "   'temp': 0.9922334763311571,\n",
       "   'alpha_loss': -31.483734069331998,\n",
       "   'alpha': 1.0078407295288578,\n",
       "   'critic_loss': 3119.4801301033267,\n",
       "   'actor_loss': -26.33940456759545,\n",
       "   'time_step': 0.03499096439730737}),\n",
       " (4,\n",
       "  {'time_sample_batch': 0.0008699817042196951,\n",
       "   'time_algorithm_update': 0.03454456790801017,\n",
       "   'temp_loss': 11.659830677893854,\n",
       "   'temp': 0.9891713492331966,\n",
       "   'alpha_loss': -31.584238790696666,\n",
       "   'alpha': 1.0109822057908582,\n",
       "   'critic_loss': 3020.9976530997983,\n",
       "   'actor_loss': -27.604707779422885,\n",
       "   'time_step': 0.03553482024900375}),\n",
       " (5,\n",
       "  {'time_sample_batch': 0.0008454092087284211,\n",
       "   'time_algorithm_update': 0.03654890675698557,\n",
       "   'temp_loss': 11.622486237556704,\n",
       "   'temp': 0.9861233984270403,\n",
       "   'alpha_loss': -31.666741217336348,\n",
       "   'alpha': 1.0141376026215092,\n",
       "   'critic_loss': 2904.5417086693546,\n",
       "   'actor_loss': -29.150966029013357,\n",
       "   'time_step': 0.0375160324958063}),\n",
       " (6,\n",
       "  {'time_sample_batch': 0.00135833986343876,\n",
       "   'time_algorithm_update': 0.04469979193902785,\n",
       "   'temp_loss': 11.579890897197108,\n",
       "   'temp': 0.983090054604315,\n",
       "   'alpha_loss': -31.782677435105846,\n",
       "   'alpha': 1.0173068546479749,\n",
       "   'critic_loss': 2793.4649776335687,\n",
       "   'actor_loss': -30.826529349050215,\n",
       "   'time_step': 0.04619258449923608}),\n",
       " (7,\n",
       "  {'time_sample_batch': 0.0012105972536148564,\n",
       "   'time_algorithm_update': 0.04299592202709567,\n",
       "   'temp_loss': 11.538329616669685,\n",
       "   'temp': 0.9800722118346922,\n",
       "   'alpha_loss': -31.878970792216638,\n",
       "   'alpha': 1.0204919538190287,\n",
       "   'critic_loss': 2683.6039645287296,\n",
       "   'actor_loss': -32.308014162125126,\n",
       "   'time_step': 0.04436281419569446}),\n",
       " (8,\n",
       "  {'time_sample_batch': 0.0015095664608863093,\n",
       "   'time_algorithm_update': 0.041245768147130164,\n",
       "   'temp_loss': 11.50996232801868,\n",
       "   'temp': 0.9770682415654582,\n",
       "   'alpha_loss': -31.977023093931138,\n",
       "   'alpha': 1.023691254277383,\n",
       "   'critic_loss': 2558.870573966734,\n",
       "   'actor_loss': -33.564017018964215,\n",
       "   'time_step': 0.043018541028422695}),\n",
       " (9,\n",
       "  {'time_sample_batch': 0.0009979432629000757,\n",
       "   'time_algorithm_update': 0.036409478033742594,\n",
       "   'temp_loss': 11.470276709525816,\n",
       "   'temp': 0.974076553698509,\n",
       "   'alpha_loss': -32.07833819235525,\n",
       "   'alpha': 1.0269050905781407,\n",
       "   'critic_loss': 2458.1851609753026,\n",
       "   'actor_loss': -35.75754042594664,\n",
       "   'time_step': 0.037541420229019656}),\n",
       " (10,\n",
       "  {'time_sample_batch': 0.0007801055908203125,\n",
       "   'time_algorithm_update': 0.030945539474487305,\n",
       "   'temp_loss': 11.448118209838867,\n",
       "   'temp': 0.9710988998413086,\n",
       "   'alpha_loss': -32.18758958385837,\n",
       "   'alpha': 1.0301338165037093,\n",
       "   'critic_loss': 2336.2837937878026,\n",
       "   'actor_loss': -37.29167212209394,\n",
       "   'time_step': 0.031834071682345484})]"
      ]
     },
     "execution_count": 16,
     "metadata": {},
     "output_type": "execute_result"
    }
   ],
   "source": [
    "from d3rlpy.algos import CQL\n",
    "\n",
    "# setup CQL algorithm\n",
    "cql = CQL(use_gpu=True)\n",
    "\n",
    "# split train and test episodes\n",
    "# train_episodes, test_episodes = train_test_split(cql_dataset, test_size=0.25)\n",
    "\n",
    "# start training\n",
    "cql.fit(cql_dataset,\n",
    "        eval_episodes=None,\n",
    "        n_epochs=10,\n",
    "        scorers=None)"
   ]
  },
  {
   "cell_type": "code",
   "execution_count": 15,
   "metadata": {},
   "outputs": [
    {
     "name": "stdout",
     "output_type": "stream",
     "text": [
      "All observations shape: (1480, 768)\n",
      "All actions shape: (1480, 7)\n",
      "All rewards shape: (1480,)\n",
      "All terminals shape: (1480,)\n",
      "All observations shape: (2535, 768)\n",
      "All actions shape: (2535, 7)\n",
      "All rewards shape: (2535,)\n",
      "All terminals shape: (2535,)\n",
      "All observations shape: (3233, 768)\n",
      "All actions shape: (3233, 7)\n",
      "All rewards shape: (3233,)\n",
      "All terminals shape: (3233,)\n",
      "All observations shape: (4242, 768)\n",
      "All actions shape: (4242, 7)\n",
      "All rewards shape: (4242,)\n",
      "All terminals shape: (4242,)\n",
      "All observations shape: (5049, 768)\n",
      "All actions shape: (5049, 7)\n",
      "All rewards shape: (5049,)\n",
      "All terminals shape: (5049,)\n",
      "All observations shape: (5743, 768)\n",
      "All actions shape: (5743, 7)\n",
      "All rewards shape: (5743,)\n",
      "All terminals shape: (5743,)\n",
      "All observations shape: (6744, 768)\n",
      "All actions shape: (6744, 7)\n",
      "All rewards shape: (6744,)\n",
      "All terminals shape: (6744,)\n",
      "All observations shape: (7469, 768)\n",
      "All actions shape: (7469, 7)\n",
      "All rewards shape: (7469,)\n",
      "All terminals shape: (7469,)\n",
      "All observations shape: (8185, 768)\n",
      "All actions shape: (8185, 7)\n",
      "All rewards shape: (8185,)\n",
      "All terminals shape: (8185,)\n"
     ]
    }
   ],
   "source": [
    "import numpy as np\n",
    "from d3rlpy.dataset import Episode, MDPDataset, Transition\n",
    "\n",
    "OBSERVATION_SIZE = 768\n",
    "ACTION_SIZE = 7\n",
    "BATCH_SIZE = 64\n",
    "\n",
    "all_observations = np.empty((0, OBSERVATION_SIZE))\n",
    "all_actions = np.empty((0, ACTION_SIZE))\n",
    "all_rewards = np.empty(0)\n",
    "all_terminals = np.empty(0, dtype=bool)\n",
    "\n",
    "for i in range(0,10):\n",
    "    if i==7:\n",
    "        continue\n",
    "    observation = np.load(f'trajectories/all_observations_P00{i}.npy')\n",
    "    action = np.load(f'trajectories/all_actions_P00{i}.npy')\n",
    "    reward = np.load(f'trajectories/all_rewards_P00{i}.npy')\n",
    "    terminals = np.load(f'trajectories/all_terminals_P00{i}.npy')\n",
    "\n",
    "    all_observations = np.vstack((all_observations, observation))\n",
    "    all_actions = np.vstack((all_actions, action))\n",
    "    all_rewards = np.hstack((all_rewards, reward))\n",
    "    all_terminals = np.hstack((all_terminals, terminals))\n",
    "\n",
    "    print(\"All observations shape:\", all_observations.shape)\n",
    "    print(\"All actions shape:\", all_actions.shape)\n",
    "    print(\"All rewards shape:\", all_rewards.shape)\n",
    "    print(\"All terminals shape:\", all_terminals.shape)\n",
    "cql_dataset = MDPDataset(observations=all_observations,actions=all_actions,rewards=all_rewards,terminals=all_terminals,episode_terminals=all_terminals)"
   ]
  },
  {
   "cell_type": "code",
   "execution_count": 4,
   "metadata": {},
   "outputs": [],
   "source": [
    "from d3rlpy.algos import CQL\n",
    "cql01 = CQL(use_gpu=False)\n",
    "cql01.build_with_dataset(cql_dataset)\n",
    "cql01.load_model('/home/ubuntu/camelmera/models/gym/multimodal/d3rlpy_logs/CQL_20230503011241/model_40.pt')"
   ]
  },
  {
   "cell_type": "code",
   "execution_count": 18,
   "metadata": {},
   "outputs": [
    {
     "name": "stdout",
     "output_type": "stream",
     "text": [
      "\u001b[2m2023-05-04 01:34:42\u001b[0m [\u001b[33m\u001b[1mwarning  \u001b[0m] \u001b[1mUnused arguments are passed.  \u001b[0m \u001b[36malgorithm\u001b[0m=\u001b[35mCQL\u001b[0m \u001b[36mgenerated_maxlen\u001b[0m=\u001b[35m100000\u001b[0m \u001b[36mreal_ratio\u001b[0m=\u001b[35m1.0\u001b[0m\n"
     ]
    }
   ],
   "source": [
    "from d3rlpy.algos import CQL\n",
    "\n",
    "cql = CQL.from_json('d3rlpy_logs/CQL_20230504012746/params.json')\n",
    "\n",
    "# ready to load\n",
    "cql.load_model('d3rlpy_logs/CQL_20230504012746/model_310.pt')"
   ]
  },
  {
   "cell_type": "code",
   "execution_count": 19,
   "metadata": {},
   "outputs": [
    {
     "name": "stdout",
     "output_type": "stream",
     "text": [
      "\u001b[2m2023-05-04 01:35:10\u001b[0m [\u001b[32m\u001b[1mdebug    \u001b[0m] \u001b[1mRoundIterator is selected.\u001b[0m\n",
      "\u001b[2m2023-05-04 01:35:10\u001b[0m [\u001b[32m\u001b[1minfo     \u001b[0m] \u001b[1mDirectory is created at d3rlpy_logs/CQL_20230504013510\u001b[0m\n",
      "\u001b[2m2023-05-04 01:35:10\u001b[0m [\u001b[33m\u001b[1mwarning  \u001b[0m] \u001b[1mSkip building models since they're already built.\u001b[0m\n",
      "\u001b[2m2023-05-04 01:35:10\u001b[0m [\u001b[32m\u001b[1minfo     \u001b[0m] \u001b[1mParameters are saved to d3rlpy_logs/CQL_20230504013510/params.json\u001b[0m \u001b[36mparams\u001b[0m=\u001b[35m{'action_scaler': None, 'actor_encoder_factory': {'type': 'default', 'params': {'activation': 'relu', 'use_batch_norm': False, 'dropout_rate': None}}, 'actor_learning_rate': 0.0001, 'actor_optim_factory': {'optim_cls': 'Adam', 'betas': [0.9, 0.999], 'eps': 1e-08, 'weight_decay': 0, 'amsgrad': False}, 'alpha_learning_rate': 0.0001, 'alpha_optim_factory': {'optim_cls': 'Adam', 'betas': [0.9, 0.999], 'eps': 1e-08, 'weight_decay': 0, 'amsgrad': False}, 'alpha_threshold': 10.0, 'batch_size': 256, 'conservative_weight': 5.0, 'critic_encoder_factory': {'type': 'default', 'params': {'activation': 'relu', 'use_batch_norm': False, 'dropout_rate': None}}, 'critic_learning_rate': 0.0003, 'critic_optim_factory': {'optim_cls': 'Adam', 'betas': [0.9, 0.999], 'eps': 1e-08, 'weight_decay': 0, 'amsgrad': False}, 'gamma': 0.99, 'generated_maxlen': 100000, 'initial_alpha': 1.0, 'initial_temperature': 1.0, 'n_action_samples': 10, 'n_critics': 2, 'n_frames': 1, 'n_steps': 1, 'q_func_factory': {'type': 'mean', 'params': {'share_encoder': False}}, 'real_ratio': 1.0, 'reward_scaler': None, 'scaler': None, 'soft_q_backup': False, 'tau': 0.005, 'temp_learning_rate': 0.0001, 'temp_optim_factory': {'optim_cls': 'Adam', 'betas': [0.9, 0.999], 'eps': 1e-08, 'weight_decay': 0, 'amsgrad': False}, 'use_gpu': None, 'algorithm': 'CQL', 'observation_shape': (768,), 'action_size': 7}\u001b[0m\n"
     ]
    },
    {
     "data": {
      "application/json": {
       "ascii": false,
       "bar_format": null,
       "colour": null,
       "elapsed": 0.008107185363769531,
       "initial": 0,
       "n": 0,
       "ncols": null,
       "nrows": null,
       "postfix": null,
       "prefix": "Epoch 1/30",
       "rate": null,
       "total": 31,
       "unit": "it",
       "unit_divisor": 1000,
       "unit_scale": false
      },
      "application/vnd.jupyter.widget-view+json": {
       "model_id": "0653eba7db2f474fb9e74594f922981c",
       "version_major": 2,
       "version_minor": 0
      },
      "text/plain": [
       "Epoch 1/30:   0%|          | 0/31 [00:00<?, ?it/s]"
      ]
     },
     "metadata": {},
     "output_type": "display_data"
    },
    {
     "name": "stdout",
     "output_type": "stream",
     "text": [
      "\u001b[2m2023-05-04 01:35:20\u001b[0m [\u001b[32m\u001b[1minfo     \u001b[0m] \u001b[1mCQL_20230504013510: epoch=1 step=31\u001b[0m \u001b[36mepoch\u001b[0m=\u001b[35m1\u001b[0m \u001b[36mmetrics\u001b[0m=\u001b[35m{'time_sample_batch': 0.0010161707478184854, 'time_algorithm_update': 0.3290915950652092, 'temp_loss': 11.405332565307617, 'temp': 0.9681331226902623, 'alpha_loss': -32.28081783171623, 'alpha': 1.0333774628177765, 'critic_loss': 2233.6551868069555, 'actor_loss': -38.560919607839274, 'time_step': 0.33023206649288056}\u001b[0m \u001b[36mstep\u001b[0m=\u001b[35m31\u001b[0m\n",
      "\u001b[2m2023-05-04 01:35:20\u001b[0m [\u001b[32m\u001b[1minfo     \u001b[0m] \u001b[1mModel parameters are saved to d3rlpy_logs/CQL_20230504013510/model_31.pt\u001b[0m\n"
     ]
    },
    {
     "data": {
      "application/json": {
       "ascii": false,
       "bar_format": null,
       "colour": null,
       "elapsed": 0.006895780563354492,
       "initial": 0,
       "n": 0,
       "ncols": null,
       "nrows": null,
       "postfix": null,
       "prefix": "Epoch 2/30",
       "rate": null,
       "total": 31,
       "unit": "it",
       "unit_divisor": 1000,
       "unit_scale": false
      },
      "application/vnd.jupyter.widget-view+json": {
       "model_id": "26641be12236482a8ade162b6c3b8d4e",
       "version_major": 2,
       "version_minor": 0
      },
      "text/plain": [
       "Epoch 2/30:   0%|          | 0/31 [00:00<?, ?it/s]"
      ]
     },
     "metadata": {},
     "output_type": "display_data"
    },
    {
     "name": "stdout",
     "output_type": "stream",
     "text": [
      "\u001b[2m2023-05-04 01:35:27\u001b[0m [\u001b[32m\u001b[1minfo     \u001b[0m] \u001b[1mCQL_20230504013510: epoch=2 step=62\u001b[0m \u001b[36mepoch\u001b[0m=\u001b[35m2\u001b[0m \u001b[36mmetrics\u001b[0m=\u001b[35m{'time_sample_batch': 0.000981999981787897, 'time_algorithm_update': 0.2366661871633222, 'temp_loss': 11.369608602216166, 'temp': 0.9651807642752125, 'alpha_loss': -32.39259682932207, 'alpha': 1.0366356103650984, 'critic_loss': 2119.0245991368447, 'actor_loss': -40.40380416377898, 'time_step': 0.23776971909307665}\u001b[0m \u001b[36mstep\u001b[0m=\u001b[35m62\u001b[0m\n",
      "\u001b[2m2023-05-04 01:35:27\u001b[0m [\u001b[32m\u001b[1minfo     \u001b[0m] \u001b[1mModel parameters are saved to d3rlpy_logs/CQL_20230504013510/model_62.pt\u001b[0m\n"
     ]
    },
    {
     "data": {
      "application/json": {
       "ascii": false,
       "bar_format": null,
       "colour": null,
       "elapsed": 0.005555629730224609,
       "initial": 0,
       "n": 0,
       "ncols": null,
       "nrows": null,
       "postfix": null,
       "prefix": "Epoch 3/30",
       "rate": null,
       "total": 31,
       "unit": "it",
       "unit_divisor": 1000,
       "unit_scale": false
      },
      "application/vnd.jupyter.widget-view+json": {
       "model_id": "66ffe6beeef34a4d8982b5aa106bf077",
       "version_major": 2,
       "version_minor": 0
      },
      "text/plain": [
       "Epoch 3/30:   0%|          | 0/31 [00:00<?, ?it/s]"
      ]
     },
     "metadata": {},
     "output_type": "display_data"
    },
    {
     "name": "stdout",
     "output_type": "stream",
     "text": [
      "\u001b[2m2023-05-04 01:35:35\u001b[0m [\u001b[32m\u001b[1minfo     \u001b[0m] \u001b[1mCQL_20230504013510: epoch=3 step=93\u001b[0m \u001b[36mepoch\u001b[0m=\u001b[35m3\u001b[0m \u001b[36mmetrics\u001b[0m=\u001b[35m{'time_sample_batch': 0.0009399690935688634, 'time_algorithm_update': 0.2364673614501953, 'temp_loss': 11.33581853681995, 'temp': 0.9622422341377505, 'alpha_loss': -32.4925417746267, 'alpha': 1.039909182056304, 'critic_loss': 2022.7026839717741, 'actor_loss': -41.9716670128607, 'time_step': 0.2375329617531069}\u001b[0m \u001b[36mstep\u001b[0m=\u001b[35m93\u001b[0m\n",
      "\u001b[2m2023-05-04 01:35:35\u001b[0m [\u001b[32m\u001b[1minfo     \u001b[0m] \u001b[1mModel parameters are saved to d3rlpy_logs/CQL_20230504013510/model_93.pt\u001b[0m\n"
     ]
    },
    {
     "data": {
      "application/json": {
       "ascii": false,
       "bar_format": null,
       "colour": null,
       "elapsed": 0.006485700607299805,
       "initial": 0,
       "n": 0,
       "ncols": null,
       "nrows": null,
       "postfix": null,
       "prefix": "Epoch 4/30",
       "rate": null,
       "total": 31,
       "unit": "it",
       "unit_divisor": 1000,
       "unit_scale": false
      },
      "application/vnd.jupyter.widget-view+json": {
       "model_id": "d5cf8aff15c2412f90f43866a2bf0b10",
       "version_major": 2,
       "version_minor": 0
      },
      "text/plain": [
       "Epoch 4/30:   0%|          | 0/31 [00:00<?, ?it/s]"
      ]
     },
     "metadata": {},
     "output_type": "display_data"
    },
    {
     "name": "stdout",
     "output_type": "stream",
     "text": [
      "\u001b[2m2023-05-04 01:35:43\u001b[0m [\u001b[32m\u001b[1minfo     \u001b[0m] \u001b[1mCQL_20230504013510: epoch=4 step=124\u001b[0m \u001b[36mepoch\u001b[0m=\u001b[35m4\u001b[0m \u001b[36mmetrics\u001b[0m=\u001b[35m{'time_sample_batch': 0.0009722478928104524, 'time_algorithm_update': 0.24814252699575118, 'temp_loss': 11.292844926157306, 'temp': 0.9593167708766076, 'alpha_loss': -32.59616494947864, 'alpha': 1.0431973511172878, 'critic_loss': 1931.2279643397178, 'actor_loss': -43.57937314433436, 'time_step': 0.24923853720388106}\u001b[0m \u001b[36mstep\u001b[0m=\u001b[35m124\u001b[0m\n",
      "\u001b[2m2023-05-04 01:35:43\u001b[0m [\u001b[32m\u001b[1minfo     \u001b[0m] \u001b[1mModel parameters are saved to d3rlpy_logs/CQL_20230504013510/model_124.pt\u001b[0m\n"
     ]
    },
    {
     "data": {
      "application/json": {
       "ascii": false,
       "bar_format": null,
       "colour": null,
       "elapsed": 0.006859540939331055,
       "initial": 0,
       "n": 0,
       "ncols": null,
       "nrows": null,
       "postfix": null,
       "prefix": "Epoch 5/30",
       "rate": null,
       "total": 31,
       "unit": "it",
       "unit_divisor": 1000,
       "unit_scale": false
      },
      "application/vnd.jupyter.widget-view+json": {
       "model_id": "c964e0c2976c430a9e237e9b075eeb8d",
       "version_major": 2,
       "version_minor": 0
      },
      "text/plain": [
       "Epoch 5/30:   0%|          | 0/31 [00:00<?, ?it/s]"
      ]
     },
     "metadata": {},
     "output_type": "display_data"
    },
    {
     "name": "stdout",
     "output_type": "stream",
     "text": [
      "\u001b[2m2023-05-04 01:35:50\u001b[0m [\u001b[32m\u001b[1minfo     \u001b[0m] \u001b[1mCQL_20230504013510: epoch=5 step=155\u001b[0m \u001b[36mepoch\u001b[0m=\u001b[35m5\u001b[0m \u001b[36mmetrics\u001b[0m=\u001b[35m{'time_sample_batch': 0.0009500057466568485, 'time_algorithm_update': 0.24592191173184302, 'temp_loss': 11.26609605358493, 'temp': 0.9564051378157831, 'alpha_loss': -32.70433019822644, 'alpha': 1.0465002175300353, 'critic_loss': 1825.3979098412299, 'actor_loss': -45.37621467344223, 'time_step': 0.24699524141127063}\u001b[0m \u001b[36mstep\u001b[0m=\u001b[35m155\u001b[0m\n",
      "\u001b[2m2023-05-04 01:35:50\u001b[0m [\u001b[32m\u001b[1minfo     \u001b[0m] \u001b[1mModel parameters are saved to d3rlpy_logs/CQL_20230504013510/model_155.pt\u001b[0m\n"
     ]
    },
    {
     "data": {
      "application/json": {
       "ascii": false,
       "bar_format": null,
       "colour": null,
       "elapsed": 0.006100893020629883,
       "initial": 0,
       "n": 0,
       "ncols": null,
       "nrows": null,
       "postfix": null,
       "prefix": "Epoch 6/30",
       "rate": null,
       "total": 31,
       "unit": "it",
       "unit_divisor": 1000,
       "unit_scale": false
      },
      "application/vnd.jupyter.widget-view+json": {
       "model_id": "a642e726ef2d49ac808d569dc1852d01",
       "version_major": 2,
       "version_minor": 0
      },
      "text/plain": [
       "Epoch 6/30:   0%|          | 0/31 [00:00<?, ?it/s]"
      ]
     },
     "metadata": {},
     "output_type": "display_data"
    },
    {
     "name": "stdout",
     "output_type": "stream",
     "text": [
      "\u001b[2m2023-05-04 01:35:58\u001b[0m [\u001b[32m\u001b[1minfo     \u001b[0m] \u001b[1mCQL_20230504013510: epoch=6 step=186\u001b[0m \u001b[36mepoch\u001b[0m=\u001b[35m6\u001b[0m \u001b[36mmetrics\u001b[0m=\u001b[35m{'time_sample_batch': 0.0009497904008434664, 'time_algorithm_update': 0.23711489092919133, 'temp_loss': 11.233154296875, 'temp': 0.9535041989818696, 'alpha_loss': -32.813171509773504, 'alpha': 1.0498186465232604, 'critic_loss': 1737.4400713520665, 'actor_loss': -46.349911228302986, 'time_step': 0.2381860363867975}\u001b[0m \u001b[36mstep\u001b[0m=\u001b[35m186\u001b[0m\n",
      "\u001b[2m2023-05-04 01:35:58\u001b[0m [\u001b[32m\u001b[1minfo     \u001b[0m] \u001b[1mModel parameters are saved to d3rlpy_logs/CQL_20230504013510/model_186.pt\u001b[0m\n"
     ]
    },
    {
     "data": {
      "application/json": {
       "ascii": false,
       "bar_format": null,
       "colour": null,
       "elapsed": 0.005855083465576172,
       "initial": 0,
       "n": 0,
       "ncols": null,
       "nrows": null,
       "postfix": null,
       "prefix": "Epoch 7/30",
       "rate": null,
       "total": 31,
       "unit": "it",
       "unit_divisor": 1000,
       "unit_scale": false
      },
      "application/vnd.jupyter.widget-view+json": {
       "model_id": "989e562a1100413cbed0c2930906d8ed",
       "version_major": 2,
       "version_minor": 0
      },
      "text/plain": [
       "Epoch 7/30:   0%|          | 0/31 [00:00<?, ?it/s]"
      ]
     },
     "metadata": {},
     "output_type": "display_data"
    },
    {
     "name": "stdout",
     "output_type": "stream",
     "text": [
      "\u001b[2m2023-05-04 01:36:05\u001b[0m [\u001b[32m\u001b[1minfo     \u001b[0m] \u001b[1mCQL_20230504013510: epoch=7 step=217\u001b[0m \u001b[36mepoch\u001b[0m=\u001b[35m7\u001b[0m \u001b[36mmetrics\u001b[0m=\u001b[35m{'time_sample_batch': 0.0010021501971829321, 'time_algorithm_update': 0.23692472519413119, 'temp_loss': 11.194594352476058, 'temp': 0.9506164077789553, 'alpha_loss': -32.91840017995527, 'alpha': 1.0531521228051954, 'critic_loss': 1650.4468049080142, 'actor_loss': -48.454989525579634, 'time_step': 0.23804723831915087}\u001b[0m \u001b[36mstep\u001b[0m=\u001b[35m217\u001b[0m\n",
      "\u001b[2m2023-05-04 01:36:05\u001b[0m [\u001b[32m\u001b[1minfo     \u001b[0m] \u001b[1mModel parameters are saved to d3rlpy_logs/CQL_20230504013510/model_217.pt\u001b[0m\n"
     ]
    },
    {
     "data": {
      "application/json": {
       "ascii": false,
       "bar_format": null,
       "colour": null,
       "elapsed": 0.0056726932525634766,
       "initial": 0,
       "n": 0,
       "ncols": null,
       "nrows": null,
       "postfix": null,
       "prefix": "Epoch 8/30",
       "rate": null,
       "total": 31,
       "unit": "it",
       "unit_divisor": 1000,
       "unit_scale": false
      },
      "application/vnd.jupyter.widget-view+json": {
       "model_id": "d26497f23e4649baadea60aad2a5bb14",
       "version_major": 2,
       "version_minor": 0
      },
      "text/plain": [
       "Epoch 8/30:   0%|          | 0/31 [00:00<?, ?it/s]"
      ]
     },
     "metadata": {},
     "output_type": "display_data"
    },
    {
     "name": "stdout",
     "output_type": "stream",
     "text": [
      "\u001b[2m2023-05-04 01:36:13\u001b[0m [\u001b[32m\u001b[1minfo     \u001b[0m] \u001b[1mCQL_20230504013510: epoch=8 step=248\u001b[0m \u001b[36mepoch\u001b[0m=\u001b[35m8\u001b[0m \u001b[36mmetrics\u001b[0m=\u001b[35m{'time_sample_batch': 0.0009970434250370149, 'time_algorithm_update': 0.23665251270417245, 'temp_loss': 11.160284565341088, 'temp': 0.9477410316467285, 'alpha_loss': -33.02992433117282, 'alpha': 1.0565006617576844, 'critic_loss': 1565.895255796371, 'actor_loss': -49.37596105760144, 'time_step': 0.23776928071052797}\u001b[0m \u001b[36mstep\u001b[0m=\u001b[35m248\u001b[0m\n",
      "\u001b[2m2023-05-04 01:36:13\u001b[0m [\u001b[32m\u001b[1minfo     \u001b[0m] \u001b[1mModel parameters are saved to d3rlpy_logs/CQL_20230504013510/model_248.pt\u001b[0m\n"
     ]
    },
    {
     "data": {
      "application/json": {
       "ascii": false,
       "bar_format": null,
       "colour": null,
       "elapsed": 0.0061876773834228516,
       "initial": 0,
       "n": 0,
       "ncols": null,
       "nrows": null,
       "postfix": null,
       "prefix": "Epoch 9/30",
       "rate": null,
       "total": 31,
       "unit": "it",
       "unit_divisor": 1000,
       "unit_scale": false
      },
      "application/vnd.jupyter.widget-view+json": {
       "model_id": "81bb15879846413ca71b956ecc5d5522",
       "version_major": 2,
       "version_minor": 0
      },
      "text/plain": [
       "Epoch 9/30:   0%|          | 0/31 [00:00<?, ?it/s]"
      ]
     },
     "metadata": {},
     "output_type": "display_data"
    },
    {
     "name": "stdout",
     "output_type": "stream",
     "text": [
      "\u001b[2m2023-05-04 01:36:20\u001b[0m [\u001b[32m\u001b[1minfo     \u001b[0m] \u001b[1mCQL_20230504013510: epoch=9 step=279\u001b[0m \u001b[36mepoch\u001b[0m=\u001b[35m9\u001b[0m \u001b[36mmetrics\u001b[0m=\u001b[35m{'time_sample_batch': 0.001005272711476972, 'time_algorithm_update': 0.23492783884848317, 'temp_loss': 11.128739110885128, 'temp': 0.9448788839001809, 'alpha_loss': -33.12550181727256, 'alpha': 1.059864221080657, 'critic_loss': 1480.8202298072076, 'actor_loss': -51.20974423808436, 'time_step': 0.23605735071243777}\u001b[0m \u001b[36mstep\u001b[0m=\u001b[35m279\u001b[0m\n",
      "\u001b[2m2023-05-04 01:36:20\u001b[0m [\u001b[32m\u001b[1minfo     \u001b[0m] \u001b[1mModel parameters are saved to d3rlpy_logs/CQL_20230504013510/model_279.pt\u001b[0m\n"
     ]
    },
    {
     "data": {
      "application/json": {
       "ascii": false,
       "bar_format": null,
       "colour": null,
       "elapsed": 0.00560760498046875,
       "initial": 0,
       "n": 0,
       "ncols": null,
       "nrows": null,
       "postfix": null,
       "prefix": "Epoch 10/30",
       "rate": null,
       "total": 31,
       "unit": "it",
       "unit_divisor": 1000,
       "unit_scale": false
      },
      "application/vnd.jupyter.widget-view+json": {
       "model_id": "1230f4b10d8442ad815f1aaa65b7c926",
       "version_major": 2,
       "version_minor": 0
      },
      "text/plain": [
       "Epoch 10/30:   0%|          | 0/31 [00:00<?, ?it/s]"
      ]
     },
     "metadata": {},
     "output_type": "display_data"
    },
    {
     "name": "stdout",
     "output_type": "stream",
     "text": [
      "\u001b[2m2023-05-04 01:36:27\u001b[0m [\u001b[32m\u001b[1minfo     \u001b[0m] \u001b[1mCQL_20230504013510: epoch=10 step=310\u001b[0m \u001b[36mepoch\u001b[0m=\u001b[35m10\u001b[0m \u001b[36mmetrics\u001b[0m=\u001b[35m{'time_sample_batch': 0.000932870372649162, 'time_algorithm_update': 0.23629223146746237, 'temp_loss': 11.103324582499843, 'temp': 0.9420276822582367, 'alpha_loss': -33.22306676064768, 'alpha': 1.0632420586001488, 'critic_loss': 1411.4829455960182, 'actor_loss': -52.45648464079826, 'time_step': 0.23734592622326267}\u001b[0m \u001b[36mstep\u001b[0m=\u001b[35m310\u001b[0m\n",
      "\u001b[2m2023-05-04 01:36:27\u001b[0m [\u001b[32m\u001b[1minfo     \u001b[0m] \u001b[1mModel parameters are saved to d3rlpy_logs/CQL_20230504013510/model_310.pt\u001b[0m\n"
     ]
    },
    {
     "data": {
      "application/json": {
       "ascii": false,
       "bar_format": null,
       "colour": null,
       "elapsed": 0.004464626312255859,
       "initial": 0,
       "n": 0,
       "ncols": null,
       "nrows": null,
       "postfix": null,
       "prefix": "Epoch 11/30",
       "rate": null,
       "total": 31,
       "unit": "it",
       "unit_divisor": 1000,
       "unit_scale": false
      },
      "application/vnd.jupyter.widget-view+json": {
       "model_id": "85313afab9df45308f397e5d803ff595",
       "version_major": 2,
       "version_minor": 0
      },
      "text/plain": [
       "Epoch 11/30:   0%|          | 0/31 [00:00<?, ?it/s]"
      ]
     },
     "metadata": {},
     "output_type": "display_data"
    },
    {
     "name": "stdout",
     "output_type": "stream",
     "text": [
      "\u001b[2m2023-05-04 01:36:35\u001b[0m [\u001b[32m\u001b[1minfo     \u001b[0m] \u001b[1mCQL_20230504013510: epoch=11 step=341\u001b[0m \u001b[36mepoch\u001b[0m=\u001b[35m11\u001b[0m \u001b[36mmetrics\u001b[0m=\u001b[35m{'time_sample_batch': 0.0009609422376078944, 'time_algorithm_update': 0.23752570152282715, 'temp_loss': 11.062899466483824, 'temp': 0.9391875939984475, 'alpha_loss': -33.32871972360918, 'alpha': 1.0666343704346688, 'critic_loss': 1333.3225885206652, 'actor_loss': -53.656602551860196, 'time_step': 0.2386100753661125}\u001b[0m \u001b[36mstep\u001b[0m=\u001b[35m341\u001b[0m\n",
      "\u001b[2m2023-05-04 01:36:35\u001b[0m [\u001b[32m\u001b[1minfo     \u001b[0m] \u001b[1mModel parameters are saved to d3rlpy_logs/CQL_20230504013510/model_341.pt\u001b[0m\n"
     ]
    },
    {
     "data": {
      "application/json": {
       "ascii": false,
       "bar_format": null,
       "colour": null,
       "elapsed": 0.006745815277099609,
       "initial": 0,
       "n": 0,
       "ncols": null,
       "nrows": null,
       "postfix": null,
       "prefix": "Epoch 12/30",
       "rate": null,
       "total": 31,
       "unit": "it",
       "unit_divisor": 1000,
       "unit_scale": false
      },
      "application/vnd.jupyter.widget-view+json": {
       "model_id": "ce5866494f394cfcb4f07978cdc7bcd9",
       "version_major": 2,
       "version_minor": 0
      },
      "text/plain": [
       "Epoch 12/30:   0%|          | 0/31 [00:00<?, ?it/s]"
      ]
     },
     "metadata": {},
     "output_type": "display_data"
    },
    {
     "name": "stdout",
     "output_type": "stream",
     "text": [
      "\u001b[2m2023-05-04 01:36:42\u001b[0m [\u001b[32m\u001b[1minfo     \u001b[0m] \u001b[1mCQL_20230504013510: epoch=12 step=372\u001b[0m \u001b[36mepoch\u001b[0m=\u001b[35m12\u001b[0m \u001b[36mmetrics\u001b[0m=\u001b[35m{'time_sample_batch': 0.0009121510290330456, 'time_algorithm_update': 0.23629838420498755, 'temp_loss': 11.03089480246267, 'temp': 0.9363601496142726, 'alpha_loss': -33.447303279753655, 'alpha': 1.0700419679764779, 'critic_loss': 1266.8433286605343, 'actor_loss': -55.27484709216702, 'time_step': 0.23733001370583812}\u001b[0m \u001b[36mstep\u001b[0m=\u001b[35m372\u001b[0m\n",
      "\u001b[2m2023-05-04 01:36:42\u001b[0m [\u001b[32m\u001b[1minfo     \u001b[0m] \u001b[1mModel parameters are saved to d3rlpy_logs/CQL_20230504013510/model_372.pt\u001b[0m\n"
     ]
    },
    {
     "data": {
      "application/json": {
       "ascii": false,
       "bar_format": null,
       "colour": null,
       "elapsed": 0.005260944366455078,
       "initial": 0,
       "n": 0,
       "ncols": null,
       "nrows": null,
       "postfix": null,
       "prefix": "Epoch 13/30",
       "rate": null,
       "total": 31,
       "unit": "it",
       "unit_divisor": 1000,
       "unit_scale": false
      },
      "application/vnd.jupyter.widget-view+json": {
       "model_id": "e8274e26de1e4137a293a509ca1e805c",
       "version_major": 2,
       "version_minor": 0
      },
      "text/plain": [
       "Epoch 13/30:   0%|          | 0/31 [00:00<?, ?it/s]"
      ]
     },
     "metadata": {},
     "output_type": "display_data"
    },
    {
     "name": "stdout",
     "output_type": "stream",
     "text": [
      "\u001b[2m2023-05-04 01:36:50\u001b[0m [\u001b[32m\u001b[1minfo     \u001b[0m] \u001b[1mCQL_20230504013510: epoch=13 step=403\u001b[0m \u001b[36mepoch\u001b[0m=\u001b[35m13\u001b[0m \u001b[36mmetrics\u001b[0m=\u001b[35m{'time_sample_batch': 0.0010057880032447078, 'time_algorithm_update': 0.23721263485570107, 'temp_loss': 10.995390830501433, 'temp': 0.9335450126278785, 'alpha_loss': -33.562891437161355, 'alpha': 1.0734655895540792, 'critic_loss': 1205.1854504000755, 'actor_loss': -56.87439210953251, 'time_step': 0.23833936260592553}\u001b[0m \u001b[36mstep\u001b[0m=\u001b[35m403\u001b[0m\n",
      "\u001b[2m2023-05-04 01:36:50\u001b[0m [\u001b[32m\u001b[1minfo     \u001b[0m] \u001b[1mModel parameters are saved to d3rlpy_logs/CQL_20230504013510/model_403.pt\u001b[0m\n"
     ]
    },
    {
     "data": {
      "application/json": {
       "ascii": false,
       "bar_format": null,
       "colour": null,
       "elapsed": 0.007098674774169922,
       "initial": 0,
       "n": 0,
       "ncols": null,
       "nrows": null,
       "postfix": null,
       "prefix": "Epoch 14/30",
       "rate": null,
       "total": 31,
       "unit": "it",
       "unit_divisor": 1000,
       "unit_scale": false
      },
      "application/vnd.jupyter.widget-view+json": {
       "model_id": "78c89f1a8ead40fea766d9a5b52170c8",
       "version_major": 2,
       "version_minor": 0
      },
      "text/plain": [
       "Epoch 14/30:   0%|          | 0/31 [00:00<?, ?it/s]"
      ]
     },
     "metadata": {},
     "output_type": "display_data"
    },
    {
     "name": "stdout",
     "output_type": "stream",
     "text": [
      "\u001b[2m2023-05-04 01:36:57\u001b[0m [\u001b[32m\u001b[1minfo     \u001b[0m] \u001b[1mCQL_20230504013510: epoch=14 step=434\u001b[0m \u001b[36mepoch\u001b[0m=\u001b[35m14\u001b[0m \u001b[36mmetrics\u001b[0m=\u001b[35m{'time_sample_batch': 0.0009629957137569304, 'time_algorithm_update': 0.24336472634346254, 'temp_loss': 10.958394142889208, 'temp': 0.9307423868486958, 'alpha_loss': -33.66192860757151, 'alpha': 1.0769043891660628, 'critic_loss': 1140.2056372857862, 'actor_loss': -57.696526189004224, 'time_step': 0.24444963086035945}\u001b[0m \u001b[36mstep\u001b[0m=\u001b[35m434\u001b[0m\n",
      "\u001b[2m2023-05-04 01:36:57\u001b[0m [\u001b[32m\u001b[1minfo     \u001b[0m] \u001b[1mModel parameters are saved to d3rlpy_logs/CQL_20230504013510/model_434.pt\u001b[0m\n"
     ]
    },
    {
     "data": {
      "application/json": {
       "ascii": false,
       "bar_format": null,
       "colour": null,
       "elapsed": 0.005706071853637695,
       "initial": 0,
       "n": 0,
       "ncols": null,
       "nrows": null,
       "postfix": null,
       "prefix": "Epoch 15/30",
       "rate": null,
       "total": 31,
       "unit": "it",
       "unit_divisor": 1000,
       "unit_scale": false
      },
      "application/vnd.jupyter.widget-view+json": {
       "model_id": "172326a4d3f641bdabe4999102cd2238",
       "version_major": 2,
       "version_minor": 0
      },
      "text/plain": [
       "Epoch 15/30:   0%|          | 0/31 [00:00<?, ?it/s]"
      ]
     },
     "metadata": {},
     "output_type": "display_data"
    },
    {
     "name": "stdout",
     "output_type": "stream",
     "text": [
      "\u001b[2m2023-05-04 01:37:05\u001b[0m [\u001b[32m\u001b[1minfo     \u001b[0m] \u001b[1mCQL_20230504013510: epoch=15 step=465\u001b[0m \u001b[36mepoch\u001b[0m=\u001b[35m15\u001b[0m \u001b[36mmetrics\u001b[0m=\u001b[35m{'time_sample_batch': 0.0009717018373550907, 'time_algorithm_update': 0.23802389637116464, 'temp_loss': 10.929554200941517, 'temp': 0.927951701225773, 'alpha_loss': -33.76268952892673, 'alpha': 1.0803579476571852, 'critic_loss': 1073.052716655116, 'actor_loss': -59.173760567941976, 'time_step': 0.23911464598871046}\u001b[0m \u001b[36mstep\u001b[0m=\u001b[35m465\u001b[0m\n",
      "\u001b[2m2023-05-04 01:37:05\u001b[0m [\u001b[32m\u001b[1minfo     \u001b[0m] \u001b[1mModel parameters are saved to d3rlpy_logs/CQL_20230504013510/model_465.pt\u001b[0m\n"
     ]
    },
    {
     "data": {
      "application/json": {
       "ascii": false,
       "bar_format": null,
       "colour": null,
       "elapsed": 0.005794525146484375,
       "initial": 0,
       "n": 0,
       "ncols": null,
       "nrows": null,
       "postfix": null,
       "prefix": "Epoch 16/30",
       "rate": null,
       "total": 31,
       "unit": "it",
       "unit_divisor": 1000,
       "unit_scale": false
      },
      "application/vnd.jupyter.widget-view+json": {
       "model_id": "86be0611fab34212a35dce3f92f0dcde",
       "version_major": 2,
       "version_minor": 0
      },
      "text/plain": [
       "Epoch 16/30:   0%|          | 0/31 [00:00<?, ?it/s]"
      ]
     },
     "metadata": {},
     "output_type": "display_data"
    },
    {
     "name": "stdout",
     "output_type": "stream",
     "text": [
      "\u001b[2m2023-05-04 01:37:12\u001b[0m [\u001b[32m\u001b[1minfo     \u001b[0m] \u001b[1mCQL_20230504013510: epoch=16 step=496\u001b[0m \u001b[36mepoch\u001b[0m=\u001b[35m16\u001b[0m \u001b[36mmetrics\u001b[0m=\u001b[35m{'time_sample_batch': 0.0009324704447100239, 'time_algorithm_update': 0.23868568481937533, 'temp_loss': 10.894349498133506, 'temp': 0.9251717732798669, 'alpha_loss': -33.869208674277026, 'alpha': 1.0838258304903585, 'critic_loss': 1022.2078424269154, 'actor_loss': -60.36362506497291, 'time_step': 0.23973795675462292}\u001b[0m \u001b[36mstep\u001b[0m=\u001b[35m496\u001b[0m\n",
      "\u001b[2m2023-05-04 01:37:12\u001b[0m [\u001b[32m\u001b[1minfo     \u001b[0m] \u001b[1mModel parameters are saved to d3rlpy_logs/CQL_20230504013510/model_496.pt\u001b[0m\n"
     ]
    },
    {
     "data": {
      "application/json": {
       "ascii": false,
       "bar_format": null,
       "colour": null,
       "elapsed": 0.005716085433959961,
       "initial": 0,
       "n": 0,
       "ncols": null,
       "nrows": null,
       "postfix": null,
       "prefix": "Epoch 17/30",
       "rate": null,
       "total": 31,
       "unit": "it",
       "unit_divisor": 1000,
       "unit_scale": false
      },
      "application/vnd.jupyter.widget-view+json": {
       "model_id": "f160dd62546541f0bd60d646e30d8e82",
       "version_major": 2,
       "version_minor": 0
      },
      "text/plain": [
       "Epoch 17/30:   0%|          | 0/31 [00:00<?, ?it/s]"
      ]
     },
     "metadata": {},
     "output_type": "display_data"
    },
    {
     "name": "stdout",
     "output_type": "stream",
     "text": [
      "\u001b[2m2023-05-04 01:37:20\u001b[0m [\u001b[32m\u001b[1minfo     \u001b[0m] \u001b[1mCQL_20230504013510: epoch=17 step=527\u001b[0m \u001b[36mepoch\u001b[0m=\u001b[35m17\u001b[0m \u001b[36mmetrics\u001b[0m=\u001b[35m{'time_sample_batch': 0.0009100514073525706, 'time_algorithm_update': 0.23907737578115157, 'temp_loss': 10.871522226641256, 'temp': 0.9224030856163271, 'alpha_loss': -33.98112770818895, 'alpha': 1.0873085606482722, 'critic_loss': 967.6675454416583, 'actor_loss': -61.4046996331984, 'time_step': 0.24010705178783787}\u001b[0m \u001b[36mstep\u001b[0m=\u001b[35m527\u001b[0m\n",
      "\u001b[2m2023-05-04 01:37:20\u001b[0m [\u001b[32m\u001b[1minfo     \u001b[0m] \u001b[1mModel parameters are saved to d3rlpy_logs/CQL_20230504013510/model_527.pt\u001b[0m\n"
     ]
    },
    {
     "data": {
      "application/json": {
       "ascii": false,
       "bar_format": null,
       "colour": null,
       "elapsed": 0.004825592041015625,
       "initial": 0,
       "n": 0,
       "ncols": null,
       "nrows": null,
       "postfix": null,
       "prefix": "Epoch 18/30",
       "rate": null,
       "total": 31,
       "unit": "it",
       "unit_divisor": 1000,
       "unit_scale": false
      },
      "application/vnd.jupyter.widget-view+json": {
       "model_id": "45c293c0ac8840fea4c8f584826ac47a",
       "version_major": 2,
       "version_minor": 0
      },
      "text/plain": [
       "Epoch 18/30:   0%|          | 0/31 [00:00<?, ?it/s]"
      ]
     },
     "metadata": {},
     "output_type": "display_data"
    },
    {
     "name": "stdout",
     "output_type": "stream",
     "text": [
      "\u001b[2m2023-05-04 01:37:27\u001b[0m [\u001b[32m\u001b[1minfo     \u001b[0m] \u001b[1mCQL_20230504013510: epoch=18 step=558\u001b[0m \u001b[36mepoch\u001b[0m=\u001b[35m18\u001b[0m \u001b[36mmetrics\u001b[0m=\u001b[35m{'time_sample_batch': 0.0009086516595655872, 'time_algorithm_update': 0.23862931805272256, 'temp_loss': 10.830902868701566, 'temp': 0.9196449806613307, 'alpha_loss': -34.09441511092648, 'alpha': 1.0908071648690008, 'critic_loss': 920.6823966733871, 'actor_loss': -62.730490284581336, 'time_step': 0.23965970931514616}\u001b[0m \u001b[36mstep\u001b[0m=\u001b[35m558\u001b[0m\n",
      "\u001b[2m2023-05-04 01:37:27\u001b[0m [\u001b[32m\u001b[1minfo     \u001b[0m] \u001b[1mModel parameters are saved to d3rlpy_logs/CQL_20230504013510/model_558.pt\u001b[0m\n"
     ]
    },
    {
     "data": {
      "application/json": {
       "ascii": false,
       "bar_format": null,
       "colour": null,
       "elapsed": 0.004302501678466797,
       "initial": 0,
       "n": 0,
       "ncols": null,
       "nrows": null,
       "postfix": null,
       "prefix": "Epoch 19/30",
       "rate": null,
       "total": 31,
       "unit": "it",
       "unit_divisor": 1000,
       "unit_scale": false
      },
      "application/vnd.jupyter.widget-view+json": {
       "model_id": "8dfe8a727d4440198ffb4dd1b8498e99",
       "version_major": 2,
       "version_minor": 0
      },
      "text/plain": [
       "Epoch 19/30:   0%|          | 0/31 [00:00<?, ?it/s]"
      ]
     },
     "metadata": {},
     "output_type": "display_data"
    },
    {
     "name": "stdout",
     "output_type": "stream",
     "text": [
      "\u001b[2m2023-05-04 01:37:35\u001b[0m [\u001b[32m\u001b[1minfo     \u001b[0m] \u001b[1mCQL_20230504013510: epoch=19 step=589\u001b[0m \u001b[36mepoch\u001b[0m=\u001b[35m19\u001b[0m \u001b[36mmetrics\u001b[0m=\u001b[35m{'time_sample_batch': 0.0009056445091001449, 'time_algorithm_update': 0.23877423809420678, 'temp_loss': 10.80337542872275, 'temp': 0.9168986351259293, 'alpha_loss': -34.206383489793346, 'alpha': 1.094320958660495, 'critic_loss': 872.3691268428679, 'actor_loss': -63.63703081684728, 'time_step': 0.23980018400376843}\u001b[0m \u001b[36mstep\u001b[0m=\u001b[35m589\u001b[0m\n",
      "\u001b[2m2023-05-04 01:37:35\u001b[0m [\u001b[32m\u001b[1minfo     \u001b[0m] \u001b[1mModel parameters are saved to d3rlpy_logs/CQL_20230504013510/model_589.pt\u001b[0m\n"
     ]
    },
    {
     "data": {
      "application/json": {
       "ascii": false,
       "bar_format": null,
       "colour": null,
       "elapsed": 0.005413055419921875,
       "initial": 0,
       "n": 0,
       "ncols": null,
       "nrows": null,
       "postfix": null,
       "prefix": "Epoch 20/30",
       "rate": null,
       "total": 31,
       "unit": "it",
       "unit_divisor": 1000,
       "unit_scale": false
      },
      "application/vnd.jupyter.widget-view+json": {
       "model_id": "8aa39705869c48b3b93cd460bd62b606",
       "version_major": 2,
       "version_minor": 0
      },
      "text/plain": [
       "Epoch 20/30:   0%|          | 0/31 [00:00<?, ?it/s]"
      ]
     },
     "metadata": {},
     "output_type": "display_data"
    },
    {
     "name": "stdout",
     "output_type": "stream",
     "text": [
      "\u001b[2m2023-05-04 01:37:42\u001b[0m [\u001b[32m\u001b[1minfo     \u001b[0m] \u001b[1mCQL_20230504013510: epoch=20 step=620\u001b[0m \u001b[36mepoch\u001b[0m=\u001b[35m20\u001b[0m \u001b[36mmetrics\u001b[0m=\u001b[35m{'time_sample_batch': 0.0009058983095230595, 'time_algorithm_update': 0.23777965576417984, 'temp_loss': 10.768212103074596, 'temp': 0.9141628857581846, 'alpha_loss': -34.31017008135396, 'alpha': 1.0978503111870057, 'critic_loss': 834.5302045268397, 'actor_loss': -65.17218718990203, 'time_step': 0.23880695527599705}\u001b[0m \u001b[36mstep\u001b[0m=\u001b[35m620\u001b[0m\n",
      "\u001b[2m2023-05-04 01:37:42\u001b[0m [\u001b[32m\u001b[1minfo     \u001b[0m] \u001b[1mModel parameters are saved to d3rlpy_logs/CQL_20230504013510/model_620.pt\u001b[0m\n"
     ]
    },
    {
     "data": {
      "application/json": {
       "ascii": false,
       "bar_format": null,
       "colour": null,
       "elapsed": 0.0065004825592041016,
       "initial": 0,
       "n": 0,
       "ncols": null,
       "nrows": null,
       "postfix": null,
       "prefix": "Epoch 21/30",
       "rate": null,
       "total": 31,
       "unit": "it",
       "unit_divisor": 1000,
       "unit_scale": false
      },
      "application/vnd.jupyter.widget-view+json": {
       "model_id": "c9bec71ebcd140c4beb01f06efa0027a",
       "version_major": 2,
       "version_minor": 0
      },
      "text/plain": [
       "Epoch 21/30:   0%|          | 0/31 [00:00<?, ?it/s]"
      ]
     },
     "metadata": {},
     "output_type": "display_data"
    },
    {
     "name": "stdout",
     "output_type": "stream",
     "text": [
      "\u001b[2m2023-05-04 01:37:50\u001b[0m [\u001b[32m\u001b[1minfo     \u001b[0m] \u001b[1mCQL_20230504013510: epoch=21 step=651\u001b[0m \u001b[36mepoch\u001b[0m=\u001b[35m21\u001b[0m \u001b[36mmetrics\u001b[0m=\u001b[35m{'time_sample_batch': 0.0008913163215883317, 'time_algorithm_update': 0.24057940513856949, 'temp_loss': 10.738499672182146, 'temp': 0.9114385862504283, 'alpha_loss': -34.41144832488029, 'alpha': 1.1013942495469125, 'critic_loss': 787.6799572360131, 'actor_loss': -65.89005710232642, 'time_step': 0.24159186886202905}\u001b[0m \u001b[36mstep\u001b[0m=\u001b[35m651\u001b[0m\n",
      "\u001b[2m2023-05-04 01:37:50\u001b[0m [\u001b[32m\u001b[1minfo     \u001b[0m] \u001b[1mModel parameters are saved to d3rlpy_logs/CQL_20230504013510/model_651.pt\u001b[0m\n"
     ]
    },
    {
     "data": {
      "application/json": {
       "ascii": false,
       "bar_format": null,
       "colour": null,
       "elapsed": 0.007216453552246094,
       "initial": 0,
       "n": 0,
       "ncols": null,
       "nrows": null,
       "postfix": null,
       "prefix": "Epoch 22/30",
       "rate": null,
       "total": 31,
       "unit": "it",
       "unit_divisor": 1000,
       "unit_scale": false
      },
      "application/vnd.jupyter.widget-view+json": {
       "model_id": "5e05ae1b88f545fcb321daea78ec02fd",
       "version_major": 2,
       "version_minor": 0
      },
      "text/plain": [
       "Epoch 22/30:   0%|          | 0/31 [00:00<?, ?it/s]"
      ]
     },
     "metadata": {},
     "output_type": "display_data"
    },
    {
     "name": "stdout",
     "output_type": "stream",
     "text": [
      "\u001b[2m2023-05-04 01:37:57\u001b[0m [\u001b[32m\u001b[1minfo     \u001b[0m] \u001b[1mCQL_20230504013510: epoch=22 step=682\u001b[0m \u001b[36mepoch\u001b[0m=\u001b[35m22\u001b[0m \u001b[36mmetrics\u001b[0m=\u001b[35m{'time_sample_batch': 0.0009052753448486328, 'time_algorithm_update': 0.2391151382077125, 'temp_loss': 10.70498844885057, 'temp': 0.9087259211847859, 'alpha_loss': -34.52637198663527, 'alpha': 1.1049530236951766, 'critic_loss': 742.9421760805192, 'actor_loss': -67.03671215426537, 'time_step': 0.24013933827800135}\u001b[0m \u001b[36mstep\u001b[0m=\u001b[35m682\u001b[0m\n",
      "\u001b[2m2023-05-04 01:37:57\u001b[0m [\u001b[32m\u001b[1minfo     \u001b[0m] \u001b[1mModel parameters are saved to d3rlpy_logs/CQL_20230504013510/model_682.pt\u001b[0m\n"
     ]
    },
    {
     "data": {
      "application/json": {
       "ascii": false,
       "bar_format": null,
       "colour": null,
       "elapsed": 0.005927562713623047,
       "initial": 0,
       "n": 0,
       "ncols": null,
       "nrows": null,
       "postfix": null,
       "prefix": "Epoch 23/30",
       "rate": null,
       "total": 31,
       "unit": "it",
       "unit_divisor": 1000,
       "unit_scale": false
      },
      "application/vnd.jupyter.widget-view+json": {
       "model_id": "e72e075fba3a4e7fb2ca518aefe8bd14",
       "version_major": 2,
       "version_minor": 0
      },
      "text/plain": [
       "Epoch 23/30:   0%|          | 0/31 [00:00<?, ?it/s]"
      ]
     },
     "metadata": {},
     "output_type": "display_data"
    },
    {
     "name": "stdout",
     "output_type": "stream",
     "text": [
      "\u001b[2m2023-05-04 01:38:05\u001b[0m [\u001b[32m\u001b[1minfo     \u001b[0m] \u001b[1mCQL_20230504013510: epoch=23 step=713\u001b[0m \u001b[36mepoch\u001b[0m=\u001b[35m23\u001b[0m \u001b[36mmetrics\u001b[0m=\u001b[35m{'time_sample_batch': 0.0009247103045063634, 'time_algorithm_update': 0.23759798849782637, 'temp_loss': 10.671110307016681, 'temp': 0.9060236311727955, 'alpha_loss': -34.63786291307019, 'alpha': 1.1085272758237776, 'critic_loss': 707.0968096333165, 'actor_loss': -67.92995969710812, 'time_step': 0.2386554979508923}\u001b[0m \u001b[36mstep\u001b[0m=\u001b[35m713\u001b[0m\n",
      "\u001b[2m2023-05-04 01:38:05\u001b[0m [\u001b[32m\u001b[1minfo     \u001b[0m] \u001b[1mModel parameters are saved to d3rlpy_logs/CQL_20230504013510/model_713.pt\u001b[0m\n"
     ]
    },
    {
     "data": {
      "application/json": {
       "ascii": false,
       "bar_format": null,
       "colour": null,
       "elapsed": 0.006283760070800781,
       "initial": 0,
       "n": 0,
       "ncols": null,
       "nrows": null,
       "postfix": null,
       "prefix": "Epoch 24/30",
       "rate": null,
       "total": 31,
       "unit": "it",
       "unit_divisor": 1000,
       "unit_scale": false
      },
      "application/vnd.jupyter.widget-view+json": {
       "model_id": "39a95613b78f4f7c971768e60dbd1491",
       "version_major": 2,
       "version_minor": 0
      },
      "text/plain": [
       "Epoch 24/30:   0%|          | 0/31 [00:00<?, ?it/s]"
      ]
     },
     "metadata": {},
     "output_type": "display_data"
    },
    {
     "name": "stdout",
     "output_type": "stream",
     "text": [
      "\u001b[2m2023-05-04 01:38:12\u001b[0m [\u001b[32m\u001b[1minfo     \u001b[0m] \u001b[1mCQL_20230504013510: epoch=24 step=744\u001b[0m \u001b[36mepoch\u001b[0m=\u001b[35m24\u001b[0m \u001b[36mmetrics\u001b[0m=\u001b[35m{'time_sample_batch': 0.000959404053226594, 'time_algorithm_update': 0.23914167188828991, 'temp_loss': 10.641364097595215, 'temp': 0.9033328986937, 'alpha_loss': -34.74183236399004, 'alpha': 1.1121167713595974, 'critic_loss': 667.648201234879, 'actor_loss': -69.10765814012096, 'time_step': 0.24022455369272538}\u001b[0m \u001b[36mstep\u001b[0m=\u001b[35m744\u001b[0m\n",
      "\u001b[2m2023-05-04 01:38:12\u001b[0m [\u001b[32m\u001b[1minfo     \u001b[0m] \u001b[1mModel parameters are saved to d3rlpy_logs/CQL_20230504013510/model_744.pt\u001b[0m\n"
     ]
    },
    {
     "data": {
      "application/json": {
       "ascii": false,
       "bar_format": null,
       "colour": null,
       "elapsed": 0.007495403289794922,
       "initial": 0,
       "n": 0,
       "ncols": null,
       "nrows": null,
       "postfix": null,
       "prefix": "Epoch 25/30",
       "rate": null,
       "total": 31,
       "unit": "it",
       "unit_divisor": 1000,
       "unit_scale": false
      },
      "application/vnd.jupyter.widget-view+json": {
       "model_id": "0a7d99fd4e8f448a8accdd16f5ce7eea",
       "version_major": 2,
       "version_minor": 0
      },
      "text/plain": [
       "Epoch 25/30:   0%|          | 0/31 [00:00<?, ?it/s]"
      ]
     },
     "metadata": {},
     "output_type": "display_data"
    },
    {
     "name": "stdout",
     "output_type": "stream",
     "text": [
      "\u001b[2m2023-05-04 01:38:20\u001b[0m [\u001b[32m\u001b[1minfo     \u001b[0m] \u001b[1mCQL_20230504013510: epoch=25 step=775\u001b[0m \u001b[36mepoch\u001b[0m=\u001b[35m25\u001b[0m \u001b[36mmetrics\u001b[0m=\u001b[35m{'time_sample_batch': 0.0009265022893105784, 'time_algorithm_update': 0.23794101899670017, 'temp_loss': 10.612345541677167, 'temp': 0.9006518586989372, 'alpha_loss': -34.86379352692635, 'alpha': 1.1157212411203692, 'critic_loss': 633.1039448399698, 'actor_loss': -69.79104122038811, 'time_step': 0.2389881457051923}\u001b[0m \u001b[36mstep\u001b[0m=\u001b[35m775\u001b[0m\n",
      "\u001b[2m2023-05-04 01:38:20\u001b[0m [\u001b[32m\u001b[1minfo     \u001b[0m] \u001b[1mModel parameters are saved to d3rlpy_logs/CQL_20230504013510/model_775.pt\u001b[0m\n"
     ]
    },
    {
     "data": {
      "application/json": {
       "ascii": false,
       "bar_format": null,
       "colour": null,
       "elapsed": 0.0064008235931396484,
       "initial": 0,
       "n": 0,
       "ncols": null,
       "nrows": null,
       "postfix": null,
       "prefix": "Epoch 26/30",
       "rate": null,
       "total": 31,
       "unit": "it",
       "unit_divisor": 1000,
       "unit_scale": false
      },
      "application/vnd.jupyter.widget-view+json": {
       "model_id": "2ac2540dc5104ab4be86d2c27381b165",
       "version_major": 2,
       "version_minor": 0
      },
      "text/plain": [
       "Epoch 26/30:   0%|          | 0/31 [00:00<?, ?it/s]"
      ]
     },
     "metadata": {},
     "output_type": "display_data"
    },
    {
     "name": "stdout",
     "output_type": "stream",
     "text": [
      "\u001b[2m2023-05-04 01:38:27\u001b[0m [\u001b[32m\u001b[1minfo     \u001b[0m] \u001b[1mCQL_20230504013510: epoch=26 step=806\u001b[0m \u001b[36mepoch\u001b[0m=\u001b[35m26\u001b[0m \u001b[36mmetrics\u001b[0m=\u001b[35m{'time_sample_batch': 0.0008840791640743132, 'time_algorithm_update': 0.236156617441485, 'temp_loss': 10.5820494005757, 'temp': 0.8979811610714081, 'alpha_loss': -34.96720455538842, 'alpha': 1.1193415964803388, 'critic_loss': 602.1876860587828, 'actor_loss': -70.81548850767074, 'time_step': 0.23716093647864558}\u001b[0m \u001b[36mstep\u001b[0m=\u001b[35m806\u001b[0m\n",
      "\u001b[2m2023-05-04 01:38:27\u001b[0m [\u001b[32m\u001b[1minfo     \u001b[0m] \u001b[1mModel parameters are saved to d3rlpy_logs/CQL_20230504013510/model_806.pt\u001b[0m\n"
     ]
    },
    {
     "data": {
      "application/json": {
       "ascii": false,
       "bar_format": null,
       "colour": null,
       "elapsed": 0.005315303802490234,
       "initial": 0,
       "n": 0,
       "ncols": null,
       "nrows": null,
       "postfix": null,
       "prefix": "Epoch 27/30",
       "rate": null,
       "total": 31,
       "unit": "it",
       "unit_divisor": 1000,
       "unit_scale": false
      },
      "application/vnd.jupyter.widget-view+json": {
       "model_id": "b39cabaab25e41f2b3ba1a647acbb35a",
       "version_major": 2,
       "version_minor": 0
      },
      "text/plain": [
       "Epoch 27/30:   0%|          | 0/31 [00:00<?, ?it/s]"
      ]
     },
     "metadata": {},
     "output_type": "display_data"
    },
    {
     "name": "stdout",
     "output_type": "stream",
     "text": [
      "\u001b[2m2023-05-04 01:38:35\u001b[0m [\u001b[32m\u001b[1minfo     \u001b[0m] \u001b[1mCQL_20230504013510: epoch=27 step=837\u001b[0m \u001b[36mepoch\u001b[0m=\u001b[35m27\u001b[0m \u001b[36mmetrics\u001b[0m=\u001b[35m{'time_sample_batch': 0.0009458141942178049, 'time_algorithm_update': 0.23853624251581007, 'temp_loss': 10.5531617441485, 'temp': 0.8953207788928863, 'alpha_loss': -35.081697648571385, 'alpha': 1.1229768107014317, 'critic_loss': 574.0574390042212, 'actor_loss': -71.66199813350555, 'time_step': 0.23960494226024998}\u001b[0m \u001b[36mstep\u001b[0m=\u001b[35m837\u001b[0m\n",
      "\u001b[2m2023-05-04 01:38:35\u001b[0m [\u001b[32m\u001b[1minfo     \u001b[0m] \u001b[1mModel parameters are saved to d3rlpy_logs/CQL_20230504013510/model_837.pt\u001b[0m\n"
     ]
    },
    {
     "data": {
      "application/json": {
       "ascii": false,
       "bar_format": null,
       "colour": null,
       "elapsed": 0.004920482635498047,
       "initial": 0,
       "n": 0,
       "ncols": null,
       "nrows": null,
       "postfix": null,
       "prefix": "Epoch 28/30",
       "rate": null,
       "total": 31,
       "unit": "it",
       "unit_divisor": 1000,
       "unit_scale": false
      },
      "application/vnd.jupyter.widget-view+json": {
       "model_id": "c01d97366f3e453fa2dc45e7b6d589b4",
       "version_major": 2,
       "version_minor": 0
      },
      "text/plain": [
       "Epoch 28/30:   0%|          | 0/31 [00:00<?, ?it/s]"
      ]
     },
     "metadata": {},
     "output_type": "display_data"
    },
    {
     "name": "stdout",
     "output_type": "stream",
     "text": [
      "\u001b[2m2023-05-04 01:38:42\u001b[0m [\u001b[32m\u001b[1minfo     \u001b[0m] \u001b[1mCQL_20230504013510: epoch=28 step=868\u001b[0m \u001b[36mepoch\u001b[0m=\u001b[35m28\u001b[0m \u001b[36mmetrics\u001b[0m=\u001b[35m{'time_sample_batch': 0.0009072211480909778, 'time_algorithm_update': 0.2457528498864943, 'temp_loss': 10.515092357512444, 'temp': 0.8926707083179105, 'alpha_loss': -35.19337340324156, 'alpha': 1.1266276067303074, 'critic_loss': 546.7645037251134, 'actor_loss': -72.57306720364478, 'time_step': 0.2467866482273225}\u001b[0m \u001b[36mstep\u001b[0m=\u001b[35m868\u001b[0m\n",
      "\u001b[2m2023-05-04 01:38:42\u001b[0m [\u001b[32m\u001b[1minfo     \u001b[0m] \u001b[1mModel parameters are saved to d3rlpy_logs/CQL_20230504013510/model_868.pt\u001b[0m\n"
     ]
    },
    {
     "data": {
      "application/json": {
       "ascii": false,
       "bar_format": null,
       "colour": null,
       "elapsed": 0.016538619995117188,
       "initial": 0,
       "n": 0,
       "ncols": null,
       "nrows": null,
       "postfix": null,
       "prefix": "Epoch 29/30",
       "rate": null,
       "total": 31,
       "unit": "it",
       "unit_divisor": 1000,
       "unit_scale": false
      },
      "application/vnd.jupyter.widget-view+json": {
       "model_id": "367e4b43f0ed41268bf0bd133e6f4e91",
       "version_major": 2,
       "version_minor": 0
      },
      "text/plain": [
       "Epoch 29/30:   0%|          | 0/31 [00:00<?, ?it/s]"
      ]
     },
     "metadata": {},
     "output_type": "display_data"
    },
    {
     "name": "stdout",
     "output_type": "stream",
     "text": [
      "\u001b[2m2023-05-04 01:38:50\u001b[0m [\u001b[32m\u001b[1minfo     \u001b[0m] \u001b[1mCQL_20230504013510: epoch=29 step=899\u001b[0m \u001b[36mepoch\u001b[0m=\u001b[35m29\u001b[0m \u001b[36mmetrics\u001b[0m=\u001b[35m{'time_sample_batch': 0.0009510055665046938, 'time_algorithm_update': 0.24219419879298057, 'temp_loss': 10.488471923335906, 'temp': 0.8900320722210792, 'alpha_loss': -35.31450283911921, 'alpha': 1.130293846130371, 'critic_loss': 518.6090343844506, 'actor_loss': -73.55164829377205, 'time_step': 0.24326179873558781}\u001b[0m \u001b[36mstep\u001b[0m=\u001b[35m899\u001b[0m\n",
      "\u001b[2m2023-05-04 01:38:50\u001b[0m [\u001b[32m\u001b[1minfo     \u001b[0m] \u001b[1mModel parameters are saved to d3rlpy_logs/CQL_20230504013510/model_899.pt\u001b[0m\n"
     ]
    },
    {
     "data": {
      "application/json": {
       "ascii": false,
       "bar_format": null,
       "colour": null,
       "elapsed": 0.00406956672668457,
       "initial": 0,
       "n": 0,
       "ncols": null,
       "nrows": null,
       "postfix": null,
       "prefix": "Epoch 30/30",
       "rate": null,
       "total": 31,
       "unit": "it",
       "unit_divisor": 1000,
       "unit_scale": false
      },
      "application/vnd.jupyter.widget-view+json": {
       "model_id": "edf328b96e274a5ea141cd7d5835755e",
       "version_major": 2,
       "version_minor": 0
      },
      "text/plain": [
       "Epoch 30/30:   0%|          | 0/31 [00:00<?, ?it/s]"
      ]
     },
     "metadata": {},
     "output_type": "display_data"
    },
    {
     "name": "stdout",
     "output_type": "stream",
     "text": [
      "\u001b[2m2023-05-04 01:38:57\u001b[0m [\u001b[32m\u001b[1minfo     \u001b[0m] \u001b[1mCQL_20230504013510: epoch=30 step=930\u001b[0m \u001b[36mepoch\u001b[0m=\u001b[35m30\u001b[0m \u001b[36mmetrics\u001b[0m=\u001b[35m{'time_sample_batch': 0.0010590476374472341, 'time_algorithm_update': 0.23783430745524745, 'temp_loss': 10.458904973922238, 'temp': 0.8874029421037243, 'alpha_loss': -35.43197853334488, 'alpha': 1.1339762172391337, 'critic_loss': 490.8682034400202, 'actor_loss': -74.2077405375819, 'time_step': 0.23901430253059633}\u001b[0m \u001b[36mstep\u001b[0m=\u001b[35m930\u001b[0m\n",
      "\u001b[2m2023-05-04 01:38:57\u001b[0m [\u001b[32m\u001b[1minfo     \u001b[0m] \u001b[1mModel parameters are saved to d3rlpy_logs/CQL_20230504013510/model_930.pt\u001b[0m\n"
     ]
    },
    {
     "data": {
      "text/plain": [
       "[(1,\n",
       "  {'time_sample_batch': 0.0010161707478184854,\n",
       "   'time_algorithm_update': 0.3290915950652092,\n",
       "   'temp_loss': 11.405332565307617,\n",
       "   'temp': 0.9681331226902623,\n",
       "   'alpha_loss': -32.28081783171623,\n",
       "   'alpha': 1.0333774628177765,\n",
       "   'critic_loss': 2233.6551868069555,\n",
       "   'actor_loss': -38.560919607839274,\n",
       "   'time_step': 0.33023206649288056}),\n",
       " (2,\n",
       "  {'time_sample_batch': 0.000981999981787897,\n",
       "   'time_algorithm_update': 0.2366661871633222,\n",
       "   'temp_loss': 11.369608602216166,\n",
       "   'temp': 0.9651807642752125,\n",
       "   'alpha_loss': -32.39259682932207,\n",
       "   'alpha': 1.0366356103650984,\n",
       "   'critic_loss': 2119.0245991368447,\n",
       "   'actor_loss': -40.40380416377898,\n",
       "   'time_step': 0.23776971909307665}),\n",
       " (3,\n",
       "  {'time_sample_batch': 0.0009399690935688634,\n",
       "   'time_algorithm_update': 0.2364673614501953,\n",
       "   'temp_loss': 11.33581853681995,\n",
       "   'temp': 0.9622422341377505,\n",
       "   'alpha_loss': -32.4925417746267,\n",
       "   'alpha': 1.039909182056304,\n",
       "   'critic_loss': 2022.7026839717741,\n",
       "   'actor_loss': -41.9716670128607,\n",
       "   'time_step': 0.2375329617531069}),\n",
       " (4,\n",
       "  {'time_sample_batch': 0.0009722478928104524,\n",
       "   'time_algorithm_update': 0.24814252699575118,\n",
       "   'temp_loss': 11.292844926157306,\n",
       "   'temp': 0.9593167708766076,\n",
       "   'alpha_loss': -32.59616494947864,\n",
       "   'alpha': 1.0431973511172878,\n",
       "   'critic_loss': 1931.2279643397178,\n",
       "   'actor_loss': -43.57937314433436,\n",
       "   'time_step': 0.24923853720388106}),\n",
       " (5,\n",
       "  {'time_sample_batch': 0.0009500057466568485,\n",
       "   'time_algorithm_update': 0.24592191173184302,\n",
       "   'temp_loss': 11.26609605358493,\n",
       "   'temp': 0.9564051378157831,\n",
       "   'alpha_loss': -32.70433019822644,\n",
       "   'alpha': 1.0465002175300353,\n",
       "   'critic_loss': 1825.3979098412299,\n",
       "   'actor_loss': -45.37621467344223,\n",
       "   'time_step': 0.24699524141127063}),\n",
       " (6,\n",
       "  {'time_sample_batch': 0.0009497904008434664,\n",
       "   'time_algorithm_update': 0.23711489092919133,\n",
       "   'temp_loss': 11.233154296875,\n",
       "   'temp': 0.9535041989818696,\n",
       "   'alpha_loss': -32.813171509773504,\n",
       "   'alpha': 1.0498186465232604,\n",
       "   'critic_loss': 1737.4400713520665,\n",
       "   'actor_loss': -46.349911228302986,\n",
       "   'time_step': 0.2381860363867975}),\n",
       " (7,\n",
       "  {'time_sample_batch': 0.0010021501971829321,\n",
       "   'time_algorithm_update': 0.23692472519413119,\n",
       "   'temp_loss': 11.194594352476058,\n",
       "   'temp': 0.9506164077789553,\n",
       "   'alpha_loss': -32.91840017995527,\n",
       "   'alpha': 1.0531521228051954,\n",
       "   'critic_loss': 1650.4468049080142,\n",
       "   'actor_loss': -48.454989525579634,\n",
       "   'time_step': 0.23804723831915087}),\n",
       " (8,\n",
       "  {'time_sample_batch': 0.0009970434250370149,\n",
       "   'time_algorithm_update': 0.23665251270417245,\n",
       "   'temp_loss': 11.160284565341088,\n",
       "   'temp': 0.9477410316467285,\n",
       "   'alpha_loss': -33.02992433117282,\n",
       "   'alpha': 1.0565006617576844,\n",
       "   'critic_loss': 1565.895255796371,\n",
       "   'actor_loss': -49.37596105760144,\n",
       "   'time_step': 0.23776928071052797}),\n",
       " (9,\n",
       "  {'time_sample_batch': 0.001005272711476972,\n",
       "   'time_algorithm_update': 0.23492783884848317,\n",
       "   'temp_loss': 11.128739110885128,\n",
       "   'temp': 0.9448788839001809,\n",
       "   'alpha_loss': -33.12550181727256,\n",
       "   'alpha': 1.059864221080657,\n",
       "   'critic_loss': 1480.8202298072076,\n",
       "   'actor_loss': -51.20974423808436,\n",
       "   'time_step': 0.23605735071243777}),\n",
       " (10,\n",
       "  {'time_sample_batch': 0.000932870372649162,\n",
       "   'time_algorithm_update': 0.23629223146746237,\n",
       "   'temp_loss': 11.103324582499843,\n",
       "   'temp': 0.9420276822582367,\n",
       "   'alpha_loss': -33.22306676064768,\n",
       "   'alpha': 1.0632420586001488,\n",
       "   'critic_loss': 1411.4829455960182,\n",
       "   'actor_loss': -52.45648464079826,\n",
       "   'time_step': 0.23734592622326267}),\n",
       " (11,\n",
       "  {'time_sample_batch': 0.0009609422376078944,\n",
       "   'time_algorithm_update': 0.23752570152282715,\n",
       "   'temp_loss': 11.062899466483824,\n",
       "   'temp': 0.9391875939984475,\n",
       "   'alpha_loss': -33.32871972360918,\n",
       "   'alpha': 1.0666343704346688,\n",
       "   'critic_loss': 1333.3225885206652,\n",
       "   'actor_loss': -53.656602551860196,\n",
       "   'time_step': 0.2386100753661125}),\n",
       " (12,\n",
       "  {'time_sample_batch': 0.0009121510290330456,\n",
       "   'time_algorithm_update': 0.23629838420498755,\n",
       "   'temp_loss': 11.03089480246267,\n",
       "   'temp': 0.9363601496142726,\n",
       "   'alpha_loss': -33.447303279753655,\n",
       "   'alpha': 1.0700419679764779,\n",
       "   'critic_loss': 1266.8433286605343,\n",
       "   'actor_loss': -55.27484709216702,\n",
       "   'time_step': 0.23733001370583812}),\n",
       " (13,\n",
       "  {'time_sample_batch': 0.0010057880032447078,\n",
       "   'time_algorithm_update': 0.23721263485570107,\n",
       "   'temp_loss': 10.995390830501433,\n",
       "   'temp': 0.9335450126278785,\n",
       "   'alpha_loss': -33.562891437161355,\n",
       "   'alpha': 1.0734655895540792,\n",
       "   'critic_loss': 1205.1854504000755,\n",
       "   'actor_loss': -56.87439210953251,\n",
       "   'time_step': 0.23833936260592553}),\n",
       " (14,\n",
       "  {'time_sample_batch': 0.0009629957137569304,\n",
       "   'time_algorithm_update': 0.24336472634346254,\n",
       "   'temp_loss': 10.958394142889208,\n",
       "   'temp': 0.9307423868486958,\n",
       "   'alpha_loss': -33.66192860757151,\n",
       "   'alpha': 1.0769043891660628,\n",
       "   'critic_loss': 1140.2056372857862,\n",
       "   'actor_loss': -57.696526189004224,\n",
       "   'time_step': 0.24444963086035945}),\n",
       " (15,\n",
       "  {'time_sample_batch': 0.0009717018373550907,\n",
       "   'time_algorithm_update': 0.23802389637116464,\n",
       "   'temp_loss': 10.929554200941517,\n",
       "   'temp': 0.927951701225773,\n",
       "   'alpha_loss': -33.76268952892673,\n",
       "   'alpha': 1.0803579476571852,\n",
       "   'critic_loss': 1073.052716655116,\n",
       "   'actor_loss': -59.173760567941976,\n",
       "   'time_step': 0.23911464598871046}),\n",
       " (16,\n",
       "  {'time_sample_batch': 0.0009324704447100239,\n",
       "   'time_algorithm_update': 0.23868568481937533,\n",
       "   'temp_loss': 10.894349498133506,\n",
       "   'temp': 0.9251717732798669,\n",
       "   'alpha_loss': -33.869208674277026,\n",
       "   'alpha': 1.0838258304903585,\n",
       "   'critic_loss': 1022.2078424269154,\n",
       "   'actor_loss': -60.36362506497291,\n",
       "   'time_step': 0.23973795675462292}),\n",
       " (17,\n",
       "  {'time_sample_batch': 0.0009100514073525706,\n",
       "   'time_algorithm_update': 0.23907737578115157,\n",
       "   'temp_loss': 10.871522226641256,\n",
       "   'temp': 0.9224030856163271,\n",
       "   'alpha_loss': -33.98112770818895,\n",
       "   'alpha': 1.0873085606482722,\n",
       "   'critic_loss': 967.6675454416583,\n",
       "   'actor_loss': -61.4046996331984,\n",
       "   'time_step': 0.24010705178783787}),\n",
       " (18,\n",
       "  {'time_sample_batch': 0.0009086516595655872,\n",
       "   'time_algorithm_update': 0.23862931805272256,\n",
       "   'temp_loss': 10.830902868701566,\n",
       "   'temp': 0.9196449806613307,\n",
       "   'alpha_loss': -34.09441511092648,\n",
       "   'alpha': 1.0908071648690008,\n",
       "   'critic_loss': 920.6823966733871,\n",
       "   'actor_loss': -62.730490284581336,\n",
       "   'time_step': 0.23965970931514616}),\n",
       " (19,\n",
       "  {'time_sample_batch': 0.0009056445091001449,\n",
       "   'time_algorithm_update': 0.23877423809420678,\n",
       "   'temp_loss': 10.80337542872275,\n",
       "   'temp': 0.9168986351259293,\n",
       "   'alpha_loss': -34.206383489793346,\n",
       "   'alpha': 1.094320958660495,\n",
       "   'critic_loss': 872.3691268428679,\n",
       "   'actor_loss': -63.63703081684728,\n",
       "   'time_step': 0.23980018400376843}),\n",
       " (20,\n",
       "  {'time_sample_batch': 0.0009058983095230595,\n",
       "   'time_algorithm_update': 0.23777965576417984,\n",
       "   'temp_loss': 10.768212103074596,\n",
       "   'temp': 0.9141628857581846,\n",
       "   'alpha_loss': -34.31017008135396,\n",
       "   'alpha': 1.0978503111870057,\n",
       "   'critic_loss': 834.5302045268397,\n",
       "   'actor_loss': -65.17218718990203,\n",
       "   'time_step': 0.23880695527599705}),\n",
       " (21,\n",
       "  {'time_sample_batch': 0.0008913163215883317,\n",
       "   'time_algorithm_update': 0.24057940513856949,\n",
       "   'temp_loss': 10.738499672182146,\n",
       "   'temp': 0.9114385862504283,\n",
       "   'alpha_loss': -34.41144832488029,\n",
       "   'alpha': 1.1013942495469125,\n",
       "   'critic_loss': 787.6799572360131,\n",
       "   'actor_loss': -65.89005710232642,\n",
       "   'time_step': 0.24159186886202905}),\n",
       " (22,\n",
       "  {'time_sample_batch': 0.0009052753448486328,\n",
       "   'time_algorithm_update': 0.2391151382077125,\n",
       "   'temp_loss': 10.70498844885057,\n",
       "   'temp': 0.9087259211847859,\n",
       "   'alpha_loss': -34.52637198663527,\n",
       "   'alpha': 1.1049530236951766,\n",
       "   'critic_loss': 742.9421760805192,\n",
       "   'actor_loss': -67.03671215426537,\n",
       "   'time_step': 0.24013933827800135}),\n",
       " (23,\n",
       "  {'time_sample_batch': 0.0009247103045063634,\n",
       "   'time_algorithm_update': 0.23759798849782637,\n",
       "   'temp_loss': 10.671110307016681,\n",
       "   'temp': 0.9060236311727955,\n",
       "   'alpha_loss': -34.63786291307019,\n",
       "   'alpha': 1.1085272758237776,\n",
       "   'critic_loss': 707.0968096333165,\n",
       "   'actor_loss': -67.92995969710812,\n",
       "   'time_step': 0.2386554979508923}),\n",
       " (24,\n",
       "  {'time_sample_batch': 0.000959404053226594,\n",
       "   'time_algorithm_update': 0.23914167188828991,\n",
       "   'temp_loss': 10.641364097595215,\n",
       "   'temp': 0.9033328986937,\n",
       "   'alpha_loss': -34.74183236399004,\n",
       "   'alpha': 1.1121167713595974,\n",
       "   'critic_loss': 667.648201234879,\n",
       "   'actor_loss': -69.10765814012096,\n",
       "   'time_step': 0.24022455369272538}),\n",
       " (25,\n",
       "  {'time_sample_batch': 0.0009265022893105784,\n",
       "   'time_algorithm_update': 0.23794101899670017,\n",
       "   'temp_loss': 10.612345541677167,\n",
       "   'temp': 0.9006518586989372,\n",
       "   'alpha_loss': -34.86379352692635,\n",
       "   'alpha': 1.1157212411203692,\n",
       "   'critic_loss': 633.1039448399698,\n",
       "   'actor_loss': -69.79104122038811,\n",
       "   'time_step': 0.2389881457051923}),\n",
       " (26,\n",
       "  {'time_sample_batch': 0.0008840791640743132,\n",
       "   'time_algorithm_update': 0.236156617441485,\n",
       "   'temp_loss': 10.5820494005757,\n",
       "   'temp': 0.8979811610714081,\n",
       "   'alpha_loss': -34.96720455538842,\n",
       "   'alpha': 1.1193415964803388,\n",
       "   'critic_loss': 602.1876860587828,\n",
       "   'actor_loss': -70.81548850767074,\n",
       "   'time_step': 0.23716093647864558}),\n",
       " (27,\n",
       "  {'time_sample_batch': 0.0009458141942178049,\n",
       "   'time_algorithm_update': 0.23853624251581007,\n",
       "   'temp_loss': 10.5531617441485,\n",
       "   'temp': 0.8953207788928863,\n",
       "   'alpha_loss': -35.081697648571385,\n",
       "   'alpha': 1.1229768107014317,\n",
       "   'critic_loss': 574.0574390042212,\n",
       "   'actor_loss': -71.66199813350555,\n",
       "   'time_step': 0.23960494226024998}),\n",
       " (28,\n",
       "  {'time_sample_batch': 0.0009072211480909778,\n",
       "   'time_algorithm_update': 0.2457528498864943,\n",
       "   'temp_loss': 10.515092357512444,\n",
       "   'temp': 0.8926707083179105,\n",
       "   'alpha_loss': -35.19337340324156,\n",
       "   'alpha': 1.1266276067303074,\n",
       "   'critic_loss': 546.7645037251134,\n",
       "   'actor_loss': -72.57306720364478,\n",
       "   'time_step': 0.2467866482273225}),\n",
       " (29,\n",
       "  {'time_sample_batch': 0.0009510055665046938,\n",
       "   'time_algorithm_update': 0.24219419879298057,\n",
       "   'temp_loss': 10.488471923335906,\n",
       "   'temp': 0.8900320722210792,\n",
       "   'alpha_loss': -35.31450283911921,\n",
       "   'alpha': 1.130293846130371,\n",
       "   'critic_loss': 518.6090343844506,\n",
       "   'actor_loss': -73.55164829377205,\n",
       "   'time_step': 0.24326179873558781}),\n",
       " (30,\n",
       "  {'time_sample_batch': 0.0010590476374472341,\n",
       "   'time_algorithm_update': 0.23783430745524745,\n",
       "   'temp_loss': 10.458904973922238,\n",
       "   'temp': 0.8874029421037243,\n",
       "   'alpha_loss': -35.43197853334488,\n",
       "   'alpha': 1.1339762172391337,\n",
       "   'critic_loss': 490.8682034400202,\n",
       "   'actor_loss': -74.2077405375819,\n",
       "   'time_step': 0.23901430253059633})]"
      ]
     },
     "execution_count": 19,
     "metadata": {},
     "output_type": "execute_result"
    }
   ],
   "source": [
    "# start training\n",
    "cql.fit(cql_dataset,\n",
    "        eval_episodes=None,\n",
    "        n_epochs=30,\n",
    "        scorers=None)"
   ]
  },
  {
   "cell_type": "code",
   "execution_count": 21,
   "metadata": {},
   "outputs": [
    {
     "name": "stdout",
     "output_type": "stream",
     "text": [
      "\u001b[2m2023-05-04 01:43:38\u001b[0m [\u001b[32m\u001b[1mdebug    \u001b[0m] \u001b[1mRoundIterator is selected.\u001b[0m\n",
      "\u001b[2m2023-05-04 01:43:38\u001b[0m [\u001b[32m\u001b[1minfo     \u001b[0m] \u001b[1mDirectory is created at d3rlpy_logs/CQL_20230504014338\u001b[0m\n",
      "\u001b[2m2023-05-04 01:43:38\u001b[0m [\u001b[33m\u001b[1mwarning  \u001b[0m] \u001b[1mSkip building models since they're already built.\u001b[0m\n",
      "\u001b[2m2023-05-04 01:43:38\u001b[0m [\u001b[32m\u001b[1minfo     \u001b[0m] \u001b[1mParameters are saved to d3rlpy_logs/CQL_20230504014338/params.json\u001b[0m \u001b[36mparams\u001b[0m=\u001b[35m{'action_scaler': None, 'actor_encoder_factory': {'type': 'default', 'params': {'activation': 'relu', 'use_batch_norm': False, 'dropout_rate': None}}, 'actor_learning_rate': 0.0001, 'actor_optim_factory': {'optim_cls': 'Adam', 'betas': [0.9, 0.999], 'eps': 1e-08, 'weight_decay': 0, 'amsgrad': False}, 'alpha_learning_rate': 0.0001, 'alpha_optim_factory': {'optim_cls': 'Adam', 'betas': [0.9, 0.999], 'eps': 1e-08, 'weight_decay': 0, 'amsgrad': False}, 'alpha_threshold': 10.0, 'batch_size': 256, 'conservative_weight': 5.0, 'critic_encoder_factory': {'type': 'default', 'params': {'activation': 'relu', 'use_batch_norm': False, 'dropout_rate': None}}, 'critic_learning_rate': 0.0003, 'critic_optim_factory': {'optim_cls': 'Adam', 'betas': [0.9, 0.999], 'eps': 1e-08, 'weight_decay': 0, 'amsgrad': False}, 'gamma': 0.99, 'generated_maxlen': 100000, 'initial_alpha': 1.0, 'initial_temperature': 1.0, 'n_action_samples': 10, 'n_critics': 2, 'n_frames': 1, 'n_steps': 1, 'q_func_factory': {'type': 'mean', 'params': {'share_encoder': False}}, 'real_ratio': 1.0, 'reward_scaler': None, 'scaler': None, 'soft_q_backup': False, 'tau': 0.005, 'temp_learning_rate': 0.0001, 'temp_optim_factory': {'optim_cls': 'Adam', 'betas': [0.9, 0.999], 'eps': 1e-08, 'weight_decay': 0, 'amsgrad': False}, 'use_gpu': None, 'algorithm': 'CQL', 'observation_shape': (768,), 'action_size': 7}\u001b[0m\n"
     ]
    },
    {
     "data": {
      "application/json": {
       "ascii": false,
       "bar_format": null,
       "colour": null,
       "elapsed": 0.008296012878417969,
       "initial": 0,
       "n": 0,
       "ncols": null,
       "nrows": null,
       "postfix": null,
       "prefix": "Epoch 1/10",
       "rate": null,
       "total": 31,
       "unit": "it",
       "unit_divisor": 1000,
       "unit_scale": false
      },
      "application/vnd.jupyter.widget-view+json": {
       "model_id": "ac30c0db046c43da99fce23c8bea6357",
       "version_major": 2,
       "version_minor": 0
      },
      "text/plain": [
       "Epoch 1/10:   0%|          | 0/31 [00:00<?, ?it/s]"
      ]
     },
     "metadata": {},
     "output_type": "display_data"
    },
    {
     "name": "stdout",
     "output_type": "stream",
     "text": [
      "\u001b[2m2023-05-04 01:43:46\u001b[0m [\u001b[32m\u001b[1minfo     \u001b[0m] \u001b[1mCQL_20230504014338: epoch=1 step=31\u001b[0m \u001b[36mepoch\u001b[0m=\u001b[35m1\u001b[0m \u001b[36mmetrics\u001b[0m=\u001b[35m{'time_sample_batch': 0.0010034115083755986, 'time_algorithm_update': 0.26138419489706716, 'temp_loss': 9.549976348876953, 'temp': 0.8105977639075248, 'alpha_loss': -39.20918446202432, 'alpha': 1.255960222213499, 'critic_loss': 134.8759064212922, 'actor_loss': -90.1291038759293, 'time_step': 0.26251200706728045}\u001b[0m \u001b[36mstep\u001b[0m=\u001b[35m31\u001b[0m\n",
      "\u001b[2m2023-05-04 01:43:46\u001b[0m [\u001b[32m\u001b[1minfo     \u001b[0m] \u001b[1mModel parameters are saved to d3rlpy_logs/CQL_20230504014338/model_31.pt\u001b[0m\n"
     ]
    },
    {
     "data": {
      "application/json": {
       "ascii": false,
       "bar_format": null,
       "colour": null,
       "elapsed": 0.006459236145019531,
       "initial": 0,
       "n": 0,
       "ncols": null,
       "nrows": null,
       "postfix": null,
       "prefix": "Epoch 2/10",
       "rate": null,
       "total": 31,
       "unit": "it",
       "unit_divisor": 1000,
       "unit_scale": false
      },
      "application/vnd.jupyter.widget-view+json": {
       "model_id": "b6c8a077e64d4a0194e683a044d7657c",
       "version_major": 2,
       "version_minor": 0
      },
      "text/plain": [
       "Epoch 2/10:   0%|          | 0/31 [00:00<?, ?it/s]"
      ]
     },
     "metadata": {},
     "output_type": "display_data"
    },
    {
     "name": "stdout",
     "output_type": "stream",
     "text": [
      "\u001b[2m2023-05-04 01:43:53\u001b[0m [\u001b[32m\u001b[1minfo     \u001b[0m] \u001b[1mCQL_20230504014338: epoch=2 step=62\u001b[0m \u001b[36mepoch\u001b[0m=\u001b[35m2\u001b[0m \u001b[36mmetrics\u001b[0m=\u001b[35m{'time_sample_batch': 0.00093654663332047, 'time_algorithm_update': 0.24153282565455284, 'temp_loss': 9.522798476680633, 'temp': 0.8082602850852474, 'alpha_loss': -39.35825692453692, 'alpha': 1.2601512670516968, 'critic_loss': 130.87871649957472, 'actor_loss': -90.3958499047064, 'time_step': 0.24259078887201124}\u001b[0m \u001b[36mstep\u001b[0m=\u001b[35m62\u001b[0m\n",
      "\u001b[2m2023-05-04 01:43:53\u001b[0m [\u001b[32m\u001b[1minfo     \u001b[0m] \u001b[1mModel parameters are saved to d3rlpy_logs/CQL_20230504014338/model_62.pt\u001b[0m\n"
     ]
    },
    {
     "data": {
      "application/json": {
       "ascii": false,
       "bar_format": null,
       "colour": null,
       "elapsed": 0.006406068801879883,
       "initial": 0,
       "n": 0,
       "ncols": null,
       "nrows": null,
       "postfix": null,
       "prefix": "Epoch 3/10",
       "rate": null,
       "total": 31,
       "unit": "it",
       "unit_divisor": 1000,
       "unit_scale": false
      },
      "application/vnd.jupyter.widget-view+json": {
       "model_id": "77e245969ad447e0beb5213ed167e5a2",
       "version_major": 2,
       "version_minor": 0
      },
      "text/plain": [
       "Epoch 3/10:   0%|          | 0/31 [00:00<?, ?it/s]"
      ]
     },
     "metadata": {},
     "output_type": "display_data"
    },
    {
     "name": "stdout",
     "output_type": "stream",
     "text": [
      "\u001b[2m2023-05-04 01:44:01\u001b[0m [\u001b[32m\u001b[1minfo     \u001b[0m] \u001b[1mCQL_20230504014338: epoch=3 step=93\u001b[0m \u001b[36mepoch\u001b[0m=\u001b[35m3\u001b[0m \u001b[36mmetrics\u001b[0m=\u001b[35m{'time_sample_batch': 0.0009963973875968687, 'time_algorithm_update': 0.23778229375039378, 'temp_loss': 9.501792630841654, 'temp': 0.8059299838158392, 'alpha_loss': -39.50162998322518, 'alpha': 1.2643601317559519, 'critic_loss': 127.34921116982737, 'actor_loss': -90.75865074896043, 'time_step': 0.23890026923148863}\u001b[0m \u001b[36mstep\u001b[0m=\u001b[35m93\u001b[0m\n",
      "\u001b[2m2023-05-04 01:44:01\u001b[0m [\u001b[32m\u001b[1minfo     \u001b[0m] \u001b[1mModel parameters are saved to d3rlpy_logs/CQL_20230504014338/model_93.pt\u001b[0m\n"
     ]
    },
    {
     "data": {
      "application/json": {
       "ascii": false,
       "bar_format": null,
       "colour": null,
       "elapsed": 0.004777193069458008,
       "initial": 0,
       "n": 0,
       "ncols": null,
       "nrows": null,
       "postfix": null,
       "prefix": "Epoch 4/10",
       "rate": null,
       "total": 31,
       "unit": "it",
       "unit_divisor": 1000,
       "unit_scale": false
      },
      "application/vnd.jupyter.widget-view+json": {
       "model_id": "68602154f67f424390254dc8befa59bd",
       "version_major": 2,
       "version_minor": 0
      },
      "text/plain": [
       "Epoch 4/10:   0%|          | 0/31 [00:00<?, ?it/s]"
      ]
     },
     "metadata": {},
     "output_type": "display_data"
    },
    {
     "name": "stdout",
     "output_type": "stream",
     "text": [
      "\u001b[2m2023-05-04 01:44:08\u001b[0m [\u001b[32m\u001b[1minfo     \u001b[0m] \u001b[1mCQL_20230504014338: epoch=4 step=124\u001b[0m \u001b[36mepoch\u001b[0m=\u001b[35m4\u001b[0m \u001b[36mmetrics\u001b[0m=\u001b[35m{'time_sample_batch': 0.0009777622838174143, 'time_algorithm_update': 0.23983653130069857, 'temp_loss': 9.464464956714261, 'temp': 0.8036083098380796, 'alpha_loss': -39.62295667586788, 'alpha': 1.268586197207051, 'critic_loss': 123.86523043724799, 'actor_loss': -90.94298479633946, 'time_step': 0.24093523333149572}\u001b[0m \u001b[36mstep\u001b[0m=\u001b[35m124\u001b[0m\n",
      "\u001b[2m2023-05-04 01:44:08\u001b[0m [\u001b[32m\u001b[1minfo     \u001b[0m] \u001b[1mModel parameters are saved to d3rlpy_logs/CQL_20230504014338/model_124.pt\u001b[0m\n"
     ]
    },
    {
     "data": {
      "application/json": {
       "ascii": false,
       "bar_format": null,
       "colour": null,
       "elapsed": 0.004728078842163086,
       "initial": 0,
       "n": 0,
       "ncols": null,
       "nrows": null,
       "postfix": null,
       "prefix": "Epoch 5/10",
       "rate": null,
       "total": 31,
       "unit": "it",
       "unit_divisor": 1000,
       "unit_scale": false
      },
      "application/vnd.jupyter.widget-view+json": {
       "model_id": "6c5ab878d88c432b9479dd973a57f866",
       "version_major": 2,
       "version_minor": 0
      },
      "text/plain": [
       "Epoch 5/10:   0%|          | 0/31 [00:00<?, ?it/s]"
      ]
     },
     "metadata": {},
     "output_type": "display_data"
    },
    {
     "name": "stdout",
     "output_type": "stream",
     "text": [
      "\u001b[2m2023-05-04 01:44:16\u001b[0m [\u001b[32m\u001b[1minfo     \u001b[0m] \u001b[1mCQL_20230504014338: epoch=5 step=155\u001b[0m \u001b[36mepoch\u001b[0m=\u001b[35m5\u001b[0m \u001b[36mmetrics\u001b[0m=\u001b[35m{'time_sample_batch': 0.0009543895721435547, 'time_algorithm_update': 0.24044697515426144, 'temp_loss': 9.448508324161653, 'temp': 0.8012937864949626, 'alpha_loss': -39.784160737068426, 'alpha': 1.2728292519046414, 'critic_loss': 120.35653194304436, 'actor_loss': -91.22422126031691, 'time_step': 0.24152227370969712}\u001b[0m \u001b[36mstep\u001b[0m=\u001b[35m155\u001b[0m\n",
      "\u001b[2m2023-05-04 01:44:16\u001b[0m [\u001b[32m\u001b[1minfo     \u001b[0m] \u001b[1mModel parameters are saved to d3rlpy_logs/CQL_20230504014338/model_155.pt\u001b[0m\n"
     ]
    },
    {
     "data": {
      "application/json": {
       "ascii": false,
       "bar_format": null,
       "colour": null,
       "elapsed": 0.006214141845703125,
       "initial": 0,
       "n": 0,
       "ncols": null,
       "nrows": null,
       "postfix": null,
       "prefix": "Epoch 6/10",
       "rate": null,
       "total": 31,
       "unit": "it",
       "unit_divisor": 1000,
       "unit_scale": false
      },
      "application/vnd.jupyter.widget-view+json": {
       "model_id": "e10d1d64b07049c29bc7f59ac9e12a08",
       "version_major": 2,
       "version_minor": 0
      },
      "text/plain": [
       "Epoch 6/10:   0%|          | 0/31 [00:00<?, ?it/s]"
      ]
     },
     "metadata": {},
     "output_type": "display_data"
    },
    {
     "name": "stdout",
     "output_type": "stream",
     "text": [
      "\u001b[2m2023-05-04 01:44:23\u001b[0m [\u001b[32m\u001b[1minfo     \u001b[0m] \u001b[1mCQL_20230504014338: epoch=6 step=186\u001b[0m \u001b[36mepoch\u001b[0m=\u001b[35m6\u001b[0m \u001b[36mmetrics\u001b[0m=\u001b[35m{'time_sample_batch': 0.0009299401314027848, 'time_algorithm_update': 0.23765828532557334, 'temp_loss': 9.41686648707236, 'temp': 0.7989864310910625, 'alpha_loss': -39.8959968320785, 'alpha': 1.2770898765133274, 'critic_loss': 117.2592534711284, 'actor_loss': -91.54512836087135, 'time_step': 0.2387126261188138}\u001b[0m \u001b[36mstep\u001b[0m=\u001b[35m186\u001b[0m\n",
      "\u001b[2m2023-05-04 01:44:23\u001b[0m [\u001b[32m\u001b[1minfo     \u001b[0m] \u001b[1mModel parameters are saved to d3rlpy_logs/CQL_20230504014338/model_186.pt\u001b[0m\n"
     ]
    },
    {
     "data": {
      "application/json": {
       "ascii": false,
       "bar_format": null,
       "colour": null,
       "elapsed": 0.006957292556762695,
       "initial": 0,
       "n": 0,
       "ncols": null,
       "nrows": null,
       "postfix": null,
       "prefix": "Epoch 7/10",
       "rate": null,
       "total": 31,
       "unit": "it",
       "unit_divisor": 1000,
       "unit_scale": false
      },
      "application/vnd.jupyter.widget-view+json": {
       "model_id": "87d0ba27396d4e618dfe6ef79e5ae6d0",
       "version_major": 2,
       "version_minor": 0
      },
      "text/plain": [
       "Epoch 7/10:   0%|          | 0/31 [00:00<?, ?it/s]"
      ]
     },
     "metadata": {},
     "output_type": "display_data"
    },
    {
     "name": "stdout",
     "output_type": "stream",
     "text": [
      "\u001b[2m2023-05-04 01:44:31\u001b[0m [\u001b[32m\u001b[1minfo     \u001b[0m] \u001b[1mCQL_20230504014338: epoch=7 step=217\u001b[0m \u001b[36mepoch\u001b[0m=\u001b[35m7\u001b[0m \u001b[36mmetrics\u001b[0m=\u001b[35m{'time_sample_batch': 0.0009609883831393334, 'time_algorithm_update': 0.23920016134938887, 'temp_loss': 9.390970107047789, 'temp': 0.796687412646509, 'alpha_loss': -40.013798006119266, 'alpha': 1.2813646370364773, 'critic_loss': 113.86450490643901, 'actor_loss': -91.7711651709772, 'time_step': 0.24028462748373708}\u001b[0m \u001b[36mstep\u001b[0m=\u001b[35m217\u001b[0m\n",
      "\u001b[2m2023-05-04 01:44:31\u001b[0m [\u001b[32m\u001b[1minfo     \u001b[0m] \u001b[1mModel parameters are saved to d3rlpy_logs/CQL_20230504014338/model_217.pt\u001b[0m\n"
     ]
    },
    {
     "data": {
      "application/json": {
       "ascii": false,
       "bar_format": null,
       "colour": null,
       "elapsed": 0.0063397884368896484,
       "initial": 0,
       "n": 0,
       "ncols": null,
       "nrows": null,
       "postfix": null,
       "prefix": "Epoch 8/10",
       "rate": null,
       "total": 31,
       "unit": "it",
       "unit_divisor": 1000,
       "unit_scale": false
      },
      "application/vnd.jupyter.widget-view+json": {
       "model_id": "ed97399ad00a4001acd595daeea97f9b",
       "version_major": 2,
       "version_minor": 0
      },
      "text/plain": [
       "Epoch 8/10:   0%|          | 0/31 [00:00<?, ?it/s]"
      ]
     },
     "metadata": {},
     "output_type": "display_data"
    },
    {
     "name": "stdout",
     "output_type": "stream",
     "text": [
      "\u001b[2m2023-05-04 01:44:38\u001b[0m [\u001b[32m\u001b[1minfo     \u001b[0m] \u001b[1mCQL_20230504014338: epoch=8 step=248\u001b[0m \u001b[36mepoch\u001b[0m=\u001b[35m8\u001b[0m \u001b[36mmetrics\u001b[0m=\u001b[35m{'time_sample_batch': 0.0009419764241864604, 'time_algorithm_update': 0.24076934014597245, 'temp_loss': 9.365213978675104, 'temp': 0.7943963331560935, 'alpha_loss': -40.15049177600491, 'alpha': 1.2856551101130824, 'critic_loss': 111.25508166897681, 'actor_loss': -92.0129881828062, 'time_step': 0.2418307642782888}\u001b[0m \u001b[36mstep\u001b[0m=\u001b[35m248\u001b[0m\n",
      "\u001b[2m2023-05-04 01:44:38\u001b[0m [\u001b[32m\u001b[1minfo     \u001b[0m] \u001b[1mModel parameters are saved to d3rlpy_logs/CQL_20230504014338/model_248.pt\u001b[0m\n"
     ]
    },
    {
     "data": {
      "application/json": {
       "ascii": false,
       "bar_format": null,
       "colour": null,
       "elapsed": 0.00541234016418457,
       "initial": 0,
       "n": 0,
       "ncols": null,
       "nrows": null,
       "postfix": null,
       "prefix": "Epoch 9/10",
       "rate": null,
       "total": 31,
       "unit": "it",
       "unit_divisor": 1000,
       "unit_scale": false
      },
      "application/vnd.jupyter.widget-view+json": {
       "model_id": "77aa68dbeaa2439bbea33ac119eacee0",
       "version_major": 2,
       "version_minor": 0
      },
      "text/plain": [
       "Epoch 9/10:   0%|          | 0/31 [00:00<?, ?it/s]"
      ]
     },
     "metadata": {},
     "output_type": "display_data"
    },
    {
     "name": "stdout",
     "output_type": "stream",
     "text": [
      "\u001b[2m2023-05-04 01:44:46\u001b[0m [\u001b[32m\u001b[1minfo     \u001b[0m] \u001b[1mCQL_20230504014338: epoch=9 step=279\u001b[0m \u001b[36mepoch\u001b[0m=\u001b[35m9\u001b[0m \u001b[36mmetrics\u001b[0m=\u001b[35m{'time_sample_batch': 0.0009593809804608745, 'time_algorithm_update': 0.23928150823039393, 'temp_loss': 9.333456808520902, 'temp': 0.7921131945425465, 'alpha_loss': -40.298756630189956, 'alpha': 1.2899631184916343, 'critic_loss': 108.35731334071005, 'actor_loss': -92.19059408864668, 'time_step': 0.2403572836229878}\u001b[0m \u001b[36mstep\u001b[0m=\u001b[35m279\u001b[0m\n",
      "\u001b[2m2023-05-04 01:44:46\u001b[0m [\u001b[32m\u001b[1minfo     \u001b[0m] \u001b[1mModel parameters are saved to d3rlpy_logs/CQL_20230504014338/model_279.pt\u001b[0m\n"
     ]
    },
    {
     "data": {
      "application/json": {
       "ascii": false,
       "bar_format": null,
       "colour": null,
       "elapsed": 0.005709171295166016,
       "initial": 0,
       "n": 0,
       "ncols": null,
       "nrows": null,
       "postfix": null,
       "prefix": "Epoch 10/10",
       "rate": null,
       "total": 31,
       "unit": "it",
       "unit_divisor": 1000,
       "unit_scale": false
      },
      "application/vnd.jupyter.widget-view+json": {
       "model_id": "b4db8ae1d05f4807aeaa48eaac81bfe1",
       "version_major": 2,
       "version_minor": 0
      },
      "text/plain": [
       "Epoch 10/10:   0%|          | 0/31 [00:00<?, ?it/s]"
      ]
     },
     "metadata": {},
     "output_type": "display_data"
    },
    {
     "name": "stdout",
     "output_type": "stream",
     "text": [
      "\u001b[2m2023-05-04 01:44:54\u001b[0m [\u001b[32m\u001b[1minfo     \u001b[0m] \u001b[1mCQL_20230504014338: epoch=10 step=310\u001b[0m \u001b[36mepoch\u001b[0m=\u001b[35m10\u001b[0m \u001b[36mmetrics\u001b[0m=\u001b[35m{'time_sample_batch': 0.0009909829785746912, 'time_algorithm_update': 0.24242529561442713, 'temp_loss': 9.30837578927317, 'temp': 0.7898380525650517, 'alpha_loss': -40.429276251023815, 'alpha': 1.2942882160986624, 'critic_loss': 106.09569254229146, 'actor_loss': -92.38607049757435, 'time_step': 0.2435398793989612}\u001b[0m \u001b[36mstep\u001b[0m=\u001b[35m310\u001b[0m\n",
      "\u001b[2m2023-05-04 01:44:54\u001b[0m [\u001b[32m\u001b[1minfo     \u001b[0m] \u001b[1mModel parameters are saved to d3rlpy_logs/CQL_20230504014338/model_310.pt\u001b[0m\n"
     ]
    },
    {
     "data": {
      "text/plain": [
       "[(1,\n",
       "  {'time_sample_batch': 0.0010034115083755986,\n",
       "   'time_algorithm_update': 0.26138419489706716,\n",
       "   'temp_loss': 9.549976348876953,\n",
       "   'temp': 0.8105977639075248,\n",
       "   'alpha_loss': -39.20918446202432,\n",
       "   'alpha': 1.255960222213499,\n",
       "   'critic_loss': 134.8759064212922,\n",
       "   'actor_loss': -90.1291038759293,\n",
       "   'time_step': 0.26251200706728045}),\n",
       " (2,\n",
       "  {'time_sample_batch': 0.00093654663332047,\n",
       "   'time_algorithm_update': 0.24153282565455284,\n",
       "   'temp_loss': 9.522798476680633,\n",
       "   'temp': 0.8082602850852474,\n",
       "   'alpha_loss': -39.35825692453692,\n",
       "   'alpha': 1.2601512670516968,\n",
       "   'critic_loss': 130.87871649957472,\n",
       "   'actor_loss': -90.3958499047064,\n",
       "   'time_step': 0.24259078887201124}),\n",
       " (3,\n",
       "  {'time_sample_batch': 0.0009963973875968687,\n",
       "   'time_algorithm_update': 0.23778229375039378,\n",
       "   'temp_loss': 9.501792630841654,\n",
       "   'temp': 0.8059299838158392,\n",
       "   'alpha_loss': -39.50162998322518,\n",
       "   'alpha': 1.2643601317559519,\n",
       "   'critic_loss': 127.34921116982737,\n",
       "   'actor_loss': -90.75865074896043,\n",
       "   'time_step': 0.23890026923148863}),\n",
       " (4,\n",
       "  {'time_sample_batch': 0.0009777622838174143,\n",
       "   'time_algorithm_update': 0.23983653130069857,\n",
       "   'temp_loss': 9.464464956714261,\n",
       "   'temp': 0.8036083098380796,\n",
       "   'alpha_loss': -39.62295667586788,\n",
       "   'alpha': 1.268586197207051,\n",
       "   'critic_loss': 123.86523043724799,\n",
       "   'actor_loss': -90.94298479633946,\n",
       "   'time_step': 0.24093523333149572}),\n",
       " (5,\n",
       "  {'time_sample_batch': 0.0009543895721435547,\n",
       "   'time_algorithm_update': 0.24044697515426144,\n",
       "   'temp_loss': 9.448508324161653,\n",
       "   'temp': 0.8012937864949626,\n",
       "   'alpha_loss': -39.784160737068426,\n",
       "   'alpha': 1.2728292519046414,\n",
       "   'critic_loss': 120.35653194304436,\n",
       "   'actor_loss': -91.22422126031691,\n",
       "   'time_step': 0.24152227370969712}),\n",
       " (6,\n",
       "  {'time_sample_batch': 0.0009299401314027848,\n",
       "   'time_algorithm_update': 0.23765828532557334,\n",
       "   'temp_loss': 9.41686648707236,\n",
       "   'temp': 0.7989864310910625,\n",
       "   'alpha_loss': -39.8959968320785,\n",
       "   'alpha': 1.2770898765133274,\n",
       "   'critic_loss': 117.2592534711284,\n",
       "   'actor_loss': -91.54512836087135,\n",
       "   'time_step': 0.2387126261188138}),\n",
       " (7,\n",
       "  {'time_sample_batch': 0.0009609883831393334,\n",
       "   'time_algorithm_update': 0.23920016134938887,\n",
       "   'temp_loss': 9.390970107047789,\n",
       "   'temp': 0.796687412646509,\n",
       "   'alpha_loss': -40.013798006119266,\n",
       "   'alpha': 1.2813646370364773,\n",
       "   'critic_loss': 113.86450490643901,\n",
       "   'actor_loss': -91.7711651709772,\n",
       "   'time_step': 0.24028462748373708}),\n",
       " (8,\n",
       "  {'time_sample_batch': 0.0009419764241864604,\n",
       "   'time_algorithm_update': 0.24076934014597245,\n",
       "   'temp_loss': 9.365213978675104,\n",
       "   'temp': 0.7943963331560935,\n",
       "   'alpha_loss': -40.15049177600491,\n",
       "   'alpha': 1.2856551101130824,\n",
       "   'critic_loss': 111.25508166897681,\n",
       "   'actor_loss': -92.0129881828062,\n",
       "   'time_step': 0.2418307642782888}),\n",
       " (9,\n",
       "  {'time_sample_batch': 0.0009593809804608745,\n",
       "   'time_algorithm_update': 0.23928150823039393,\n",
       "   'temp_loss': 9.333456808520902,\n",
       "   'temp': 0.7921131945425465,\n",
       "   'alpha_loss': -40.298756630189956,\n",
       "   'alpha': 1.2899631184916343,\n",
       "   'critic_loss': 108.35731334071005,\n",
       "   'actor_loss': -92.19059408864668,\n",
       "   'time_step': 0.2403572836229878}),\n",
       " (10,\n",
       "  {'time_sample_batch': 0.0009909829785746912,\n",
       "   'time_algorithm_update': 0.24242529561442713,\n",
       "   'temp_loss': 9.30837578927317,\n",
       "   'temp': 0.7898380525650517,\n",
       "   'alpha_loss': -40.429276251023815,\n",
       "   'alpha': 1.2942882160986624,\n",
       "   'critic_loss': 106.09569254229146,\n",
       "   'actor_loss': -92.38607049757435,\n",
       "   'time_step': 0.2435398793989612})]"
      ]
     },
     "execution_count": 21,
     "metadata": {},
     "output_type": "execute_result"
    }
   ],
   "source": [
    "# start training\n",
    "cql.fit(cql_dataset,\n",
    "        eval_episodes=None,\n",
    "        n_epochs=10,\n",
    "        scorers=None)"
   ]
  },
  {
   "cell_type": "code",
   "execution_count": null,
   "metadata": {},
   "outputs": [],
   "source": []
  }
 ],
 "metadata": {
  "kernelspec": {
   "display_name": "Python 3",
   "language": "python",
   "name": "python3"
  },
  "language_info": {
   "codemirror_mode": {
    "name": "ipython",
    "version": 3
   },
   "file_extension": ".py",
   "mimetype": "text/x-python",
   "name": "python",
   "nbconvert_exporter": "python",
   "pygments_lexer": "ipython3",
   "version": "3.9.16"
  },
  "orig_nbformat": 4
 },
 "nbformat": 4,
 "nbformat_minor": 2
}
