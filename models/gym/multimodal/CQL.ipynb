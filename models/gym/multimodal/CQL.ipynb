{
 "cells": [
  {
   "cell_type": "code",
   "execution_count": null,
   "metadata": {},
   "outputs": [],
   "source": [
    "from custom_models.CustomViT import CustomViT\n",
    "from custom_models.CustomViTMAE import CustomViTMAE\n",
    "import torch\n",
    "# call CustomViT\n",
    "from transformers import AutoImageProcessor, ViTMAEForPreTraining, ViTMAEConfig\n",
    "from PIL import Image\n",
    "\n",
    "output_dir='/home/ubuntu/camelmera'\n",
    "# trained_model_name = 'multimodal'\n",
    "# output_dir='/home/ubuntu/weights/' + trained_model_name\n",
    "\n",
    "# Initialize a new CustomViT model\n",
    "model_name = \"facebook/vit-mae-base\"\n",
    "vit_config = ViTMAEConfig.from_pretrained(model_name)\n",
    "vit_config.output_hidden_states=True\n",
    "vit_model = CustomViT(config=vit_config)\n",
    "\n",
    "# Initialize a new CustomViTMAE model\n",
    "model_name = \"facebook/vit-mae-base\"\n",
    "config = ViTMAEConfig.from_pretrained(model_name)\n",
    "config.output_hidden_states=True\n",
    "custom_model = CustomViTMAE(config=config)\n",
    "custom_model.vit = vit_model\n",
    "\n",
    "# Load the state_dict from the saved model\n",
    "state_dict = torch.load(f\"{output_dir}/pytorch_model.bin\")\n",
    "custom_model.load_state_dict(state_dict)\n",
    "\n",
    "# don't need decoders\n",
    "vit_encoder = custom_model.vit"
   ]
  },
  {
   "cell_type": "code",
   "execution_count": null,
   "metadata": {},
   "outputs": [],
   "source": [
    "import numpy as np\n",
    "\n",
    "def reward_function(state_embedding, goal_embedding, threshold=0.02, goal_reward=100):\n",
    "    distance = np.linalg.norm(state_embedding - goal_embedding)\n",
    "\n",
    "    if distance <= threshold:\n",
    "        # Give a large positive reward when the goal is reached\n",
    "        reward = goal_reward\n",
    "    else:\n",
    "        # Give a negative reward proportional to the distance otherwise\n",
    "        reward = -distance\n",
    "\n",
    "    return reward"
   ]
  },
  {
   "cell_type": "code",
   "execution_count": null,
   "metadata": {},
   "outputs": [],
   "source": [
    "from tem_dataloader import MultimodalDatasetPerTrajectory\n",
    "import functools\n",
    "import os\n",
    "from torch.utils.data import Dataset, DataLoader\n",
    "\n",
    "environment_name = 'AbandonedFactoryExposure'\n",
    "environemnt_directory = f'/mnt/temp_mount/{environment_name}/Data_hard'\n",
    "OBSERVATION_SIZE = 768\n",
    "ACTION_SIZE = 7\n",
    "BATCH_SIZE = 64\n",
    "\n",
    "for i in range(0,10):\n",
    "    if i==7:\n",
    "        continue\n",
    "    trajectory_folder_path = os.path.join(environemnt_directory, f'P00{i}')\n",
    "    my_dataset = MultimodalDatasetPerTrajectory(trajectory_folder_path)\n",
    "    train_dataloader = DataLoader(my_dataset, batch_size=BATCH_SIZE, shuffle=False)\n",
    "\n",
    "    # Initialize empty arrays for observations, actions, rewards, and terminals\n",
    "    all_observations = np.empty((0, OBSERVATION_SIZE))\n",
    "    all_actions = np.empty((0, ACTION_SIZE))\n",
    "    all_rewards = np.empty(0)\n",
    "    all_terminals = np.empty(0, dtype=bool)\n",
    "\n",
    "    for batch_idx, data in enumerate(train_dataloader):\n",
    "        # get embedding\n",
    "        vit_encoder.cuda()\n",
    "        vit_encoder.eval()\n",
    "        pixel_values = data[\"pixel_values\"].cuda()\n",
    "        pixel_values1 = data[\"pixel_values1\"].cuda()\n",
    "        pixel_values2 = data[\"pixel_values2\"].cuda()\n",
    "        outputs = vit_encoder(pixel_values,pixel_values1,pixel_values2,noise=None)\n",
    "        embedding = outputs.last_hidden_state[:,0,:]\n",
    "        observation = embedding.cpu().detach().numpy()\n",
    "        # get action\n",
    "        pose = data[\"pose_values\"]\n",
    "        action = torch.diff(pose,axis = 0).numpy()\n",
    "        action = np.concatenate((action, np.zeros((1,7))), axis=0)\n",
    "        # get reward\n",
    "        goal = observation[-1]\n",
    "        partial_function = functools.partial(reward_function, goal_embedding=goal)\n",
    "        reward = np.apply_along_axis(partial_function, 1, observation)\n",
    "        # get terminals\n",
    "        terminals = np.zeros_like(reward, dtype=int)\n",
    "        terminals[reward == 100] = 1\n",
    "\n",
    "        # Concatenate observations, actions, rewards, and terminals\n",
    "        all_observations = np.vstack((all_observations, observation))\n",
    "        all_actions = np.vstack((all_actions, action))\n",
    "        all_rewards = np.hstack((all_rewards, reward))\n",
    "        all_terminals = np.hstack((all_terminals, terminals))\n",
    "\n",
    "    print(\"All observations shape:\", all_observations.shape)\n",
    "    print(\"All actions shape:\", all_actions.shape)\n",
    "    print(\"All rewards shape:\", all_rewards.shape)\n",
    "    print(\"All terminals shape:\", all_terminals.shape)\n",
    "    \n",
    "    np.save(f'hard/all_observations_P00{i}.npy', all_observations)\n",
    "    np.save(f'hard/all_actions_P00{i}.npy', all_actions)\n",
    "    np.save(f'hard/all_rewards_P00{i}.npy', all_rewards)\n",
    "    np.save(f'hard/all_terminals_P00{i}.npy', all_terminals)"
   ]
  },
  {
   "cell_type": "code",
   "execution_count": null,
   "metadata": {},
   "outputs": [],
   "source": [
    "'''\n",
    "Args:\n",
    "        observations (numpy.ndarray): N-D array. If the\n",
    "            observation is a vector, the shape should be\n",
    "            `(N, dim_observation)`. If the observations is an image, the shape\n",
    "            should be `(N, C, H, W)`.\n",
    "        actions (numpy.ndarray): N-D array. If the actions-space is\n",
    "            continuous, the shape should be `(N, dim_action)`. If the\n",
    "            action-space is discrete, the shape should be `(N,)`.\n",
    "        rewards (numpy.ndarray): array of scalar rewards. The reward function\n",
    "            should be defined as :math:`r_t = r(s_t, a_t)`.\n",
    "        terminals (numpy.ndarray): array of binary terminal flags.\n",
    "        episode_terminals (numpy.ndarray): array of binary episode terminal\n",
    "            flags. The given data will be splitted based on this flag.\n",
    "            This is useful if you want to specify the non-environment\n",
    "            terminations (e.g. timeout). If ``None``, the episode terminations\n",
    "            match the environment terminations.\n",
    "        discrete_action (bool): flag to use the given actions as discrete\n",
    "            action-space actions. If ``None``, the action type is automatically\n",
    "            determined.\n",
    "    '''\n",
    "hard_all_observations = np.load('hard/all_observations.npy')\n",
    "hard_all_actions = np.load('hard/all_actions.npy')\n",
    "hard_all_rewards = np.load('hard/all_rewards.npy')\n",
    "hard_all_terminals = np.load('hard/all_terminals.npy')\n",
    "print(np.count_nonzero(hard_all_terminals == 1))\n",
    "# cql_dataset = MDPDataset(observations=all_observations,actions=all_actions,rewards=all_rewards,terminals=all_terminals,episode_terminals=all_terminals)"
   ]
  },
  {
   "cell_type": "code",
   "execution_count": 2,
   "metadata": {},
   "outputs": [
    {
     "name": "stdout",
     "output_type": "stream",
     "text": [
      "132\n"
     ]
    }
   ],
   "source": [
    "import numpy as np\n",
    "from d3rlpy.dataset import Episode, MDPDataset, Transition\n",
    "\n",
    "all_observations = np.load('all_observations.npy')\n",
    "all_actions = np.load('all_actions.npy')\n",
    "all_rewards = np.load('all_rewards.npy')\n",
    "all_terminals = np.load('all_terminals.npy')\n",
    "print(np.count_nonzero(all_terminals == 1))\n",
    "# all_observations = np.vstack((all_observations, hard_all_observations))\n",
    "# all_actions = np.vstack((all_actions, hard_all_actions))\n",
    "# all_rewards = np.hstack((all_rewards, hard_all_rewards))\n",
    "# all_terminals = np.hstack((all_terminals, hard_all_terminals))\n",
    "# print(\"All observations shape:\", all_observations.shape)\n",
    "# print(\"All actions shape:\", all_actions.shape)\n",
    "# print(\"All rewards shape:\", all_rewards.shape)\n",
    "# print(\"All terminals shape:\", all_terminals.shape)\n",
    "cql_dataset = MDPDataset(observations=all_observations,actions=all_actions,rewards=all_rewards,terminals=all_terminals,episode_terminals=all_terminals)"
   ]
  },
  {
   "cell_type": "code",
   "execution_count": 3,
   "metadata": {},
   "outputs": [
    {
     "name": "stdout",
     "output_type": "stream",
     "text": [
      "(8185, 7)\n"
     ]
    }
   ],
   "source": [
    "print(cql_dataset.actions.shape)"
   ]
  },
  {
   "cell_type": "code",
   "execution_count": 9,
   "metadata": {},
   "outputs": [
    {
     "name": "stdout",
     "output_type": "stream",
     "text": [
      "\u001b[2m2023-05-04 21:01:18\u001b[0m [\u001b[32m\u001b[1mdebug    \u001b[0m] \u001b[1mRoundIterator is selected.\u001b[0m\n",
      "\u001b[2m2023-05-04 21:01:18\u001b[0m [\u001b[32m\u001b[1minfo     \u001b[0m] \u001b[1mDirectory is created at d3rlpy_logs/BCQ_20230504210118\u001b[0m\n",
      "\u001b[2m2023-05-04 21:01:18\u001b[0m [\u001b[32m\u001b[1mdebug    \u001b[0m] \u001b[1mBuilding models...\u001b[0m\n",
      "\u001b[2m2023-05-04 21:01:18\u001b[0m [\u001b[32m\u001b[1mdebug    \u001b[0m] \u001b[1mModels have been built.\u001b[0m\n",
      "\u001b[2m2023-05-04 21:01:18\u001b[0m [\u001b[32m\u001b[1minfo     \u001b[0m] \u001b[1mParameters are saved to d3rlpy_logs/BCQ_20230504210118/params.json\u001b[0m \u001b[36mparams\u001b[0m=\u001b[35m{'action_flexibility': 0.05, 'action_scaler': None, 'actor_encoder_factory': {'type': 'default', 'params': {'activation': 'relu', 'use_batch_norm': False, 'dropout_rate': None}}, 'actor_learning_rate': 0.001, 'actor_optim_factory': {'optim_cls': 'Adam', 'betas': (0.9, 0.999), 'eps': 1e-08, 'weight_decay': 0, 'amsgrad': False}, 'batch_size': 100, 'beta': 0.5, 'critic_encoder_factory': {'type': 'default', 'params': {'activation': 'relu', 'use_batch_norm': False, 'dropout_rate': None}}, 'critic_learning_rate': 0.001, 'critic_optim_factory': {'optim_cls': 'Adam', 'betas': (0.9, 0.999), 'eps': 1e-08, 'weight_decay': 0, 'amsgrad': False}, 'gamma': 0.99, 'generated_maxlen': 100000, 'imitator_encoder_factory': {'type': 'default', 'params': {'activation': 'relu', 'use_batch_norm': False, 'dropout_rate': None}}, 'imitator_learning_rate': 0.001, 'imitator_optim_factory': {'optim_cls': 'Adam', 'betas': (0.9, 0.999), 'eps': 1e-08, 'weight_decay': 0, 'amsgrad': False}, 'lam': 0.75, 'n_action_samples': 100, 'n_critics': 2, 'n_frames': 1, 'n_steps': 1, 'q_func_factory': {'type': 'mean', 'params': {'share_encoder': False}}, 'real_ratio': 1.0, 'reward_scaler': None, 'rl_start_step': 0, 'scaler': None, 'tau': 0.005, 'update_actor_interval': 1, 'use_gpu': 0, 'algorithm': 'BCQ', 'observation_shape': (768,), 'action_size': 7}\u001b[0m\n"
     ]
    },
    {
     "data": {
      "application/json": {
       "ascii": false,
       "bar_format": null,
       "colour": null,
       "elapsed": 0.007027149200439453,
       "initial": 0,
       "n": 0,
       "ncols": null,
       "nrows": null,
       "postfix": null,
       "prefix": "Epoch 1/80",
       "rate": null,
       "total": 81,
       "unit": "it",
       "unit_divisor": 1000,
       "unit_scale": false
      },
      "application/vnd.jupyter.widget-view+json": {
       "model_id": "d50417e2716649dfa72ee986f3a6d549",
       "version_major": 2,
       "version_minor": 0
      },
      "text/plain": [
       "Epoch 1/80:   0%|          | 0/81 [00:00<?, ?it/s]"
      ]
     },
     "metadata": {},
     "output_type": "display_data"
    },
    {
     "name": "stdout",
     "output_type": "stream",
     "text": [
      "\u001b[2m2023-05-04 21:01:20\u001b[0m [\u001b[32m\u001b[1minfo     \u001b[0m] \u001b[1mBCQ_20230504210118: epoch=1 step=81\u001b[0m \u001b[36mepoch\u001b[0m=\u001b[35m1\u001b[0m \u001b[36mmetrics\u001b[0m=\u001b[35m{'time_sample_batch': 0.00032325732855149257, 'time_algorithm_update': 0.02111275107772262, 'imitator_loss': 0.010488384989676651, 'critic_loss': 319.94853836518746, 'actor_loss': -1.7687759609134108, 'time_step': 0.021529871740458922}\u001b[0m \u001b[36mstep\u001b[0m=\u001b[35m81\u001b[0m\n",
      "\u001b[2m2023-05-04 21:01:20\u001b[0m [\u001b[32m\u001b[1minfo     \u001b[0m] \u001b[1mModel parameters are saved to d3rlpy_logs/BCQ_20230504210118/model_81.pt\u001b[0m\n"
     ]
    },
    {
     "data": {
      "application/json": {
       "ascii": false,
       "bar_format": null,
       "colour": null,
       "elapsed": 0.005917787551879883,
       "initial": 0,
       "n": 0,
       "ncols": null,
       "nrows": null,
       "postfix": null,
       "prefix": "Epoch 2/80",
       "rate": null,
       "total": 81,
       "unit": "it",
       "unit_divisor": 1000,
       "unit_scale": false
      },
      "application/vnd.jupyter.widget-view+json": {
       "model_id": "5409959d04ad4a838e0f9d93fe7bc0b4",
       "version_major": 2,
       "version_minor": 0
      },
      "text/plain": [
       "Epoch 2/80:   0%|          | 0/81 [00:00<?, ?it/s]"
      ]
     },
     "metadata": {},
     "output_type": "display_data"
    },
    {
     "name": "stdout",
     "output_type": "stream",
     "text": [
      "\u001b[2m2023-05-04 21:01:22\u001b[0m [\u001b[32m\u001b[1minfo     \u001b[0m] \u001b[1mBCQ_20230504210118: epoch=2 step=162\u001b[0m \u001b[36mepoch\u001b[0m=\u001b[35m2\u001b[0m \u001b[36mmetrics\u001b[0m=\u001b[35m{'time_sample_batch': 0.0003158074838143808, 'time_algorithm_update': 0.019842662929016867, 'imitator_loss': 0.008717886540164917, 'critic_loss': 311.5140074432632, 'actor_loss': -2.2175454239786405, 'time_step': 0.02024473378687729}\u001b[0m \u001b[36mstep\u001b[0m=\u001b[35m162\u001b[0m\n",
      "\u001b[2m2023-05-04 21:01:22\u001b[0m [\u001b[32m\u001b[1minfo     \u001b[0m] \u001b[1mModel parameters are saved to d3rlpy_logs/BCQ_20230504210118/model_162.pt\u001b[0m\n"
     ]
    },
    {
     "data": {
      "application/json": {
       "ascii": false,
       "bar_format": null,
       "colour": null,
       "elapsed": 0.004626035690307617,
       "initial": 0,
       "n": 0,
       "ncols": null,
       "nrows": null,
       "postfix": null,
       "prefix": "Epoch 3/80",
       "rate": null,
       "total": 81,
       "unit": "it",
       "unit_divisor": 1000,
       "unit_scale": false
      },
      "application/vnd.jupyter.widget-view+json": {
       "model_id": "ead55295ecf34fed95d9e0ae009e5a57",
       "version_major": 2,
       "version_minor": 0
      },
      "text/plain": [
       "Epoch 3/80:   0%|          | 0/81 [00:00<?, ?it/s]"
      ]
     },
     "metadata": {},
     "output_type": "display_data"
    },
    {
     "name": "stdout",
     "output_type": "stream",
     "text": [
      "\u001b[2m2023-05-04 21:01:24\u001b[0m [\u001b[32m\u001b[1minfo     \u001b[0m] \u001b[1mBCQ_20230504210118: epoch=3 step=243\u001b[0m \u001b[36mepoch\u001b[0m=\u001b[35m3\u001b[0m \u001b[36mmetrics\u001b[0m=\u001b[35m{'time_sample_batch': 0.00029529171225465374, 'time_algorithm_update': 0.01951718036039376, 'imitator_loss': 0.008638597133764882, 'critic_loss': 310.9405100698824, 'actor_loss': -2.7947657858883894, 'time_step': 0.019894932523185825}\u001b[0m \u001b[36mstep\u001b[0m=\u001b[35m243\u001b[0m\n",
      "\u001b[2m2023-05-04 21:01:24\u001b[0m [\u001b[32m\u001b[1minfo     \u001b[0m] \u001b[1mModel parameters are saved to d3rlpy_logs/BCQ_20230504210118/model_243.pt\u001b[0m\n"
     ]
    },
    {
     "data": {
      "application/json": {
       "ascii": false,
       "bar_format": null,
       "colour": null,
       "elapsed": 0.005046367645263672,
       "initial": 0,
       "n": 0,
       "ncols": null,
       "nrows": null,
       "postfix": null,
       "prefix": "Epoch 4/80",
       "rate": null,
       "total": 81,
       "unit": "it",
       "unit_divisor": 1000,
       "unit_scale": false
      },
      "application/vnd.jupyter.widget-view+json": {
       "model_id": "a7f76149022446b58ecf913ea51c8e4f",
       "version_major": 2,
       "version_minor": 0
      },
      "text/plain": [
       "Epoch 4/80:   0%|          | 0/81 [00:00<?, ?it/s]"
      ]
     },
     "metadata": {},
     "output_type": "display_data"
    },
    {
     "name": "stdout",
     "output_type": "stream",
     "text": [
      "\u001b[2m2023-05-04 21:01:25\u001b[0m [\u001b[32m\u001b[1minfo     \u001b[0m] \u001b[1mBCQ_20230504210118: epoch=4 step=324\u001b[0m \u001b[36mepoch\u001b[0m=\u001b[35m4\u001b[0m \u001b[36mmetrics\u001b[0m=\u001b[35m{'time_sample_batch': 0.00028861010516131365, 'time_algorithm_update': 0.01956101405767747, 'imitator_loss': 0.008628414179209941, 'critic_loss': 309.75574048065846, 'actor_loss': -3.3226466590975536, 'time_step': 0.019930300889191805}\u001b[0m \u001b[36mstep\u001b[0m=\u001b[35m324\u001b[0m\n",
      "\u001b[2m2023-05-04 21:01:25\u001b[0m [\u001b[32m\u001b[1minfo     \u001b[0m] \u001b[1mModel parameters are saved to d3rlpy_logs/BCQ_20230504210118/model_324.pt\u001b[0m\n"
     ]
    },
    {
     "data": {
      "application/json": {
       "ascii": false,
       "bar_format": null,
       "colour": null,
       "elapsed": 0.004766702651977539,
       "initial": 0,
       "n": 0,
       "ncols": null,
       "nrows": null,
       "postfix": null,
       "prefix": "Epoch 5/80",
       "rate": null,
       "total": 81,
       "unit": "it",
       "unit_divisor": 1000,
       "unit_scale": false
      },
      "application/vnd.jupyter.widget-view+json": {
       "model_id": "c39a2c3d402d4aa9adb179d221602c64",
       "version_major": 2,
       "version_minor": 0
      },
      "text/plain": [
       "Epoch 5/80:   0%|          | 0/81 [00:00<?, ?it/s]"
      ]
     },
     "metadata": {},
     "output_type": "display_data"
    },
    {
     "name": "stdout",
     "output_type": "stream",
     "text": [
      "\u001b[2m2023-05-04 21:01:27\u001b[0m [\u001b[32m\u001b[1minfo     \u001b[0m] \u001b[1mBCQ_20230504210118: epoch=5 step=405\u001b[0m \u001b[36mepoch\u001b[0m=\u001b[35m5\u001b[0m \u001b[36mmetrics\u001b[0m=\u001b[35m{'time_sample_batch': 0.0002907293814199942, 'time_algorithm_update': 0.019490059511161145, 'imitator_loss': 0.008613380488514163, 'critic_loss': 304.17909417329014, 'actor_loss': -3.8598726472736877, 'time_step': 0.019863099227716893}\u001b[0m \u001b[36mstep\u001b[0m=\u001b[35m405\u001b[0m\n",
      "\u001b[2m2023-05-04 21:01:27\u001b[0m [\u001b[32m\u001b[1minfo     \u001b[0m] \u001b[1mModel parameters are saved to d3rlpy_logs/BCQ_20230504210118/model_405.pt\u001b[0m\n"
     ]
    },
    {
     "data": {
      "application/json": {
       "ascii": false,
       "bar_format": null,
       "colour": null,
       "elapsed": 0.006403923034667969,
       "initial": 0,
       "n": 0,
       "ncols": null,
       "nrows": null,
       "postfix": null,
       "prefix": "Epoch 6/80",
       "rate": null,
       "total": 81,
       "unit": "it",
       "unit_divisor": 1000,
       "unit_scale": false
      },
      "application/vnd.jupyter.widget-view+json": {
       "model_id": "b481447e4969428c8750604f91453550",
       "version_major": 2,
       "version_minor": 0
      },
      "text/plain": [
       "Epoch 6/80:   0%|          | 0/81 [00:00<?, ?it/s]"
      ]
     },
     "metadata": {},
     "output_type": "display_data"
    },
    {
     "name": "stdout",
     "output_type": "stream",
     "text": [
      "\u001b[2m2023-05-04 21:01:29\u001b[0m [\u001b[32m\u001b[1minfo     \u001b[0m] \u001b[1mBCQ_20230504210118: epoch=6 step=486\u001b[0m \u001b[36mepoch\u001b[0m=\u001b[35m6\u001b[0m \u001b[36mmetrics\u001b[0m=\u001b[35m{'time_sample_batch': 0.0002993477715386285, 'time_algorithm_update': 0.01999244866547761, 'imitator_loss': 0.008602776737124831, 'critic_loss': 304.97822382190714, 'actor_loss': -4.202215241797177, 'time_step': 0.020375519622991115}\u001b[0m \u001b[36mstep\u001b[0m=\u001b[35m486\u001b[0m\n",
      "\u001b[2m2023-05-04 21:01:29\u001b[0m [\u001b[32m\u001b[1minfo     \u001b[0m] \u001b[1mModel parameters are saved to d3rlpy_logs/BCQ_20230504210118/model_486.pt\u001b[0m\n"
     ]
    },
    {
     "data": {
      "application/json": {
       "ascii": false,
       "bar_format": null,
       "colour": null,
       "elapsed": 0.0053365230560302734,
       "initial": 0,
       "n": 0,
       "ncols": null,
       "nrows": null,
       "postfix": null,
       "prefix": "Epoch 7/80",
       "rate": null,
       "total": 81,
       "unit": "it",
       "unit_divisor": 1000,
       "unit_scale": false
      },
      "application/vnd.jupyter.widget-view+json": {
       "model_id": "f3a55cec0f0b40efb4807dd2c6176cd0",
       "version_major": 2,
       "version_minor": 0
      },
      "text/plain": [
       "Epoch 7/80:   0%|          | 0/81 [00:00<?, ?it/s]"
      ]
     },
     "metadata": {},
     "output_type": "display_data"
    },
    {
     "name": "stdout",
     "output_type": "stream",
     "text": [
      "\u001b[2m2023-05-04 21:01:30\u001b[0m [\u001b[32m\u001b[1minfo     \u001b[0m] \u001b[1mBCQ_20230504210118: epoch=7 step=567\u001b[0m \u001b[36mepoch\u001b[0m=\u001b[35m7\u001b[0m \u001b[36mmetrics\u001b[0m=\u001b[35m{'time_sample_batch': 0.0002915976959982036, 'time_algorithm_update': 0.01950434696527175, 'imitator_loss': 0.008586331184401556, 'critic_loss': 298.02980420766056, 'actor_loss': -4.683914084493378, 'time_step': 0.019874596301420234}\u001b[0m \u001b[36mstep\u001b[0m=\u001b[35m567\u001b[0m\n",
      "\u001b[2m2023-05-04 21:01:30\u001b[0m [\u001b[32m\u001b[1minfo     \u001b[0m] \u001b[1mModel parameters are saved to d3rlpy_logs/BCQ_20230504210118/model_567.pt\u001b[0m\n"
     ]
    },
    {
     "data": {
      "application/json": {
       "ascii": false,
       "bar_format": null,
       "colour": null,
       "elapsed": 0.00476527214050293,
       "initial": 0,
       "n": 0,
       "ncols": null,
       "nrows": null,
       "postfix": null,
       "prefix": "Epoch 8/80",
       "rate": null,
       "total": 81,
       "unit": "it",
       "unit_divisor": 1000,
       "unit_scale": false
      },
      "application/vnd.jupyter.widget-view+json": {
       "model_id": "2e723b8f53bc4aed84e686ca716aedce",
       "version_major": 2,
       "version_minor": 0
      },
      "text/plain": [
       "Epoch 8/80:   0%|          | 0/81 [00:00<?, ?it/s]"
      ]
     },
     "metadata": {},
     "output_type": "display_data"
    },
    {
     "name": "stdout",
     "output_type": "stream",
     "text": [
      "\u001b[2m2023-05-04 21:01:32\u001b[0m [\u001b[32m\u001b[1minfo     \u001b[0m] \u001b[1mBCQ_20230504210118: epoch=8 step=648\u001b[0m \u001b[36mepoch\u001b[0m=\u001b[35m8\u001b[0m \u001b[36mmetrics\u001b[0m=\u001b[35m{'time_sample_batch': 0.000288000813236943, 'time_algorithm_update': 0.01953754601655183, 'imitator_loss': 0.0085996125974221, 'critic_loss': 296.0382679730286, 'actor_loss': -5.281346303445321, 'time_step': 0.019906997680664062}\u001b[0m \u001b[36mstep\u001b[0m=\u001b[35m648\u001b[0m\n",
      "\u001b[2m2023-05-04 21:01:32\u001b[0m [\u001b[32m\u001b[1minfo     \u001b[0m] \u001b[1mModel parameters are saved to d3rlpy_logs/BCQ_20230504210118/model_648.pt\u001b[0m\n"
     ]
    },
    {
     "data": {
      "application/json": {
       "ascii": false,
       "bar_format": null,
       "colour": null,
       "elapsed": 0.005391597747802734,
       "initial": 0,
       "n": 0,
       "ncols": null,
       "nrows": null,
       "postfix": null,
       "prefix": "Epoch 9/80",
       "rate": null,
       "total": 81,
       "unit": "it",
       "unit_divisor": 1000,
       "unit_scale": false
      },
      "application/vnd.jupyter.widget-view+json": {
       "model_id": "4b9f3892067b431f98359b8398ecafa4",
       "version_major": 2,
       "version_minor": 0
      },
      "text/plain": [
       "Epoch 9/80:   0%|          | 0/81 [00:00<?, ?it/s]"
      ]
     },
     "metadata": {},
     "output_type": "display_data"
    },
    {
     "name": "stdout",
     "output_type": "stream",
     "text": [
      "\u001b[2m2023-05-04 21:01:34\u001b[0m [\u001b[32m\u001b[1minfo     \u001b[0m] \u001b[1mBCQ_20230504210118: epoch=9 step=729\u001b[0m \u001b[36mepoch\u001b[0m=\u001b[35m9\u001b[0m \u001b[36mmetrics\u001b[0m=\u001b[35m{'time_sample_batch': 0.0002993978100058473, 'time_algorithm_update': 0.01964838710832007, 'imitator_loss': 0.008577175978801133, 'critic_loss': 290.7807633711232, 'actor_loss': -5.784067424727075, 'time_step': 0.020030207104153104}\u001b[0m \u001b[36mstep\u001b[0m=\u001b[35m729\u001b[0m\n",
      "\u001b[2m2023-05-04 21:01:34\u001b[0m [\u001b[32m\u001b[1minfo     \u001b[0m] \u001b[1mModel parameters are saved to d3rlpy_logs/BCQ_20230504210118/model_729.pt\u001b[0m\n"
     ]
    },
    {
     "data": {
      "application/json": {
       "ascii": false,
       "bar_format": null,
       "colour": null,
       "elapsed": 0.00448155403137207,
       "initial": 0,
       "n": 0,
       "ncols": null,
       "nrows": null,
       "postfix": null,
       "prefix": "Epoch 10/80",
       "rate": null,
       "total": 81,
       "unit": "it",
       "unit_divisor": 1000,
       "unit_scale": false
      },
      "application/vnd.jupyter.widget-view+json": {
       "model_id": "28b87865952c4a70946efe7578d11be5",
       "version_major": 2,
       "version_minor": 0
      },
      "text/plain": [
       "Epoch 10/80:   0%|          | 0/81 [00:00<?, ?it/s]"
      ]
     },
     "metadata": {},
     "output_type": "display_data"
    },
    {
     "name": "stdout",
     "output_type": "stream",
     "text": [
      "\u001b[2m2023-05-04 21:01:35\u001b[0m [\u001b[32m\u001b[1minfo     \u001b[0m] \u001b[1mBCQ_20230504210118: epoch=10 step=810\u001b[0m \u001b[36mepoch\u001b[0m=\u001b[35m10\u001b[0m \u001b[36mmetrics\u001b[0m=\u001b[35m{'time_sample_batch': 0.00029605111958068094, 'time_algorithm_update': 0.01965213116304374, 'imitator_loss': 0.008585055324214476, 'critic_loss': 292.4338002782545, 'actor_loss': -6.121489583710094, 'time_step': 0.020029733210434147}\u001b[0m \u001b[36mstep\u001b[0m=\u001b[35m810\u001b[0m\n",
      "\u001b[2m2023-05-04 21:01:35\u001b[0m [\u001b[32m\u001b[1minfo     \u001b[0m] \u001b[1mModel parameters are saved to d3rlpy_logs/BCQ_20230504210118/model_810.pt\u001b[0m\n"
     ]
    },
    {
     "data": {
      "application/json": {
       "ascii": false,
       "bar_format": null,
       "colour": null,
       "elapsed": 0.006104946136474609,
       "initial": 0,
       "n": 0,
       "ncols": null,
       "nrows": null,
       "postfix": null,
       "prefix": "Epoch 11/80",
       "rate": null,
       "total": 81,
       "unit": "it",
       "unit_divisor": 1000,
       "unit_scale": false
      },
      "application/vnd.jupyter.widget-view+json": {
       "model_id": "7b94922cb9ba4285b2365a5e53322b25",
       "version_major": 2,
       "version_minor": 0
      },
      "text/plain": [
       "Epoch 11/80:   0%|          | 0/81 [00:00<?, ?it/s]"
      ]
     },
     "metadata": {},
     "output_type": "display_data"
    },
    {
     "name": "stdout",
     "output_type": "stream",
     "text": [
      "\u001b[2m2023-05-04 21:01:37\u001b[0m [\u001b[32m\u001b[1minfo     \u001b[0m] \u001b[1mBCQ_20230504210118: epoch=11 step=891\u001b[0m \u001b[36mepoch\u001b[0m=\u001b[35m11\u001b[0m \u001b[36mmetrics\u001b[0m=\u001b[35m{'time_sample_batch': 0.00029386414421929256, 'time_algorithm_update': 0.019658736240716627, 'imitator_loss': 0.008587525789568454, 'critic_loss': 285.46332990313755, 'actor_loss': -6.631961869604794, 'time_step': 0.020036720935209296}\u001b[0m \u001b[36mstep\u001b[0m=\u001b[35m891\u001b[0m\n",
      "\u001b[2m2023-05-04 21:01:37\u001b[0m [\u001b[32m\u001b[1minfo     \u001b[0m] \u001b[1mModel parameters are saved to d3rlpy_logs/BCQ_20230504210118/model_891.pt\u001b[0m\n"
     ]
    },
    {
     "data": {
      "application/json": {
       "ascii": false,
       "bar_format": null,
       "colour": null,
       "elapsed": 0.005238056182861328,
       "initial": 0,
       "n": 0,
       "ncols": null,
       "nrows": null,
       "postfix": null,
       "prefix": "Epoch 12/80",
       "rate": null,
       "total": 81,
       "unit": "it",
       "unit_divisor": 1000,
       "unit_scale": false
      },
      "application/vnd.jupyter.widget-view+json": {
       "model_id": "d4287bca97bc4624aa31c45c4f1f3418",
       "version_major": 2,
       "version_minor": 0
      },
      "text/plain": [
       "Epoch 12/80:   0%|          | 0/81 [00:00<?, ?it/s]"
      ]
     },
     "metadata": {},
     "output_type": "display_data"
    },
    {
     "name": "stdout",
     "output_type": "stream",
     "text": [
      "\u001b[2m2023-05-04 21:01:39\u001b[0m [\u001b[32m\u001b[1minfo     \u001b[0m] \u001b[1mBCQ_20230504210118: epoch=12 step=972\u001b[0m \u001b[36mepoch\u001b[0m=\u001b[35m12\u001b[0m \u001b[36mmetrics\u001b[0m=\u001b[35m{'time_sample_batch': 0.00029506212399329666, 'time_algorithm_update': 0.019657779622960975, 'imitator_loss': 0.008583633781031327, 'critic_loss': 281.0507535934448, 'actor_loss': -6.929077442781425, 'time_step': 0.020035764317453644}\u001b[0m \u001b[36mstep\u001b[0m=\u001b[35m972\u001b[0m\n",
      "\u001b[2m2023-05-04 21:01:39\u001b[0m [\u001b[32m\u001b[1minfo     \u001b[0m] \u001b[1mModel parameters are saved to d3rlpy_logs/BCQ_20230504210118/model_972.pt\u001b[0m\n"
     ]
    },
    {
     "data": {
      "application/json": {
       "ascii": false,
       "bar_format": null,
       "colour": null,
       "elapsed": 0.00485539436340332,
       "initial": 0,
       "n": 0,
       "ncols": null,
       "nrows": null,
       "postfix": null,
       "prefix": "Epoch 13/80",
       "rate": null,
       "total": 81,
       "unit": "it",
       "unit_divisor": 1000,
       "unit_scale": false
      },
      "application/vnd.jupyter.widget-view+json": {
       "model_id": "5a899fc722f54c6a91912cbdd76bccda",
       "version_major": 2,
       "version_minor": 0
      },
      "text/plain": [
       "Epoch 13/80:   0%|          | 0/81 [00:00<?, ?it/s]"
      ]
     },
     "metadata": {},
     "output_type": "display_data"
    },
    {
     "name": "stdout",
     "output_type": "stream",
     "text": [
      "\u001b[2m2023-05-04 21:01:40\u001b[0m [\u001b[32m\u001b[1minfo     \u001b[0m] \u001b[1mBCQ_20230504210118: epoch=13 step=1053\u001b[0m \u001b[36mepoch\u001b[0m=\u001b[35m13\u001b[0m \u001b[36mmetrics\u001b[0m=\u001b[35m{'time_sample_batch': 0.0002831676859914521, 'time_algorithm_update': 0.01958253354202082, 'imitator_loss': 0.008586852259382053, 'critic_loss': 281.0065495122086, 'actor_loss': -7.586777080724269, 'time_step': 0.019947163852644556}\u001b[0m \u001b[36mstep\u001b[0m=\u001b[35m1053\u001b[0m\n",
      "\u001b[2m2023-05-04 21:01:40\u001b[0m [\u001b[32m\u001b[1minfo     \u001b[0m] \u001b[1mModel parameters are saved to d3rlpy_logs/BCQ_20230504210118/model_1053.pt\u001b[0m\n"
     ]
    },
    {
     "data": {
      "application/json": {
       "ascii": false,
       "bar_format": null,
       "colour": null,
       "elapsed": 0.005012989044189453,
       "initial": 0,
       "n": 0,
       "ncols": null,
       "nrows": null,
       "postfix": null,
       "prefix": "Epoch 14/80",
       "rate": null,
       "total": 81,
       "unit": "it",
       "unit_divisor": 1000,
       "unit_scale": false
      },
      "application/vnd.jupyter.widget-view+json": {
       "model_id": "0739b3bc63534c348356f08505039204",
       "version_major": 2,
       "version_minor": 0
      },
      "text/plain": [
       "Epoch 14/80:   0%|          | 0/81 [00:00<?, ?it/s]"
      ]
     },
     "metadata": {},
     "output_type": "display_data"
    },
    {
     "name": "stdout",
     "output_type": "stream",
     "text": [
      "\u001b[2m2023-05-04 21:01:42\u001b[0m [\u001b[32m\u001b[1minfo     \u001b[0m] \u001b[1mBCQ_20230504210118: epoch=14 step=1134\u001b[0m \u001b[36mepoch\u001b[0m=\u001b[35m14\u001b[0m \u001b[36mmetrics\u001b[0m=\u001b[35m{'time_sample_batch': 0.0003364880879720052, 'time_algorithm_update': 0.019871847129162446, 'imitator_loss': 0.008585193907313141, 'critic_loss': 275.7055416938699, 'actor_loss': -7.786989783063347, 'time_step': 0.020289712482028537}\u001b[0m \u001b[36mstep\u001b[0m=\u001b[35m1134\u001b[0m\n",
      "\u001b[2m2023-05-04 21:01:42\u001b[0m [\u001b[32m\u001b[1minfo     \u001b[0m] \u001b[1mModel parameters are saved to d3rlpy_logs/BCQ_20230504210118/model_1134.pt\u001b[0m\n"
     ]
    },
    {
     "data": {
      "application/json": {
       "ascii": false,
       "bar_format": null,
       "colour": null,
       "elapsed": 0.004644870758056641,
       "initial": 0,
       "n": 0,
       "ncols": null,
       "nrows": null,
       "postfix": null,
       "prefix": "Epoch 15/80",
       "rate": null,
       "total": 81,
       "unit": "it",
       "unit_divisor": 1000,
       "unit_scale": false
      },
      "application/vnd.jupyter.widget-view+json": {
       "model_id": "75a57b2874eb471a84068fe85a3c584d",
       "version_major": 2,
       "version_minor": 0
      },
      "text/plain": [
       "Epoch 15/80:   0%|          | 0/81 [00:00<?, ?it/s]"
      ]
     },
     "metadata": {},
     "output_type": "display_data"
    },
    {
     "name": "stdout",
     "output_type": "stream",
     "text": [
      "\u001b[2m2023-05-04 21:01:44\u001b[0m [\u001b[32m\u001b[1minfo     \u001b[0m] \u001b[1mBCQ_20230504210118: epoch=15 step=1215\u001b[0m \u001b[36mepoch\u001b[0m=\u001b[35m15\u001b[0m \u001b[36mmetrics\u001b[0m=\u001b[35m{'time_sample_batch': 0.0002932725129304109, 'time_algorithm_update': 0.01957367084644459, 'imitator_loss': 0.008613189429412653, 'critic_loss': 278.78586706629505, 'actor_loss': -8.38448565683247, 'time_step': 0.019948561986287434}\u001b[0m \u001b[36mstep\u001b[0m=\u001b[35m1215\u001b[0m\n",
      "\u001b[2m2023-05-04 21:01:44\u001b[0m [\u001b[32m\u001b[1minfo     \u001b[0m] \u001b[1mModel parameters are saved to d3rlpy_logs/BCQ_20230504210118/model_1215.pt\u001b[0m\n"
     ]
    },
    {
     "data": {
      "application/json": {
       "ascii": false,
       "bar_format": null,
       "colour": null,
       "elapsed": 0.004711151123046875,
       "initial": 0,
       "n": 0,
       "ncols": null,
       "nrows": null,
       "postfix": null,
       "prefix": "Epoch 16/80",
       "rate": null,
       "total": 81,
       "unit": "it",
       "unit_divisor": 1000,
       "unit_scale": false
      },
      "application/vnd.jupyter.widget-view+json": {
       "model_id": "fbcc35187675484bbaed6d8e90f59008",
       "version_major": 2,
       "version_minor": 0
      },
      "text/plain": [
       "Epoch 16/80:   0%|          | 0/81 [00:00<?, ?it/s]"
      ]
     },
     "metadata": {},
     "output_type": "display_data"
    },
    {
     "name": "stdout",
     "output_type": "stream",
     "text": [
      "\u001b[2m2023-05-04 21:01:45\u001b[0m [\u001b[32m\u001b[1minfo     \u001b[0m] \u001b[1mBCQ_20230504210118: epoch=16 step=1296\u001b[0m \u001b[36mepoch\u001b[0m=\u001b[35m16\u001b[0m \u001b[36mmetrics\u001b[0m=\u001b[35m{'time_sample_batch': 0.00029707837987829136, 'time_algorithm_update': 0.01953971238783848, 'imitator_loss': 0.00858488255812798, 'critic_loss': 272.0738640273059, 'actor_loss': -8.874909271428615, 'time_step': 0.019919913492085023}\u001b[0m \u001b[36mstep\u001b[0m=\u001b[35m1296\u001b[0m\n",
      "\u001b[2m2023-05-04 21:01:45\u001b[0m [\u001b[32m\u001b[1minfo     \u001b[0m] \u001b[1mModel parameters are saved to d3rlpy_logs/BCQ_20230504210118/model_1296.pt\u001b[0m\n"
     ]
    },
    {
     "data": {
      "application/json": {
       "ascii": false,
       "bar_format": null,
       "colour": null,
       "elapsed": 0.005241870880126953,
       "initial": 0,
       "n": 0,
       "ncols": null,
       "nrows": null,
       "postfix": null,
       "prefix": "Epoch 17/80",
       "rate": null,
       "total": 81,
       "unit": "it",
       "unit_divisor": 1000,
       "unit_scale": false
      },
      "application/vnd.jupyter.widget-view+json": {
       "model_id": "10a5ff5de2da4356b15ac4003ce9993f",
       "version_major": 2,
       "version_minor": 0
      },
      "text/plain": [
       "Epoch 17/80:   0%|          | 0/81 [00:00<?, ?it/s]"
      ]
     },
     "metadata": {},
     "output_type": "display_data"
    },
    {
     "name": "stdout",
     "output_type": "stream",
     "text": [
      "\u001b[2m2023-05-04 21:01:47\u001b[0m [\u001b[32m\u001b[1minfo     \u001b[0m] \u001b[1mBCQ_20230504210118: epoch=17 step=1377\u001b[0m \u001b[36mepoch\u001b[0m=\u001b[35m17\u001b[0m \u001b[36mmetrics\u001b[0m=\u001b[35m{'time_sample_batch': 0.00030937312561788675, 'time_algorithm_update': 0.01971698984687711, 'imitator_loss': 0.008574377624662939, 'critic_loss': 268.9036940821895, 'actor_loss': -9.32814915974935, 'time_step': 0.02011249389177487}\u001b[0m \u001b[36mstep\u001b[0m=\u001b[35m1377\u001b[0m\n",
      "\u001b[2m2023-05-04 21:01:47\u001b[0m [\u001b[32m\u001b[1minfo     \u001b[0m] \u001b[1mModel parameters are saved to d3rlpy_logs/BCQ_20230504210118/model_1377.pt\u001b[0m\n"
     ]
    },
    {
     "data": {
      "application/json": {
       "ascii": false,
       "bar_format": null,
       "colour": null,
       "elapsed": 0.0055577754974365234,
       "initial": 0,
       "n": 0,
       "ncols": null,
       "nrows": null,
       "postfix": null,
       "prefix": "Epoch 18/80",
       "rate": null,
       "total": 81,
       "unit": "it",
       "unit_divisor": 1000,
       "unit_scale": false
      },
      "application/vnd.jupyter.widget-view+json": {
       "model_id": "c8e18143faf545c29395360ac7769a31",
       "version_major": 2,
       "version_minor": 0
      },
      "text/plain": [
       "Epoch 18/80:   0%|          | 0/81 [00:00<?, ?it/s]"
      ]
     },
     "metadata": {},
     "output_type": "display_data"
    },
    {
     "name": "stdout",
     "output_type": "stream",
     "text": [
      "\u001b[2m2023-05-04 21:01:49\u001b[0m [\u001b[32m\u001b[1minfo     \u001b[0m] \u001b[1mBCQ_20230504210118: epoch=18 step=1458\u001b[0m \u001b[36mepoch\u001b[0m=\u001b[35m18\u001b[0m \u001b[36mmetrics\u001b[0m=\u001b[35m{'time_sample_batch': 0.0002893106437023775, 'time_algorithm_update': 0.019582763130282177, 'imitator_loss': 0.008603044486616128, 'critic_loss': 265.49002343423115, 'actor_loss': -9.618602258187753, 'time_step': 0.019952824086318783}\u001b[0m \u001b[36mstep\u001b[0m=\u001b[35m1458\u001b[0m\n",
      "\u001b[2m2023-05-04 21:01:49\u001b[0m [\u001b[32m\u001b[1minfo     \u001b[0m] \u001b[1mModel parameters are saved to d3rlpy_logs/BCQ_20230504210118/model_1458.pt\u001b[0m\n"
     ]
    },
    {
     "data": {
      "application/json": {
       "ascii": false,
       "bar_format": null,
       "colour": null,
       "elapsed": 0.005865335464477539,
       "initial": 0,
       "n": 0,
       "ncols": null,
       "nrows": null,
       "postfix": null,
       "prefix": "Epoch 19/80",
       "rate": null,
       "total": 81,
       "unit": "it",
       "unit_divisor": 1000,
       "unit_scale": false
      },
      "application/vnd.jupyter.widget-view+json": {
       "model_id": "539ff7ca6d664fabb6480a38b41fb3fc",
       "version_major": 2,
       "version_minor": 0
      },
      "text/plain": [
       "Epoch 19/80:   0%|          | 0/81 [00:00<?, ?it/s]"
      ]
     },
     "metadata": {},
     "output_type": "display_data"
    },
    {
     "name": "stdout",
     "output_type": "stream",
     "text": [
      "\u001b[2m2023-05-04 21:01:50\u001b[0m [\u001b[32m\u001b[1minfo     \u001b[0m] \u001b[1mBCQ_20230504210118: epoch=19 step=1539\u001b[0m \u001b[36mepoch\u001b[0m=\u001b[35m19\u001b[0m \u001b[36mmetrics\u001b[0m=\u001b[35m{'time_sample_batch': 0.00028756224078896607, 'time_algorithm_update': 0.01956742192492073, 'imitator_loss': 0.008574987479979977, 'critic_loss': 267.6051225691666, 'actor_loss': -10.32958807768645, 'time_step': 0.019937032534752364}\u001b[0m \u001b[36mstep\u001b[0m=\u001b[35m1539\u001b[0m\n",
      "\u001b[2m2023-05-04 21:01:50\u001b[0m [\u001b[32m\u001b[1minfo     \u001b[0m] \u001b[1mModel parameters are saved to d3rlpy_logs/BCQ_20230504210118/model_1539.pt\u001b[0m\n"
     ]
    },
    {
     "data": {
      "application/json": {
       "ascii": false,
       "bar_format": null,
       "colour": null,
       "elapsed": 0.0053958892822265625,
       "initial": 0,
       "n": 0,
       "ncols": null,
       "nrows": null,
       "postfix": null,
       "prefix": "Epoch 20/80",
       "rate": null,
       "total": 81,
       "unit": "it",
       "unit_divisor": 1000,
       "unit_scale": false
      },
      "application/vnd.jupyter.widget-view+json": {
       "model_id": "90a75d351e2d4f88bf15b8f36415a79d",
       "version_major": 2,
       "version_minor": 0
      },
      "text/plain": [
       "Epoch 20/80:   0%|          | 0/81 [00:00<?, ?it/s]"
      ]
     },
     "metadata": {},
     "output_type": "display_data"
    },
    {
     "name": "stdout",
     "output_type": "stream",
     "text": [
      "\u001b[2m2023-05-04 21:01:52\u001b[0m [\u001b[32m\u001b[1minfo     \u001b[0m] \u001b[1mBCQ_20230504210118: epoch=20 step=1620\u001b[0m \u001b[36mepoch\u001b[0m=\u001b[35m20\u001b[0m \u001b[36mmetrics\u001b[0m=\u001b[35m{'time_sample_batch': 0.00029066756919578267, 'time_algorithm_update': 0.019503499254768276, 'imitator_loss': 0.008585109317928184, 'critic_loss': 262.6185732204467, 'actor_loss': -10.673474335376127, 'time_step': 0.01987500543947573}\u001b[0m \u001b[36mstep\u001b[0m=\u001b[35m1620\u001b[0m\n",
      "\u001b[2m2023-05-04 21:01:52\u001b[0m [\u001b[32m\u001b[1minfo     \u001b[0m] \u001b[1mModel parameters are saved to d3rlpy_logs/BCQ_20230504210118/model_1620.pt\u001b[0m\n"
     ]
    },
    {
     "data": {
      "application/json": {
       "ascii": false,
       "bar_format": null,
       "colour": null,
       "elapsed": 0.005727291107177734,
       "initial": 0,
       "n": 0,
       "ncols": null,
       "nrows": null,
       "postfix": null,
       "prefix": "Epoch 21/80",
       "rate": null,
       "total": 81,
       "unit": "it",
       "unit_divisor": 1000,
       "unit_scale": false
      },
      "application/vnd.jupyter.widget-view+json": {
       "model_id": "c5bef929390f4346bc3e5cf6e4960d42",
       "version_major": 2,
       "version_minor": 0
      },
      "text/plain": [
       "Epoch 21/80:   0%|          | 0/81 [00:00<?, ?it/s]"
      ]
     },
     "metadata": {},
     "output_type": "display_data"
    },
    {
     "name": "stdout",
     "output_type": "stream",
     "text": [
      "\u001b[2m2023-05-04 21:01:54\u001b[0m [\u001b[32m\u001b[1minfo     \u001b[0m] \u001b[1mBCQ_20230504210118: epoch=21 step=1701\u001b[0m \u001b[36mepoch\u001b[0m=\u001b[35m21\u001b[0m \u001b[36mmetrics\u001b[0m=\u001b[35m{'time_sample_batch': 0.00028769175211588543, 'time_algorithm_update': 0.01948656564877357, 'imitator_loss': 0.008581367551268619, 'critic_loss': 262.568152303313, 'actor_loss': -11.19072115862811, 'time_step': 0.01985523730148504}\u001b[0m \u001b[36mstep\u001b[0m=\u001b[35m1701\u001b[0m\n",
      "\u001b[2m2023-05-04 21:01:54\u001b[0m [\u001b[32m\u001b[1minfo     \u001b[0m] \u001b[1mModel parameters are saved to d3rlpy_logs/BCQ_20230504210118/model_1701.pt\u001b[0m\n"
     ]
    },
    {
     "data": {
      "application/json": {
       "ascii": false,
       "bar_format": null,
       "colour": null,
       "elapsed": 0.00639033317565918,
       "initial": 0,
       "n": 0,
       "ncols": null,
       "nrows": null,
       "postfix": null,
       "prefix": "Epoch 22/80",
       "rate": null,
       "total": 81,
       "unit": "it",
       "unit_divisor": 1000,
       "unit_scale": false
      },
      "application/vnd.jupyter.widget-view+json": {
       "model_id": "b01d48c47ef04ace964f05e6e366c0f8",
       "version_major": 2,
       "version_minor": 0
      },
      "text/plain": [
       "Epoch 22/80:   0%|          | 0/81 [00:00<?, ?it/s]"
      ]
     },
     "metadata": {},
     "output_type": "display_data"
    },
    {
     "name": "stdout",
     "output_type": "stream",
     "text": [
      "\u001b[2m2023-05-04 21:01:55\u001b[0m [\u001b[32m\u001b[1minfo     \u001b[0m] \u001b[1mBCQ_20230504210118: epoch=22 step=1782\u001b[0m \u001b[36mepoch\u001b[0m=\u001b[35m22\u001b[0m \u001b[36mmetrics\u001b[0m=\u001b[35m{'time_sample_batch': 0.0002863848650896991, 'time_algorithm_update': 0.019428412119547527, 'imitator_loss': 0.008553540868753637, 'critic_loss': 259.82380175112206, 'actor_loss': -11.612115695152754, 'time_step': 0.019796677577642748}\u001b[0m \u001b[36mstep\u001b[0m=\u001b[35m1782\u001b[0m\n",
      "\u001b[2m2023-05-04 21:01:55\u001b[0m [\u001b[32m\u001b[1minfo     \u001b[0m] \u001b[1mModel parameters are saved to d3rlpy_logs/BCQ_20230504210118/model_1782.pt\u001b[0m\n"
     ]
    },
    {
     "data": {
      "application/json": {
       "ascii": false,
       "bar_format": null,
       "colour": null,
       "elapsed": 0.004590749740600586,
       "initial": 0,
       "n": 0,
       "ncols": null,
       "nrows": null,
       "postfix": null,
       "prefix": "Epoch 23/80",
       "rate": null,
       "total": 81,
       "unit": "it",
       "unit_divisor": 1000,
       "unit_scale": false
      },
      "application/vnd.jupyter.widget-view+json": {
       "model_id": "c07d18801acc43b690ec4a74d414f3d5",
       "version_major": 2,
       "version_minor": 0
      },
      "text/plain": [
       "Epoch 23/80:   0%|          | 0/81 [00:00<?, ?it/s]"
      ]
     },
     "metadata": {},
     "output_type": "display_data"
    },
    {
     "name": "stdout",
     "output_type": "stream",
     "text": [
      "\u001b[2m2023-05-04 21:01:57\u001b[0m [\u001b[32m\u001b[1minfo     \u001b[0m] \u001b[1mBCQ_20230504210118: epoch=23 step=1863\u001b[0m \u001b[36mepoch\u001b[0m=\u001b[35m23\u001b[0m \u001b[36mmetrics\u001b[0m=\u001b[35m{'time_sample_batch': 0.000301993923422731, 'time_algorithm_update': 0.019750600979651933, 'imitator_loss': 0.008592207065243045, 'critic_loss': 256.29457344666673, 'actor_loss': -12.062135190139582, 'time_step': 0.020136947985048646}\u001b[0m \u001b[36mstep\u001b[0m=\u001b[35m1863\u001b[0m\n",
      "\u001b[2m2023-05-04 21:01:57\u001b[0m [\u001b[32m\u001b[1minfo     \u001b[0m] \u001b[1mModel parameters are saved to d3rlpy_logs/BCQ_20230504210118/model_1863.pt\u001b[0m\n"
     ]
    },
    {
     "data": {
      "application/json": {
       "ascii": false,
       "bar_format": null,
       "colour": null,
       "elapsed": 0.0049784183502197266,
       "initial": 0,
       "n": 0,
       "ncols": null,
       "nrows": null,
       "postfix": null,
       "prefix": "Epoch 24/80",
       "rate": null,
       "total": 81,
       "unit": "it",
       "unit_divisor": 1000,
       "unit_scale": false
      },
      "application/vnd.jupyter.widget-view+json": {
       "model_id": "44b0112733964fea936066222a6e5a9f",
       "version_major": 2,
       "version_minor": 0
      },
      "text/plain": [
       "Epoch 24/80:   0%|          | 0/81 [00:00<?, ?it/s]"
      ]
     },
     "metadata": {},
     "output_type": "display_data"
    },
    {
     "name": "stdout",
     "output_type": "stream",
     "text": [
      "\u001b[2m2023-05-04 21:01:59\u001b[0m [\u001b[32m\u001b[1minfo     \u001b[0m] \u001b[1mBCQ_20230504210118: epoch=24 step=1944\u001b[0m \u001b[36mepoch\u001b[0m=\u001b[35m24\u001b[0m \u001b[36mmetrics\u001b[0m=\u001b[35m{'time_sample_batch': 0.0002901053722993827, 'time_algorithm_update': 0.019522331379078054, 'imitator_loss': 0.008576232859473905, 'critic_loss': 253.16603427904624, 'actor_loss': -12.534609300118905, 'time_step': 0.01989228931474097}\u001b[0m \u001b[36mstep\u001b[0m=\u001b[35m1944\u001b[0m\n",
      "\u001b[2m2023-05-04 21:01:59\u001b[0m [\u001b[32m\u001b[1minfo     \u001b[0m] \u001b[1mModel parameters are saved to d3rlpy_logs/BCQ_20230504210118/model_1944.pt\u001b[0m\n"
     ]
    },
    {
     "data": {
      "application/json": {
       "ascii": false,
       "bar_format": null,
       "colour": null,
       "elapsed": 0.0050830841064453125,
       "initial": 0,
       "n": 0,
       "ncols": null,
       "nrows": null,
       "postfix": null,
       "prefix": "Epoch 25/80",
       "rate": null,
       "total": 81,
       "unit": "it",
       "unit_divisor": 1000,
       "unit_scale": false
      },
      "application/vnd.jupyter.widget-view+json": {
       "model_id": "9f60a74c78604ec8a8f1cea82ae60f2e",
       "version_major": 2,
       "version_minor": 0
      },
      "text/plain": [
       "Epoch 25/80:   0%|          | 0/81 [00:00<?, ?it/s]"
      ]
     },
     "metadata": {},
     "output_type": "display_data"
    },
    {
     "name": "stdout",
     "output_type": "stream",
     "text": [
      "\u001b[2m2023-05-04 21:02:00\u001b[0m [\u001b[32m\u001b[1minfo     \u001b[0m] \u001b[1mBCQ_20230504210118: epoch=25 step=2025\u001b[0m \u001b[36mepoch\u001b[0m=\u001b[35m25\u001b[0m \u001b[36mmetrics\u001b[0m=\u001b[35m{'time_sample_batch': 0.0002924571802586685, 'time_algorithm_update': 0.01956528498802656, 'imitator_loss': 0.008589022608910814, 'critic_loss': 249.79497300401147, 'actor_loss': -13.018383650132167, 'time_step': 0.01993870440824532}\u001b[0m \u001b[36mstep\u001b[0m=\u001b[35m2025\u001b[0m\n",
      "\u001b[2m2023-05-04 21:02:00\u001b[0m [\u001b[32m\u001b[1minfo     \u001b[0m] \u001b[1mModel parameters are saved to d3rlpy_logs/BCQ_20230504210118/model_2025.pt\u001b[0m\n"
     ]
    },
    {
     "data": {
      "application/json": {
       "ascii": false,
       "bar_format": null,
       "colour": null,
       "elapsed": 0.004823923110961914,
       "initial": 0,
       "n": 0,
       "ncols": null,
       "nrows": null,
       "postfix": null,
       "prefix": "Epoch 26/80",
       "rate": null,
       "total": 81,
       "unit": "it",
       "unit_divisor": 1000,
       "unit_scale": false
      },
      "application/vnd.jupyter.widget-view+json": {
       "model_id": "ba87ac48c67d49d9a12dd3f88218ceb0",
       "version_major": 2,
       "version_minor": 0
      },
      "text/plain": [
       "Epoch 26/80:   0%|          | 0/81 [00:00<?, ?it/s]"
      ]
     },
     "metadata": {},
     "output_type": "display_data"
    },
    {
     "name": "stdout",
     "output_type": "stream",
     "text": [
      "\u001b[2m2023-05-04 21:02:02\u001b[0m [\u001b[32m\u001b[1minfo     \u001b[0m] \u001b[1mBCQ_20230504210118: epoch=26 step=2106\u001b[0m \u001b[36mepoch\u001b[0m=\u001b[35m26\u001b[0m \u001b[36mmetrics\u001b[0m=\u001b[35m{'time_sample_batch': 0.0002986148551658348, 'time_algorithm_update': 0.019821973494541498, 'imitator_loss': 0.008588179146847974, 'critic_loss': 246.74216432924624, 'actor_loss': -13.383858786688911, 'time_step': 0.020204267384093484}\u001b[0m \u001b[36mstep\u001b[0m=\u001b[35m2106\u001b[0m\n",
      "\u001b[2m2023-05-04 21:02:02\u001b[0m [\u001b[32m\u001b[1minfo     \u001b[0m] \u001b[1mModel parameters are saved to d3rlpy_logs/BCQ_20230504210118/model_2106.pt\u001b[0m\n"
     ]
    },
    {
     "data": {
      "application/json": {
       "ascii": false,
       "bar_format": null,
       "colour": null,
       "elapsed": 0.0046503543853759766,
       "initial": 0,
       "n": 0,
       "ncols": null,
       "nrows": null,
       "postfix": null,
       "prefix": "Epoch 27/80",
       "rate": null,
       "total": 81,
       "unit": "it",
       "unit_divisor": 1000,
       "unit_scale": false
      },
      "application/vnd.jupyter.widget-view+json": {
       "model_id": "57544bb8c8f740889c85e02f96856b4a",
       "version_major": 2,
       "version_minor": 0
      },
      "text/plain": [
       "Epoch 27/80:   0%|          | 0/81 [00:00<?, ?it/s]"
      ]
     },
     "metadata": {},
     "output_type": "display_data"
    },
    {
     "name": "stdout",
     "output_type": "stream",
     "text": [
      "\u001b[2m2023-05-04 21:02:04\u001b[0m [\u001b[32m\u001b[1minfo     \u001b[0m] \u001b[1mBCQ_20230504210118: epoch=27 step=2187\u001b[0m \u001b[36mepoch\u001b[0m=\u001b[35m27\u001b[0m \u001b[36mmetrics\u001b[0m=\u001b[35m{'time_sample_batch': 0.00029372874601387686, 'time_algorithm_update': 0.01947074466281467, 'imitator_loss': 0.008583230397629517, 'critic_loss': 244.9531644071326, 'actor_loss': -13.919462039146895, 'time_step': 0.01984746073499138}\u001b[0m \u001b[36mstep\u001b[0m=\u001b[35m2187\u001b[0m\n",
      "\u001b[2m2023-05-04 21:02:04\u001b[0m [\u001b[32m\u001b[1minfo     \u001b[0m] \u001b[1mModel parameters are saved to d3rlpy_logs/BCQ_20230504210118/model_2187.pt\u001b[0m\n"
     ]
    },
    {
     "data": {
      "application/json": {
       "ascii": false,
       "bar_format": null,
       "colour": null,
       "elapsed": 0.005243539810180664,
       "initial": 0,
       "n": 0,
       "ncols": null,
       "nrows": null,
       "postfix": null,
       "prefix": "Epoch 28/80",
       "rate": null,
       "total": 81,
       "unit": "it",
       "unit_divisor": 1000,
       "unit_scale": false
      },
      "application/vnd.jupyter.widget-view+json": {
       "model_id": "12c5b119b96d44a3b7ad813820aa454b",
       "version_major": 2,
       "version_minor": 0
      },
      "text/plain": [
       "Epoch 28/80:   0%|          | 0/81 [00:00<?, ?it/s]"
      ]
     },
     "metadata": {},
     "output_type": "display_data"
    },
    {
     "name": "stdout",
     "output_type": "stream",
     "text": [
      "\u001b[2m2023-05-04 21:02:05\u001b[0m [\u001b[32m\u001b[1minfo     \u001b[0m] \u001b[1mBCQ_20230504210118: epoch=28 step=2268\u001b[0m \u001b[36mepoch\u001b[0m=\u001b[35m28\u001b[0m \u001b[36mmetrics\u001b[0m=\u001b[35m{'time_sample_batch': 0.0003183506153247975, 'time_algorithm_update': 0.019655348342141988, 'imitator_loss': 0.008590785981972276, 'critic_loss': 241.60206060792194, 'actor_loss': -14.306414462901929, 'time_step': 0.020060854193605024}\u001b[0m \u001b[36mstep\u001b[0m=\u001b[35m2268\u001b[0m\n",
      "\u001b[2m2023-05-04 21:02:05\u001b[0m [\u001b[32m\u001b[1minfo     \u001b[0m] \u001b[1mModel parameters are saved to d3rlpy_logs/BCQ_20230504210118/model_2268.pt\u001b[0m\n"
     ]
    },
    {
     "data": {
      "application/json": {
       "ascii": false,
       "bar_format": null,
       "colour": null,
       "elapsed": 0.005347728729248047,
       "initial": 0,
       "n": 0,
       "ncols": null,
       "nrows": null,
       "postfix": null,
       "prefix": "Epoch 29/80",
       "rate": null,
       "total": 81,
       "unit": "it",
       "unit_divisor": 1000,
       "unit_scale": false
      },
      "application/vnd.jupyter.widget-view+json": {
       "model_id": "fa6f92140d374b4f9fb8b279ad14d222",
       "version_major": 2,
       "version_minor": 0
      },
      "text/plain": [
       "Epoch 29/80:   0%|          | 0/81 [00:00<?, ?it/s]"
      ]
     },
     "metadata": {},
     "output_type": "display_data"
    },
    {
     "name": "stdout",
     "output_type": "stream",
     "text": [
      "\u001b[2m2023-05-04 21:02:07\u001b[0m [\u001b[32m\u001b[1minfo     \u001b[0m] \u001b[1mBCQ_20230504210118: epoch=29 step=2349\u001b[0m \u001b[36mepoch\u001b[0m=\u001b[35m29\u001b[0m \u001b[36mmetrics\u001b[0m=\u001b[35m{'time_sample_batch': 0.00031783551345636817, 'time_algorithm_update': 0.01996451837045175, 'imitator_loss': 0.008577923963053359, 'critic_loss': 241.47752985836547, 'actor_loss': -14.900261337374463, 'time_step': 0.020370171393877194}\u001b[0m \u001b[36mstep\u001b[0m=\u001b[35m2349\u001b[0m\n",
      "\u001b[2m2023-05-04 21:02:07\u001b[0m [\u001b[32m\u001b[1minfo     \u001b[0m] \u001b[1mModel parameters are saved to d3rlpy_logs/BCQ_20230504210118/model_2349.pt\u001b[0m\n"
     ]
    },
    {
     "data": {
      "application/json": {
       "ascii": false,
       "bar_format": null,
       "colour": null,
       "elapsed": 0.004696369171142578,
       "initial": 0,
       "n": 0,
       "ncols": null,
       "nrows": null,
       "postfix": null,
       "prefix": "Epoch 30/80",
       "rate": null,
       "total": 81,
       "unit": "it",
       "unit_divisor": 1000,
       "unit_scale": false
      },
      "application/vnd.jupyter.widget-view+json": {
       "model_id": "75fcecdec4aa4fda86106ce79a9f94e9",
       "version_major": 2,
       "version_minor": 0
      },
      "text/plain": [
       "Epoch 30/80:   0%|          | 0/81 [00:00<?, ?it/s]"
      ]
     },
     "metadata": {},
     "output_type": "display_data"
    },
    {
     "name": "stdout",
     "output_type": "stream",
     "text": [
      "\u001b[2m2023-05-04 21:02:09\u001b[0m [\u001b[32m\u001b[1minfo     \u001b[0m] \u001b[1mBCQ_20230504210118: epoch=30 step=2430\u001b[0m \u001b[36mepoch\u001b[0m=\u001b[35m30\u001b[0m \u001b[36mmetrics\u001b[0m=\u001b[35m{'time_sample_batch': 0.0003113187389609254, 'time_algorithm_update': 0.01984747839562687, 'imitator_loss': 0.008579155240483858, 'critic_loss': 237.2097368174129, 'actor_loss': -15.226341129821023, 'time_step': 0.020245943540408286}\u001b[0m \u001b[36mstep\u001b[0m=\u001b[35m2430\u001b[0m\n",
      "\u001b[2m2023-05-04 21:02:09\u001b[0m [\u001b[32m\u001b[1minfo     \u001b[0m] \u001b[1mModel parameters are saved to d3rlpy_logs/BCQ_20230504210118/model_2430.pt\u001b[0m\n"
     ]
    },
    {
     "data": {
      "application/json": {
       "ascii": false,
       "bar_format": null,
       "colour": null,
       "elapsed": 0.0050334930419921875,
       "initial": 0,
       "n": 0,
       "ncols": null,
       "nrows": null,
       "postfix": null,
       "prefix": "Epoch 31/80",
       "rate": null,
       "total": 81,
       "unit": "it",
       "unit_divisor": 1000,
       "unit_scale": false
      },
      "application/vnd.jupyter.widget-view+json": {
       "model_id": "db81f016569f43d8886058b71d9c28e5",
       "version_major": 2,
       "version_minor": 0
      },
      "text/plain": [
       "Epoch 31/80:   0%|          | 0/81 [00:00<?, ?it/s]"
      ]
     },
     "metadata": {},
     "output_type": "display_data"
    },
    {
     "name": "stdout",
     "output_type": "stream",
     "text": [
      "\u001b[2m2023-05-04 21:02:11\u001b[0m [\u001b[32m\u001b[1minfo     \u001b[0m] \u001b[1mBCQ_20230504210118: epoch=31 step=2511\u001b[0m \u001b[36mepoch\u001b[0m=\u001b[35m31\u001b[0m \u001b[36mmetrics\u001b[0m=\u001b[35m{'time_sample_batch': 0.0003238548467188706, 'time_algorithm_update': 0.020016785021181458, 'imitator_loss': 0.00856896513429137, 'critic_loss': 235.6596167664745, 'actor_loss': -15.68218226491669, 'time_step': 0.02042752136418849}\u001b[0m \u001b[36mstep\u001b[0m=\u001b[35m2511\u001b[0m\n",
      "\u001b[2m2023-05-04 21:02:11\u001b[0m [\u001b[32m\u001b[1minfo     \u001b[0m] \u001b[1mModel parameters are saved to d3rlpy_logs/BCQ_20230504210118/model_2511.pt\u001b[0m\n"
     ]
    },
    {
     "data": {
      "application/json": {
       "ascii": false,
       "bar_format": null,
       "colour": null,
       "elapsed": 0.005372524261474609,
       "initial": 0,
       "n": 0,
       "ncols": null,
       "nrows": null,
       "postfix": null,
       "prefix": "Epoch 32/80",
       "rate": null,
       "total": 81,
       "unit": "it",
       "unit_divisor": 1000,
       "unit_scale": false
      },
      "application/vnd.jupyter.widget-view+json": {
       "model_id": "dcfcf553794042d9bbedf7755d672543",
       "version_major": 2,
       "version_minor": 0
      },
      "text/plain": [
       "Epoch 32/80:   0%|          | 0/81 [00:00<?, ?it/s]"
      ]
     },
     "metadata": {},
     "output_type": "display_data"
    },
    {
     "name": "stdout",
     "output_type": "stream",
     "text": [
      "\u001b[2m2023-05-04 21:02:12\u001b[0m [\u001b[32m\u001b[1minfo     \u001b[0m] \u001b[1mBCQ_20230504210118: epoch=32 step=2592\u001b[0m \u001b[36mepoch\u001b[0m=\u001b[35m32\u001b[0m \u001b[36mmetrics\u001b[0m=\u001b[35m{'time_sample_batch': 0.0003244670820824894, 'time_algorithm_update': 0.019992269115683473, 'imitator_loss': 0.008584673637179312, 'critic_loss': 230.6327829596437, 'actor_loss': -16.056468857659233, 'time_step': 0.020405107074313693}\u001b[0m \u001b[36mstep\u001b[0m=\u001b[35m2592\u001b[0m\n",
      "\u001b[2m2023-05-04 21:02:12\u001b[0m [\u001b[32m\u001b[1minfo     \u001b[0m] \u001b[1mModel parameters are saved to d3rlpy_logs/BCQ_20230504210118/model_2592.pt\u001b[0m\n"
     ]
    },
    {
     "data": {
      "application/json": {
       "ascii": false,
       "bar_format": null,
       "colour": null,
       "elapsed": 0.005938291549682617,
       "initial": 0,
       "n": 0,
       "ncols": null,
       "nrows": null,
       "postfix": null,
       "prefix": "Epoch 33/80",
       "rate": null,
       "total": 81,
       "unit": "it",
       "unit_divisor": 1000,
       "unit_scale": false
      },
      "application/vnd.jupyter.widget-view+json": {
       "model_id": "f2755f7d5fd849799edbd4d4d5e9b48b",
       "version_major": 2,
       "version_minor": 0
      },
      "text/plain": [
       "Epoch 33/80:   0%|          | 0/81 [00:00<?, ?it/s]"
      ]
     },
     "metadata": {},
     "output_type": "display_data"
    },
    {
     "name": "stdout",
     "output_type": "stream",
     "text": [
      "\u001b[2m2023-05-04 21:02:14\u001b[0m [\u001b[32m\u001b[1minfo     \u001b[0m] \u001b[1mBCQ_20230504210118: epoch=33 step=2673\u001b[0m \u001b[36mepoch\u001b[0m=\u001b[35m33\u001b[0m \u001b[36mmetrics\u001b[0m=\u001b[35m{'time_sample_batch': 0.0003041190865599079, 'time_algorithm_update': 0.01950350808508602, 'imitator_loss': 0.00857972527888638, 'critic_loss': 229.69744522409675, 'actor_loss': -16.512379328409832, 'time_step': 0.01989323710217888}\u001b[0m \u001b[36mstep\u001b[0m=\u001b[35m2673\u001b[0m\n",
      "\u001b[2m2023-05-04 21:02:14\u001b[0m [\u001b[32m\u001b[1minfo     \u001b[0m] \u001b[1mModel parameters are saved to d3rlpy_logs/BCQ_20230504210118/model_2673.pt\u001b[0m\n"
     ]
    },
    {
     "data": {
      "application/json": {
       "ascii": false,
       "bar_format": null,
       "colour": null,
       "elapsed": 0.00533604621887207,
       "initial": 0,
       "n": 0,
       "ncols": null,
       "nrows": null,
       "postfix": null,
       "prefix": "Epoch 34/80",
       "rate": null,
       "total": 81,
       "unit": "it",
       "unit_divisor": 1000,
       "unit_scale": false
      },
      "application/vnd.jupyter.widget-view+json": {
       "model_id": "db4bf5b4e5e1420c9c57bcfa4c47c1c1",
       "version_major": 2,
       "version_minor": 0
      },
      "text/plain": [
       "Epoch 34/80:   0%|          | 0/81 [00:00<?, ?it/s]"
      ]
     },
     "metadata": {},
     "output_type": "display_data"
    },
    {
     "name": "stdout",
     "output_type": "stream",
     "text": [
      "\u001b[2m2023-05-04 21:02:16\u001b[0m [\u001b[32m\u001b[1minfo     \u001b[0m] \u001b[1mBCQ_20230504210118: epoch=34 step=2754\u001b[0m \u001b[36mepoch\u001b[0m=\u001b[35m34\u001b[0m \u001b[36mmetrics\u001b[0m=\u001b[35m{'time_sample_batch': 0.0002971931740089699, 'time_algorithm_update': 0.0194277321850812, 'imitator_loss': 0.008593928856476222, 'critic_loss': 227.87622442289634, 'actor_loss': -17.00969763155337, 'time_step': 0.019806017110377182}\u001b[0m \u001b[36mstep\u001b[0m=\u001b[35m2754\u001b[0m\n",
      "\u001b[2m2023-05-04 21:02:16\u001b[0m [\u001b[32m\u001b[1minfo     \u001b[0m] \u001b[1mModel parameters are saved to d3rlpy_logs/BCQ_20230504210118/model_2754.pt\u001b[0m\n"
     ]
    },
    {
     "data": {
      "application/json": {
       "ascii": false,
       "bar_format": null,
       "colour": null,
       "elapsed": 0.004875659942626953,
       "initial": 0,
       "n": 0,
       "ncols": null,
       "nrows": null,
       "postfix": null,
       "prefix": "Epoch 35/80",
       "rate": null,
       "total": 81,
       "unit": "it",
       "unit_divisor": 1000,
       "unit_scale": false
      },
      "application/vnd.jupyter.widget-view+json": {
       "model_id": "623f5e032dc84afbb01e7d715e5c5719",
       "version_major": 2,
       "version_minor": 0
      },
      "text/plain": [
       "Epoch 35/80:   0%|          | 0/81 [00:00<?, ?it/s]"
      ]
     },
     "metadata": {},
     "output_type": "display_data"
    },
    {
     "name": "stdout",
     "output_type": "stream",
     "text": [
      "\u001b[2m2023-05-04 21:02:17\u001b[0m [\u001b[32m\u001b[1minfo     \u001b[0m] \u001b[1mBCQ_20230504210118: epoch=35 step=2835\u001b[0m \u001b[36mepoch\u001b[0m=\u001b[35m35\u001b[0m \u001b[36mmetrics\u001b[0m=\u001b[35m{'time_sample_batch': 0.00031328495637870127, 'time_algorithm_update': 0.02002512084113227, 'imitator_loss': 0.00858172970927424, 'critic_loss': 225.1070935372953, 'actor_loss': -17.381909405743635, 'time_step': 0.020423812630735796}\u001b[0m \u001b[36mstep\u001b[0m=\u001b[35m2835\u001b[0m\n",
      "\u001b[2m2023-05-04 21:02:17\u001b[0m [\u001b[32m\u001b[1minfo     \u001b[0m] \u001b[1mModel parameters are saved to d3rlpy_logs/BCQ_20230504210118/model_2835.pt\u001b[0m\n"
     ]
    },
    {
     "data": {
      "application/json": {
       "ascii": false,
       "bar_format": null,
       "colour": null,
       "elapsed": 0.0051538944244384766,
       "initial": 0,
       "n": 0,
       "ncols": null,
       "nrows": null,
       "postfix": null,
       "prefix": "Epoch 36/80",
       "rate": null,
       "total": 81,
       "unit": "it",
       "unit_divisor": 1000,
       "unit_scale": false
      },
      "application/vnd.jupyter.widget-view+json": {
       "model_id": "25f9a26d312d440da7287de53442e518",
       "version_major": 2,
       "version_minor": 0
      },
      "text/plain": [
       "Epoch 36/80:   0%|          | 0/81 [00:00<?, ?it/s]"
      ]
     },
     "metadata": {},
     "output_type": "display_data"
    },
    {
     "name": "stdout",
     "output_type": "stream",
     "text": [
      "\u001b[2m2023-05-04 21:02:19\u001b[0m [\u001b[32m\u001b[1minfo     \u001b[0m] \u001b[1mBCQ_20230504210118: epoch=36 step=2916\u001b[0m \u001b[36mepoch\u001b[0m=\u001b[35m36\u001b[0m \u001b[36mmetrics\u001b[0m=\u001b[35m{'time_sample_batch': 0.00030391304581253617, 'time_algorithm_update': 0.0196403103110231, 'imitator_loss': 0.008579459202326374, 'critic_loss': 225.44697609635782, 'actor_loss': -17.786373774210613, 'time_step': 0.02002823794329608}\u001b[0m \u001b[36mstep\u001b[0m=\u001b[35m2916\u001b[0m\n",
      "\u001b[2m2023-05-04 21:02:19\u001b[0m [\u001b[32m\u001b[1minfo     \u001b[0m] \u001b[1mModel parameters are saved to d3rlpy_logs/BCQ_20230504210118/model_2916.pt\u001b[0m\n"
     ]
    },
    {
     "data": {
      "application/json": {
       "ascii": false,
       "bar_format": null,
       "colour": null,
       "elapsed": 0.005121707916259766,
       "initial": 0,
       "n": 0,
       "ncols": null,
       "nrows": null,
       "postfix": null,
       "prefix": "Epoch 37/80",
       "rate": null,
       "total": 81,
       "unit": "it",
       "unit_divisor": 1000,
       "unit_scale": false
      },
      "application/vnd.jupyter.widget-view+json": {
       "model_id": "1df7d23385ee4d9684b8d83f7921dac3",
       "version_major": 2,
       "version_minor": 0
      },
      "text/plain": [
       "Epoch 37/80:   0%|          | 0/81 [00:00<?, ?it/s]"
      ]
     },
     "metadata": {},
     "output_type": "display_data"
    },
    {
     "name": "stdout",
     "output_type": "stream",
     "text": [
      "\u001b[2m2023-05-04 21:02:21\u001b[0m [\u001b[32m\u001b[1minfo     \u001b[0m] \u001b[1mBCQ_20230504210118: epoch=37 step=2997\u001b[0m \u001b[36mepoch\u001b[0m=\u001b[35m37\u001b[0m \u001b[36mmetrics\u001b[0m=\u001b[35m{'time_sample_batch': 0.0003177060021294488, 'time_algorithm_update': 0.019822441501381956, 'imitator_loss': 0.008581828854886103, 'critic_loss': 220.60348973110501, 'actor_loss': -18.27165963914659, 'time_step': 0.020225533732661494}\u001b[0m \u001b[36mstep\u001b[0m=\u001b[35m2997\u001b[0m\n",
      "\u001b[2m2023-05-04 21:02:21\u001b[0m [\u001b[32m\u001b[1minfo     \u001b[0m] \u001b[1mModel parameters are saved to d3rlpy_logs/BCQ_20230504210118/model_2997.pt\u001b[0m\n"
     ]
    },
    {
     "data": {
      "application/json": {
       "ascii": false,
       "bar_format": null,
       "colour": null,
       "elapsed": 0.005063533782958984,
       "initial": 0,
       "n": 0,
       "ncols": null,
       "nrows": null,
       "postfix": null,
       "prefix": "Epoch 38/80",
       "rate": null,
       "total": 81,
       "unit": "it",
       "unit_divisor": 1000,
       "unit_scale": false
      },
      "application/vnd.jupyter.widget-view+json": {
       "model_id": "82e1a861c24f4b318078cc2a734f52e6",
       "version_major": 2,
       "version_minor": 0
      },
      "text/plain": [
       "Epoch 38/80:   0%|          | 0/81 [00:00<?, ?it/s]"
      ]
     },
     "metadata": {},
     "output_type": "display_data"
    },
    {
     "name": "stdout",
     "output_type": "stream",
     "text": [
      "\u001b[2m2023-05-04 21:02:22\u001b[0m [\u001b[32m\u001b[1minfo     \u001b[0m] \u001b[1mBCQ_20230504210118: epoch=38 step=3078\u001b[0m \u001b[36mepoch\u001b[0m=\u001b[35m38\u001b[0m \u001b[36mmetrics\u001b[0m=\u001b[35m{'time_sample_batch': 0.0002910472728587963, 'time_algorithm_update': 0.019359429677327473, 'imitator_loss': 0.008593121330817173, 'critic_loss': 217.06708073100927, 'actor_loss': -18.635358975257404, 'time_step': 0.01973062680091387}\u001b[0m \u001b[36mstep\u001b[0m=\u001b[35m3078\u001b[0m\n",
      "\u001b[2m2023-05-04 21:02:22\u001b[0m [\u001b[32m\u001b[1minfo     \u001b[0m] \u001b[1mModel parameters are saved to d3rlpy_logs/BCQ_20230504210118/model_3078.pt\u001b[0m\n"
     ]
    },
    {
     "data": {
      "application/json": {
       "ascii": false,
       "bar_format": null,
       "colour": null,
       "elapsed": 0.006766796112060547,
       "initial": 0,
       "n": 0,
       "ncols": null,
       "nrows": null,
       "postfix": null,
       "prefix": "Epoch 39/80",
       "rate": null,
       "total": 81,
       "unit": "it",
       "unit_divisor": 1000,
       "unit_scale": false
      },
      "application/vnd.jupyter.widget-view+json": {
       "model_id": "9be3b0f005c446d5a9f24787e3b929c1",
       "version_major": 2,
       "version_minor": 0
      },
      "text/plain": [
       "Epoch 39/80:   0%|          | 0/81 [00:00<?, ?it/s]"
      ]
     },
     "metadata": {},
     "output_type": "display_data"
    },
    {
     "name": "stdout",
     "output_type": "stream",
     "text": [
      "\u001b[2m2023-05-04 21:02:24\u001b[0m [\u001b[32m\u001b[1minfo     \u001b[0m] \u001b[1mBCQ_20230504210118: epoch=39 step=3159\u001b[0m \u001b[36mepoch\u001b[0m=\u001b[35m39\u001b[0m \u001b[36mmetrics\u001b[0m=\u001b[35m{'time_sample_batch': 0.0003031506950472608, 'time_algorithm_update': 0.01977776598047327, 'imitator_loss': 0.008561335383328024, 'critic_loss': 217.6804795226105, 'actor_loss': -19.11231971081392, 'time_step': 0.02016476054250458}\u001b[0m \u001b[36mstep\u001b[0m=\u001b[35m3159\u001b[0m\n",
      "\u001b[2m2023-05-04 21:02:24\u001b[0m [\u001b[32m\u001b[1minfo     \u001b[0m] \u001b[1mModel parameters are saved to d3rlpy_logs/BCQ_20230504210118/model_3159.pt\u001b[0m\n"
     ]
    },
    {
     "data": {
      "application/json": {
       "ascii": false,
       "bar_format": null,
       "colour": null,
       "elapsed": 0.004734992980957031,
       "initial": 0,
       "n": 0,
       "ncols": null,
       "nrows": null,
       "postfix": null,
       "prefix": "Epoch 40/80",
       "rate": null,
       "total": 81,
       "unit": "it",
       "unit_divisor": 1000,
       "unit_scale": false
      },
      "application/vnd.jupyter.widget-view+json": {
       "model_id": "6a6ce7f017324bedbb581f955c8549be",
       "version_major": 2,
       "version_minor": 0
      },
      "text/plain": [
       "Epoch 40/80:   0%|          | 0/81 [00:00<?, ?it/s]"
      ]
     },
     "metadata": {},
     "output_type": "display_data"
    },
    {
     "name": "stdout",
     "output_type": "stream",
     "text": [
      "\u001b[2m2023-05-04 21:02:26\u001b[0m [\u001b[32m\u001b[1minfo     \u001b[0m] \u001b[1mBCQ_20230504210118: epoch=40 step=3240\u001b[0m \u001b[36mepoch\u001b[0m=\u001b[35m40\u001b[0m \u001b[36mmetrics\u001b[0m=\u001b[35m{'time_sample_batch': 0.00030450173366216964, 'time_algorithm_update': 0.019567498454341182, 'imitator_loss': 0.008567064672846484, 'critic_loss': 207.93111621367711, 'actor_loss': -19.40344695103021, 'time_step': 0.01995435467472783}\u001b[0m \u001b[36mstep\u001b[0m=\u001b[35m3240\u001b[0m\n",
      "\u001b[2m2023-05-04 21:02:26\u001b[0m [\u001b[32m\u001b[1minfo     \u001b[0m] \u001b[1mModel parameters are saved to d3rlpy_logs/BCQ_20230504210118/model_3240.pt\u001b[0m\n"
     ]
    },
    {
     "data": {
      "application/json": {
       "ascii": false,
       "bar_format": null,
       "colour": null,
       "elapsed": 0.004691123962402344,
       "initial": 0,
       "n": 0,
       "ncols": null,
       "nrows": null,
       "postfix": null,
       "prefix": "Epoch 41/80",
       "rate": null,
       "total": 81,
       "unit": "it",
       "unit_divisor": 1000,
       "unit_scale": false
      },
      "application/vnd.jupyter.widget-view+json": {
       "model_id": "3d1906b11d6947b8b464d67386ef9fa9",
       "version_major": 2,
       "version_minor": 0
      },
      "text/plain": [
       "Epoch 41/80:   0%|          | 0/81 [00:00<?, ?it/s]"
      ]
     },
     "metadata": {},
     "output_type": "display_data"
    },
    {
     "name": "stdout",
     "output_type": "stream",
     "text": [
      "\u001b[2m2023-05-04 21:02:27\u001b[0m [\u001b[32m\u001b[1minfo     \u001b[0m] \u001b[1mBCQ_20230504210118: epoch=41 step=3321\u001b[0m \u001b[36mepoch\u001b[0m=\u001b[35m41\u001b[0m \u001b[36mmetrics\u001b[0m=\u001b[35m{'time_sample_batch': 0.0004039517155400029, 'time_algorithm_update': 0.01981258981021834, 'imitator_loss': 0.008580409530780198, 'critic_loss': 204.1167601597162, 'actor_loss': -19.861642672691815, 'time_step': 0.020297812826839495}\u001b[0m \u001b[36mstep\u001b[0m=\u001b[35m3321\u001b[0m\n",
      "\u001b[2m2023-05-04 21:02:27\u001b[0m [\u001b[32m\u001b[1minfo     \u001b[0m] \u001b[1mModel parameters are saved to d3rlpy_logs/BCQ_20230504210118/model_3321.pt\u001b[0m\n"
     ]
    },
    {
     "data": {
      "application/json": {
       "ascii": false,
       "bar_format": null,
       "colour": null,
       "elapsed": 0.006655216217041016,
       "initial": 0,
       "n": 0,
       "ncols": null,
       "nrows": null,
       "postfix": null,
       "prefix": "Epoch 42/80",
       "rate": null,
       "total": 81,
       "unit": "it",
       "unit_divisor": 1000,
       "unit_scale": false
      },
      "application/vnd.jupyter.widget-view+json": {
       "model_id": "65ea14d9571d4aad980fa9d3be75b732",
       "version_major": 2,
       "version_minor": 0
      },
      "text/plain": [
       "Epoch 42/80:   0%|          | 0/81 [00:00<?, ?it/s]"
      ]
     },
     "metadata": {},
     "output_type": "display_data"
    },
    {
     "name": "stdout",
     "output_type": "stream",
     "text": [
      "\u001b[2m2023-05-04 21:02:29\u001b[0m [\u001b[32m\u001b[1minfo     \u001b[0m] \u001b[1mBCQ_20230504210118: epoch=42 step=3402\u001b[0m \u001b[36mepoch\u001b[0m=\u001b[35m42\u001b[0m \u001b[36mmetrics\u001b[0m=\u001b[35m{'time_sample_batch': 0.00029250721872588735, 'time_algorithm_update': 0.01954695913526747, 'imitator_loss': 0.008572966032833964, 'critic_loss': 212.1454207389443, 'actor_loss': -20.22589820108296, 'time_step': 0.01992030202606578}\u001b[0m \u001b[36mstep\u001b[0m=\u001b[35m3402\u001b[0m\n",
      "\u001b[2m2023-05-04 21:02:29\u001b[0m [\u001b[32m\u001b[1minfo     \u001b[0m] \u001b[1mModel parameters are saved to d3rlpy_logs/BCQ_20230504210118/model_3402.pt\u001b[0m\n"
     ]
    },
    {
     "data": {
      "application/json": {
       "ascii": false,
       "bar_format": null,
       "colour": null,
       "elapsed": 0.004607439041137695,
       "initial": 0,
       "n": 0,
       "ncols": null,
       "nrows": null,
       "postfix": null,
       "prefix": "Epoch 43/80",
       "rate": null,
       "total": 81,
       "unit": "it",
       "unit_divisor": 1000,
       "unit_scale": false
      },
      "application/vnd.jupyter.widget-view+json": {
       "model_id": "96b6b909073d4876a928350fbb673d2f",
       "version_major": 2,
       "version_minor": 0
      },
      "text/plain": [
       "Epoch 43/80:   0%|          | 0/81 [00:00<?, ?it/s]"
      ]
     },
     "metadata": {},
     "output_type": "display_data"
    },
    {
     "name": "stdout",
     "output_type": "stream",
     "text": [
      "\u001b[2m2023-05-04 21:02:31\u001b[0m [\u001b[32m\u001b[1minfo     \u001b[0m] \u001b[1mBCQ_20230504210118: epoch=43 step=3483\u001b[0m \u001b[36mepoch\u001b[0m=\u001b[35m43\u001b[0m \u001b[36mmetrics\u001b[0m=\u001b[35m{'time_sample_batch': 0.00030634727007077065, 'time_algorithm_update': 0.019667431160255714, 'imitator_loss': 0.00855419520334697, 'critic_loss': 207.344197915798, 'actor_loss': -20.76913390924901, 'time_step': 0.020058525933159724}\u001b[0m \u001b[36mstep\u001b[0m=\u001b[35m3483\u001b[0m\n",
      "\u001b[2m2023-05-04 21:02:31\u001b[0m [\u001b[32m\u001b[1minfo     \u001b[0m] \u001b[1mModel parameters are saved to d3rlpy_logs/BCQ_20230504210118/model_3483.pt\u001b[0m\n"
     ]
    },
    {
     "data": {
      "application/json": {
       "ascii": false,
       "bar_format": null,
       "colour": null,
       "elapsed": 0.005608558654785156,
       "initial": 0,
       "n": 0,
       "ncols": null,
       "nrows": null,
       "postfix": null,
       "prefix": "Epoch 44/80",
       "rate": null,
       "total": 81,
       "unit": "it",
       "unit_divisor": 1000,
       "unit_scale": false
      },
      "application/vnd.jupyter.widget-view+json": {
       "model_id": "08a1818ff40942c5942900e5c00528b8",
       "version_major": 2,
       "version_minor": 0
      },
      "text/plain": [
       "Epoch 44/80:   0%|          | 0/81 [00:00<?, ?it/s]"
      ]
     },
     "metadata": {},
     "output_type": "display_data"
    },
    {
     "name": "stdout",
     "output_type": "stream",
     "text": [
      "\u001b[2m2023-05-04 21:02:32\u001b[0m [\u001b[32m\u001b[1minfo     \u001b[0m] \u001b[1mBCQ_20230504210118: epoch=44 step=3564\u001b[0m \u001b[36mepoch\u001b[0m=\u001b[35m44\u001b[0m \u001b[36mmetrics\u001b[0m=\u001b[35m{'time_sample_batch': 0.00030345092585057386, 'time_algorithm_update': 0.019676379215570142, 'imitator_loss': 0.008593746001061834, 'critic_loss': 208.2647953795982, 'actor_loss': -21.002663388664338, 'time_step': 0.020062690899695878}\u001b[0m \u001b[36mstep\u001b[0m=\u001b[35m3564\u001b[0m\n",
      "\u001b[2m2023-05-04 21:02:33\u001b[0m [\u001b[32m\u001b[1minfo     \u001b[0m] \u001b[1mModel parameters are saved to d3rlpy_logs/BCQ_20230504210118/model_3564.pt\u001b[0m\n"
     ]
    },
    {
     "data": {
      "application/json": {
       "ascii": false,
       "bar_format": null,
       "colour": null,
       "elapsed": 0.0061490535736083984,
       "initial": 0,
       "n": 0,
       "ncols": null,
       "nrows": null,
       "postfix": null,
       "prefix": "Epoch 45/80",
       "rate": null,
       "total": 81,
       "unit": "it",
       "unit_divisor": 1000,
       "unit_scale": false
      },
      "application/vnd.jupyter.widget-view+json": {
       "model_id": "a871024c84a847ccb5187133a3dbfbf1",
       "version_major": 2,
       "version_minor": 0
      },
      "text/plain": [
       "Epoch 45/80:   0%|          | 0/81 [00:00<?, ?it/s]"
      ]
     },
     "metadata": {},
     "output_type": "display_data"
    },
    {
     "name": "stdout",
     "output_type": "stream",
     "text": [
      "\u001b[2m2023-05-04 21:02:34\u001b[0m [\u001b[32m\u001b[1minfo     \u001b[0m] \u001b[1mBCQ_20230504210118: epoch=45 step=3645\u001b[0m \u001b[36mepoch\u001b[0m=\u001b[35m45\u001b[0m \u001b[36mmetrics\u001b[0m=\u001b[35m{'time_sample_batch': 0.00030498151425962096, 'time_algorithm_update': 0.019568967230526018, 'imitator_loss': 0.008574647300037336, 'critic_loss': 204.33430000219815, 'actor_loss': -21.427218707991234, 'time_step': 0.01995798099188157}\u001b[0m \u001b[36mstep\u001b[0m=\u001b[35m3645\u001b[0m\n",
      "\u001b[2m2023-05-04 21:02:34\u001b[0m [\u001b[32m\u001b[1minfo     \u001b[0m] \u001b[1mModel parameters are saved to d3rlpy_logs/BCQ_20230504210118/model_3645.pt\u001b[0m\n"
     ]
    },
    {
     "data": {
      "application/json": {
       "ascii": false,
       "bar_format": null,
       "colour": null,
       "elapsed": 0.005720615386962891,
       "initial": 0,
       "n": 0,
       "ncols": null,
       "nrows": null,
       "postfix": null,
       "prefix": "Epoch 46/80",
       "rate": null,
       "total": 81,
       "unit": "it",
       "unit_divisor": 1000,
       "unit_scale": false
      },
      "application/vnd.jupyter.widget-view+json": {
       "model_id": "d635f76e0ec84a66bb8bda90bb0dd208",
       "version_major": 2,
       "version_minor": 0
      },
      "text/plain": [
       "Epoch 46/80:   0%|          | 0/81 [00:00<?, ?it/s]"
      ]
     },
     "metadata": {},
     "output_type": "display_data"
    },
    {
     "name": "stdout",
     "output_type": "stream",
     "text": [
      "\u001b[2m2023-05-04 21:02:36\u001b[0m [\u001b[32m\u001b[1minfo     \u001b[0m] \u001b[1mBCQ_20230504210118: epoch=46 step=3726\u001b[0m \u001b[36mepoch\u001b[0m=\u001b[35m46\u001b[0m \u001b[36mmetrics\u001b[0m=\u001b[35m{'time_sample_batch': 0.00031056521851339456, 'time_algorithm_update': 0.019859711329142254, 'imitator_loss': 0.008579743911086776, 'critic_loss': 203.23920614134383, 'actor_loss': -21.895208971000013, 'time_step': 0.020256433957888755}\u001b[0m \u001b[36mstep\u001b[0m=\u001b[35m3726\u001b[0m\n",
      "\u001b[2m2023-05-04 21:02:36\u001b[0m [\u001b[32m\u001b[1minfo     \u001b[0m] \u001b[1mModel parameters are saved to d3rlpy_logs/BCQ_20230504210118/model_3726.pt\u001b[0m\n"
     ]
    },
    {
     "data": {
      "application/json": {
       "ascii": false,
       "bar_format": null,
       "colour": null,
       "elapsed": 0.0057680606842041016,
       "initial": 0,
       "n": 0,
       "ncols": null,
       "nrows": null,
       "postfix": null,
       "prefix": "Epoch 47/80",
       "rate": null,
       "total": 81,
       "unit": "it",
       "unit_divisor": 1000,
       "unit_scale": false
      },
      "application/vnd.jupyter.widget-view+json": {
       "model_id": "6db80f2b69534cf4bf269dea143e3afb",
       "version_major": 2,
       "version_minor": 0
      },
      "text/plain": [
       "Epoch 47/80:   0%|          | 0/81 [00:00<?, ?it/s]"
      ]
     },
     "metadata": {},
     "output_type": "display_data"
    },
    {
     "name": "stdout",
     "output_type": "stream",
     "text": [
      "\u001b[2m2023-05-04 21:02:38\u001b[0m [\u001b[32m\u001b[1minfo     \u001b[0m] \u001b[1mBCQ_20230504210118: epoch=47 step=3807\u001b[0m \u001b[36mepoch\u001b[0m=\u001b[35m47\u001b[0m \u001b[36mmetrics\u001b[0m=\u001b[35m{'time_sample_batch': 0.00030515223373601464, 'time_algorithm_update': 0.019550223409393688, 'imitator_loss': 0.008588346807907024, 'critic_loss': 200.49648917380168, 'actor_loss': -22.212132936642494, 'time_step': 0.019940903157363705}\u001b[0m \u001b[36mstep\u001b[0m=\u001b[35m3807\u001b[0m\n",
      "\u001b[2m2023-05-04 21:02:38\u001b[0m [\u001b[32m\u001b[1minfo     \u001b[0m] \u001b[1mModel parameters are saved to d3rlpy_logs/BCQ_20230504210118/model_3807.pt\u001b[0m\n"
     ]
    },
    {
     "data": {
      "application/json": {
       "ascii": false,
       "bar_format": null,
       "colour": null,
       "elapsed": 0.005309104919433594,
       "initial": 0,
       "n": 0,
       "ncols": null,
       "nrows": null,
       "postfix": null,
       "prefix": "Epoch 48/80",
       "rate": null,
       "total": 81,
       "unit": "it",
       "unit_divisor": 1000,
       "unit_scale": false
      },
      "application/vnd.jupyter.widget-view+json": {
       "model_id": "efb82818bdd0409c9abc040f03dbb021",
       "version_major": 2,
       "version_minor": 0
      },
      "text/plain": [
       "Epoch 48/80:   0%|          | 0/81 [00:00<?, ?it/s]"
      ]
     },
     "metadata": {},
     "output_type": "display_data"
    },
    {
     "name": "stdout",
     "output_type": "stream",
     "text": [
      "\u001b[2m2023-05-04 21:02:39\u001b[0m [\u001b[32m\u001b[1minfo     \u001b[0m] \u001b[1mBCQ_20230504210118: epoch=48 step=3888\u001b[0m \u001b[36mepoch\u001b[0m=\u001b[35m48\u001b[0m \u001b[36mmetrics\u001b[0m=\u001b[35m{'time_sample_batch': 0.0003171202577190635, 'time_algorithm_update': 0.019863102171156142, 'imitator_loss': 0.008580992389240382, 'critic_loss': 197.15230824623578, 'actor_loss': -22.61043404944149, 'time_step': 0.020267039169499904}\u001b[0m \u001b[36mstep\u001b[0m=\u001b[35m3888\u001b[0m\n",
      "\u001b[2m2023-05-04 21:02:39\u001b[0m [\u001b[32m\u001b[1minfo     \u001b[0m] \u001b[1mModel parameters are saved to d3rlpy_logs/BCQ_20230504210118/model_3888.pt\u001b[0m\n"
     ]
    },
    {
     "data": {
      "application/json": {
       "ascii": false,
       "bar_format": null,
       "colour": null,
       "elapsed": 0.005576372146606445,
       "initial": 0,
       "n": 0,
       "ncols": null,
       "nrows": null,
       "postfix": null,
       "prefix": "Epoch 49/80",
       "rate": null,
       "total": 81,
       "unit": "it",
       "unit_divisor": 1000,
       "unit_scale": false
      },
      "application/vnd.jupyter.widget-view+json": {
       "model_id": "274fb30b638a4a1f8fab6c3c883e9c1d",
       "version_major": 2,
       "version_minor": 0
      },
      "text/plain": [
       "Epoch 49/80:   0%|          | 0/81 [00:00<?, ?it/s]"
      ]
     },
     "metadata": {},
     "output_type": "display_data"
    },
    {
     "name": "stdout",
     "output_type": "stream",
     "text": [
      "\u001b[2m2023-05-04 21:02:41\u001b[0m [\u001b[32m\u001b[1minfo     \u001b[0m] \u001b[1mBCQ_20230504210118: epoch=49 step=3969\u001b[0m \u001b[36mepoch\u001b[0m=\u001b[35m49\u001b[0m \u001b[36mmetrics\u001b[0m=\u001b[35m{'time_sample_batch': 0.0003302568270836347, 'time_algorithm_update': 0.02022744991161205, 'imitator_loss': 0.00859149586248361, 'critic_loss': 196.63896854424183, 'actor_loss': -23.018530504203138, 'time_step': 0.02064745514481156}\u001b[0m \u001b[36mstep\u001b[0m=\u001b[35m3969\u001b[0m\n",
      "\u001b[2m2023-05-04 21:02:41\u001b[0m [\u001b[32m\u001b[1minfo     \u001b[0m] \u001b[1mModel parameters are saved to d3rlpy_logs/BCQ_20230504210118/model_3969.pt\u001b[0m\n"
     ]
    },
    {
     "data": {
      "application/json": {
       "ascii": false,
       "bar_format": null,
       "colour": null,
       "elapsed": 0.0050580501556396484,
       "initial": 0,
       "n": 0,
       "ncols": null,
       "nrows": null,
       "postfix": null,
       "prefix": "Epoch 50/80",
       "rate": null,
       "total": 81,
       "unit": "it",
       "unit_divisor": 1000,
       "unit_scale": false
      },
      "application/vnd.jupyter.widget-view+json": {
       "model_id": "4142f82f25914d6b9d38c6bd5079f55d",
       "version_major": 2,
       "version_minor": 0
      },
      "text/plain": [
       "Epoch 50/80:   0%|          | 0/81 [00:00<?, ?it/s]"
      ]
     },
     "metadata": {},
     "output_type": "display_data"
    },
    {
     "name": "stdout",
     "output_type": "stream",
     "text": [
      "\u001b[2m2023-05-04 21:02:43\u001b[0m [\u001b[32m\u001b[1minfo     \u001b[0m] \u001b[1mBCQ_20230504210118: epoch=50 step=4050\u001b[0m \u001b[36mepoch\u001b[0m=\u001b[35m50\u001b[0m \u001b[36mmetrics\u001b[0m=\u001b[35m{'time_sample_batch': 0.0002751085493299696, 'time_algorithm_update': 0.019288419205465434, 'imitator_loss': 0.008578642863596294, 'critic_loss': 194.3654245366285, 'actor_loss': -23.395609820330584, 'time_step': 0.01964350982948586}\u001b[0m \u001b[36mstep\u001b[0m=\u001b[35m4050\u001b[0m\n",
      "\u001b[2m2023-05-04 21:02:43\u001b[0m [\u001b[32m\u001b[1minfo     \u001b[0m] \u001b[1mModel parameters are saved to d3rlpy_logs/BCQ_20230504210118/model_4050.pt\u001b[0m\n"
     ]
    },
    {
     "data": {
      "application/json": {
       "ascii": false,
       "bar_format": null,
       "colour": null,
       "elapsed": 0.00659632682800293,
       "initial": 0,
       "n": 0,
       "ncols": null,
       "nrows": null,
       "postfix": null,
       "prefix": "Epoch 51/80",
       "rate": null,
       "total": 81,
       "unit": "it",
       "unit_divisor": 1000,
       "unit_scale": false
      },
      "application/vnd.jupyter.widget-view+json": {
       "model_id": "5b314100fc7248458218b37480fc3d65",
       "version_major": 2,
       "version_minor": 0
      },
      "text/plain": [
       "Epoch 51/80:   0%|          | 0/81 [00:00<?, ?it/s]"
      ]
     },
     "metadata": {},
     "output_type": "display_data"
    },
    {
     "name": "stdout",
     "output_type": "stream",
     "text": [
      "\u001b[2m2023-05-04 21:02:44\u001b[0m [\u001b[32m\u001b[1minfo     \u001b[0m] \u001b[1mBCQ_20230504210118: epoch=51 step=4131\u001b[0m \u001b[36mepoch\u001b[0m=\u001b[35m51\u001b[0m \u001b[36mmetrics\u001b[0m=\u001b[35m{'time_sample_batch': 0.0002807216879762249, 'time_algorithm_update': 0.019557487817458166, 'imitator_loss': 0.008567929371363588, 'critic_loss': 192.8705237272805, 'actor_loss': -23.737825723341953, 'time_step': 0.019916340156837745}\u001b[0m \u001b[36mstep\u001b[0m=\u001b[35m4131\u001b[0m\n",
      "\u001b[2m2023-05-04 21:02:44\u001b[0m [\u001b[32m\u001b[1minfo     \u001b[0m] \u001b[1mModel parameters are saved to d3rlpy_logs/BCQ_20230504210118/model_4131.pt\u001b[0m\n"
     ]
    },
    {
     "data": {
      "application/json": {
       "ascii": false,
       "bar_format": null,
       "colour": null,
       "elapsed": 0.005389213562011719,
       "initial": 0,
       "n": 0,
       "ncols": null,
       "nrows": null,
       "postfix": null,
       "prefix": "Epoch 52/80",
       "rate": null,
       "total": 81,
       "unit": "it",
       "unit_divisor": 1000,
       "unit_scale": false
      },
      "application/vnd.jupyter.widget-view+json": {
       "model_id": "fdd56680c00f4b908bf65682b77ec12c",
       "version_major": 2,
       "version_minor": 0
      },
      "text/plain": [
       "Epoch 52/80:   0%|          | 0/81 [00:00<?, ?it/s]"
      ]
     },
     "metadata": {},
     "output_type": "display_data"
    },
    {
     "name": "stdout",
     "output_type": "stream",
     "text": [
      "\u001b[2m2023-05-04 21:02:46\u001b[0m [\u001b[32m\u001b[1minfo     \u001b[0m] \u001b[1mBCQ_20230504210118: epoch=52 step=4212\u001b[0m \u001b[36mepoch\u001b[0m=\u001b[35m52\u001b[0m \u001b[36mmetrics\u001b[0m=\u001b[35m{'time_sample_batch': 0.0002744021239104094, 'time_algorithm_update': 0.01943147035292637, 'imitator_loss': 0.008563689174659458, 'critic_loss': 192.4923261663428, 'actor_loss': -24.069495730929905, 'time_step': 0.019786743470180182}\u001b[0m \u001b[36mstep\u001b[0m=\u001b[35m4212\u001b[0m\n",
      "\u001b[2m2023-05-04 21:02:46\u001b[0m [\u001b[32m\u001b[1minfo     \u001b[0m] \u001b[1mModel parameters are saved to d3rlpy_logs/BCQ_20230504210118/model_4212.pt\u001b[0m\n"
     ]
    },
    {
     "data": {
      "application/json": {
       "ascii": false,
       "bar_format": null,
       "colour": null,
       "elapsed": 0.005341768264770508,
       "initial": 0,
       "n": 0,
       "ncols": null,
       "nrows": null,
       "postfix": null,
       "prefix": "Epoch 53/80",
       "rate": null,
       "total": 81,
       "unit": "it",
       "unit_divisor": 1000,
       "unit_scale": false
      },
      "application/vnd.jupyter.widget-view+json": {
       "model_id": "b69befbc9adb448f9ab5b616a77dc479",
       "version_major": 2,
       "version_minor": 0
      },
      "text/plain": [
       "Epoch 53/80:   0%|          | 0/81 [00:00<?, ?it/s]"
      ]
     },
     "metadata": {},
     "output_type": "display_data"
    },
    {
     "name": "stdout",
     "output_type": "stream",
     "text": [
      "\u001b[2m2023-05-04 21:02:48\u001b[0m [\u001b[32m\u001b[1minfo     \u001b[0m] \u001b[1mBCQ_20230504210118: epoch=53 step=4293\u001b[0m \u001b[36mepoch\u001b[0m=\u001b[35m53\u001b[0m \u001b[36mmetrics\u001b[0m=\u001b[35m{'time_sample_batch': 0.0002870530257990331, 'time_algorithm_update': 0.019594195448322062, 'imitator_loss': 0.008632757091595803, 'critic_loss': 187.36710734978135, 'actor_loss': -24.482150631186403, 'time_step': 0.019959888340514383}\u001b[0m \u001b[36mstep\u001b[0m=\u001b[35m4293\u001b[0m\n",
      "\u001b[2m2023-05-04 21:02:48\u001b[0m [\u001b[32m\u001b[1minfo     \u001b[0m] \u001b[1mModel parameters are saved to d3rlpy_logs/BCQ_20230504210118/model_4293.pt\u001b[0m\n"
     ]
    },
    {
     "data": {
      "application/json": {
       "ascii": false,
       "bar_format": null,
       "colour": null,
       "elapsed": 0.006079912185668945,
       "initial": 0,
       "n": 0,
       "ncols": null,
       "nrows": null,
       "postfix": null,
       "prefix": "Epoch 54/80",
       "rate": null,
       "total": 81,
       "unit": "it",
       "unit_divisor": 1000,
       "unit_scale": false
      },
      "application/vnd.jupyter.widget-view+json": {
       "model_id": "19ca6e447d034a418a889d66c809b70b",
       "version_major": 2,
       "version_minor": 0
      },
      "text/plain": [
       "Epoch 54/80:   0%|          | 0/81 [00:00<?, ?it/s]"
      ]
     },
     "metadata": {},
     "output_type": "display_data"
    },
    {
     "name": "stdout",
     "output_type": "stream",
     "text": [
      "\u001b[2m2023-05-04 21:02:49\u001b[0m [\u001b[32m\u001b[1minfo     \u001b[0m] \u001b[1mBCQ_20230504210118: epoch=54 step=4374\u001b[0m \u001b[36mepoch\u001b[0m=\u001b[35m54\u001b[0m \u001b[36mmetrics\u001b[0m=\u001b[35m{'time_sample_batch': 0.0002793412149688344, 'time_algorithm_update': 0.019350210825602215, 'imitator_loss': 0.008576859472848383, 'critic_loss': 185.3161191697014, 'actor_loss': -24.87325272736726, 'time_step': 0.019709590040607218}\u001b[0m \u001b[36mstep\u001b[0m=\u001b[35m4374\u001b[0m\n",
      "\u001b[2m2023-05-04 21:02:49\u001b[0m [\u001b[32m\u001b[1minfo     \u001b[0m] \u001b[1mModel parameters are saved to d3rlpy_logs/BCQ_20230504210118/model_4374.pt\u001b[0m\n"
     ]
    },
    {
     "data": {
      "application/json": {
       "ascii": false,
       "bar_format": null,
       "colour": null,
       "elapsed": 0.004933357238769531,
       "initial": 0,
       "n": 0,
       "ncols": null,
       "nrows": null,
       "postfix": null,
       "prefix": "Epoch 55/80",
       "rate": null,
       "total": 81,
       "unit": "it",
       "unit_divisor": 1000,
       "unit_scale": false
      },
      "application/vnd.jupyter.widget-view+json": {
       "model_id": "76d142260e854b7fa94eaaa6f1b67db6",
       "version_major": 2,
       "version_minor": 0
      },
      "text/plain": [
       "Epoch 55/80:   0%|          | 0/81 [00:00<?, ?it/s]"
      ]
     },
     "metadata": {},
     "output_type": "display_data"
    },
    {
     "name": "stdout",
     "output_type": "stream",
     "text": [
      "\u001b[2m2023-05-04 21:02:51\u001b[0m [\u001b[32m\u001b[1minfo     \u001b[0m] \u001b[1mBCQ_20230504210118: epoch=55 step=4455\u001b[0m \u001b[36mepoch\u001b[0m=\u001b[35m55\u001b[0m \u001b[36mmetrics\u001b[0m=\u001b[35m{'time_sample_batch': 0.0002891575848614728, 'time_algorithm_update': 0.0195412900712755, 'imitator_loss': 0.008551271632313728, 'critic_loss': 187.54402527728197, 'actor_loss': -25.242511419602383, 'time_step': 0.019911857298862787}\u001b[0m \u001b[36mstep\u001b[0m=\u001b[35m4455\u001b[0m\n",
      "\u001b[2m2023-05-04 21:02:51\u001b[0m [\u001b[32m\u001b[1minfo     \u001b[0m] \u001b[1mModel parameters are saved to d3rlpy_logs/BCQ_20230504210118/model_4455.pt\u001b[0m\n"
     ]
    },
    {
     "data": {
      "application/json": {
       "ascii": false,
       "bar_format": null,
       "colour": null,
       "elapsed": 0.004507541656494141,
       "initial": 0,
       "n": 0,
       "ncols": null,
       "nrows": null,
       "postfix": null,
       "prefix": "Epoch 56/80",
       "rate": null,
       "total": 81,
       "unit": "it",
       "unit_divisor": 1000,
       "unit_scale": false
      },
      "application/vnd.jupyter.widget-view+json": {
       "model_id": "162dc26316f0401c819056e323dd0bde",
       "version_major": 2,
       "version_minor": 0
      },
      "text/plain": [
       "Epoch 56/80:   0%|          | 0/81 [00:00<?, ?it/s]"
      ]
     },
     "metadata": {},
     "output_type": "display_data"
    },
    {
     "name": "stdout",
     "output_type": "stream",
     "text": [
      "\u001b[2m2023-05-04 21:02:53\u001b[0m [\u001b[32m\u001b[1minfo     \u001b[0m] \u001b[1mBCQ_20230504210118: epoch=56 step=4536\u001b[0m \u001b[36mepoch\u001b[0m=\u001b[35m56\u001b[0m \u001b[36mmetrics\u001b[0m=\u001b[35m{'time_sample_batch': 0.0002896197048234351, 'time_algorithm_update': 0.019960156193485967, 'imitator_loss': 0.008584547448719356, 'critic_loss': 183.81578587308343, 'actor_loss': -25.6595144154113, 'time_step': 0.020333346025443372}\u001b[0m \u001b[36mstep\u001b[0m=\u001b[35m4536\u001b[0m\n",
      "\u001b[2m2023-05-04 21:02:53\u001b[0m [\u001b[32m\u001b[1minfo     \u001b[0m] \u001b[1mModel parameters are saved to d3rlpy_logs/BCQ_20230504210118/model_4536.pt\u001b[0m\n"
     ]
    },
    {
     "data": {
      "application/json": {
       "ascii": false,
       "bar_format": null,
       "colour": null,
       "elapsed": 0.004924774169921875,
       "initial": 0,
       "n": 0,
       "ncols": null,
       "nrows": null,
       "postfix": null,
       "prefix": "Epoch 57/80",
       "rate": null,
       "total": 81,
       "unit": "it",
       "unit_divisor": 1000,
       "unit_scale": false
      },
      "application/vnd.jupyter.widget-view+json": {
       "model_id": "3d7e7828d37a4d8e903a477666def2c2",
       "version_major": 2,
       "version_minor": 0
      },
      "text/plain": [
       "Epoch 57/80:   0%|          | 0/81 [00:00<?, ?it/s]"
      ]
     },
     "metadata": {},
     "output_type": "display_data"
    },
    {
     "name": "stdout",
     "output_type": "stream",
     "text": [
      "\u001b[2m2023-05-04 21:02:54\u001b[0m [\u001b[32m\u001b[1minfo     \u001b[0m] \u001b[1mBCQ_20230504210118: epoch=57 step=4617\u001b[0m \u001b[36mepoch\u001b[0m=\u001b[35m57\u001b[0m \u001b[36mmetrics\u001b[0m=\u001b[35m{'time_sample_batch': 0.00029779657905484424, 'time_algorithm_update': 0.01975553712727111, 'imitator_loss': 0.00857699627953547, 'critic_loss': 182.74270579108486, 'actor_loss': -25.890892758781526, 'time_step': 0.020137336519029405}\u001b[0m \u001b[36mstep\u001b[0m=\u001b[35m4617\u001b[0m\n",
      "\u001b[2m2023-05-04 21:02:54\u001b[0m [\u001b[32m\u001b[1minfo     \u001b[0m] \u001b[1mModel parameters are saved to d3rlpy_logs/BCQ_20230504210118/model_4617.pt\u001b[0m\n"
     ]
    },
    {
     "data": {
      "application/json": {
       "ascii": false,
       "bar_format": null,
       "colour": null,
       "elapsed": 0.006042957305908203,
       "initial": 0,
       "n": 0,
       "ncols": null,
       "nrows": null,
       "postfix": null,
       "prefix": "Epoch 58/80",
       "rate": null,
       "total": 81,
       "unit": "it",
       "unit_divisor": 1000,
       "unit_scale": false
      },
      "application/vnd.jupyter.widget-view+json": {
       "model_id": "e4a672235961492e907a0dbbe150e8a5",
       "version_major": 2,
       "version_minor": 0
      },
      "text/plain": [
       "Epoch 58/80:   0%|          | 0/81 [00:00<?, ?it/s]"
      ]
     },
     "metadata": {},
     "output_type": "display_data"
    },
    {
     "name": "stdout",
     "output_type": "stream",
     "text": [
      "\u001b[2m2023-05-04 21:02:56\u001b[0m [\u001b[32m\u001b[1minfo     \u001b[0m] \u001b[1mBCQ_20230504210118: epoch=58 step=4698\u001b[0m \u001b[36mepoch\u001b[0m=\u001b[35m58\u001b[0m \u001b[36mmetrics\u001b[0m=\u001b[35m{'time_sample_batch': 0.0003050668739978178, 'time_algorithm_update': 0.019717749254203137, 'imitator_loss': 0.008564690576383361, 'critic_loss': 178.842926175575, 'actor_loss': -26.2914646760917, 'time_step': 0.020108458436565634}\u001b[0m \u001b[36mstep\u001b[0m=\u001b[35m4698\u001b[0m\n",
      "\u001b[2m2023-05-04 21:02:56\u001b[0m [\u001b[32m\u001b[1minfo     \u001b[0m] \u001b[1mModel parameters are saved to d3rlpy_logs/BCQ_20230504210118/model_4698.pt\u001b[0m\n"
     ]
    },
    {
     "data": {
      "application/json": {
       "ascii": false,
       "bar_format": null,
       "colour": null,
       "elapsed": 0.0050411224365234375,
       "initial": 0,
       "n": 0,
       "ncols": null,
       "nrows": null,
       "postfix": null,
       "prefix": "Epoch 59/80",
       "rate": null,
       "total": 81,
       "unit": "it",
       "unit_divisor": 1000,
       "unit_scale": false
      },
      "application/vnd.jupyter.widget-view+json": {
       "model_id": "3d67cccca5dc48f78f18b23e57ab7a8e",
       "version_major": 2,
       "version_minor": 0
      },
      "text/plain": [
       "Epoch 59/80:   0%|          | 0/81 [00:00<?, ?it/s]"
      ]
     },
     "metadata": {},
     "output_type": "display_data"
    },
    {
     "name": "stdout",
     "output_type": "stream",
     "text": [
      "\u001b[2m2023-05-04 21:02:58\u001b[0m [\u001b[32m\u001b[1minfo     \u001b[0m] \u001b[1mBCQ_20230504210118: epoch=59 step=4779\u001b[0m \u001b[36mepoch\u001b[0m=\u001b[35m59\u001b[0m \u001b[36mmetrics\u001b[0m=\u001b[35m{'time_sample_batch': 0.00030622070218309943, 'time_algorithm_update': 0.019873636740225332, 'imitator_loss': 0.00856865888438475, 'critic_loss': 178.17652978466387, 'actor_loss': -26.740089416503906, 'time_step': 0.02026771910396623}\u001b[0m \u001b[36mstep\u001b[0m=\u001b[35m4779\u001b[0m\n",
      "\u001b[2m2023-05-04 21:02:58\u001b[0m [\u001b[32m\u001b[1minfo     \u001b[0m] \u001b[1mModel parameters are saved to d3rlpy_logs/BCQ_20230504210118/model_4779.pt\u001b[0m\n"
     ]
    },
    {
     "data": {
      "application/json": {
       "ascii": false,
       "bar_format": null,
       "colour": null,
       "elapsed": 0.004934072494506836,
       "initial": 0,
       "n": 0,
       "ncols": null,
       "nrows": null,
       "postfix": null,
       "prefix": "Epoch 60/80",
       "rate": null,
       "total": 81,
       "unit": "it",
       "unit_divisor": 1000,
       "unit_scale": false
      },
      "application/vnd.jupyter.widget-view+json": {
       "model_id": "05f12a6a7ebb40f88297f59064f6802a",
       "version_major": 2,
       "version_minor": 0
      },
      "text/plain": [
       "Epoch 60/80:   0%|          | 0/81 [00:00<?, ?it/s]"
      ]
     },
     "metadata": {},
     "output_type": "display_data"
    },
    {
     "name": "stdout",
     "output_type": "stream",
     "text": [
      "\u001b[2m2023-05-04 21:02:59\u001b[0m [\u001b[32m\u001b[1minfo     \u001b[0m] \u001b[1mBCQ_20230504210118: epoch=60 step=4860\u001b[0m \u001b[36mepoch\u001b[0m=\u001b[35m60\u001b[0m \u001b[36mmetrics\u001b[0m=\u001b[35m{'time_sample_batch': 0.00033512821903935184, 'time_algorithm_update': 0.020614824177306375, 'imitator_loss': 0.008545585844757748, 'critic_loss': 176.15818910420307, 'actor_loss': -27.04816578052662, 'time_step': 0.02104204378010314}\u001b[0m \u001b[36mstep\u001b[0m=\u001b[35m4860\u001b[0m\n",
      "\u001b[2m2023-05-04 21:03:00\u001b[0m [\u001b[32m\u001b[1minfo     \u001b[0m] \u001b[1mModel parameters are saved to d3rlpy_logs/BCQ_20230504210118/model_4860.pt\u001b[0m\n"
     ]
    },
    {
     "data": {
      "application/json": {
       "ascii": false,
       "bar_format": null,
       "colour": null,
       "elapsed": 0.005583763122558594,
       "initial": 0,
       "n": 0,
       "ncols": null,
       "nrows": null,
       "postfix": null,
       "prefix": "Epoch 61/80",
       "rate": null,
       "total": 81,
       "unit": "it",
       "unit_divisor": 1000,
       "unit_scale": false
      },
      "application/vnd.jupyter.widget-view+json": {
       "model_id": "1bdc5fe2a2cd473eb7f15f5e33624fac",
       "version_major": 2,
       "version_minor": 0
      },
      "text/plain": [
       "Epoch 61/80:   0%|          | 0/81 [00:00<?, ?it/s]"
      ]
     },
     "metadata": {},
     "output_type": "display_data"
    },
    {
     "name": "stdout",
     "output_type": "stream",
     "text": [
      "\u001b[2m2023-05-04 21:03:01\u001b[0m [\u001b[32m\u001b[1minfo     \u001b[0m] \u001b[1mBCQ_20230504210118: epoch=61 step=4941\u001b[0m \u001b[36mepoch\u001b[0m=\u001b[35m61\u001b[0m \u001b[36mmetrics\u001b[0m=\u001b[35m{'time_sample_batch': 0.00033481915791829425, 'time_algorithm_update': 0.020199946415277174, 'imitator_loss': 0.008580900699958021, 'critic_loss': 168.20369695016632, 'actor_loss': -27.328501713128738, 'time_step': 0.020628475848539374}\u001b[0m \u001b[36mstep\u001b[0m=\u001b[35m4941\u001b[0m\n",
      "\u001b[2m2023-05-04 21:03:01\u001b[0m [\u001b[32m\u001b[1minfo     \u001b[0m] \u001b[1mModel parameters are saved to d3rlpy_logs/BCQ_20230504210118/model_4941.pt\u001b[0m\n"
     ]
    },
    {
     "data": {
      "application/json": {
       "ascii": false,
       "bar_format": null,
       "colour": null,
       "elapsed": 0.004575252532958984,
       "initial": 0,
       "n": 0,
       "ncols": null,
       "nrows": null,
       "postfix": null,
       "prefix": "Epoch 62/80",
       "rate": null,
       "total": 81,
       "unit": "it",
       "unit_divisor": 1000,
       "unit_scale": false
      },
      "application/vnd.jupyter.widget-view+json": {
       "model_id": "8432385bf93e4de6bf35b0ba5b510446",
       "version_major": 2,
       "version_minor": 0
      },
      "text/plain": [
       "Epoch 62/80:   0%|          | 0/81 [00:00<?, ?it/s]"
      ]
     },
     "metadata": {},
     "output_type": "display_data"
    },
    {
     "name": "stdout",
     "output_type": "stream",
     "text": [
      "\u001b[2m2023-05-04 21:03:03\u001b[0m [\u001b[32m\u001b[1minfo     \u001b[0m] \u001b[1mBCQ_20230504210118: epoch=62 step=5022\u001b[0m \u001b[36mepoch\u001b[0m=\u001b[35m62\u001b[0m \u001b[36mmetrics\u001b[0m=\u001b[35m{'time_sample_batch': 0.00032446119520399306, 'time_algorithm_update': 0.02027632866376712, 'imitator_loss': 0.008568738690680928, 'critic_loss': 174.49320276552973, 'actor_loss': -27.708910200330948, 'time_step': 0.020690882647479023}\u001b[0m \u001b[36mstep\u001b[0m=\u001b[35m5022\u001b[0m\n",
      "\u001b[2m2023-05-04 21:03:03\u001b[0m [\u001b[32m\u001b[1minfo     \u001b[0m] \u001b[1mModel parameters are saved to d3rlpy_logs/BCQ_20230504210118/model_5022.pt\u001b[0m\n"
     ]
    },
    {
     "data": {
      "application/json": {
       "ascii": false,
       "bar_format": null,
       "colour": null,
       "elapsed": 0.0062291622161865234,
       "initial": 0,
       "n": 0,
       "ncols": null,
       "nrows": null,
       "postfix": null,
       "prefix": "Epoch 63/80",
       "rate": null,
       "total": 81,
       "unit": "it",
       "unit_divisor": 1000,
       "unit_scale": false
      },
      "application/vnd.jupyter.widget-view+json": {
       "model_id": "eca44bc0314049b7aef4b976b72c2032",
       "version_major": 2,
       "version_minor": 0
      },
      "text/plain": [
       "Epoch 63/80:   0%|          | 0/81 [00:00<?, ?it/s]"
      ]
     },
     "metadata": {},
     "output_type": "display_data"
    },
    {
     "name": "stdout",
     "output_type": "stream",
     "text": [
      "\u001b[2m2023-05-04 21:03:05\u001b[0m [\u001b[32m\u001b[1minfo     \u001b[0m] \u001b[1mBCQ_20230504210118: epoch=63 step=5103\u001b[0m \u001b[36mepoch\u001b[0m=\u001b[35m63\u001b[0m \u001b[36mmetrics\u001b[0m=\u001b[35m{'time_sample_batch': 0.0003046871703348042, 'time_algorithm_update': 0.019693613052368164, 'imitator_loss': 0.00858806240958748, 'critic_loss': 172.9761761188231, 'actor_loss': -28.065712210572798, 'time_step': 0.02008332735226478}\u001b[0m \u001b[36mstep\u001b[0m=\u001b[35m5103\u001b[0m\n",
      "\u001b[2m2023-05-04 21:03:05\u001b[0m [\u001b[32m\u001b[1minfo     \u001b[0m] \u001b[1mModel parameters are saved to d3rlpy_logs/BCQ_20230504210118/model_5103.pt\u001b[0m\n"
     ]
    },
    {
     "data": {
      "application/json": {
       "ascii": false,
       "bar_format": null,
       "colour": null,
       "elapsed": 0.00478672981262207,
       "initial": 0,
       "n": 0,
       "ncols": null,
       "nrows": null,
       "postfix": null,
       "prefix": "Epoch 64/80",
       "rate": null,
       "total": 81,
       "unit": "it",
       "unit_divisor": 1000,
       "unit_scale": false
      },
      "application/vnd.jupyter.widget-view+json": {
       "model_id": "7985e6d5f48b40fdb5430905e0d3d7bb",
       "version_major": 2,
       "version_minor": 0
      },
      "text/plain": [
       "Epoch 64/80:   0%|          | 0/81 [00:00<?, ?it/s]"
      ]
     },
     "metadata": {},
     "output_type": "display_data"
    },
    {
     "name": "stdout",
     "output_type": "stream",
     "text": [
      "\u001b[2m2023-05-04 21:03:06\u001b[0m [\u001b[32m\u001b[1minfo     \u001b[0m] \u001b[1mBCQ_20230504210118: epoch=64 step=5184\u001b[0m \u001b[36mepoch\u001b[0m=\u001b[35m64\u001b[0m \u001b[36mmetrics\u001b[0m=\u001b[35m{'time_sample_batch': 0.0002975375564010055, 'time_algorithm_update': 0.019607682286957164, 'imitator_loss': 0.008581663441648821, 'critic_loss': 170.60141326652632, 'actor_loss': -28.43981476771979, 'time_step': 0.019987079832288954}\u001b[0m \u001b[36mstep\u001b[0m=\u001b[35m5184\u001b[0m\n",
      "\u001b[2m2023-05-04 21:03:06\u001b[0m [\u001b[32m\u001b[1minfo     \u001b[0m] \u001b[1mModel parameters are saved to d3rlpy_logs/BCQ_20230504210118/model_5184.pt\u001b[0m\n"
     ]
    },
    {
     "data": {
      "application/json": {
       "ascii": false,
       "bar_format": null,
       "colour": null,
       "elapsed": 0.007542133331298828,
       "initial": 0,
       "n": 0,
       "ncols": null,
       "nrows": null,
       "postfix": null,
       "prefix": "Epoch 65/80",
       "rate": null,
       "total": 81,
       "unit": "it",
       "unit_divisor": 1000,
       "unit_scale": false
      },
      "application/vnd.jupyter.widget-view+json": {
       "model_id": "464c4692148548b09eb1624d54b9417a",
       "version_major": 2,
       "version_minor": 0
      },
      "text/plain": [
       "Epoch 65/80:   0%|          | 0/81 [00:00<?, ?it/s]"
      ]
     },
     "metadata": {},
     "output_type": "display_data"
    },
    {
     "name": "stdout",
     "output_type": "stream",
     "text": [
      "\u001b[2m2023-05-04 21:03:08\u001b[0m [\u001b[32m\u001b[1minfo     \u001b[0m] \u001b[1mBCQ_20230504210118: epoch=65 step=5265\u001b[0m \u001b[36mepoch\u001b[0m=\u001b[35m65\u001b[0m \u001b[36mmetrics\u001b[0m=\u001b[35m{'time_sample_batch': 0.0002978054093725887, 'time_algorithm_update': 0.019540345227276837, 'imitator_loss': 0.0085637679748973, 'critic_loss': 167.77948281136744, 'actor_loss': -28.78329116915479, 'time_step': 0.019920516897130897}\u001b[0m \u001b[36mstep\u001b[0m=\u001b[35m5265\u001b[0m\n",
      "\u001b[2m2023-05-04 21:03:08\u001b[0m [\u001b[32m\u001b[1minfo     \u001b[0m] \u001b[1mModel parameters are saved to d3rlpy_logs/BCQ_20230504210118/model_5265.pt\u001b[0m\n"
     ]
    },
    {
     "data": {
      "application/json": {
       "ascii": false,
       "bar_format": null,
       "colour": null,
       "elapsed": 0.004858255386352539,
       "initial": 0,
       "n": 0,
       "ncols": null,
       "nrows": null,
       "postfix": null,
       "prefix": "Epoch 66/80",
       "rate": null,
       "total": 81,
       "unit": "it",
       "unit_divisor": 1000,
       "unit_scale": false
      },
      "application/vnd.jupyter.widget-view+json": {
       "model_id": "50a900d85c5543558a4bebc1ae322074",
       "version_major": 2,
       "version_minor": 0
      },
      "text/plain": [
       "Epoch 66/80:   0%|          | 0/81 [00:00<?, ?it/s]"
      ]
     },
     "metadata": {},
     "output_type": "display_data"
    },
    {
     "name": "stdout",
     "output_type": "stream",
     "text": [
      "\u001b[2m2023-05-04 21:03:10\u001b[0m [\u001b[32m\u001b[1minfo     \u001b[0m] \u001b[1mBCQ_20230504210118: epoch=66 step=5346\u001b[0m \u001b[36mepoch\u001b[0m=\u001b[35m66\u001b[0m \u001b[36mmetrics\u001b[0m=\u001b[35m{'time_sample_batch': 0.0002961129318048925, 'time_algorithm_update': 0.019559536451174888, 'imitator_loss': 0.008569841135155272, 'critic_loss': 169.29991422901736, 'actor_loss': -29.003870763896423, 'time_step': 0.019939419663982626}\u001b[0m \u001b[36mstep\u001b[0m=\u001b[35m5346\u001b[0m\n",
      "\u001b[2m2023-05-04 21:03:10\u001b[0m [\u001b[32m\u001b[1minfo     \u001b[0m] \u001b[1mModel parameters are saved to d3rlpy_logs/BCQ_20230504210118/model_5346.pt\u001b[0m\n"
     ]
    },
    {
     "data": {
      "application/json": {
       "ascii": false,
       "bar_format": null,
       "colour": null,
       "elapsed": 0.00558781623840332,
       "initial": 0,
       "n": 0,
       "ncols": null,
       "nrows": null,
       "postfix": null,
       "prefix": "Epoch 67/80",
       "rate": null,
       "total": 81,
       "unit": "it",
       "unit_divisor": 1000,
       "unit_scale": false
      },
      "application/vnd.jupyter.widget-view+json": {
       "model_id": "abe6fd57a41248e5a444a6c01ddaa09a",
       "version_major": 2,
       "version_minor": 0
      },
      "text/plain": [
       "Epoch 67/80:   0%|          | 0/81 [00:00<?, ?it/s]"
      ]
     },
     "metadata": {},
     "output_type": "display_data"
    },
    {
     "name": "stdout",
     "output_type": "stream",
     "text": [
      "\u001b[2m2023-05-04 21:03:11\u001b[0m [\u001b[32m\u001b[1minfo     \u001b[0m] \u001b[1mBCQ_20230504210118: epoch=67 step=5427\u001b[0m \u001b[36mepoch\u001b[0m=\u001b[35m67\u001b[0m \u001b[36mmetrics\u001b[0m=\u001b[35m{'time_sample_batch': 0.0003034744733645592, 'time_algorithm_update': 0.019954696113680614, 'imitator_loss': 0.008584248212476572, 'critic_loss': 165.37565677079522, 'actor_loss': -29.41000516915027, 'time_step': 0.02034114319601177}\u001b[0m \u001b[36mstep\u001b[0m=\u001b[35m5427\u001b[0m\n",
      "\u001b[2m2023-05-04 21:03:11\u001b[0m [\u001b[32m\u001b[1minfo     \u001b[0m] \u001b[1mModel parameters are saved to d3rlpy_logs/BCQ_20230504210118/model_5427.pt\u001b[0m\n"
     ]
    },
    {
     "data": {
      "application/json": {
       "ascii": false,
       "bar_format": null,
       "colour": null,
       "elapsed": 0.004484653472900391,
       "initial": 0,
       "n": 0,
       "ncols": null,
       "nrows": null,
       "postfix": null,
       "prefix": "Epoch 68/80",
       "rate": null,
       "total": 81,
       "unit": "it",
       "unit_divisor": 1000,
       "unit_scale": false
      },
      "application/vnd.jupyter.widget-view+json": {
       "model_id": "721b076c7d824ed191f3624499875637",
       "version_major": 2,
       "version_minor": 0
      },
      "text/plain": [
       "Epoch 68/80:   0%|          | 0/81 [00:00<?, ?it/s]"
      ]
     },
     "metadata": {},
     "output_type": "display_data"
    },
    {
     "name": "stdout",
     "output_type": "stream",
     "text": [
      "\u001b[2m2023-05-04 21:03:13\u001b[0m [\u001b[32m\u001b[1minfo     \u001b[0m] \u001b[1mBCQ_20230504210118: epoch=68 step=5508\u001b[0m \u001b[36mepoch\u001b[0m=\u001b[35m68\u001b[0m \u001b[36mmetrics\u001b[0m=\u001b[35m{'time_sample_batch': 0.0002893489084126037, 'time_algorithm_update': 0.019410321741928287, 'imitator_loss': 0.008565288267017883, 'critic_loss': 164.758679613655, 'actor_loss': -29.77650296246564, 'time_step': 0.01978248725702733}\u001b[0m \u001b[36mstep\u001b[0m=\u001b[35m5508\u001b[0m\n",
      "\u001b[2m2023-05-04 21:03:13\u001b[0m [\u001b[32m\u001b[1minfo     \u001b[0m] \u001b[1mModel parameters are saved to d3rlpy_logs/BCQ_20230504210118/model_5508.pt\u001b[0m\n"
     ]
    },
    {
     "data": {
      "application/json": {
       "ascii": false,
       "bar_format": null,
       "colour": null,
       "elapsed": 0.00623321533203125,
       "initial": 0,
       "n": 0,
       "ncols": null,
       "nrows": null,
       "postfix": null,
       "prefix": "Epoch 69/80",
       "rate": null,
       "total": 81,
       "unit": "it",
       "unit_divisor": 1000,
       "unit_scale": false
      },
      "application/vnd.jupyter.widget-view+json": {
       "model_id": "5c8af18dc0fb4bcb8622ead8524ba7b5",
       "version_major": 2,
       "version_minor": 0
      },
      "text/plain": [
       "Epoch 69/80:   0%|          | 0/81 [00:00<?, ?it/s]"
      ]
     },
     "metadata": {},
     "output_type": "display_data"
    },
    {
     "name": "stdout",
     "output_type": "stream",
     "text": [
      "\u001b[2m2023-05-04 21:03:15\u001b[0m [\u001b[32m\u001b[1minfo     \u001b[0m] \u001b[1mBCQ_20230504210118: epoch=69 step=5589\u001b[0m \u001b[36mepoch\u001b[0m=\u001b[35m69\u001b[0m \u001b[36mmetrics\u001b[0m=\u001b[35m{'time_sample_batch': 0.0002899552568977262, 'time_algorithm_update': 0.019475860360227984, 'imitator_loss': 0.008582294631151505, 'critic_loss': 163.19943907378632, 'actor_loss': -30.03664621894742, 'time_step': 0.019844081666734483}\u001b[0m \u001b[36mstep\u001b[0m=\u001b[35m5589\u001b[0m\n",
      "\u001b[2m2023-05-04 21:03:15\u001b[0m [\u001b[32m\u001b[1minfo     \u001b[0m] \u001b[1mModel parameters are saved to d3rlpy_logs/BCQ_20230504210118/model_5589.pt\u001b[0m\n"
     ]
    },
    {
     "data": {
      "application/json": {
       "ascii": false,
       "bar_format": null,
       "colour": null,
       "elapsed": 0.0048677921295166016,
       "initial": 0,
       "n": 0,
       "ncols": null,
       "nrows": null,
       "postfix": null,
       "prefix": "Epoch 70/80",
       "rate": null,
       "total": 81,
       "unit": "it",
       "unit_divisor": 1000,
       "unit_scale": false
      },
      "application/vnd.jupyter.widget-view+json": {
       "model_id": "e978bffa136b443693b3d0c41651960f",
       "version_major": 2,
       "version_minor": 0
      },
      "text/plain": [
       "Epoch 70/80:   0%|          | 0/81 [00:00<?, ?it/s]"
      ]
     },
     "metadata": {},
     "output_type": "display_data"
    },
    {
     "name": "stdout",
     "output_type": "stream",
     "text": [
      "\u001b[2m2023-05-04 21:03:16\u001b[0m [\u001b[32m\u001b[1minfo     \u001b[0m] \u001b[1mBCQ_20230504210118: epoch=70 step=5670\u001b[0m \u001b[36mepoch\u001b[0m=\u001b[35m70\u001b[0m \u001b[36mmetrics\u001b[0m=\u001b[35m{'time_sample_batch': 0.00028898980882432725, 'time_algorithm_update': 0.019495292946144386, 'imitator_loss': 0.008591349236667156, 'critic_loss': 162.63384576105042, 'actor_loss': -30.380650296623323, 'time_step': 0.019865436318479937}\u001b[0m \u001b[36mstep\u001b[0m=\u001b[35m5670\u001b[0m\n",
      "\u001b[2m2023-05-04 21:03:16\u001b[0m [\u001b[32m\u001b[1minfo     \u001b[0m] \u001b[1mModel parameters are saved to d3rlpy_logs/BCQ_20230504210118/model_5670.pt\u001b[0m\n"
     ]
    },
    {
     "data": {
      "application/json": {
       "ascii": false,
       "bar_format": null,
       "colour": null,
       "elapsed": 0.006014823913574219,
       "initial": 0,
       "n": 0,
       "ncols": null,
       "nrows": null,
       "postfix": null,
       "prefix": "Epoch 71/80",
       "rate": null,
       "total": 81,
       "unit": "it",
       "unit_divisor": 1000,
       "unit_scale": false
      },
      "application/vnd.jupyter.widget-view+json": {
       "model_id": "aa907eec30a04d928cc98537e119da6e",
       "version_major": 2,
       "version_minor": 0
      },
      "text/plain": [
       "Epoch 71/80:   0%|          | 0/81 [00:00<?, ?it/s]"
      ]
     },
     "metadata": {},
     "output_type": "display_data"
    },
    {
     "name": "stdout",
     "output_type": "stream",
     "text": [
      "\u001b[2m2023-05-04 21:03:18\u001b[0m [\u001b[32m\u001b[1minfo     \u001b[0m] \u001b[1mBCQ_20230504210118: epoch=71 step=5751\u001b[0m \u001b[36mepoch\u001b[0m=\u001b[35m71\u001b[0m \u001b[36mmetrics\u001b[0m=\u001b[35m{'time_sample_batch': 0.000293151831921236, 'time_algorithm_update': 0.019521969336050528, 'imitator_loss': 0.008584323827821164, 'critic_loss': 159.00899995182766, 'actor_loss': -30.693816714816624, 'time_step': 0.019896860475893372}\u001b[0m \u001b[36mstep\u001b[0m=\u001b[35m5751\u001b[0m\n",
      "\u001b[2m2023-05-04 21:03:18\u001b[0m [\u001b[32m\u001b[1minfo     \u001b[0m] \u001b[1mModel parameters are saved to d3rlpy_logs/BCQ_20230504210118/model_5751.pt\u001b[0m\n"
     ]
    },
    {
     "data": {
      "application/json": {
       "ascii": false,
       "bar_format": null,
       "colour": null,
       "elapsed": 0.0057599544525146484,
       "initial": 0,
       "n": 0,
       "ncols": null,
       "nrows": null,
       "postfix": null,
       "prefix": "Epoch 72/80",
       "rate": null,
       "total": 81,
       "unit": "it",
       "unit_divisor": 1000,
       "unit_scale": false
      },
      "application/vnd.jupyter.widget-view+json": {
       "model_id": "0092420c5bd44f01911938b02cd434b1",
       "version_major": 2,
       "version_minor": 0
      },
      "text/plain": [
       "Epoch 72/80:   0%|          | 0/81 [00:00<?, ?it/s]"
      ]
     },
     "metadata": {},
     "output_type": "display_data"
    },
    {
     "name": "stdout",
     "output_type": "stream",
     "text": [
      "\u001b[2m2023-05-04 21:03:20\u001b[0m [\u001b[32m\u001b[1minfo     \u001b[0m] \u001b[1mBCQ_20230504210118: epoch=72 step=5832\u001b[0m \u001b[36mepoch\u001b[0m=\u001b[35m72\u001b[0m \u001b[36mmetrics\u001b[0m=\u001b[35m{'time_sample_batch': 0.00029590394761827256, 'time_algorithm_update': 0.019475201029836395, 'imitator_loss': 0.008572669918246475, 'critic_loss': 158.92796539736014, 'actor_loss': -31.099993058192876, 'time_step': 0.019852305635993862}\u001b[0m \u001b[36mstep\u001b[0m=\u001b[35m5832\u001b[0m\n",
      "\u001b[2m2023-05-04 21:03:20\u001b[0m [\u001b[32m\u001b[1minfo     \u001b[0m] \u001b[1mModel parameters are saved to d3rlpy_logs/BCQ_20230504210118/model_5832.pt\u001b[0m\n"
     ]
    },
    {
     "data": {
      "application/json": {
       "ascii": false,
       "bar_format": null,
       "colour": null,
       "elapsed": 0.004911899566650391,
       "initial": 0,
       "n": 0,
       "ncols": null,
       "nrows": null,
       "postfix": null,
       "prefix": "Epoch 73/80",
       "rate": null,
       "total": 81,
       "unit": "it",
       "unit_divisor": 1000,
       "unit_scale": false
      },
      "application/vnd.jupyter.widget-view+json": {
       "model_id": "c84b63834059445082f548d9c6fd6f21",
       "version_major": 2,
       "version_minor": 0
      },
      "text/plain": [
       "Epoch 73/80:   0%|          | 0/81 [00:00<?, ?it/s]"
      ]
     },
     "metadata": {},
     "output_type": "display_data"
    },
    {
     "name": "stdout",
     "output_type": "stream",
     "text": [
      "\u001b[2m2023-05-04 21:03:21\u001b[0m [\u001b[32m\u001b[1minfo     \u001b[0m] \u001b[1mBCQ_20230504210118: epoch=73 step=5913\u001b[0m \u001b[36mepoch\u001b[0m=\u001b[35m73\u001b[0m \u001b[36mmetrics\u001b[0m=\u001b[35m{'time_sample_batch': 0.00030042507030345777, 'time_algorithm_update': 0.019603923515037255, 'imitator_loss': 0.008566719445365446, 'critic_loss': 155.08595515603636, 'actor_loss': -31.39128225821036, 'time_step': 0.019984265904367707}\u001b[0m \u001b[36mstep\u001b[0m=\u001b[35m5913\u001b[0m\n",
      "\u001b[2m2023-05-04 21:03:21\u001b[0m [\u001b[32m\u001b[1minfo     \u001b[0m] \u001b[1mModel parameters are saved to d3rlpy_logs/BCQ_20230504210118/model_5913.pt\u001b[0m\n"
     ]
    },
    {
     "data": {
      "application/json": {
       "ascii": false,
       "bar_format": null,
       "colour": null,
       "elapsed": 0.008654356002807617,
       "initial": 0,
       "n": 0,
       "ncols": null,
       "nrows": null,
       "postfix": null,
       "prefix": "Epoch 74/80",
       "rate": null,
       "total": 81,
       "unit": "it",
       "unit_divisor": 1000,
       "unit_scale": false
      },
      "application/vnd.jupyter.widget-view+json": {
       "model_id": "188cf0c666844587bbd46f30b9fb9708",
       "version_major": 2,
       "version_minor": 0
      },
      "text/plain": [
       "Epoch 74/80:   0%|          | 0/81 [00:00<?, ?it/s]"
      ]
     },
     "metadata": {},
     "output_type": "display_data"
    },
    {
     "name": "stdout",
     "output_type": "stream",
     "text": [
      "\u001b[2m2023-05-04 21:03:23\u001b[0m [\u001b[32m\u001b[1minfo     \u001b[0m] \u001b[1mBCQ_20230504210118: epoch=74 step=5994\u001b[0m \u001b[36mepoch\u001b[0m=\u001b[35m74\u001b[0m \u001b[36mmetrics\u001b[0m=\u001b[35m{'time_sample_batch': 0.00029909463576328606, 'time_algorithm_update': 0.019706364031191224, 'imitator_loss': 0.008587786755352109, 'critic_loss': 155.74564448661275, 'actor_loss': -31.685066411524645, 'time_step': 0.02009045636212384}\u001b[0m \u001b[36mstep\u001b[0m=\u001b[35m5994\u001b[0m\n",
      "\u001b[2m2023-05-04 21:03:23\u001b[0m [\u001b[32m\u001b[1minfo     \u001b[0m] \u001b[1mModel parameters are saved to d3rlpy_logs/BCQ_20230504210118/model_5994.pt\u001b[0m\n"
     ]
    },
    {
     "data": {
      "application/json": {
       "ascii": false,
       "bar_format": null,
       "colour": null,
       "elapsed": 0.005578279495239258,
       "initial": 0,
       "n": 0,
       "ncols": null,
       "nrows": null,
       "postfix": null,
       "prefix": "Epoch 75/80",
       "rate": null,
       "total": 81,
       "unit": "it",
       "unit_divisor": 1000,
       "unit_scale": false
      },
      "application/vnd.jupyter.widget-view+json": {
       "model_id": "3d641c33b94d4efda962c8981badf4c7",
       "version_major": 2,
       "version_minor": 0
      },
      "text/plain": [
       "Epoch 75/80:   0%|          | 0/81 [00:00<?, ?it/s]"
      ]
     },
     "metadata": {},
     "output_type": "display_data"
    },
    {
     "name": "stdout",
     "output_type": "stream",
     "text": [
      "\u001b[2m2023-05-04 21:03:25\u001b[0m [\u001b[32m\u001b[1minfo     \u001b[0m] \u001b[1mBCQ_20230504210118: epoch=75 step=6075\u001b[0m \u001b[36mepoch\u001b[0m=\u001b[35m75\u001b[0m \u001b[36mmetrics\u001b[0m=\u001b[35m{'time_sample_batch': 0.00029222464855806326, 'time_algorithm_update': 0.01958937409483356, 'imitator_loss': 0.00854798013712337, 'critic_loss': 153.80123550849564, 'actor_loss': -31.95303803903085, 'time_step': 0.019965863522188165}\u001b[0m \u001b[36mstep\u001b[0m=\u001b[35m6075\u001b[0m\n",
      "\u001b[2m2023-05-04 21:03:25\u001b[0m [\u001b[32m\u001b[1minfo     \u001b[0m] \u001b[1mModel parameters are saved to d3rlpy_logs/BCQ_20230504210118/model_6075.pt\u001b[0m\n"
     ]
    },
    {
     "data": {
      "application/json": {
       "ascii": false,
       "bar_format": null,
       "colour": null,
       "elapsed": 0.007276058197021484,
       "initial": 0,
       "n": 0,
       "ncols": null,
       "nrows": null,
       "postfix": null,
       "prefix": "Epoch 76/80",
       "rate": null,
       "total": 81,
       "unit": "it",
       "unit_divisor": 1000,
       "unit_scale": false
      },
      "application/vnd.jupyter.widget-view+json": {
       "model_id": "a2359fa194224f61b8c4b7428e01f7b7",
       "version_major": 2,
       "version_minor": 0
      },
      "text/plain": [
       "Epoch 76/80:   0%|          | 0/81 [00:00<?, ?it/s]"
      ]
     },
     "metadata": {},
     "output_type": "display_data"
    },
    {
     "name": "stdout",
     "output_type": "stream",
     "text": [
      "\u001b[2m2023-05-04 21:03:26\u001b[0m [\u001b[32m\u001b[1minfo     \u001b[0m] \u001b[1mBCQ_20230504210118: epoch=76 step=6156\u001b[0m \u001b[36mepoch\u001b[0m=\u001b[35m76\u001b[0m \u001b[36mmetrics\u001b[0m=\u001b[35m{'time_sample_batch': 0.00029075292893397957, 'time_algorithm_update': 0.019562385700367117, 'imitator_loss': 0.008582773940338765, 'critic_loss': 151.0496697206004, 'actor_loss': -32.28977172757372, 'time_step': 0.01993482201187699}\u001b[0m \u001b[36mstep\u001b[0m=\u001b[35m6156\u001b[0m\n",
      "\u001b[2m2023-05-04 21:03:26\u001b[0m [\u001b[32m\u001b[1minfo     \u001b[0m] \u001b[1mModel parameters are saved to d3rlpy_logs/BCQ_20230504210118/model_6156.pt\u001b[0m\n"
     ]
    },
    {
     "data": {
      "application/json": {
       "ascii": false,
       "bar_format": null,
       "colour": null,
       "elapsed": 0.004371166229248047,
       "initial": 0,
       "n": 0,
       "ncols": null,
       "nrows": null,
       "postfix": null,
       "prefix": "Epoch 77/80",
       "rate": null,
       "total": 81,
       "unit": "it",
       "unit_divisor": 1000,
       "unit_scale": false
      },
      "application/vnd.jupyter.widget-view+json": {
       "model_id": "d5e8007e7a66404a902a6e92d4e33a12",
       "version_major": 2,
       "version_minor": 0
      },
      "text/plain": [
       "Epoch 77/80:   0%|          | 0/81 [00:00<?, ?it/s]"
      ]
     },
     "metadata": {},
     "output_type": "display_data"
    },
    {
     "name": "stdout",
     "output_type": "stream",
     "text": [
      "\u001b[2m2023-05-04 21:03:28\u001b[0m [\u001b[32m\u001b[1minfo     \u001b[0m] \u001b[1mBCQ_20230504210118: epoch=77 step=6237\u001b[0m \u001b[36mepoch\u001b[0m=\u001b[35m77\u001b[0m \u001b[36mmetrics\u001b[0m=\u001b[35m{'time_sample_batch': 0.00030041918342496143, 'time_algorithm_update': 0.019622661449291087, 'imitator_loss': 0.00859365806006539, 'critic_loss': 152.12897086755177, 'actor_loss': -32.61534712049696, 'time_step': 0.0200056411601879}\u001b[0m \u001b[36mstep\u001b[0m=\u001b[35m6237\u001b[0m\n",
      "\u001b[2m2023-05-04 21:03:28\u001b[0m [\u001b[32m\u001b[1minfo     \u001b[0m] \u001b[1mModel parameters are saved to d3rlpy_logs/BCQ_20230504210118/model_6237.pt\u001b[0m\n"
     ]
    },
    {
     "data": {
      "application/json": {
       "ascii": false,
       "bar_format": null,
       "colour": null,
       "elapsed": 0.005835533142089844,
       "initial": 0,
       "n": 0,
       "ncols": null,
       "nrows": null,
       "postfix": null,
       "prefix": "Epoch 78/80",
       "rate": null,
       "total": 81,
       "unit": "it",
       "unit_divisor": 1000,
       "unit_scale": false
      },
      "application/vnd.jupyter.widget-view+json": {
       "model_id": "d3f9c21e97c04351a9c81e12f7d7403a",
       "version_major": 2,
       "version_minor": 0
      },
      "text/plain": [
       "Epoch 78/80:   0%|          | 0/81 [00:00<?, ?it/s]"
      ]
     },
     "metadata": {},
     "output_type": "display_data"
    },
    {
     "name": "stdout",
     "output_type": "stream",
     "text": [
      "\u001b[2m2023-05-04 21:03:30\u001b[0m [\u001b[32m\u001b[1minfo     \u001b[0m] \u001b[1mBCQ_20230504210118: epoch=78 step=6318\u001b[0m \u001b[36mepoch\u001b[0m=\u001b[35m78\u001b[0m \u001b[36mmetrics\u001b[0m=\u001b[35m{'time_sample_batch': 0.00029383470982681086, 'time_algorithm_update': 0.019603661548944166, 'imitator_loss': 0.008567686204189136, 'critic_loss': 148.91914911001322, 'actor_loss': -32.933667830478996, 'time_step': 0.019979382738654995}\u001b[0m \u001b[36mstep\u001b[0m=\u001b[35m6318\u001b[0m\n",
      "\u001b[2m2023-05-04 21:03:30\u001b[0m [\u001b[32m\u001b[1minfo     \u001b[0m] \u001b[1mModel parameters are saved to d3rlpy_logs/BCQ_20230504210118/model_6318.pt\u001b[0m\n"
     ]
    },
    {
     "data": {
      "application/json": {
       "ascii": false,
       "bar_format": null,
       "colour": null,
       "elapsed": 0.005560159683227539,
       "initial": 0,
       "n": 0,
       "ncols": null,
       "nrows": null,
       "postfix": null,
       "prefix": "Epoch 79/80",
       "rate": null,
       "total": 81,
       "unit": "it",
       "unit_divisor": 1000,
       "unit_scale": false
      },
      "application/vnd.jupyter.widget-view+json": {
       "model_id": "2155746be1024d90855d0e004824542b",
       "version_major": 2,
       "version_minor": 0
      },
      "text/plain": [
       "Epoch 79/80:   0%|          | 0/81 [00:00<?, ?it/s]"
      ]
     },
     "metadata": {},
     "output_type": "display_data"
    },
    {
     "name": "stdout",
     "output_type": "stream",
     "text": [
      "\u001b[2m2023-05-04 21:03:31\u001b[0m [\u001b[32m\u001b[1minfo     \u001b[0m] \u001b[1mBCQ_20230504210118: epoch=79 step=6399\u001b[0m \u001b[36mepoch\u001b[0m=\u001b[35m79\u001b[0m \u001b[36mmetrics\u001b[0m=\u001b[35m{'time_sample_batch': 0.00029874142305350596, 'time_algorithm_update': 0.019537351749561453, 'imitator_loss': 0.008567059326365038, 'critic_loss': 148.79886917599742, 'actor_loss': -33.278686947292755, 'time_step': 0.019919569109692985}\u001b[0m \u001b[36mstep\u001b[0m=\u001b[35m6399\u001b[0m\n",
      "\u001b[2m2023-05-04 21:03:31\u001b[0m [\u001b[32m\u001b[1minfo     \u001b[0m] \u001b[1mModel parameters are saved to d3rlpy_logs/BCQ_20230504210118/model_6399.pt\u001b[0m\n"
     ]
    },
    {
     "data": {
      "application/json": {
       "ascii": false,
       "bar_format": null,
       "colour": null,
       "elapsed": 0.004985809326171875,
       "initial": 0,
       "n": 0,
       "ncols": null,
       "nrows": null,
       "postfix": null,
       "prefix": "Epoch 80/80",
       "rate": null,
       "total": 81,
       "unit": "it",
       "unit_divisor": 1000,
       "unit_scale": false
      },
      "application/vnd.jupyter.widget-view+json": {
       "model_id": "0db0996cf8b8482d87bab30a1b14a6c1",
       "version_major": 2,
       "version_minor": 0
      },
      "text/plain": [
       "Epoch 80/80:   0%|          | 0/81 [00:00<?, ?it/s]"
      ]
     },
     "metadata": {},
     "output_type": "display_data"
    },
    {
     "name": "stdout",
     "output_type": "stream",
     "text": [
      "\u001b[2m2023-05-04 21:03:33\u001b[0m [\u001b[32m\u001b[1minfo     \u001b[0m] \u001b[1mBCQ_20230504210118: epoch=80 step=6480\u001b[0m \u001b[36mepoch\u001b[0m=\u001b[35m80\u001b[0m \u001b[36mmetrics\u001b[0m=\u001b[35m{'time_sample_batch': 0.0002937199156961323, 'time_algorithm_update': 0.019468310438556437, 'imitator_loss': 0.008571585755289338, 'critic_loss': 145.1495082878772, 'actor_loss': -33.54675942880136, 'time_step': 0.019845320854657962}\u001b[0m \u001b[36mstep\u001b[0m=\u001b[35m6480\u001b[0m\n",
      "\u001b[2m2023-05-04 21:03:33\u001b[0m [\u001b[32m\u001b[1minfo     \u001b[0m] \u001b[1mModel parameters are saved to d3rlpy_logs/BCQ_20230504210118/model_6480.pt\u001b[0m\n"
     ]
    },
    {
     "data": {
      "text/plain": [
       "[(1,\n",
       "  {'time_sample_batch': 0.00032325732855149257,\n",
       "   'time_algorithm_update': 0.02111275107772262,\n",
       "   'imitator_loss': 0.010488384989676651,\n",
       "   'critic_loss': 319.94853836518746,\n",
       "   'actor_loss': -1.7687759609134108,\n",
       "   'time_step': 0.021529871740458922}),\n",
       " (2,\n",
       "  {'time_sample_batch': 0.0003158074838143808,\n",
       "   'time_algorithm_update': 0.019842662929016867,\n",
       "   'imitator_loss': 0.008717886540164917,\n",
       "   'critic_loss': 311.5140074432632,\n",
       "   'actor_loss': -2.2175454239786405,\n",
       "   'time_step': 0.02024473378687729}),\n",
       " (3,\n",
       "  {'time_sample_batch': 0.00029529171225465374,\n",
       "   'time_algorithm_update': 0.01951718036039376,\n",
       "   'imitator_loss': 0.008638597133764882,\n",
       "   'critic_loss': 310.9405100698824,\n",
       "   'actor_loss': -2.7947657858883894,\n",
       "   'time_step': 0.019894932523185825}),\n",
       " (4,\n",
       "  {'time_sample_batch': 0.00028861010516131365,\n",
       "   'time_algorithm_update': 0.01956101405767747,\n",
       "   'imitator_loss': 0.008628414179209941,\n",
       "   'critic_loss': 309.75574048065846,\n",
       "   'actor_loss': -3.3226466590975536,\n",
       "   'time_step': 0.019930300889191805}),\n",
       " (5,\n",
       "  {'time_sample_batch': 0.0002907293814199942,\n",
       "   'time_algorithm_update': 0.019490059511161145,\n",
       "   'imitator_loss': 0.008613380488514163,\n",
       "   'critic_loss': 304.17909417329014,\n",
       "   'actor_loss': -3.8598726472736877,\n",
       "   'time_step': 0.019863099227716893}),\n",
       " (6,\n",
       "  {'time_sample_batch': 0.0002993477715386285,\n",
       "   'time_algorithm_update': 0.01999244866547761,\n",
       "   'imitator_loss': 0.008602776737124831,\n",
       "   'critic_loss': 304.97822382190714,\n",
       "   'actor_loss': -4.202215241797177,\n",
       "   'time_step': 0.020375519622991115}),\n",
       " (7,\n",
       "  {'time_sample_batch': 0.0002915976959982036,\n",
       "   'time_algorithm_update': 0.01950434696527175,\n",
       "   'imitator_loss': 0.008586331184401556,\n",
       "   'critic_loss': 298.02980420766056,\n",
       "   'actor_loss': -4.683914084493378,\n",
       "   'time_step': 0.019874596301420234}),\n",
       " (8,\n",
       "  {'time_sample_batch': 0.000288000813236943,\n",
       "   'time_algorithm_update': 0.01953754601655183,\n",
       "   'imitator_loss': 0.0085996125974221,\n",
       "   'critic_loss': 296.0382679730286,\n",
       "   'actor_loss': -5.281346303445321,\n",
       "   'time_step': 0.019906997680664062}),\n",
       " (9,\n",
       "  {'time_sample_batch': 0.0002993978100058473,\n",
       "   'time_algorithm_update': 0.01964838710832007,\n",
       "   'imitator_loss': 0.008577175978801133,\n",
       "   'critic_loss': 290.7807633711232,\n",
       "   'actor_loss': -5.784067424727075,\n",
       "   'time_step': 0.020030207104153104}),\n",
       " (10,\n",
       "  {'time_sample_batch': 0.00029605111958068094,\n",
       "   'time_algorithm_update': 0.01965213116304374,\n",
       "   'imitator_loss': 0.008585055324214476,\n",
       "   'critic_loss': 292.4338002782545,\n",
       "   'actor_loss': -6.121489583710094,\n",
       "   'time_step': 0.020029733210434147}),\n",
       " (11,\n",
       "  {'time_sample_batch': 0.00029386414421929256,\n",
       "   'time_algorithm_update': 0.019658736240716627,\n",
       "   'imitator_loss': 0.008587525789568454,\n",
       "   'critic_loss': 285.46332990313755,\n",
       "   'actor_loss': -6.631961869604794,\n",
       "   'time_step': 0.020036720935209296}),\n",
       " (12,\n",
       "  {'time_sample_batch': 0.00029506212399329666,\n",
       "   'time_algorithm_update': 0.019657779622960975,\n",
       "   'imitator_loss': 0.008583633781031327,\n",
       "   'critic_loss': 281.0507535934448,\n",
       "   'actor_loss': -6.929077442781425,\n",
       "   'time_step': 0.020035764317453644}),\n",
       " (13,\n",
       "  {'time_sample_batch': 0.0002831676859914521,\n",
       "   'time_algorithm_update': 0.01958253354202082,\n",
       "   'imitator_loss': 0.008586852259382053,\n",
       "   'critic_loss': 281.0065495122086,\n",
       "   'actor_loss': -7.586777080724269,\n",
       "   'time_step': 0.019947163852644556}),\n",
       " (14,\n",
       "  {'time_sample_batch': 0.0003364880879720052,\n",
       "   'time_algorithm_update': 0.019871847129162446,\n",
       "   'imitator_loss': 0.008585193907313141,\n",
       "   'critic_loss': 275.7055416938699,\n",
       "   'actor_loss': -7.786989783063347,\n",
       "   'time_step': 0.020289712482028537}),\n",
       " (15,\n",
       "  {'time_sample_batch': 0.0002932725129304109,\n",
       "   'time_algorithm_update': 0.01957367084644459,\n",
       "   'imitator_loss': 0.008613189429412653,\n",
       "   'critic_loss': 278.78586706629505,\n",
       "   'actor_loss': -8.38448565683247,\n",
       "   'time_step': 0.019948561986287434}),\n",
       " (16,\n",
       "  {'time_sample_batch': 0.00029707837987829136,\n",
       "   'time_algorithm_update': 0.01953971238783848,\n",
       "   'imitator_loss': 0.00858488255812798,\n",
       "   'critic_loss': 272.0738640273059,\n",
       "   'actor_loss': -8.874909271428615,\n",
       "   'time_step': 0.019919913492085023}),\n",
       " (17,\n",
       "  {'time_sample_batch': 0.00030937312561788675,\n",
       "   'time_algorithm_update': 0.01971698984687711,\n",
       "   'imitator_loss': 0.008574377624662939,\n",
       "   'critic_loss': 268.9036940821895,\n",
       "   'actor_loss': -9.32814915974935,\n",
       "   'time_step': 0.02011249389177487}),\n",
       " (18,\n",
       "  {'time_sample_batch': 0.0002893106437023775,\n",
       "   'time_algorithm_update': 0.019582763130282177,\n",
       "   'imitator_loss': 0.008603044486616128,\n",
       "   'critic_loss': 265.49002343423115,\n",
       "   'actor_loss': -9.618602258187753,\n",
       "   'time_step': 0.019952824086318783}),\n",
       " (19,\n",
       "  {'time_sample_batch': 0.00028756224078896607,\n",
       "   'time_algorithm_update': 0.01956742192492073,\n",
       "   'imitator_loss': 0.008574987479979977,\n",
       "   'critic_loss': 267.6051225691666,\n",
       "   'actor_loss': -10.32958807768645,\n",
       "   'time_step': 0.019937032534752364}),\n",
       " (20,\n",
       "  {'time_sample_batch': 0.00029066756919578267,\n",
       "   'time_algorithm_update': 0.019503499254768276,\n",
       "   'imitator_loss': 0.008585109317928184,\n",
       "   'critic_loss': 262.6185732204467,\n",
       "   'actor_loss': -10.673474335376127,\n",
       "   'time_step': 0.01987500543947573}),\n",
       " (21,\n",
       "  {'time_sample_batch': 0.00028769175211588543,\n",
       "   'time_algorithm_update': 0.01948656564877357,\n",
       "   'imitator_loss': 0.008581367551268619,\n",
       "   'critic_loss': 262.568152303313,\n",
       "   'actor_loss': -11.19072115862811,\n",
       "   'time_step': 0.01985523730148504}),\n",
       " (22,\n",
       "  {'time_sample_batch': 0.0002863848650896991,\n",
       "   'time_algorithm_update': 0.019428412119547527,\n",
       "   'imitator_loss': 0.008553540868753637,\n",
       "   'critic_loss': 259.82380175112206,\n",
       "   'actor_loss': -11.612115695152754,\n",
       "   'time_step': 0.019796677577642748}),\n",
       " (23,\n",
       "  {'time_sample_batch': 0.000301993923422731,\n",
       "   'time_algorithm_update': 0.019750600979651933,\n",
       "   'imitator_loss': 0.008592207065243045,\n",
       "   'critic_loss': 256.29457344666673,\n",
       "   'actor_loss': -12.062135190139582,\n",
       "   'time_step': 0.020136947985048646}),\n",
       " (24,\n",
       "  {'time_sample_batch': 0.0002901053722993827,\n",
       "   'time_algorithm_update': 0.019522331379078054,\n",
       "   'imitator_loss': 0.008576232859473905,\n",
       "   'critic_loss': 253.16603427904624,\n",
       "   'actor_loss': -12.534609300118905,\n",
       "   'time_step': 0.01989228931474097}),\n",
       " (25,\n",
       "  {'time_sample_batch': 0.0002924571802586685,\n",
       "   'time_algorithm_update': 0.01956528498802656,\n",
       "   'imitator_loss': 0.008589022608910814,\n",
       "   'critic_loss': 249.79497300401147,\n",
       "   'actor_loss': -13.018383650132167,\n",
       "   'time_step': 0.01993870440824532}),\n",
       " (26,\n",
       "  {'time_sample_batch': 0.0002986148551658348,\n",
       "   'time_algorithm_update': 0.019821973494541498,\n",
       "   'imitator_loss': 0.008588179146847974,\n",
       "   'critic_loss': 246.74216432924624,\n",
       "   'actor_loss': -13.383858786688911,\n",
       "   'time_step': 0.020204267384093484}),\n",
       " (27,\n",
       "  {'time_sample_batch': 0.00029372874601387686,\n",
       "   'time_algorithm_update': 0.01947074466281467,\n",
       "   'imitator_loss': 0.008583230397629517,\n",
       "   'critic_loss': 244.9531644071326,\n",
       "   'actor_loss': -13.919462039146895,\n",
       "   'time_step': 0.01984746073499138}),\n",
       " (28,\n",
       "  {'time_sample_batch': 0.0003183506153247975,\n",
       "   'time_algorithm_update': 0.019655348342141988,\n",
       "   'imitator_loss': 0.008590785981972276,\n",
       "   'critic_loss': 241.60206060792194,\n",
       "   'actor_loss': -14.306414462901929,\n",
       "   'time_step': 0.020060854193605024}),\n",
       " (29,\n",
       "  {'time_sample_batch': 0.00031783551345636817,\n",
       "   'time_algorithm_update': 0.01996451837045175,\n",
       "   'imitator_loss': 0.008577923963053359,\n",
       "   'critic_loss': 241.47752985836547,\n",
       "   'actor_loss': -14.900261337374463,\n",
       "   'time_step': 0.020370171393877194}),\n",
       " (30,\n",
       "  {'time_sample_batch': 0.0003113187389609254,\n",
       "   'time_algorithm_update': 0.01984747839562687,\n",
       "   'imitator_loss': 0.008579155240483858,\n",
       "   'critic_loss': 237.2097368174129,\n",
       "   'actor_loss': -15.226341129821023,\n",
       "   'time_step': 0.020245943540408286}),\n",
       " (31,\n",
       "  {'time_sample_batch': 0.0003238548467188706,\n",
       "   'time_algorithm_update': 0.020016785021181458,\n",
       "   'imitator_loss': 0.00856896513429137,\n",
       "   'critic_loss': 235.6596167664745,\n",
       "   'actor_loss': -15.68218226491669,\n",
       "   'time_step': 0.02042752136418849}),\n",
       " (32,\n",
       "  {'time_sample_batch': 0.0003244670820824894,\n",
       "   'time_algorithm_update': 0.019992269115683473,\n",
       "   'imitator_loss': 0.008584673637179312,\n",
       "   'critic_loss': 230.6327829596437,\n",
       "   'actor_loss': -16.056468857659233,\n",
       "   'time_step': 0.020405107074313693}),\n",
       " (33,\n",
       "  {'time_sample_batch': 0.0003041190865599079,\n",
       "   'time_algorithm_update': 0.01950350808508602,\n",
       "   'imitator_loss': 0.00857972527888638,\n",
       "   'critic_loss': 229.69744522409675,\n",
       "   'actor_loss': -16.512379328409832,\n",
       "   'time_step': 0.01989323710217888}),\n",
       " (34,\n",
       "  {'time_sample_batch': 0.0002971931740089699,\n",
       "   'time_algorithm_update': 0.0194277321850812,\n",
       "   'imitator_loss': 0.008593928856476222,\n",
       "   'critic_loss': 227.87622442289634,\n",
       "   'actor_loss': -17.00969763155337,\n",
       "   'time_step': 0.019806017110377182}),\n",
       " (35,\n",
       "  {'time_sample_batch': 0.00031328495637870127,\n",
       "   'time_algorithm_update': 0.02002512084113227,\n",
       "   'imitator_loss': 0.00858172970927424,\n",
       "   'critic_loss': 225.1070935372953,\n",
       "   'actor_loss': -17.381909405743635,\n",
       "   'time_step': 0.020423812630735796}),\n",
       " (36,\n",
       "  {'time_sample_batch': 0.00030391304581253617,\n",
       "   'time_algorithm_update': 0.0196403103110231,\n",
       "   'imitator_loss': 0.008579459202326374,\n",
       "   'critic_loss': 225.44697609635782,\n",
       "   'actor_loss': -17.786373774210613,\n",
       "   'time_step': 0.02002823794329608}),\n",
       " (37,\n",
       "  {'time_sample_batch': 0.0003177060021294488,\n",
       "   'time_algorithm_update': 0.019822441501381956,\n",
       "   'imitator_loss': 0.008581828854886103,\n",
       "   'critic_loss': 220.60348973110501,\n",
       "   'actor_loss': -18.27165963914659,\n",
       "   'time_step': 0.020225533732661494}),\n",
       " (38,\n",
       "  {'time_sample_batch': 0.0002910472728587963,\n",
       "   'time_algorithm_update': 0.019359429677327473,\n",
       "   'imitator_loss': 0.008593121330817173,\n",
       "   'critic_loss': 217.06708073100927,\n",
       "   'actor_loss': -18.635358975257404,\n",
       "   'time_step': 0.01973062680091387}),\n",
       " (39,\n",
       "  {'time_sample_batch': 0.0003031506950472608,\n",
       "   'time_algorithm_update': 0.01977776598047327,\n",
       "   'imitator_loss': 0.008561335383328024,\n",
       "   'critic_loss': 217.6804795226105,\n",
       "   'actor_loss': -19.11231971081392,\n",
       "   'time_step': 0.02016476054250458}),\n",
       " (40,\n",
       "  {'time_sample_batch': 0.00030450173366216964,\n",
       "   'time_algorithm_update': 0.019567498454341182,\n",
       "   'imitator_loss': 0.008567064672846484,\n",
       "   'critic_loss': 207.93111621367711,\n",
       "   'actor_loss': -19.40344695103021,\n",
       "   'time_step': 0.01995435467472783}),\n",
       " (41,\n",
       "  {'time_sample_batch': 0.0004039517155400029,\n",
       "   'time_algorithm_update': 0.01981258981021834,\n",
       "   'imitator_loss': 0.008580409530780198,\n",
       "   'critic_loss': 204.1167601597162,\n",
       "   'actor_loss': -19.861642672691815,\n",
       "   'time_step': 0.020297812826839495}),\n",
       " (42,\n",
       "  {'time_sample_batch': 0.00029250721872588735,\n",
       "   'time_algorithm_update': 0.01954695913526747,\n",
       "   'imitator_loss': 0.008572966032833964,\n",
       "   'critic_loss': 212.1454207389443,\n",
       "   'actor_loss': -20.22589820108296,\n",
       "   'time_step': 0.01992030202606578}),\n",
       " (43,\n",
       "  {'time_sample_batch': 0.00030634727007077065,\n",
       "   'time_algorithm_update': 0.019667431160255714,\n",
       "   'imitator_loss': 0.00855419520334697,\n",
       "   'critic_loss': 207.344197915798,\n",
       "   'actor_loss': -20.76913390924901,\n",
       "   'time_step': 0.020058525933159724}),\n",
       " (44,\n",
       "  {'time_sample_batch': 0.00030345092585057386,\n",
       "   'time_algorithm_update': 0.019676379215570142,\n",
       "   'imitator_loss': 0.008593746001061834,\n",
       "   'critic_loss': 208.2647953795982,\n",
       "   'actor_loss': -21.002663388664338,\n",
       "   'time_step': 0.020062690899695878}),\n",
       " (45,\n",
       "  {'time_sample_batch': 0.00030498151425962096,\n",
       "   'time_algorithm_update': 0.019568967230526018,\n",
       "   'imitator_loss': 0.008574647300037336,\n",
       "   'critic_loss': 204.33430000219815,\n",
       "   'actor_loss': -21.427218707991234,\n",
       "   'time_step': 0.01995798099188157}),\n",
       " (46,\n",
       "  {'time_sample_batch': 0.00031056521851339456,\n",
       "   'time_algorithm_update': 0.019859711329142254,\n",
       "   'imitator_loss': 0.008579743911086776,\n",
       "   'critic_loss': 203.23920614134383,\n",
       "   'actor_loss': -21.895208971000013,\n",
       "   'time_step': 0.020256433957888755}),\n",
       " (47,\n",
       "  {'time_sample_batch': 0.00030515223373601464,\n",
       "   'time_algorithm_update': 0.019550223409393688,\n",
       "   'imitator_loss': 0.008588346807907024,\n",
       "   'critic_loss': 200.49648917380168,\n",
       "   'actor_loss': -22.212132936642494,\n",
       "   'time_step': 0.019940903157363705}),\n",
       " (48,\n",
       "  {'time_sample_batch': 0.0003171202577190635,\n",
       "   'time_algorithm_update': 0.019863102171156142,\n",
       "   'imitator_loss': 0.008580992389240382,\n",
       "   'critic_loss': 197.15230824623578,\n",
       "   'actor_loss': -22.61043404944149,\n",
       "   'time_step': 0.020267039169499904}),\n",
       " (49,\n",
       "  {'time_sample_batch': 0.0003302568270836347,\n",
       "   'time_algorithm_update': 0.02022744991161205,\n",
       "   'imitator_loss': 0.00859149586248361,\n",
       "   'critic_loss': 196.63896854424183,\n",
       "   'actor_loss': -23.018530504203138,\n",
       "   'time_step': 0.02064745514481156}),\n",
       " (50,\n",
       "  {'time_sample_batch': 0.0002751085493299696,\n",
       "   'time_algorithm_update': 0.019288419205465434,\n",
       "   'imitator_loss': 0.008578642863596294,\n",
       "   'critic_loss': 194.3654245366285,\n",
       "   'actor_loss': -23.395609820330584,\n",
       "   'time_step': 0.01964350982948586}),\n",
       " (51,\n",
       "  {'time_sample_batch': 0.0002807216879762249,\n",
       "   'time_algorithm_update': 0.019557487817458166,\n",
       "   'imitator_loss': 0.008567929371363588,\n",
       "   'critic_loss': 192.8705237272805,\n",
       "   'actor_loss': -23.737825723341953,\n",
       "   'time_step': 0.019916340156837745}),\n",
       " (52,\n",
       "  {'time_sample_batch': 0.0002744021239104094,\n",
       "   'time_algorithm_update': 0.01943147035292637,\n",
       "   'imitator_loss': 0.008563689174659458,\n",
       "   'critic_loss': 192.4923261663428,\n",
       "   'actor_loss': -24.069495730929905,\n",
       "   'time_step': 0.019786743470180182}),\n",
       " (53,\n",
       "  {'time_sample_batch': 0.0002870530257990331,\n",
       "   'time_algorithm_update': 0.019594195448322062,\n",
       "   'imitator_loss': 0.008632757091595803,\n",
       "   'critic_loss': 187.36710734978135,\n",
       "   'actor_loss': -24.482150631186403,\n",
       "   'time_step': 0.019959888340514383}),\n",
       " (54,\n",
       "  {'time_sample_batch': 0.0002793412149688344,\n",
       "   'time_algorithm_update': 0.019350210825602215,\n",
       "   'imitator_loss': 0.008576859472848383,\n",
       "   'critic_loss': 185.3161191697014,\n",
       "   'actor_loss': -24.87325272736726,\n",
       "   'time_step': 0.019709590040607218}),\n",
       " (55,\n",
       "  {'time_sample_batch': 0.0002891575848614728,\n",
       "   'time_algorithm_update': 0.0195412900712755,\n",
       "   'imitator_loss': 0.008551271632313728,\n",
       "   'critic_loss': 187.54402527728197,\n",
       "   'actor_loss': -25.242511419602383,\n",
       "   'time_step': 0.019911857298862787}),\n",
       " (56,\n",
       "  {'time_sample_batch': 0.0002896197048234351,\n",
       "   'time_algorithm_update': 0.019960156193485967,\n",
       "   'imitator_loss': 0.008584547448719356,\n",
       "   'critic_loss': 183.81578587308343,\n",
       "   'actor_loss': -25.6595144154113,\n",
       "   'time_step': 0.020333346025443372}),\n",
       " (57,\n",
       "  {'time_sample_batch': 0.00029779657905484424,\n",
       "   'time_algorithm_update': 0.01975553712727111,\n",
       "   'imitator_loss': 0.00857699627953547,\n",
       "   'critic_loss': 182.74270579108486,\n",
       "   'actor_loss': -25.890892758781526,\n",
       "   'time_step': 0.020137336519029405}),\n",
       " (58,\n",
       "  {'time_sample_batch': 0.0003050668739978178,\n",
       "   'time_algorithm_update': 0.019717749254203137,\n",
       "   'imitator_loss': 0.008564690576383361,\n",
       "   'critic_loss': 178.842926175575,\n",
       "   'actor_loss': -26.2914646760917,\n",
       "   'time_step': 0.020108458436565634}),\n",
       " (59,\n",
       "  {'time_sample_batch': 0.00030622070218309943,\n",
       "   'time_algorithm_update': 0.019873636740225332,\n",
       "   'imitator_loss': 0.00856865888438475,\n",
       "   'critic_loss': 178.17652978466387,\n",
       "   'actor_loss': -26.740089416503906,\n",
       "   'time_step': 0.02026771910396623}),\n",
       " (60,\n",
       "  {'time_sample_batch': 0.00033512821903935184,\n",
       "   'time_algorithm_update': 0.020614824177306375,\n",
       "   'imitator_loss': 0.008545585844757748,\n",
       "   'critic_loss': 176.15818910420307,\n",
       "   'actor_loss': -27.04816578052662,\n",
       "   'time_step': 0.02104204378010314}),\n",
       " (61,\n",
       "  {'time_sample_batch': 0.00033481915791829425,\n",
       "   'time_algorithm_update': 0.020199946415277174,\n",
       "   'imitator_loss': 0.008580900699958021,\n",
       "   'critic_loss': 168.20369695016632,\n",
       "   'actor_loss': -27.328501713128738,\n",
       "   'time_step': 0.020628475848539374}),\n",
       " (62,\n",
       "  {'time_sample_batch': 0.00032446119520399306,\n",
       "   'time_algorithm_update': 0.02027632866376712,\n",
       "   'imitator_loss': 0.008568738690680928,\n",
       "   'critic_loss': 174.49320276552973,\n",
       "   'actor_loss': -27.708910200330948,\n",
       "   'time_step': 0.020690882647479023}),\n",
       " (63,\n",
       "  {'time_sample_batch': 0.0003046871703348042,\n",
       "   'time_algorithm_update': 0.019693613052368164,\n",
       "   'imitator_loss': 0.00858806240958748,\n",
       "   'critic_loss': 172.9761761188231,\n",
       "   'actor_loss': -28.065712210572798,\n",
       "   'time_step': 0.02008332735226478}),\n",
       " (64,\n",
       "  {'time_sample_batch': 0.0002975375564010055,\n",
       "   'time_algorithm_update': 0.019607682286957164,\n",
       "   'imitator_loss': 0.008581663441648821,\n",
       "   'critic_loss': 170.60141326652632,\n",
       "   'actor_loss': -28.43981476771979,\n",
       "   'time_step': 0.019987079832288954}),\n",
       " (65,\n",
       "  {'time_sample_batch': 0.0002978054093725887,\n",
       "   'time_algorithm_update': 0.019540345227276837,\n",
       "   'imitator_loss': 0.0085637679748973,\n",
       "   'critic_loss': 167.77948281136744,\n",
       "   'actor_loss': -28.78329116915479,\n",
       "   'time_step': 0.019920516897130897}),\n",
       " (66,\n",
       "  {'time_sample_batch': 0.0002961129318048925,\n",
       "   'time_algorithm_update': 0.019559536451174888,\n",
       "   'imitator_loss': 0.008569841135155272,\n",
       "   'critic_loss': 169.29991422901736,\n",
       "   'actor_loss': -29.003870763896423,\n",
       "   'time_step': 0.019939419663982626}),\n",
       " (67,\n",
       "  {'time_sample_batch': 0.0003034744733645592,\n",
       "   'time_algorithm_update': 0.019954696113680614,\n",
       "   'imitator_loss': 0.008584248212476572,\n",
       "   'critic_loss': 165.37565677079522,\n",
       "   'actor_loss': -29.41000516915027,\n",
       "   'time_step': 0.02034114319601177}),\n",
       " (68,\n",
       "  {'time_sample_batch': 0.0002893489084126037,\n",
       "   'time_algorithm_update': 0.019410321741928287,\n",
       "   'imitator_loss': 0.008565288267017883,\n",
       "   'critic_loss': 164.758679613655,\n",
       "   'actor_loss': -29.77650296246564,\n",
       "   'time_step': 0.01978248725702733}),\n",
       " (69,\n",
       "  {'time_sample_batch': 0.0002899552568977262,\n",
       "   'time_algorithm_update': 0.019475860360227984,\n",
       "   'imitator_loss': 0.008582294631151505,\n",
       "   'critic_loss': 163.19943907378632,\n",
       "   'actor_loss': -30.03664621894742,\n",
       "   'time_step': 0.019844081666734483}),\n",
       " (70,\n",
       "  {'time_sample_batch': 0.00028898980882432725,\n",
       "   'time_algorithm_update': 0.019495292946144386,\n",
       "   'imitator_loss': 0.008591349236667156,\n",
       "   'critic_loss': 162.63384576105042,\n",
       "   'actor_loss': -30.380650296623323,\n",
       "   'time_step': 0.019865436318479937}),\n",
       " (71,\n",
       "  {'time_sample_batch': 0.000293151831921236,\n",
       "   'time_algorithm_update': 0.019521969336050528,\n",
       "   'imitator_loss': 0.008584323827821164,\n",
       "   'critic_loss': 159.00899995182766,\n",
       "   'actor_loss': -30.693816714816624,\n",
       "   'time_step': 0.019896860475893372}),\n",
       " (72,\n",
       "  {'time_sample_batch': 0.00029590394761827256,\n",
       "   'time_algorithm_update': 0.019475201029836395,\n",
       "   'imitator_loss': 0.008572669918246475,\n",
       "   'critic_loss': 158.92796539736014,\n",
       "   'actor_loss': -31.099993058192876,\n",
       "   'time_step': 0.019852305635993862}),\n",
       " (73,\n",
       "  {'time_sample_batch': 0.00030042507030345777,\n",
       "   'time_algorithm_update': 0.019603923515037255,\n",
       "   'imitator_loss': 0.008566719445365446,\n",
       "   'critic_loss': 155.08595515603636,\n",
       "   'actor_loss': -31.39128225821036,\n",
       "   'time_step': 0.019984265904367707}),\n",
       " (74,\n",
       "  {'time_sample_batch': 0.00029909463576328606,\n",
       "   'time_algorithm_update': 0.019706364031191224,\n",
       "   'imitator_loss': 0.008587786755352109,\n",
       "   'critic_loss': 155.74564448661275,\n",
       "   'actor_loss': -31.685066411524645,\n",
       "   'time_step': 0.02009045636212384}),\n",
       " (75,\n",
       "  {'time_sample_batch': 0.00029222464855806326,\n",
       "   'time_algorithm_update': 0.01958937409483356,\n",
       "   'imitator_loss': 0.00854798013712337,\n",
       "   'critic_loss': 153.80123550849564,\n",
       "   'actor_loss': -31.95303803903085,\n",
       "   'time_step': 0.019965863522188165}),\n",
       " (76,\n",
       "  {'time_sample_batch': 0.00029075292893397957,\n",
       "   'time_algorithm_update': 0.019562385700367117,\n",
       "   'imitator_loss': 0.008582773940338765,\n",
       "   'critic_loss': 151.0496697206004,\n",
       "   'actor_loss': -32.28977172757372,\n",
       "   'time_step': 0.01993482201187699}),\n",
       " (77,\n",
       "  {'time_sample_batch': 0.00030041918342496143,\n",
       "   'time_algorithm_update': 0.019622661449291087,\n",
       "   'imitator_loss': 0.00859365806006539,\n",
       "   'critic_loss': 152.12897086755177,\n",
       "   'actor_loss': -32.61534712049696,\n",
       "   'time_step': 0.0200056411601879}),\n",
       " (78,\n",
       "  {'time_sample_batch': 0.00029383470982681086,\n",
       "   'time_algorithm_update': 0.019603661548944166,\n",
       "   'imitator_loss': 0.008567686204189136,\n",
       "   'critic_loss': 148.91914911001322,\n",
       "   'actor_loss': -32.933667830478996,\n",
       "   'time_step': 0.019979382738654995}),\n",
       " (79,\n",
       "  {'time_sample_batch': 0.00029874142305350596,\n",
       "   'time_algorithm_update': 0.019537351749561453,\n",
       "   'imitator_loss': 0.008567059326365038,\n",
       "   'critic_loss': 148.79886917599742,\n",
       "   'actor_loss': -33.278686947292755,\n",
       "   'time_step': 0.019919569109692985}),\n",
       " (80,\n",
       "  {'time_sample_batch': 0.0002937199156961323,\n",
       "   'time_algorithm_update': 0.019468310438556437,\n",
       "   'imitator_loss': 0.008571585755289338,\n",
       "   'critic_loss': 145.1495082878772,\n",
       "   'actor_loss': -33.54675942880136,\n",
       "   'time_step': 0.019845320854657962})]"
      ]
     },
     "execution_count": 9,
     "metadata": {},
     "output_type": "execute_result"
    }
   ],
   "source": [
    "from d3rlpy.algos import BEAR,CQL,TD3PlusBC,AWAC,BCQ\n",
    "\n",
    "# setup CQL algorithm\n",
    "model = BCQ(use_gpu=True)\n",
    "\n",
    "# split train and test episodes\n",
    "# train_episodes, test_episodes = train_test_split(cql_dataset, test_size=0.25)\n",
    "\n",
    "# start training\n",
    "model.fit(cql_dataset,\n",
    "        eval_episodes=None,\n",
    "        n_epochs=80,\n",
    "        scorers=None)"
   ]
  },
  {
   "cell_type": "code",
   "execution_count": null,
   "metadata": {},
   "outputs": [],
   "source": [
    "print(np.sum(all_rewards[0:64]))"
   ]
  },
  {
   "cell_type": "code",
   "execution_count": null,
   "metadata": {},
   "outputs": [],
   "source": [
    "import numpy as np\n",
    "from d3rlpy.dataset import Episode, MDPDataset, Transition\n",
    "\n",
    "OBSERVATION_SIZE = 768\n",
    "ACTION_SIZE = 7\n",
    "BATCH_SIZE = 64\n",
    "\n",
    "all_observations = np.empty((0, OBSERVATION_SIZE))\n",
    "all_actions = np.empty((0, ACTION_SIZE))\n",
    "all_rewards = np.empty(0)\n",
    "all_terminals = np.empty(0, dtype=bool)\n",
    "\n",
    "for i in range(0,10):\n",
    "    if i==7:\n",
    "        continue\n",
    "    observation = np.load(f'hard/all_observations_P00{i}.npy')\n",
    "    action = np.load(f'hard/all_actions_P00{i}.npy')\n",
    "    reward = np.load(f'hard/all_rewards_P00{i}.npy')\n",
    "    terminals = np.load(f'hard/all_terminals_P00{i}.npy')\n",
    "\n",
    "    all_observations = np.vstack((all_observations, observation))\n",
    "    all_actions = np.vstack((all_actions, action))\n",
    "    all_rewards = np.hstack((all_rewards, reward))\n",
    "    all_terminals = np.hstack((all_terminals, terminals))\n",
    "\n",
    "    print(\"All observations shape:\", all_observations.shape)\n",
    "    print(\"All actions shape:\", all_actions.shape)\n",
    "    print(\"All rewards shape:\", all_rewards.shape)\n",
    "    print(\"All terminals shape:\", all_terminals.shape)\n",
    "cql_dataset = MDPDataset(observations=all_observations,actions=all_actions,rewards=all_rewards,terminals=all_terminals,episode_terminals=all_terminals)"
   ]
  },
  {
   "cell_type": "code",
   "execution_count": null,
   "metadata": {},
   "outputs": [],
   "source": [
    "from d3rlpy.algos import CQL\n",
    "cql01 = CQL(use_gpu=False)\n",
    "cql01.build_with_dataset(cql_dataset)\n",
    "cql01.load_model('/home/ubuntu/camelmera/models/gym/multimodal/d3rlpy_logs/CQL_20230503011241/model_40.pt')"
   ]
  },
  {
   "cell_type": "code",
   "execution_count": null,
   "metadata": {},
   "outputs": [],
   "source": [
    "from d3rlpy.algos import CQL\n",
    "\n",
    "cql = CQL.from_json('d3rlpy_logs/CQL_20230504012746/params.json')\n",
    "\n",
    "# ready to load\n",
    "cql.load_model('d3rlpy_logs/CQL_20230504012746/model_310.pt')"
   ]
  },
  {
   "cell_type": "code",
   "execution_count": null,
   "metadata": {},
   "outputs": [],
   "source": [
    "# start training\n",
    "cql.fit(cql_dataset,\n",
    "        eval_episodes=None,\n",
    "        n_epochs=30,\n",
    "        scorers=None)"
   ]
  },
  {
   "cell_type": "code",
   "execution_count": null,
   "metadata": {},
   "outputs": [],
   "source": [
    "# start training\n",
    "cql.fit(cql_dataset,\n",
    "        eval_episodes=None,\n",
    "        n_epochs=10,\n",
    "        scorers=None)"
   ]
  },
  {
   "cell_type": "code",
   "execution_count": null,
   "metadata": {},
   "outputs": [],
   "source": [
    "import numpy as np\n",
    "all_rewards = np.load('all_rewards.npy')\n",
    "print(all_rewards[0:64])"
   ]
  },
  {
   "cell_type": "code",
   "execution_count": null,
   "metadata": {},
   "outputs": [],
   "source": [
    "import functools\n",
    "import numpy as np\n",
    "\n",
    "all_observations = np.load('all_observations.npy')\n",
    "# observation = np.load('hard/all_observations_P000.npy')\n",
    "print(all_observations.shape)\n",
    "# get reward\n",
    "all_rewards = np.empty(0)\n",
    "all_terminals = np.empty(0)\n",
    "for i in range(0,len(all_observations),64): \n",
    "    goal = None\n",
    "    if i+63 < len(all_observations):\n",
    "        goal = all_observations[i+63]\n",
    "        observation = all_observations[i:i+64]\n",
    "    else:\n",
    "        goal = all_observations[-1]\n",
    "        observation = all_observations[i:]\n",
    "    partial_function = functools.partial(reward_function, goal_embedding=goal,threshold=0.01)\n",
    "    reward = np.apply_along_axis(partial_function, 1, observation)\n",
    "    all_rewards = np.hstack((all_rewards, reward))\n",
    "    # get terminals\n",
    "    terminal = np.zeros_like(reward, dtype=int)\n",
    "    terminal[reward == 100] = 1\n",
    "    # print(np.count_nonzero(terminal == 1))\n",
    "    all_terminals = np.hstack((all_terminals,terminal))\n",
    "print(terminal)"
   ]
  },
  {
   "cell_type": "code",
   "execution_count": null,
   "metadata": {},
   "outputs": [],
   "source": [
    "count_100 = np.count_nonzero(all_terminals == 1)\n",
    "print(\"Number of terminals:\", count_100)\n",
    "print(len(all_terminals)/64)"
   ]
  },
  {
   "cell_type": "code",
   "execution_count": null,
   "metadata": {},
   "outputs": [],
   "source": [
    "np.save('all_terminals.npy',all_terminals)\n",
    "np.save('all_rewards.npy',all_rewards)"
   ]
  },
  {
   "cell_type": "code",
   "execution_count": null,
   "metadata": {},
   "outputs": [],
   "source": [
    "original_terminals = np.load('hard/all_terminals_P000.npy')\n",
    "print(original_terminals)\n",
    "print(np.count_nonzero(original_terminals == 1))\n",
    "print(len(original_terminals)/64)"
   ]
  },
  {
   "cell_type": "code",
   "execution_count": null,
   "metadata": {},
   "outputs": [],
   "source": [
    "np.sum(reward[0:100])"
   ]
  },
  {
   "cell_type": "code",
   "execution_count": null,
   "metadata": {},
   "outputs": [],
   "source": [
    "print(len(reward))"
   ]
  },
  {
   "cell_type": "code",
   "execution_count": null,
   "metadata": {},
   "outputs": [],
   "source": [
    "# check difference around goal = observation[-100]\n",
    "downsampled_observation = observation[::10,:]\n",
    "print(downsampled_observation.shape)"
   ]
  },
  {
   "cell_type": "code",
   "execution_count": null,
   "metadata": {},
   "outputs": [],
   "source": [
    "# get reward\n",
    "goal = downsampled_observation[-23]\n",
    "partial_function = functools.partial(reward_function, goal_embedding=goal,threshold=0.02)\n",
    "reward = np.apply_along_axis(partial_function, 1, downsampled_observation)\n",
    "# get terminals\n",
    "terminals = np.zeros_like(reward, dtype=int)\n",
    "terminals[reward == 100] = 1\n",
    "count_100 = np.count_nonzero(reward == 100)\n",
    "print(\"Number of elements with the value 100:\", count_100)"
   ]
  },
  {
   "cell_type": "code",
   "execution_count": null,
   "metadata": {},
   "outputs": [],
   "source": [
    "easy_actions = np.load('all_actions.npy')\n",
    "hard_actions = np.load('hard/all_actions.npy')\n",
    "print(np.min(easy_actions,axis=0)[0],np.max(easy_actions,axis=0)[0],np.mean(easy_actions,axis=0)[0],np.std(easy_actions,axis=0)[0])\n",
    "print(np.min(easy_actions,axis=0)[3],np.max(easy_actions,axis=0)[3],np.mean(easy_actions,axis=0)[3],np.std(easy_actions,axis=0)[3])\n",
    "print(np.min(hard_actions,axis=0)[0],np.max(hard_actions,axis=0)[0],np.mean(hard_actions,axis=0)[0],np.std(hard_actions,axis=0)[0])\n",
    "print(np.min(hard_actions,axis=0)[3],np.max(hard_actions,axis=0)[3],np.mean(hard_actions,axis=0)[3],np.std(hard_actions,axis=0)[3])"
   ]
  },
  {
   "cell_type": "code",
   "execution_count": null,
   "metadata": {},
   "outputs": [],
   "source": []
  }
 ],
 "metadata": {
  "kernelspec": {
   "display_name": "Python 3",
   "language": "python",
   "name": "python3"
  },
  "language_info": {
   "codemirror_mode": {
    "name": "ipython",
    "version": 3
   },
   "file_extension": ".py",
   "mimetype": "text/x-python",
   "name": "python",
   "nbconvert_exporter": "python",
   "pygments_lexer": "ipython3",
   "version": "3.9.16"
  },
  "orig_nbformat": 4
 },
 "nbformat": 4,
 "nbformat_minor": 2
}
