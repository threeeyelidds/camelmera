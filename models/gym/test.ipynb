{
 "cells": [
  {
   "cell_type": "code",
   "execution_count": 212,
   "metadata": {},
   "outputs": [],
   "source": [
    "\n",
    "import pickle\n",
    "\n",
    "def load_preprocessed_data(file_path):\n",
    "    with open(file_path, 'rb') as f:\n",
    "        return pickle.load(f)\n",
    "\n",
    "from process_data import save_image_pkl, save_depth_pkl, load_fish_depth\n"
   ]
  },
  {
   "cell_type": "code",
   "execution_count": 213,
   "metadata": {},
   "outputs": [],
   "source": [
    "# saved_folder_path = 'C:\\\\\\\\Users\\\\\\\\szxkd\\\\\\\\Desktop\\\\\\\\mmml\\\\\\\\camelmera\\\\\\\\models\\\\\\\\gym\\\\\\\\data'\n",
    "# save_image_pkl(saved_folder_path)"
   ]
  },
  {
   "cell_type": "code",
   "execution_count": 214,
   "metadata": {},
   "outputs": [],
   "source": [
    "# save_depth_pkl(saved_folder_path)"
   ]
  },
  {
   "cell_type": "code",
   "execution_count": 215,
   "metadata": {},
   "outputs": [],
   "source": [
    "# image_tensor = load_preprocessed_data(\"C:\\\\Users\\\\szxkd\\\\Desktop\\\\mmml\\\\camelmera\\\\models\\\\gym\\\\data\\\\T1\\\\image_lcam_fish.pkl\")\n",
    "# depth_tensor = load_preprocessed_data(\"C:\\\\Users\\\\szxkd\\\\Desktop\\\\mmml\\\\camelmera\\\\models\\\\gym\\\\data\\\\T1\\\\depth_rcam_fish.pkl\")"
   ]
  },
  {
   "cell_type": "code",
   "execution_count": 216,
   "metadata": {},
   "outputs": [],
   "source": [
    "# print(image_tensor[0].shape)\n",
    "# print(depth_tensor[0].shape)"
   ]
  },
  {
   "cell_type": "code",
   "execution_count": null,
   "metadata": {},
   "outputs": [],
   "source": []
  },
  {
   "cell_type": "code",
   "execution_count": 217,
   "metadata": {},
   "outputs": [
    {
     "name": "stdout",
     "output_type": "stream",
     "text": [
      "(2942, 14451)\n",
      "[-0.88791047 -0.8627667  -0.65756845 ... -0.7825524  -0.78040026\n",
      " -0.87735841]\n"
     ]
    }
   ],
   "source": [
    "# Load Data from Quanting's Folder\n",
    "saved_folder_path = '/media/jeffrey/2TB HHD/camelmera'\n",
    "preprocessed_data_file = os.path.join(saved_folder_path, 'preprocessed_imgae_depth_pos_imu_v006.pkl')\n",
    "data = load_preprocessed_data(preprocessed_data_file)\n",
    "# print actions key in the data\n",
    "\n",
    "import numpy as np\n",
    "\n",
    "observation = data[0]['observations']\n",
    "action = data[0]['actions']\n",
    "reward = data[0]['rewards']\n",
    "print(observation.shape)\n",
    "\n",
    "normalized_observation = (observation-np.mean(observation,axis=0,keepdims=True))/np.std(observation,axis=0,keepdims=True)\n",
    "normalized_action = (action-np.mean(action,axis=0,keepdims=True))/np.std(action,axis=0,keepdims=True)\n",
    "normalized_reward = (reward-np.mean(reward,axis=0,keepdims=True))/np.std(reward,axis=0,keepdims=True)\n",
    "\n",
    "\n",
    "print(normalized_observation[:,0].sum())"
   ]
  },
  {
   "cell_type": "code",
   "execution_count": null,
   "metadata": {},
   "outputs": [],
   "source": []
  }
 ],
 "metadata": {
  "kernelspec": {
   "display_name": "Python 3.8.10 64-bit",
   "language": "python",
   "name": "python3"
  },
  "language_info": {
   "codemirror_mode": {
    "name": "ipython",
    "version": 3
   },
   "file_extension": ".py",
   "mimetype": "text/x-python",
   "name": "python",
   "nbconvert_exporter": "python",
   "pygments_lexer": "ipython3",
   "version": "3.8.10"
  },
  "orig_nbformat": 4,
  "vscode": {
   "interpreter": {
    "hash": "e7370f93d1d0cde622a1f8e1c04877d8463912d04d973331ad4851f04de6915a"
   }
  }
 },
 "nbformat": 4,
 "nbformat_minor": 2
}
