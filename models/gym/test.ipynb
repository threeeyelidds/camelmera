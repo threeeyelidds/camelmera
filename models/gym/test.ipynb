{
 "cells": [
  {
   "cell_type": "code",
   "execution_count": 54,
   "metadata": {},
   "outputs": [],
   "source": [
    "\n",
    "import pickle\n",
    "\n",
    "def load_preprocessed_data(file_path):\n",
    "    with open(file_path, 'rb') as f:\n",
    "        return pickle.load(f)\n",
    "\n",
    "from process_data import save_image_pkl, save_depth_pkl, load_fish_depth\n"
   ]
  },
  {
   "cell_type": "code",
   "execution_count": 55,
   "metadata": {},
   "outputs": [],
   "source": [
    "# saved_folder_path = 'C:\\\\\\\\Users\\\\\\\\szxkd\\\\\\\\Desktop\\\\\\\\mmml\\\\\\\\camelmera\\\\\\\\models\\\\\\\\gym\\\\\\\\data'\n",
    "# save_image_pkl(saved_folder_path)"
   ]
  },
  {
   "cell_type": "code",
   "execution_count": 56,
   "metadata": {},
   "outputs": [],
   "source": [
    "# save_depth_pkl(saved_folder_path)"
   ]
  },
  {
   "cell_type": "code",
   "execution_count": 57,
   "metadata": {},
   "outputs": [],
   "source": [
    "# image_tensor = load_preprocessed_data(\"C:\\\\Users\\\\szxkd\\\\Desktop\\\\mmml\\\\camelmera\\\\models\\\\gym\\\\data\\\\T1\\\\image_lcam_fish.pkl\")\n",
    "# depth_tensor = load_preprocessed_data(\"C:\\\\Users\\\\szxkd\\\\Desktop\\\\mmml\\\\camelmera\\\\models\\\\gym\\\\data\\\\T1\\\\depth_rcam_fish.pkl\")"
   ]
  },
  {
   "cell_type": "code",
   "execution_count": 58,
   "metadata": {},
   "outputs": [],
   "source": [
    "# print(image_tensor[0].shape)\n",
    "# print(depth_tensor[0].shape)"
   ]
  },
  {
   "cell_type": "code",
   "execution_count": null,
   "metadata": {},
   "outputs": [],
   "source": []
  },
  {
   "cell_type": "code",
   "execution_count": 59,
   "metadata": {},
   "outputs": [
    {
     "name": "stdout",
     "output_type": "stream",
     "text": [
      "dict_keys(['observations', 'actions', 'rewards'])\n"
     ]
    }
   ],
   "source": [
    "# Load Data from Quanting's Folder\n",
    "saved_folder_path = '/media/jeffrey/2TB HHD/camelmera'\n",
    "preprocessed_data_file = os.path.join(saved_folder_path, 'prepocessed_imgae_depth_pos_imu_v006.pkl')\n",
    "data = load_preprocessed_data(preprocessed_data_file)\n",
    "print(data[0].type)\n"
   ]
  }
 ],
 "metadata": {
  "kernelspec": {
   "display_name": "Python 3.8.10 64-bit",
   "language": "python",
   "name": "python3"
  },
  "language_info": {
   "codemirror_mode": {
    "name": "ipython",
    "version": 3
   },
   "file_extension": ".py",
   "mimetype": "text/x-python",
   "name": "python",
   "nbconvert_exporter": "python",
   "pygments_lexer": "ipython3",
   "version": "3.8.10"
  },
  "orig_nbformat": 4,
  "vscode": {
   "interpreter": {
    "hash": "e7370f93d1d0cde622a1f8e1c04877d8463912d04d973331ad4851f04de6915a"
   }
  }
 },
 "nbformat": 4,
 "nbformat_minor": 2
}
