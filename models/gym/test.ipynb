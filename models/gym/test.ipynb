{
 "cells": [
  {
   "cell_type": "code",
   "execution_count": 1,
   "metadata": {},
   "outputs": [],
   "source": [
    "from process_data import load_fish_depth\n"
   ]
  },
  {
   "cell_type": "code",
   "execution_count": 2,
   "metadata": {},
   "outputs": [
    {
     "name": "stdout",
     "output_type": "stream",
     "text": [
      "Processing: C:\\Users\\szxkd\\Desktop\\mmml\\camelmera\\models\\decision-transformer\\gym\\data\\T1\n",
      "[-3.22756195 55.4208374  -1.24779534] [-3.22076368 55.46441269 -1.36570704]\n",
      "7 7\n",
      "torch.Size([1, 3, 224, 224]) torch.Size([1, 3, 224, 224])\n",
      "torch.Size([1, 3, 224, 224]) torch.Size([1, 3, 224, 224])\n",
      "torch.Size([1, 3, 224, 224]) torch.Size([1, 3, 224, 224])\n",
      "torch.Size([1, 3, 224, 224]) torch.Size([1, 3, 224, 224])\n",
      "torch.Size([1, 3, 224, 224]) torch.Size([1, 3, 224, 224])\n",
      "torch.Size([1, 3, 224, 224]) torch.Size([1, 3, 224, 224])\n",
      "torch.Size([1, 3, 224, 224]) torch.Size([1, 3, 224, 224])\n"
     ]
    },
    {
     "data": {
      "text/plain": [
       "[{'observations': array([[ 2.17007786e-01, -4.35671955e-01, -1.65161145e+00, ...,\n",
       "          -3.22756195e+00,  5.54208374e+01, -1.24779534e+00],\n",
       "         [ 3.63254249e-02, -6.02722049e-01, -1.34835565e+00, ...,\n",
       "          -3.17376328e+00,  5.55007858e+01, -1.19025481e+00],\n",
       "         [-1.15276268e-02, -1.63169861e-01, -1.57797348e+00, ...,\n",
       "          -3.13805628e+00,  5.55265579e+01, -1.17403352e+00],\n",
       "         ...,\n",
       "         [-5.26291847e-01, -1.05965996e+00, -1.06062508e+00, ...,\n",
       "          -3.03428054e+00,  5.55826416e+01, -1.13969445e+00],\n",
       "         [-5.50797880e-01, -5.09845257e-01, -6.52711928e-01, ...,\n",
       "          -3.01783872e+00,  5.55833435e+01, -1.13179588e+00],\n",
       "         [-4.01015222e-01, -1.69104612e+00,  4.60860103e-01, ...,\n",
       "          -3.00220704e+00,  5.55852089e+01, -1.12688196e+00]]),\n",
       "  'actions': array([[0.05379868, 0.07994843, 0.05754054],\n",
       "         [0.035707  , 0.02577209, 0.01622128],\n",
       "         [0.02981806, 0.01510239, 0.0114814 ],\n",
       "         [0.07395768, 0.04098129, 0.02285767],\n",
       "         [0.01644182, 0.0007019 , 0.00789857],\n",
       "         [0.01563168, 0.00186539, 0.00491393]]),\n",
       "  'rewards': array([-55.60419685, -55.62755061, -55.64071083, -55.67706718,\n",
       "         -55.67671315, -55.67763068])}]"
      ]
     },
     "execution_count": 2,
     "metadata": {},
     "output_type": "execute_result"
    }
   ],
   "source": [
    "load_fish_depth(\"C:\\\\Users\\\\szxkd\\\\Desktop\\\\mmml\\\\camelmera\\\\models\\\\decision-transformer\\\\gym\\\\data\", (0,0,0))"
   ]
  },
  {
   "cell_type": "code",
   "execution_count": null,
   "metadata": {},
   "outputs": [],
   "source": []
  }
 ],
 "metadata": {
  "kernelspec": {
   "display_name": "Python 3",
   "language": "python",
   "name": "python3"
  },
  "language_info": {
   "codemirror_mode": {
    "name": "ipython",
    "version": 3
   },
   "file_extension": ".py",
   "mimetype": "text/x-python",
   "name": "python",
   "nbconvert_exporter": "python",
   "pygments_lexer": "ipython3",
   "version": "3.7.4"
  },
  "orig_nbformat": 4
 },
 "nbformat": 4,
 "nbformat_minor": 2
}
